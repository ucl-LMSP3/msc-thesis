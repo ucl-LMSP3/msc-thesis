{
 "cells": [
  {
   "cell_type": "markdown",
   "metadata": {
    "id": "Fuz2TrIkOJXV"
   },
   "source": [
    "# Libraries"
   ]
  },
  {
   "cell_type": "code",
   "execution_count": 3,
   "metadata": {
    "executionInfo": {
     "elapsed": 889,
     "status": "ok",
     "timestamp": 1626946720731,
     "user": {
      "displayName": "Jeria Kua",
      "photoUrl": "",
      "userId": "01722788589990916725"
     },
     "user_tz": -480
    },
    "id": "a78Bwg0uOHMr"
   },
   "outputs": [],
   "source": [
    "import random\n",
    "import numpy as np\n",
    "import time\n",
    "import copy\n",
    "import scipy\n",
    "import pandas as pd\n",
    "import matplotlib.pyplot as plt\n",
    "from sklearn.model_selection import GroupKFold, GroupShuffleSplit\n",
    "from sklearn.preprocessing import OneHotEncoder as SklearnOneHotEncoder\n",
    "from tqdm.notebook import tqdm, tnrange"
   ]
  },
  {
   "cell_type": "code",
   "execution_count": 4,
   "metadata": {
    "executionInfo": {
     "elapsed": 5204,
     "status": "ok",
     "timestamp": 1626946725931,
     "user": {
      "displayName": "Jeria Kua",
      "photoUrl": "",
      "userId": "01722788589990916725"
     },
     "user_tz": -480
    },
    "id": "D-lvwUtfOHPX"
   },
   "outputs": [],
   "source": [
    "from DME.Analysis.train import *"
   ]
  },
  {
   "cell_type": "markdown",
   "metadata": {
    "id": "ZW8FLovuOWkK"
   },
   "source": [
    "# Helper functions"
   ]
  },
  {
   "cell_type": "code",
   "execution_count": 5,
   "metadata": {
    "executionInfo": {
     "elapsed": 12,
     "status": "ok",
     "timestamp": 1626946725933,
     "user": {
      "displayName": "Jeria Kua",
      "photoUrl": "",
      "userId": "01722788589990916725"
     },
     "user_tz": -480
    },
    "id": "QnFK7Mwboxp8"
   },
   "outputs": [],
   "source": [
    "class OneHotEncoder(SklearnOneHotEncoder):\n",
    "    def __init__(self, **kwargs):\n",
    "        super(OneHotEncoder, self).__init__(**kwargs)\n",
    "        self.fit_flag = False\n",
    "\n",
    "    def fit(self, X, **kwargs):\n",
    "        out = super().fit(X)\n",
    "        self.fit_flag = True\n",
    "        return out\n",
    "\n",
    "    def transform(self, X, **kwargs):\n",
    "        sparse_matrix = super(OneHotEncoder, self).transform(X)\n",
    "        new_columns = self.get_new_columns(X=X)\n",
    "        d_out = pd.DataFrame(sparse_matrix.toarray(), columns=new_columns, index=X.index)\n",
    "        return d_out\n",
    "\n",
    "    def fit_transform(self, X, **kwargs):\n",
    "        self.fit(X)\n",
    "        return self.transform(X)\n",
    "\n",
    "    def get_new_columns(self, X):\n",
    "        new_columns = []\n",
    "        for i, column in enumerate(X.columns):\n",
    "            j = 0\n",
    "            while j < len(self.categories_[i]):\n",
    "                new_columns.append(f'{column}_<{self.categories_[i][j]}>')\n",
    "                j += 1\n",
    "        return new_columns"
   ]
  },
  {
   "cell_type": "code",
   "execution_count": 6,
   "metadata": {
    "executionInfo": {
     "elapsed": 535,
     "status": "ok",
     "timestamp": 1626946726459,
     "user": {
      "displayName": "Jeria Kua",
      "photoUrl": "",
      "userId": "01722788589990916725"
     },
     "user_tz": -480
    },
    "id": "SlLo-RNToumx"
   },
   "outputs": [],
   "source": [
    "def encode(df):\n",
    "    s = (df.dtypes == 'object')\n",
    "    object_cols = list(s[s].index)\n",
    "    OH_encoder = OneHotEncoder(dtype=int)\n",
    "    OH_cols = pd.DataFrame(OH_encoder.fit_transform(df[object_cols]))\n",
    "    num_data = df.drop(object_cols, axis=1)\n",
    "    data_new = pd.concat([num_data, OH_cols], axis=1)\n",
    "    return data_new"
   ]
  },
  {
   "cell_type": "markdown",
   "metadata": {
    "id": "kNLLEMm8Oc6v"
   },
   "source": [
    "# Data pre-processing"
   ]
  },
  {
   "cell_type": "code",
   "execution_count": 13,
   "metadata": {
    "executionInfo": {
     "elapsed": 401,
     "status": "ok",
     "timestamp": 1626946990173,
     "user": {
      "displayName": "Jeria Kua",
      "photoUrl": "",
      "userId": "01722788589990916725"
     },
     "user_tz": -480
    },
    "id": "rQpfk_xeOZ3H"
   },
   "outputs": [],
   "source": [
    "data_train_full_raw = pd.read_csv('Sheffield/data_train_full_sheffield.csv').drop(columns=['site'])\n",
    "test_interpolation_raw = pd.read_csv('Sheffield/test_interpolation_sheffield.csv').drop(columns=['site'])\n",
    "test_extrapolation_raw = pd.read_csv('Sheffield/test_extrapolation_sheffield.csv').drop(columns=['site'])\n",
    "data_train_raw = pd.read_csv('Sheffield/data_train_sheffield.csv').drop(columns=['site'])\n",
    "data_val_raw = pd.read_csv('Sheffield/data_val_sheffield.csv').drop(columns=['site'])\n",
    "n_samples_chosen_per_group = pd.read_csv('Sheffield/n_samples_chosen_per_group_series_sheffield.csv').to_numpy().reshape(-1)\n",
    "\n",
    "# One-hot encode categorical features\n",
    "data_train_full_raw2 = encode(data_train_full_raw)\n",
    "test_interpolation = encode(test_interpolation_raw)\n",
    "test_extrapolation_raw2 = encode(test_extrapolation_raw)\n",
    "data_train = encode(data_train_raw)\n",
    "data_val_raw2 = encode(data_val_raw)\n",
    "\n",
    "# Fix missing columns\n",
    "data_val_raw2['gender_<Unknown>'] = 0\n",
    "data_val = data_val_raw2[list(data_train.columns.values)]\n",
    "\n",
    "test_extrapolation_raw2['gender_<Unknown>'] = 0\n",
    "test_extrapolation = test_extrapolation_raw2[list(test_interpolation.columns.values)]\n",
    "\n",
    "\n",
    "# Combine train and interpolation set for Deep ME model\n",
    "data_train_full = pd.concat([data_train_full_raw2, test_interpolation], ignore_index=True).reset_index(drop=True)\n",
    "data_train_full.sort_values(['ID', 'times'], ignore_index=True, inplace=True)"
   ]
  },
  {
   "cell_type": "code",
   "execution_count": 14,
   "metadata": {
    "executionInfo": {
     "elapsed": 345,
     "status": "ok",
     "timestamp": 1626946997344,
     "user": {
      "displayName": "Jeria Kua",
      "photoUrl": "",
      "userId": "01722788589990916725"
     },
     "user_tz": -480
    },
    "id": "WhxKw49f_y4w"
   },
   "outputs": [],
   "source": [
    "dataframe_val = [data_train, data_val]\n",
    "dataframe = [data_train_full, test_extrapolation]"
   ]
  },
  {
   "cell_type": "markdown",
   "metadata": {
    "id": "xc9MY_XSOvtp"
   },
   "source": [
    "# Hyperparameter search and testing"
   ]
  },
  {
   "cell_type": "markdown",
   "metadata": {
    "id": "JZpRIZrYoV34"
   },
   "source": [
    "## All features"
   ]
  },
  {
   "cell_type": "markdown",
   "metadata": {
    "id": "8eRCm4ilXXfp"
   },
   "source": [
    "### MLP"
   ]
  },
  {
   "cell_type": "code",
   "execution_count": 20,
   "metadata": {
    "colab": {
     "base_uri": "https://localhost:8080/",
     "height": 122,
     "referenced_widgets": [
      "14895acbde824d45811f1e8be2adf80d",
      "14a02f17a9a24bbc862e8709b6cf8583",
      "f62b3f427b2e4067a119ac1c1088caf1",
      "0e9ec799f0be49cc9e686fe494352e3f",
      "73cbeed479f84d9da64475e5f64d2be1",
      "04f6768539ec40129298920d003c2005",
      "2b444044246c4602bb72c90cbef8603d",
      "3ae13ba38bb547fba41b3667f2a25b6e"
     ]
    },
    "executionInfo": {
     "elapsed": 132453,
     "status": "ok",
     "timestamp": 1626947562963,
     "user": {
      "displayName": "Jeria Kua",
      "photoUrl": "",
      "userId": "01722788589990916725"
     },
     "user_tz": -480
    },
    "id": "e8tyr-L4OZ7E",
    "outputId": "3a8bc69a-dcea-404e-a39f-854c8b7343a4"
   },
   "outputs": [
    {
     "data": {
      "application/vnd.jupyter.widget-view+json": {
       "model_id": "14895acbde824d45811f1e8be2adf80d",
       "version_major": 2,
       "version_minor": 0
      },
      "text/plain": [
       "HBox(children=(FloatProgress(value=0.0, max=20.0), HTML(value='')))"
      ]
     },
     "metadata": {
      "tags": []
     },
     "output_type": "display_data"
    },
    {
     "name": "stdout",
     "output_type": "stream",
     "text": [
      "\n",
      "Best validation error:  14.590505235171882\n",
      "14.590505235171882\n"
     ]
    }
   ],
   "source": [
    "model_config = {}\n",
    "model_config['input_dim'] = data_train.shape[1] - 3\n",
    "model_config['hidden_dim'] = 1000\n",
    "model_config['output_dim'] = 1\n",
    "\n",
    "train_config = {}\n",
    "train_config['n_epochs'] = 20\n",
    "train_config['lr'] = 1e-3\n",
    "train_config['n_adapt'] = 1\n",
    "train_config['inner_lr'] = 0.01\n",
    "train_config['l2_penalty'] = 0.0001\n",
    "\n",
    "_, best_val_err = train_and_evaluate_model(model_config, train_config, dataframe_val, \n",
    "                                           random_effects_column_names=['times'],\n",
    "                                           group_column_name='ID', y_column_name='egfr',\n",
    "                                           n_samples_chosen_per_group=n_samples_chosen_per_group,\n",
    "                                           model_type='MLP', random_state=1)\n",
    "print(best_val_err)"
   ]
  },
  {
   "cell_type": "code",
   "execution_count": 21,
   "metadata": {
    "colab": {
     "base_uri": "https://localhost:8080/"
    },
    "executionInfo": {
     "elapsed": 408,
     "status": "ok",
     "timestamp": 1626947568909,
     "user": {
      "displayName": "Jeria Kua",
      "photoUrl": "",
      "userId": "01722788589990916725"
     },
     "user_tz": -480
    },
    "id": "bZiYfjbGguYJ",
    "outputId": "a163f86e-a2df-41ad-b73e-c926aa85ed16"
   },
   "outputs": [
    {
     "name": "stdout",
     "output_type": "stream",
     "text": [
      "Best val RMSE:  14.590505235171882\n"
     ]
    }
   ],
   "source": [
    "print('Best val RMSE: ', best_val_err)"
   ]
  },
  {
   "cell_type": "code",
   "execution_count": 29,
   "metadata": {
    "executionInfo": {
     "elapsed": 356,
     "status": "ok",
     "timestamp": 1626947877803,
     "user": {
      "displayName": "Jeria Kua",
      "photoUrl": "",
      "userId": "01722788589990916725"
     },
     "user_tz": -480
    },
    "id": "9AqGBef0Xutr"
   },
   "outputs": [],
   "source": [
    "model_config = {}\n",
    "model_config['input_dim'] = data_train_full.shape[1] - 3\n",
    "model_config['hidden_dim'] = 1000\n",
    "model_config['output_dim'] = 1\n",
    "\n",
    "train_config = {}\n",
    "train_config['n_epochs'] = 25\n",
    "train_config['lr'] = 1e-3\n",
    "train_config['n_adapt'] = 1\n",
    "train_config['inner_lr'] = 0.01\n",
    "train_config['l2_penalty'] = 0.0001"
   ]
  },
  {
   "cell_type": "code",
   "execution_count": 30,
   "metadata": {
    "colab": {
     "base_uri": "https://localhost:8080/",
     "height": 122,
     "referenced_widgets": [
      "ce6186fd2d924f189f8f99facbcf40ed",
      "f272ecb0050240458c77ae3a25bf5441",
      "cc8c87f948bc475fb762133f704a17c6",
      "ae64cef97aac434b96bef4ec6ec554d0",
      "f2ab8970a22f42788c5a2c710ffba4f4",
      "18cf99c5bd5344fc89be14de8e6e1568",
      "a8437fc6c3dd4525981e957d1a3787da",
      "b5b2898c7305475ca3cac12ec5c559c7"
     ]
    },
    "executionInfo": {
     "elapsed": 79862,
     "status": "ok",
     "timestamp": 1626947958017,
     "user": {
      "displayName": "Jeria Kua",
      "photoUrl": "",
      "userId": "01722788589990916725"
     },
     "user_tz": -480
    },
    "id": "LP2HXHDCOZ__",
    "outputId": "b9edde9e-679e-472c-ce65-9d7115182cdc"
   },
   "outputs": [
    {
     "data": {
      "application/vnd.jupyter.widget-view+json": {
       "model_id": "ce6186fd2d924f189f8f99facbcf40ed",
       "version_major": 2,
       "version_minor": 0
      },
      "text/plain": [
       "HBox(children=(FloatProgress(value=0.0, max=25.0), HTML(value='')))"
      ]
     },
     "metadata": {
      "tags": []
     },
     "output_type": "display_data"
    },
    {
     "name": "stdout",
     "output_type": "stream",
     "text": [
      "\n",
      "[Test (Extrapolation)] RMSE=15.464 and loss=64.396\n",
      "[Test (Interpolation)] RMSE=13.888 and loss=77.551\n"
     ]
    }
   ],
   "source": [
    "rmse_test1, rmse_test2 = train_and_test_model(dataframe, model_config, train_config, random_effects_column_names=['times'],\n",
    "                                              group_column_name='ID', y_column_name='egfr',\n",
    "                                              n_samples_chosen_per_group=n_samples_chosen_per_group,\n",
    "                                              model_type='MLP', random_state=1)"
   ]
  },
  {
   "cell_type": "code",
   "execution_count": 31,
   "metadata": {
    "colab": {
     "base_uri": "https://localhost:8080/"
    },
    "executionInfo": {
     "elapsed": 303,
     "status": "ok",
     "timestamp": 1626948058893,
     "user": {
      "displayName": "Jeria Kua",
      "photoUrl": "",
      "userId": "01722788589990916725"
     },
     "user_tz": -480
    },
    "id": "CBE_2jpWOHV7",
    "outputId": "7a746e07-3691-4ff6-ea13-1afff84945fb"
   },
   "outputs": [
    {
     "name": "stdout",
     "output_type": "stream",
     "text": [
      "Extrapolation:  15.463990251769946\n",
      "Interpolation:  13.888157559955758\n"
     ]
    }
   ],
   "source": [
    "print('Extrapolation: ', rmse_test1)\n",
    "print('Interpolation: ', rmse_test2)"
   ]
  },
  {
   "cell_type": "markdown",
   "metadata": {
    "id": "cxpAsiN7XY_i"
   },
   "source": [
    "### RNN"
   ]
  },
  {
   "cell_type": "code",
   "execution_count": null,
   "metadata": {
    "id": "5maRS6t_XZpV"
   },
   "outputs": [],
   "source": [
    "model_config = {}\n",
    "model_config['input_dim'] = data_train.shape[1] - 3\n",
    "model_config['hidden_dim'] = 500\n",
    "model_config['output_dim'] = 1\n",
    "\n",
    "train_config = {}\n",
    "train_config['n_epochs'] = 20\n",
    "train_config['lr'] = 1e-3\n",
    "train_config['n_adapt'] = 1\n",
    "train_config['inner_lr'] = 0.01\n",
    "train_config['l2_penalty'] = 0.0001\n",
    "\n",
    "_, best_val_err = train_and_evaluate_model(model_config, train_config, dataframe_val, \n",
    "                                           random_effects_column_names=['times'],\n",
    "                                           group_column_name='ID', y_column_name='egfr',\n",
    "                                           n_samples_chosen_per_group=n_samples_chosen_per_group,\n",
    "                                           model_type='LSTM', random_state=1)\n",
    "print(best_val_err)"
   ]
  },
  {
   "cell_type": "code",
   "execution_count": 33,
   "metadata": {
    "colab": {
     "base_uri": "https://localhost:8080/"
    },
    "executionInfo": {
     "elapsed": 305,
     "status": "ok",
     "timestamp": 1626948519170,
     "user": {
      "displayName": "Jeria Kua",
      "photoUrl": "",
      "userId": "01722788589990916725"
     },
     "user_tz": -480
    },
    "id": "GVnHTN26XZ_D",
    "outputId": "154f54a8-6fd5-49db-de44-28fcda627732"
   },
   "outputs": [
    {
     "name": "stdout",
     "output_type": "stream",
     "text": [
      "14.855477994343692\n"
     ]
    }
   ],
   "source": [
    "print(best_val_err)"
   ]
  },
  {
   "cell_type": "code",
   "execution_count": 40,
   "metadata": {
    "executionInfo": {
     "elapsed": 520,
     "status": "ok",
     "timestamp": 1626950583402,
     "user": {
      "displayName": "Jeria Kua",
      "photoUrl": "",
      "userId": "01722788589990916725"
     },
     "user_tz": -480
    },
    "id": "rXoffUwXZHzA"
   },
   "outputs": [],
   "source": [
    "model_config = {}\n",
    "model_config['input_dim'] = data_train_full.shape[1] - 3\n",
    "model_config['hidden_dim'] = 500\n",
    "model_config['output_dim'] = 1\n",
    "\n",
    "train_config = {}\n",
    "train_config['n_epochs'] = 25\n",
    "train_config['lr'] = 1e-3\n",
    "train_config['n_adapt'] = 1\n",
    "train_config['inner_lr'] = 0.01\n",
    "train_config['l2_penalty'] = 0.0001"
   ]
  },
  {
   "cell_type": "code",
   "execution_count": 41,
   "metadata": {
    "colab": {
     "base_uri": "https://localhost:8080/",
     "height": 122,
     "referenced_widgets": [
      "e255b67390a2406f9229fbad8d8af7b5",
      "da273b637ea643d2ab0cf9420bb67a56",
      "ccba8ba00b9e40618d976e97985004d9",
      "f5a2741e42bf4497acf6b224945c15a0",
      "4129341b7a734b0d8671d7c9e922a138",
      "6f32185feab140e7b85945f006a03cd4",
      "64d8cc233ac4477fbce335e9389783ef",
      "db20f693a98b45798e125341f81a6c95"
     ]
    },
    "executionInfo": {
     "elapsed": 504621,
     "status": "ok",
     "timestamp": 1626951088018,
     "user": {
      "displayName": "Jeria Kua",
      "photoUrl": "",
      "userId": "01722788589990916725"
     },
     "user_tz": -480
    },
    "id": "Bu9o9OKnXaFd",
    "outputId": "bd787a5c-44cc-425f-bd47-d29a6252101a"
   },
   "outputs": [
    {
     "data": {
      "application/vnd.jupyter.widget-view+json": {
       "model_id": "e255b67390a2406f9229fbad8d8af7b5",
       "version_major": 2,
       "version_minor": 0
      },
      "text/plain": [
       "HBox(children=(FloatProgress(value=0.0, max=25.0), HTML(value='')))"
      ]
     },
     "metadata": {
      "tags": []
     },
     "output_type": "display_data"
    },
    {
     "name": "stdout",
     "output_type": "stream",
     "text": [
      "\n",
      "[Test (Extrapolation)] RMSE=15.577 and loss=64.396\n",
      "[Test (Interpolation)] RMSE=14.096 and loss=77.551\n"
     ]
    }
   ],
   "source": [
    "rmse_test1, rmse_test2 = train_and_test_model(dataframe, model_config, train_config, random_effects_column_names=['times'],\n",
    "                                              group_column_name='ID', y_column_name='egfr',\n",
    "                                              n_samples_chosen_per_group=n_samples_chosen_per_group,\n",
    "                                              model_type='LSTM', random_state=1)"
   ]
  },
  {
   "cell_type": "code",
   "execution_count": 42,
   "metadata": {
    "colab": {
     "base_uri": "https://localhost:8080/"
    },
    "executionInfo": {
     "elapsed": 505,
     "status": "ok",
     "timestamp": 1626951097010,
     "user": {
      "displayName": "Jeria Kua",
      "photoUrl": "",
      "userId": "01722788589990916725"
     },
     "user_tz": -480
    },
    "id": "cHtOhAvsfKhw",
    "outputId": "8e6f7727-7203-422c-c55b-5ab32bc50479"
   },
   "outputs": [
    {
     "name": "stdout",
     "output_type": "stream",
     "text": [
      "Extrapolation:  15.576650291438073\n",
      "Interpolation:  14.096012043907745\n"
     ]
    }
   ],
   "source": [
    "print('Extrapolation: ', rmse_test1)\n",
    "print('Interpolation: ', rmse_test2)"
   ]
  }
 ],
 "metadata": {
  "colab": {
   "authorship_tag": "ABX9TyPORduKwm5M09LA/DdQQhUn",
   "collapsed_sections": [
    "Fuz2TrIkOJXV",
    "ZW8FLovuOWkK",
    "kNLLEMm8Oc6v",
    "8eRCm4ilXXfp",
    "cxpAsiN7XY_i"
   ],
   "name": "Project data analysis - Deep ME (Sheffield).ipynb",
   "provenance": [
    {
     "file_id": "1FUjUwA_C-AOzgRg27hjuErUlJp2gusnC",
     "timestamp": 1626946647642
    },
    {
     "file_id": "1j-p_YgdbCFxFgxQULQb6evpDdTeDiaqM",
     "timestamp": 1626941698279
    }
   ]
  },
  "kernelspec": {
   "display_name": "Python 3",
   "language": "python",
   "name": "python3"
  },
  "language_info": {
   "codemirror_mode": {
    "name": "ipython",
    "version": 3
   },
   "file_extension": ".py",
   "mimetype": "text/x-python",
   "name": "python",
   "nbconvert_exporter": "python",
   "pygments_lexer": "ipython3",
   "version": "3.8.3"
  },
  "widgets": {
   "application/vnd.jupyter.widget-state+json": {
    "04f6768539ec40129298920d003c2005": {
     "model_module": "@jupyter-widgets/base",
     "model_name": "LayoutModel",
     "state": {
      "_model_module": "@jupyter-widgets/base",
      "_model_module_version": "1.2.0",
      "_model_name": "LayoutModel",
      "_view_count": null,
      "_view_module": "@jupyter-widgets/base",
      "_view_module_version": "1.2.0",
      "_view_name": "LayoutView",
      "align_content": null,
      "align_items": null,
      "align_self": null,
      "border": null,
      "bottom": null,
      "display": null,
      "flex": null,
      "flex_flow": null,
      "grid_area": null,
      "grid_auto_columns": null,
      "grid_auto_flow": null,
      "grid_auto_rows": null,
      "grid_column": null,
      "grid_gap": null,
      "grid_row": null,
      "grid_template_areas": null,
      "grid_template_columns": null,
      "grid_template_rows": null,
      "height": null,
      "justify_content": null,
      "justify_items": null,
      "left": null,
      "margin": null,
      "max_height": null,
      "max_width": null,
      "min_height": null,
      "min_width": null,
      "object_fit": null,
      "object_position": null,
      "order": null,
      "overflow": null,
      "overflow_x": null,
      "overflow_y": null,
      "padding": null,
      "right": null,
      "top": null,
      "visibility": null,
      "width": null
     }
    },
    "0e9ec799f0be49cc9e686fe494352e3f": {
     "model_module": "@jupyter-widgets/controls",
     "model_name": "HTMLModel",
     "state": {
      "_dom_classes": [],
      "_model_module": "@jupyter-widgets/controls",
      "_model_module_version": "1.5.0",
      "_model_name": "HTMLModel",
      "_view_count": null,
      "_view_module": "@jupyter-widgets/controls",
      "_view_module_version": "1.5.0",
      "_view_name": "HTMLView",
      "description": "",
      "description_tooltip": null,
      "layout": "IPY_MODEL_3ae13ba38bb547fba41b3667f2a25b6e",
      "placeholder": "​",
      "style": "IPY_MODEL_2b444044246c4602bb72c90cbef8603d",
      "value": " 20/20 [05:01&lt;00:00, 15.06s/it, loss_and_val_err=285.259 and 14.889]"
     }
    },
    "14895acbde824d45811f1e8be2adf80d": {
     "model_module": "@jupyter-widgets/controls",
     "model_name": "HBoxModel",
     "state": {
      "_dom_classes": [],
      "_model_module": "@jupyter-widgets/controls",
      "_model_module_version": "1.5.0",
      "_model_name": "HBoxModel",
      "_view_count": null,
      "_view_module": "@jupyter-widgets/controls",
      "_view_module_version": "1.5.0",
      "_view_name": "HBoxView",
      "box_style": "",
      "children": [
       "IPY_MODEL_f62b3f427b2e4067a119ac1c1088caf1",
       "IPY_MODEL_0e9ec799f0be49cc9e686fe494352e3f"
      ],
      "layout": "IPY_MODEL_14a02f17a9a24bbc862e8709b6cf8583"
     }
    },
    "14a02f17a9a24bbc862e8709b6cf8583": {
     "model_module": "@jupyter-widgets/base",
     "model_name": "LayoutModel",
     "state": {
      "_model_module": "@jupyter-widgets/base",
      "_model_module_version": "1.2.0",
      "_model_name": "LayoutModel",
      "_view_count": null,
      "_view_module": "@jupyter-widgets/base",
      "_view_module_version": "1.2.0",
      "_view_name": "LayoutView",
      "align_content": null,
      "align_items": null,
      "align_self": null,
      "border": null,
      "bottom": null,
      "display": null,
      "flex": null,
      "flex_flow": null,
      "grid_area": null,
      "grid_auto_columns": null,
      "grid_auto_flow": null,
      "grid_auto_rows": null,
      "grid_column": null,
      "grid_gap": null,
      "grid_row": null,
      "grid_template_areas": null,
      "grid_template_columns": null,
      "grid_template_rows": null,
      "height": null,
      "justify_content": null,
      "justify_items": null,
      "left": null,
      "margin": null,
      "max_height": null,
      "max_width": null,
      "min_height": null,
      "min_width": null,
      "object_fit": null,
      "object_position": null,
      "order": null,
      "overflow": null,
      "overflow_x": null,
      "overflow_y": null,
      "padding": null,
      "right": null,
      "top": null,
      "visibility": null,
      "width": null
     }
    },
    "18cf99c5bd5344fc89be14de8e6e1568": {
     "model_module": "@jupyter-widgets/base",
     "model_name": "LayoutModel",
     "state": {
      "_model_module": "@jupyter-widgets/base",
      "_model_module_version": "1.2.0",
      "_model_name": "LayoutModel",
      "_view_count": null,
      "_view_module": "@jupyter-widgets/base",
      "_view_module_version": "1.2.0",
      "_view_name": "LayoutView",
      "align_content": null,
      "align_items": null,
      "align_self": null,
      "border": null,
      "bottom": null,
      "display": null,
      "flex": null,
      "flex_flow": null,
      "grid_area": null,
      "grid_auto_columns": null,
      "grid_auto_flow": null,
      "grid_auto_rows": null,
      "grid_column": null,
      "grid_gap": null,
      "grid_row": null,
      "grid_template_areas": null,
      "grid_template_columns": null,
      "grid_template_rows": null,
      "height": null,
      "justify_content": null,
      "justify_items": null,
      "left": null,
      "margin": null,
      "max_height": null,
      "max_width": null,
      "min_height": null,
      "min_width": null,
      "object_fit": null,
      "object_position": null,
      "order": null,
      "overflow": null,
      "overflow_x": null,
      "overflow_y": null,
      "padding": null,
      "right": null,
      "top": null,
      "visibility": null,
      "width": null
     }
    },
    "2b444044246c4602bb72c90cbef8603d": {
     "model_module": "@jupyter-widgets/controls",
     "model_name": "DescriptionStyleModel",
     "state": {
      "_model_module": "@jupyter-widgets/controls",
      "_model_module_version": "1.5.0",
      "_model_name": "DescriptionStyleModel",
      "_view_count": null,
      "_view_module": "@jupyter-widgets/base",
      "_view_module_version": "1.2.0",
      "_view_name": "StyleView",
      "description_width": ""
     }
    },
    "3ae13ba38bb547fba41b3667f2a25b6e": {
     "model_module": "@jupyter-widgets/base",
     "model_name": "LayoutModel",
     "state": {
      "_model_module": "@jupyter-widgets/base",
      "_model_module_version": "1.2.0",
      "_model_name": "LayoutModel",
      "_view_count": null,
      "_view_module": "@jupyter-widgets/base",
      "_view_module_version": "1.2.0",
      "_view_name": "LayoutView",
      "align_content": null,
      "align_items": null,
      "align_self": null,
      "border": null,
      "bottom": null,
      "display": null,
      "flex": null,
      "flex_flow": null,
      "grid_area": null,
      "grid_auto_columns": null,
      "grid_auto_flow": null,
      "grid_auto_rows": null,
      "grid_column": null,
      "grid_gap": null,
      "grid_row": null,
      "grid_template_areas": null,
      "grid_template_columns": null,
      "grid_template_rows": null,
      "height": null,
      "justify_content": null,
      "justify_items": null,
      "left": null,
      "margin": null,
      "max_height": null,
      "max_width": null,
      "min_height": null,
      "min_width": null,
      "object_fit": null,
      "object_position": null,
      "order": null,
      "overflow": null,
      "overflow_x": null,
      "overflow_y": null,
      "padding": null,
      "right": null,
      "top": null,
      "visibility": null,
      "width": null
     }
    },
    "4129341b7a734b0d8671d7c9e922a138": {
     "model_module": "@jupyter-widgets/controls",
     "model_name": "ProgressStyleModel",
     "state": {
      "_model_module": "@jupyter-widgets/controls",
      "_model_module_version": "1.5.0",
      "_model_name": "ProgressStyleModel",
      "_view_count": null,
      "_view_module": "@jupyter-widgets/base",
      "_view_module_version": "1.2.0",
      "_view_name": "StyleView",
      "bar_color": null,
      "description_width": "initial"
     }
    },
    "64d8cc233ac4477fbce335e9389783ef": {
     "model_module": "@jupyter-widgets/controls",
     "model_name": "DescriptionStyleModel",
     "state": {
      "_model_module": "@jupyter-widgets/controls",
      "_model_module_version": "1.5.0",
      "_model_name": "DescriptionStyleModel",
      "_view_count": null,
      "_view_module": "@jupyter-widgets/base",
      "_view_module_version": "1.2.0",
      "_view_name": "StyleView",
      "description_width": ""
     }
    },
    "6f32185feab140e7b85945f006a03cd4": {
     "model_module": "@jupyter-widgets/base",
     "model_name": "LayoutModel",
     "state": {
      "_model_module": "@jupyter-widgets/base",
      "_model_module_version": "1.2.0",
      "_model_name": "LayoutModel",
      "_view_count": null,
      "_view_module": "@jupyter-widgets/base",
      "_view_module_version": "1.2.0",
      "_view_name": "LayoutView",
      "align_content": null,
      "align_items": null,
      "align_self": null,
      "border": null,
      "bottom": null,
      "display": null,
      "flex": null,
      "flex_flow": null,
      "grid_area": null,
      "grid_auto_columns": null,
      "grid_auto_flow": null,
      "grid_auto_rows": null,
      "grid_column": null,
      "grid_gap": null,
      "grid_row": null,
      "grid_template_areas": null,
      "grid_template_columns": null,
      "grid_template_rows": null,
      "height": null,
      "justify_content": null,
      "justify_items": null,
      "left": null,
      "margin": null,
      "max_height": null,
      "max_width": null,
      "min_height": null,
      "min_width": null,
      "object_fit": null,
      "object_position": null,
      "order": null,
      "overflow": null,
      "overflow_x": null,
      "overflow_y": null,
      "padding": null,
      "right": null,
      "top": null,
      "visibility": null,
      "width": null
     }
    },
    "73cbeed479f84d9da64475e5f64d2be1": {
     "model_module": "@jupyter-widgets/controls",
     "model_name": "ProgressStyleModel",
     "state": {
      "_model_module": "@jupyter-widgets/controls",
      "_model_module_version": "1.5.0",
      "_model_name": "ProgressStyleModel",
      "_view_count": null,
      "_view_module": "@jupyter-widgets/base",
      "_view_module_version": "1.2.0",
      "_view_name": "StyleView",
      "bar_color": null,
      "description_width": "initial"
     }
    },
    "a8437fc6c3dd4525981e957d1a3787da": {
     "model_module": "@jupyter-widgets/controls",
     "model_name": "DescriptionStyleModel",
     "state": {
      "_model_module": "@jupyter-widgets/controls",
      "_model_module_version": "1.5.0",
      "_model_name": "DescriptionStyleModel",
      "_view_count": null,
      "_view_module": "@jupyter-widgets/base",
      "_view_module_version": "1.2.0",
      "_view_name": "StyleView",
      "description_width": ""
     }
    },
    "ae64cef97aac434b96bef4ec6ec554d0": {
     "model_module": "@jupyter-widgets/controls",
     "model_name": "HTMLModel",
     "state": {
      "_dom_classes": [],
      "_model_module": "@jupyter-widgets/controls",
      "_model_module_version": "1.5.0",
      "_model_name": "HTMLModel",
      "_view_count": null,
      "_view_module": "@jupyter-widgets/controls",
      "_view_module_version": "1.5.0",
      "_view_name": "HTMLView",
      "description": "",
      "description_tooltip": null,
      "layout": "IPY_MODEL_b5b2898c7305475ca3cac12ec5c559c7",
      "placeholder": "​",
      "style": "IPY_MODEL_a8437fc6c3dd4525981e957d1a3787da",
      "value": " 25/25 [01:05&lt;00:00,  2.63s/it]"
     }
    },
    "b5b2898c7305475ca3cac12ec5c559c7": {
     "model_module": "@jupyter-widgets/base",
     "model_name": "LayoutModel",
     "state": {
      "_model_module": "@jupyter-widgets/base",
      "_model_module_version": "1.2.0",
      "_model_name": "LayoutModel",
      "_view_count": null,
      "_view_module": "@jupyter-widgets/base",
      "_view_module_version": "1.2.0",
      "_view_name": "LayoutView",
      "align_content": null,
      "align_items": null,
      "align_self": null,
      "border": null,
      "bottom": null,
      "display": null,
      "flex": null,
      "flex_flow": null,
      "grid_area": null,
      "grid_auto_columns": null,
      "grid_auto_flow": null,
      "grid_auto_rows": null,
      "grid_column": null,
      "grid_gap": null,
      "grid_row": null,
      "grid_template_areas": null,
      "grid_template_columns": null,
      "grid_template_rows": null,
      "height": null,
      "justify_content": null,
      "justify_items": null,
      "left": null,
      "margin": null,
      "max_height": null,
      "max_width": null,
      "min_height": null,
      "min_width": null,
      "object_fit": null,
      "object_position": null,
      "order": null,
      "overflow": null,
      "overflow_x": null,
      "overflow_y": null,
      "padding": null,
      "right": null,
      "top": null,
      "visibility": null,
      "width": null
     }
    },
    "cc8c87f948bc475fb762133f704a17c6": {
     "model_module": "@jupyter-widgets/controls",
     "model_name": "FloatProgressModel",
     "state": {
      "_dom_classes": [],
      "_model_module": "@jupyter-widgets/controls",
      "_model_module_version": "1.5.0",
      "_model_name": "FloatProgressModel",
      "_view_count": null,
      "_view_module": "@jupyter-widgets/controls",
      "_view_module_version": "1.5.0",
      "_view_name": "ProgressView",
      "bar_style": "success",
      "description": "100%",
      "description_tooltip": null,
      "layout": "IPY_MODEL_18cf99c5bd5344fc89be14de8e6e1568",
      "max": 25,
      "min": 0,
      "orientation": "horizontal",
      "style": "IPY_MODEL_f2ab8970a22f42788c5a2c710ffba4f4",
      "value": 25
     }
    },
    "ccba8ba00b9e40618d976e97985004d9": {
     "model_module": "@jupyter-widgets/controls",
     "model_name": "FloatProgressModel",
     "state": {
      "_dom_classes": [],
      "_model_module": "@jupyter-widgets/controls",
      "_model_module_version": "1.5.0",
      "_model_name": "FloatProgressModel",
      "_view_count": null,
      "_view_module": "@jupyter-widgets/controls",
      "_view_module_version": "1.5.0",
      "_view_name": "ProgressView",
      "bar_style": "success",
      "description": "100%",
      "description_tooltip": null,
      "layout": "IPY_MODEL_6f32185feab140e7b85945f006a03cd4",
      "max": 25,
      "min": 0,
      "orientation": "horizontal",
      "style": "IPY_MODEL_4129341b7a734b0d8671d7c9e922a138",
      "value": 25
     }
    },
    "ce6186fd2d924f189f8f99facbcf40ed": {
     "model_module": "@jupyter-widgets/controls",
     "model_name": "HBoxModel",
     "state": {
      "_dom_classes": [],
      "_model_module": "@jupyter-widgets/controls",
      "_model_module_version": "1.5.0",
      "_model_name": "HBoxModel",
      "_view_count": null,
      "_view_module": "@jupyter-widgets/controls",
      "_view_module_version": "1.5.0",
      "_view_name": "HBoxView",
      "box_style": "",
      "children": [
       "IPY_MODEL_cc8c87f948bc475fb762133f704a17c6",
       "IPY_MODEL_ae64cef97aac434b96bef4ec6ec554d0"
      ],
      "layout": "IPY_MODEL_f272ecb0050240458c77ae3a25bf5441"
     }
    },
    "da273b637ea643d2ab0cf9420bb67a56": {
     "model_module": "@jupyter-widgets/base",
     "model_name": "LayoutModel",
     "state": {
      "_model_module": "@jupyter-widgets/base",
      "_model_module_version": "1.2.0",
      "_model_name": "LayoutModel",
      "_view_count": null,
      "_view_module": "@jupyter-widgets/base",
      "_view_module_version": "1.2.0",
      "_view_name": "LayoutView",
      "align_content": null,
      "align_items": null,
      "align_self": null,
      "border": null,
      "bottom": null,
      "display": null,
      "flex": null,
      "flex_flow": null,
      "grid_area": null,
      "grid_auto_columns": null,
      "grid_auto_flow": null,
      "grid_auto_rows": null,
      "grid_column": null,
      "grid_gap": null,
      "grid_row": null,
      "grid_template_areas": null,
      "grid_template_columns": null,
      "grid_template_rows": null,
      "height": null,
      "justify_content": null,
      "justify_items": null,
      "left": null,
      "margin": null,
      "max_height": null,
      "max_width": null,
      "min_height": null,
      "min_width": null,
      "object_fit": null,
      "object_position": null,
      "order": null,
      "overflow": null,
      "overflow_x": null,
      "overflow_y": null,
      "padding": null,
      "right": null,
      "top": null,
      "visibility": null,
      "width": null
     }
    },
    "db20f693a98b45798e125341f81a6c95": {
     "model_module": "@jupyter-widgets/base",
     "model_name": "LayoutModel",
     "state": {
      "_model_module": "@jupyter-widgets/base",
      "_model_module_version": "1.2.0",
      "_model_name": "LayoutModel",
      "_view_count": null,
      "_view_module": "@jupyter-widgets/base",
      "_view_module_version": "1.2.0",
      "_view_name": "LayoutView",
      "align_content": null,
      "align_items": null,
      "align_self": null,
      "border": null,
      "bottom": null,
      "display": null,
      "flex": null,
      "flex_flow": null,
      "grid_area": null,
      "grid_auto_columns": null,
      "grid_auto_flow": null,
      "grid_auto_rows": null,
      "grid_column": null,
      "grid_gap": null,
      "grid_row": null,
      "grid_template_areas": null,
      "grid_template_columns": null,
      "grid_template_rows": null,
      "height": null,
      "justify_content": null,
      "justify_items": null,
      "left": null,
      "margin": null,
      "max_height": null,
      "max_width": null,
      "min_height": null,
      "min_width": null,
      "object_fit": null,
      "object_position": null,
      "order": null,
      "overflow": null,
      "overflow_x": null,
      "overflow_y": null,
      "padding": null,
      "right": null,
      "top": null,
      "visibility": null,
      "width": null
     }
    },
    "e255b67390a2406f9229fbad8d8af7b5": {
     "model_module": "@jupyter-widgets/controls",
     "model_name": "HBoxModel",
     "state": {
      "_dom_classes": [],
      "_model_module": "@jupyter-widgets/controls",
      "_model_module_version": "1.5.0",
      "_model_name": "HBoxModel",
      "_view_count": null,
      "_view_module": "@jupyter-widgets/controls",
      "_view_module_version": "1.5.0",
      "_view_name": "HBoxView",
      "box_style": "",
      "children": [
       "IPY_MODEL_ccba8ba00b9e40618d976e97985004d9",
       "IPY_MODEL_f5a2741e42bf4497acf6b224945c15a0"
      ],
      "layout": "IPY_MODEL_da273b637ea643d2ab0cf9420bb67a56"
     }
    },
    "f272ecb0050240458c77ae3a25bf5441": {
     "model_module": "@jupyter-widgets/base",
     "model_name": "LayoutModel",
     "state": {
      "_model_module": "@jupyter-widgets/base",
      "_model_module_version": "1.2.0",
      "_model_name": "LayoutModel",
      "_view_count": null,
      "_view_module": "@jupyter-widgets/base",
      "_view_module_version": "1.2.0",
      "_view_name": "LayoutView",
      "align_content": null,
      "align_items": null,
      "align_self": null,
      "border": null,
      "bottom": null,
      "display": null,
      "flex": null,
      "flex_flow": null,
      "grid_area": null,
      "grid_auto_columns": null,
      "grid_auto_flow": null,
      "grid_auto_rows": null,
      "grid_column": null,
      "grid_gap": null,
      "grid_row": null,
      "grid_template_areas": null,
      "grid_template_columns": null,
      "grid_template_rows": null,
      "height": null,
      "justify_content": null,
      "justify_items": null,
      "left": null,
      "margin": null,
      "max_height": null,
      "max_width": null,
      "min_height": null,
      "min_width": null,
      "object_fit": null,
      "object_position": null,
      "order": null,
      "overflow": null,
      "overflow_x": null,
      "overflow_y": null,
      "padding": null,
      "right": null,
      "top": null,
      "visibility": null,
      "width": null
     }
    },
    "f2ab8970a22f42788c5a2c710ffba4f4": {
     "model_module": "@jupyter-widgets/controls",
     "model_name": "ProgressStyleModel",
     "state": {
      "_model_module": "@jupyter-widgets/controls",
      "_model_module_version": "1.5.0",
      "_model_name": "ProgressStyleModel",
      "_view_count": null,
      "_view_module": "@jupyter-widgets/base",
      "_view_module_version": "1.2.0",
      "_view_name": "StyleView",
      "bar_color": null,
      "description_width": "initial"
     }
    },
    "f5a2741e42bf4497acf6b224945c15a0": {
     "model_module": "@jupyter-widgets/controls",
     "model_name": "HTMLModel",
     "state": {
      "_dom_classes": [],
      "_model_module": "@jupyter-widgets/controls",
      "_model_module_version": "1.5.0",
      "_model_name": "HTMLModel",
      "_view_count": null,
      "_view_module": "@jupyter-widgets/controls",
      "_view_module_version": "1.5.0",
      "_view_name": "HTMLView",
      "description": "",
      "description_tooltip": null,
      "layout": "IPY_MODEL_db20f693a98b45798e125341f81a6c95",
      "placeholder": "​",
      "style": "IPY_MODEL_64d8cc233ac4477fbce335e9389783ef",
      "value": " 25/25 [08:10&lt;00:00, 19.60s/it]"
     }
    },
    "f62b3f427b2e4067a119ac1c1088caf1": {
     "model_module": "@jupyter-widgets/controls",
     "model_name": "FloatProgressModel",
     "state": {
      "_dom_classes": [],
      "_model_module": "@jupyter-widgets/controls",
      "_model_module_version": "1.5.0",
      "_model_name": "FloatProgressModel",
      "_view_count": null,
      "_view_module": "@jupyter-widgets/controls",
      "_view_module_version": "1.5.0",
      "_view_name": "ProgressView",
      "bar_style": "success",
      "description": "100%",
      "description_tooltip": null,
      "layout": "IPY_MODEL_04f6768539ec40129298920d003c2005",
      "max": 20,
      "min": 0,
      "orientation": "horizontal",
      "style": "IPY_MODEL_73cbeed479f84d9da64475e5f64d2be1",
      "value": 20
     }
    }
   }
  }
 },
 "nbformat": 4,
 "nbformat_minor": 1
}
