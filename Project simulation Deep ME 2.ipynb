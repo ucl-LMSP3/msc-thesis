{
 "cells": [
  {
   "cell_type": "markdown",
   "metadata": {
    "id": "bp6fZgdZvhsz"
   },
   "source": [
    "# Libraries"
   ]
  },
  {
   "cell_type": "code",
   "execution_count": null,
   "metadata": {
    "id": "69Mso1oRvmtX"
   },
   "outputs": [],
   "source": [
    "import numpy as np\n",
    "import sklearn.datasets as datasets\n",
    "import time\n",
    "import copy\n",
    "import scipy\n",
    "import pandas as pd\n",
    "import matplotlib.pyplot as plt\n",
    "from sklearn.datasets import make_friedman1, make_friedman2, make_friedman3\n",
    "from sklearn.model_selection import GroupKFold, GroupShuffleSplit\n",
    "from tqdm.notebook import tqdm, tnrange"
   ]
  },
  {
   "cell_type": "code",
   "execution_count": null,
   "metadata": {
    "id": "IY14Alf9wEvt"
   },
   "outputs": [],
   "source": [
    "from DME.Simulation import train"
   ]
  },
  {
   "cell_type": "markdown",
   "metadata": {
    "id": "YLWDklYOvwVy"
   },
   "source": [
    "# Helper functions"
   ]
  },
  {
   "cell_type": "code",
   "execution_count": null,
   "metadata": {
    "id": "rpu0p8jFEsp5"
   },
   "outputs": [],
   "source": [
    "def linear_func(n_samples, random_state=1):\n",
    "    np.random.seed(random_state)\n",
    "    X = np.random.uniform(size=(n_samples, 30))\n",
    "    F = 1 + np.sum(X, axis=1)\n",
    "\n",
    "    return X, F"
   ]
  },
  {
   "cell_type": "code",
   "execution_count": null,
   "metadata": {
    "id": "Qk5nauaNJ2XX"
   },
   "outputs": [],
   "source": [
    "def random_binary_generator(n_samples, n_groups, n_obs_per_group, n_features=5, random_state=1):\n",
    "    np.random.seed(random_state)\n",
    "    X = np.zeros((n_samples, n_features), dtype=int)\n",
    "    for i in range(n_features):\n",
    "        arr = np.random.randint(0, 2, n_groups)\n",
    "        X[:, i] = np.repeat(arr, n_obs_per_group)\n",
    "    F = 5*X[:, 0]*X[:, 1] + 3*np.sqrt(2*X[:, 2]+X[:, 3]*X[:, 4]+1)\n",
    "\n",
    "    return X, F"
   ]
  },
  {
   "cell_type": "code",
   "execution_count": null,
   "metadata": {
    "id": "9ZMQcQPlGoin"
   },
   "outputs": [],
   "source": [
    "def friedman_modified(n_samples, n_features=25, random_state=1):\n",
    "    np.random.seed(random_state)\n",
    "    X = np.random.uniform(size=(n_samples, n_features))\n",
    "    F = 10*np.sin(np.pi*X[:, 0]*X[:, 1]) + 20*(X[:, 2]-0.5)**2 + 10*(X[:, 3]*X[:, 4]) + 3*np.cos(np.pi*(X[:, 5]/X[:, 6])) + (X[:, 7]+X[:, 8]+X[:, 9])**2 + np.sqrt(1+3*X[:, 10]+X[:, 11]) + 30*np.abs(X[:, 12]-X[:, 13]) + X[:, 14]\n",
    "\n",
    "    return X, F"
   ]
  },
  {
   "cell_type": "code",
   "execution_count": null,
   "metadata": {
    "id": "UqMD08ZMI2EW"
   },
   "outputs": [],
   "source": [
    "def non_linear(n_samples, n_groups, n_obs_per_group, random_state=1):\n",
    "    np.random.seed(random_state)\n",
    "    X1, F1 = friedman_modified(n_samples=n_samples, n_features=25, random_state=random_state)\n",
    "    X2, F2 = random_binary_generator(n_samples, n_groups, n_obs_per_group, random_state=random_state)\n",
    "    X = np.column_stack((X1, X2))\n",
    "    F = F1 + F2\n",
    "\n",
    "    return X, F"
   ]
  },
  {
   "cell_type": "code",
   "execution_count": null,
   "metadata": {
    "id": "ktBKJIBbDLmg"
   },
   "outputs": [],
   "source": [
    "def exponential_kernel(x1, x2, sigma2, rho):\n",
    "    '''\n",
    "    Computes the exponential kernel matrix between two vectors.\n",
    "    '''\n",
    "    x1 = np.expand_dims(x1, axis=1)\n",
    "    x2 = np.expand_dims(x2, axis=1)\n",
    "\n",
    "    return sigma2 * np.exp(-scipy.spatial.distance.cdist(x1, x2, 'sqeuclidean') / rho)"
   ]
  },
  {
   "cell_type": "code",
   "execution_count": null,
   "metadata": {
    "id": "11VY12Sjvm2m"
   },
   "outputs": [],
   "source": [
    "def generate_data(n, m, p, func, shared_gp=True, random_state=1):\n",
    "    # Features\n",
    "    if func == 'non_linear':\n",
    "        X, F = non_linear(n_samples=n, n_groups=m, n_obs_per_group=p, random_state=random_state)\n",
    "    elif func == 'linear_func':\n",
    "        X, F = linear_func(n_samples=n, random_state=random_state)\n",
    "    else:\n",
    "        raise Exception('function is invalid') \n",
    "\n",
    "    # Create groups\n",
    "    group = np.arange(n) # Variable that stores group IDs\n",
    "    for i in range(m):\n",
    "        group[i*p:(i+1)*p] = i\n",
    "\n",
    "    # Incidence matrix relating grouped random effects to observations\n",
    "    Z1 = np.zeros((n, m))\n",
    "    for i in range(m):\n",
    "        Z1[np.where(group==i), i] = 1\n",
    "\n",
    "    # Simulate random (sorted) observation times for each group\n",
    "    rng = np.random.default_rng(seed=random_state)\n",
    "    times_arrays = [np.sort(rng.choice(1000, size=p, replace=False, shuffle=False)) for i in range(m)]\n",
    "    times = np.concatenate(times_arrays)\n",
    "\n",
    "    # Simulate GPs\n",
    "    GP_list = []\n",
    "    np.random.seed(random_state)\n",
    "    if shared_gp:\n",
    "        # Simulate GPs with same parameters\n",
    "        sigma2_2 = 1 ** 2  # Marginal variance of GP\n",
    "        rho = 0.1  # GP Range parameter\n",
    "        for arr in times_arrays:\n",
    "            K = exponential_kernel(arr, arr, sigma2_2, rho)\n",
    "            g = np.random.multivariate_normal(mean=np.zeros(p), cov=K)\n",
    "            GP_list.append(g)\n",
    "    else:\n",
    "        # Simulate GPs with different, random parameters\n",
    "        for arr in times_arrays:\n",
    "            sigma2_2 = scipy.stats.invgamma.rvs(1, loc=0, scale=10)\n",
    "            rho = np.random.uniform(0.01, 1000)\n",
    "            K = exponential_kernel(arr, arr, sigma2_2, rho)\n",
    "            g = np.random.multivariate_normal(mean=np.zeros(p), cov=K)\n",
    "            GP_list.append(g)\n",
    "\n",
    "    # Simulate outcome variable\n",
    "    np.random.seed(random_state)\n",
    "    sigma2 = 0.5 ** 2  # Error variance\n",
    "    b = np.random.normal(size=m) # Simulate random effect intercept\n",
    "    G = np.dot(Z1, b) + np.concatenate(GP_list) # Combine random effect intercept with GP\n",
    "    epsilon = np.sqrt(sigma2) * np.random.normal(size=n) # Simulate error term\n",
    "    y = F + G + epsilon\n",
    "\n",
    "    # Create dataframes\n",
    "    feature_names = ['feature_' + str(i+1) for i in range(30)]\n",
    "    data = pd.concat([pd.DataFrame(F, columns=['F']),\n",
    "                   pd.DataFrame(group, columns=['group']),\n",
    "                   pd.DataFrame(times, columns=['times']),\n",
    "                   pd.DataFrame(X,columns=feature_names),\n",
    "                   pd.DataFrame(y, columns=['y'])],\n",
    "                   axis=1)\n",
    "\n",
    "    return data"
   ]
  },
  {
   "cell_type": "code",
   "execution_count": null,
   "metadata": {
    "id": "HeYuT3ILwU_r"
   },
   "outputs": [],
   "source": [
    "def generate_datasets(n, m, p, n_datasets, n_valid, func, shared_gp=True, random_state=1):\n",
    "    datasets = {}\n",
    "    datasets['data'] = []\n",
    "    datasets['dataframes'] = []\n",
    "    datasets['n_samples_chosen_per_group'] = []\n",
    "\n",
    "    # Create training and test sets\n",
    "    for i in range(n_datasets):\n",
    "        data = generate_data(n, m, p, func, shared_gp, random_state=i+random_state)\n",
    "        df_new, df_test = train_test_split_grouped_extrapolation(data, data['group'], test_size=0.2, random_state=i)\n",
    "        group_sizes = df_new.groupby(['group']).size().to_numpy()\n",
    "        n_samples_chosen_per_group = train_test_split_grouped_interpolation(df_new, group_sizes, test_size=0.2, random_state=i)\n",
    "        datasets['data'].append(data)\n",
    "        datasets['dataframes'].append([df_new, df_test])\n",
    "        datasets['n_samples_chosen_per_group'].append(n_samples_chosen_per_group)\n",
    "    \n",
    "    # Create validation datasets\n",
    "    validation_datasets = {}\n",
    "    validation_datasets['dataframes'] = []\n",
    "    for i in range(n_valid):\n",
    "        data = generate_data(n, m, p, func, shared_gp, random_state=i+n_datasets+random_state)\n",
    "        df_train, df_val = train_test_split_grouped_extrapolation(data, data['group'], test_size=0.2, random_state=i)\n",
    "        validation_datasets['dataframes'].append([df_train, df_val])\n",
    "\n",
    "    return datasets, validation_datasets"
   ]
  },
  {
   "cell_type": "code",
   "execution_count": null,
   "metadata": {
    "id": "DwyckCXj3fL3"
   },
   "outputs": [],
   "source": [
    "def param_search(dataframes, model_config, train_config,\n",
    "                 random_effects_column_names,\n",
    "                 group_column_name, y_column_name,\n",
    "                 n_samples_chosen_per_group_list,\n",
    "                 model_type='MLP',\n",
    "                 random_state=1):\n",
    "    best_val_error_list = []\n",
    "    for i in tnrange(len(dataframes)):\n",
    "        best_state, best_val_err = train.train_and_evaluate_model(model_config, train_config, dataframes[i], \n",
    "                                                                  random_effects_column_names,\n",
    "                                                                  group_column_name, y_column_name,\n",
    "                                                                  n_samples_chosen_per_group_list[i],\n",
    "                                                                  model_type, random_state=random_state)\n",
    "        best_val_error_list.append(best_val_err)\n",
    "\n",
    "    return np.mean(best_val_error_list)"
   ]
  },
  {
   "cell_type": "code",
   "execution_count": null,
   "metadata": {
    "id": "96xgMt4hhQJt"
   },
   "outputs": [],
   "source": [
    "def test(dataframes, model_config, train_config,\n",
    "         random_effects_column_names,\n",
    "         group_column_name, y_column_name,\n",
    "         n_samples_chosen_per_group_list,\n",
    "         model_type='MLP',\n",
    "         random_state=1):\n",
    "    F_rmse_test_list, rmse_test1_list, rmse_test2_list = [], [], []\n",
    "    for i in tnrange(len(dataframes)):\n",
    "        F_rmse_test1, F_rmse_test2, rmse_test1, rmse_test2 = train.train_and_test_model(model_config, train_config, dataframes[i], random_effects_column_names,\n",
    "                                                                                        group_column_name, y_column_name,\n",
    "                                                                                        n_samples_chosen_per_group_list[i],\n",
    "                                                                                        model_type, random_state=random_state)\n",
    "        F_rmse_test_list.append(F_rmse_test1)\n",
    "        F_rmse_test_list.append(F_rmse_test2)\n",
    "        rmse_test1_list.append(rmse_test1)\n",
    "        rmse_test2_list.append(rmse_test2)\n",
    "    \n",
    "    print('Extrapolation')\n",
    "    print('Mean: ', np.mean(rmse_test1_list))\n",
    "    print('Std: ', np.std(rmse_test1_list))\n",
    "    print('\\n')\n",
    "    print('Interpolation')\n",
    "    print('Mean: ', np.mean(rmse_test2_list))\n",
    "    print('Std: ', np.std(rmse_test2_list))\n",
    "    print('\\n')\n",
    "    print('F')\n",
    "    print('Mean: ', np.mean(F_rmse_test_list))\n",
    "    print('Std: ', np.std(F_rmse_test_list))\n",
    "    \n",
    "    return np.mean(rmse_test1_list), np.std(rmse_test1_list), np.mean(rmse_test2_list), np.std(rmse_test2_list), np.mean(F_rmse_test_list), np.std(F_rmse_test_list)"
   ]
  },
  {
   "cell_type": "code",
   "execution_count": null,
   "metadata": {
    "id": "1CUo55R5HIkG"
   },
   "outputs": [],
   "source": [
    "def train_test_split_grouped_interpolation(df, group_sizes, test_size=0.2, random_state=1):\n",
    "    '''\n",
    "    Train/test split for a dataframe, but test set contains at least one observation from each group in the training set, and contains no unseen groups.\n",
    "    '''\n",
    "    assert 0 < test_size < 1, \"Test size must be strictly between 0 and 1\"\n",
    "    assert np.sum(group_sizes) == len(df), \"Sum of group_sizes must be equal to length of dataframe\"\n",
    "    assert group_sizes.all() > 0, \"Group sizes should be non-negative\"\n",
    "    assert len(group_sizes) < len(df), \"Number of groups should be less than number of observations\"\n",
    "\n",
    "    np.random.seed(random_state)\n",
    "    df_len = len(df)\n",
    "    test_len = int(test_size * df_len)\n",
    "    no_groups = len(group_sizes)\n",
    "    group_sizes_new = group_sizes.copy()\n",
    "\n",
    "    # Pick one observation from all groups\n",
    "    sample_len = no_groups\n",
    "    n_samples_chosen_per_group = np.ones_like(group_sizes_new)\n",
    "    last_idx_arr = np.cumsum(group_sizes_new)-1 # Array of index of the last observation in each group within the overall dataset\n",
    "    test_idx = [last_idx_arr[i] for i in range(no_groups)]\n",
    "    group_sizes_new -= 1\n",
    "\n",
    "    # Keep picking more observations until the required number of test observations has been picked\n",
    "    while sample_len < test_len:\n",
    "        group_idx = np.random.randint(no_groups) # Pick a random group\n",
    "        if group_sizes_new[group_idx] > 1:\n",
    "            if test_len - sample_len > 1:\n",
    "                n = np.random.randint(1, min([group_sizes_new[group_idx], test_len-sample_len])) # Pick a random sample of size 1<=n<group_size from the chosen group\n",
    "            else:\n",
    "                n = 1\n",
    "            last_idx = last_idx_arr[group_idx]-n_samples_chosen_per_group[group_idx] # Index of the last observation remaining in each group within the overall dataset\n",
    "            test_idx += [last_idx-i for i in range(n)]\n",
    "            n_samples_chosen_per_group[group_idx] += n # Update number of samples chosen from the group\n",
    "            group_sizes_new[group_idx] -= n # Update current group sizes\n",
    "            sample_len += n\n",
    "\n",
    "    return n_samples_chosen_per_group"
   ]
  },
  {
   "cell_type": "code",
   "execution_count": null,
   "metadata": {
    "id": "MLalQKTBvm56"
   },
   "outputs": [],
   "source": [
    "def train_test_split_grouped_extrapolation(df, groups, test_size=0.2, random_state=1):\n",
    "    '''\n",
    "    Train/test split for a dataframe, but test set only contains only unseen groups.\n",
    "    ``test_size`` represents the proportion of groups to include in the test split (rounded up).\n",
    "    '''\n",
    "    train_idx, test_idx = next(GroupShuffleSplit(test_size=test_size, random_state=random_state).split(df, groups=groups))\n",
    "    df_train, df_test = df.iloc[train_idx], df.iloc[test_idx]\n",
    "\n",
    "    return df_train, df_test"
   ]
  },
  {
   "cell_type": "markdown",
   "metadata": {
    "id": "Tr9aQdr-wd94"
   },
   "source": [
    "# Experiment 1: Non-linear Function with Temporal Shared GP"
   ]
  },
  {
   "cell_type": "code",
   "execution_count": null,
   "metadata": {
    "id": "6hanjNavwdTp"
   },
   "outputs": [],
   "source": [
    "# Generate data\n",
    "n, m = 1000, 50  # Number of observations and groups\n",
    "p = int(n/m) # Number of observations per group\n",
    "n_datasets = 20\n",
    "n_valid = 5\n",
    "datasets, validation_datasets = generate_datasets(n, m, p, n_datasets, n_valid, func='non_linear', random_state=60)"
   ]
  },
  {
   "cell_type": "markdown",
   "metadata": {
    "id": "Ma3b5XhEbVbw"
   },
   "source": [
    "## MLP"
   ]
  },
  {
   "cell_type": "code",
   "execution_count": null,
   "metadata": {
    "id": "Kdg-QDY66JMg"
   },
   "outputs": [],
   "source": [
    "model_config = {}\n",
    "model_config['input_dim'] = 30\n",
    "model_config['hidden_dim'] = 1000\n",
    "model_config['output_dim'] = 1\n",
    "\n",
    "train_config = {}\n",
    "train_config['n_epochs'] = 30\n",
    "train_config['lr'] = 0.01\n",
    "train_config['n_adapt'] = 2\n",
    "train_config['inner_lr'] = 0.1\n",
    "train_config['l2_penalty'] = 0.001\n",
    "\n",
    "# val_result = param_search(validation_datasets['dataframes'], model_config, train_config,\n",
    "#                           random_effects_column_names=['times'],\n",
    "#                           group_column_name='group', y_column_name='y',\n",
    "#                           n_samples_chosen_per_group_list=datasets['n_samples_chosen_per_group'],\n",
    "#                           model_type='MLP')\n",
    "\n",
    "# print(val_result)"
   ]
  },
  {
   "cell_type": "code",
   "execution_count": null,
   "metadata": {
    "colab": {
     "base_uri": "https://localhost:8080/"
    },
    "executionInfo": {
     "elapsed": 481,
     "status": "ok",
     "timestamp": 1629278278105,
     "user": {
      "displayName": "Jeria Kua",
      "photoUrl": "",
      "userId": "01722788589990916725"
     },
     "user_tz": -480
    },
    "id": "7e9eRHUwl_es",
    "outputId": "2c9c7ca5-1f66-46d5-b2da-96720f16303f"
   },
   "outputs": [
    {
     "name": "stdout",
     "output_type": "stream",
     "text": [
      "8.125364029326665\n"
     ]
    }
   ],
   "source": [
    "print(val_result)"
   ]
  },
  {
   "cell_type": "code",
   "execution_count": null,
   "metadata": {
    "id": "EQQ5sPB3wdhm"
   },
   "outputs": [],
   "source": [
    "test1_mean, test1_std, test2_mean, test2_std, F_mean, F_std = test(datasets['dataframes'], model_config, train_config, random_effects_column_names=['times'],\n",
    "                                                                   group_column_name='group', y_column_name='y',\n",
    "                                                                   n_samples_chosen_per_group_list=datasets['n_samples_chosen_per_group'],\n",
    "                                                                   model_type='MLP')"
   ]
  },
  {
   "cell_type": "code",
   "execution_count": null,
   "metadata": {
    "colab": {
     "base_uri": "https://localhost:8080/"
    },
    "executionInfo": {
     "elapsed": 401,
     "status": "ok",
     "timestamp": 1629196931592,
     "user": {
      "displayName": "Jeria Kua",
      "photoUrl": "",
      "userId": "01722788589990916725"
     },
     "user_tz": -480
    },
    "id": "r_A3NTxrwdmp",
    "outputId": "bca76cf0-e201-4d77-e055-1093d0b135f4"
   },
   "outputs": [
    {
     "name": "stdout",
     "output_type": "stream",
     "text": [
      "Extrapolation\n",
      "Mean:  8.69843896254876\n",
      "Std:  0.5163346282303269\n",
      "\n",
      "\n",
      "Interpolation\n",
      "Mean:  8.621200413495583\n",
      "Std:  0.5388578955427302\n",
      "\n",
      "\n",
      "F\n",
      "Mean:  8.266261703341788\n",
      "Std:  0.5524172569316361\n"
     ]
    }
   ],
   "source": [
    "print('Extrapolation')\n",
    "print('Mean: ', test1_mean)\n",
    "print('Std: ', test1_std)\n",
    "print('\\n')\n",
    "print('Interpolation')\n",
    "print('Mean: ', test2_mean)\n",
    "print('Std: ', test2_std)\n",
    "print('\\n')\n",
    "print('F')\n",
    "print('Mean: ', F_mean)\n",
    "print('Std: ', F_std)"
   ]
  },
  {
   "cell_type": "markdown",
   "metadata": {
    "id": "MtdUvOx_bdQf"
   },
   "source": [
    "## RNN"
   ]
  },
  {
   "cell_type": "code",
   "execution_count": null,
   "metadata": {
    "id": "i-tV9hwLbdQi"
   },
   "outputs": [],
   "source": [
    "model_config = {}\n",
    "model_config['input_dim'] = 30\n",
    "model_config['hidden_dim'] = 1000\n",
    "model_config['output_dim'] = 1\n",
    "\n",
    "train_config = {}\n",
    "train_config['n_epochs'] = 10\n",
    "train_config['lr'] = 0.01\n",
    "train_config['n_adapt'] = 2\n",
    "train_config['inner_lr'] = 0.1\n",
    "train_config['l2_penalty'] = 0.001\n",
    "\n",
    "# val_result = param_search(validation_datasets['dataframes'], model_config, train_config,\n",
    "#                           random_effects_column_names=['times'],\n",
    "#                           group_column_name='group', y_column_name='y',\n",
    "#                           n_samples_chosen_per_group_list=datasets['n_samples_chosen_per_group'],\n",
    "#                           model_type='LSTM')\n",
    "\n",
    "# print(val_result)"
   ]
  },
  {
   "cell_type": "code",
   "execution_count": null,
   "metadata": {
    "colab": {
     "base_uri": "https://localhost:8080/"
    },
    "executionInfo": {
     "elapsed": 8,
     "status": "ok",
     "timestamp": 1629199004298,
     "user": {
      "displayName": "Jeria Kua",
      "photoUrl": "",
      "userId": "01722788589990916725"
     },
     "user_tz": -480
    },
    "id": "AJTei3Um35DO",
    "outputId": "653dfcda-4414-4372-e573-240a73da301d"
   },
   "outputs": [
    {
     "name": "stdout",
     "output_type": "stream",
     "text": [
      "8.59337014256057\n"
     ]
    }
   ],
   "source": [
    "print(val_result)"
   ]
  },
  {
   "cell_type": "code",
   "execution_count": null,
   "metadata": {
    "id": "6h8oRnDebdQl"
   },
   "outputs": [],
   "source": [
    "test1_mean, test1_std, test2_mean, test2_std, F_mean, F_std = test(datasets['dataframes'], model_config, train_config, random_effects_column_names=['times'],\n",
    "                                                                   group_column_name='group', y_column_name='y',\n",
    "                                                                   n_samples_chosen_per_group_list=datasets['n_samples_chosen_per_group'],\n",
    "                                                                   model_type='LSTM')"
   ]
  },
  {
   "cell_type": "code",
   "execution_count": null,
   "metadata": {
    "colab": {
     "base_uri": "https://localhost:8080/"
    },
    "executionInfo": {
     "elapsed": 411,
     "status": "ok",
     "timestamp": 1629198657681,
     "user": {
      "displayName": "Jeria Kua",
      "photoUrl": "",
      "userId": "01722788589990916725"
     },
     "user_tz": -480
    },
    "id": "HVu6tfWWbdQl",
    "outputId": "eda34fb1-6ac4-480a-de63-e2fc5589634b"
   },
   "outputs": [
    {
     "name": "stdout",
     "output_type": "stream",
     "text": [
      "Extrapolation\n",
      "Mean:  9.714073195560792\n",
      "Std:  0.9023682014372404\n",
      "\n",
      "\n",
      "Interpolation\n",
      "Mean:  9.399518226160001\n",
      "Std:  0.8335257645642434\n",
      "\n",
      "\n",
      "F\n",
      "Mean:  9.267957489747847\n",
      "Std:  0.8701517040366222\n"
     ]
    }
   ],
   "source": [
    "print('Extrapolation')\n",
    "print('Mean: ', test1_mean)\n",
    "print('Std: ', test1_std)\n",
    "print('\\n')\n",
    "print('Interpolation')\n",
    "print('Mean: ', test2_mean)\n",
    "print('Std: ', test2_std)\n",
    "print('\\n')\n",
    "print('F')\n",
    "print('Mean: ', F_mean)\n",
    "print('Std: ', F_std)"
   ]
  },
  {
   "cell_type": "markdown",
   "metadata": {
    "id": "QBScVTr6v7kr"
   },
   "source": [
    "# Experiment 2: Non-linear Function with Temporal Individual GP"
   ]
  },
  {
   "cell_type": "code",
   "execution_count": null,
   "metadata": {
    "id": "Ym7UNkF8lBPh"
   },
   "outputs": [],
   "source": [
    "# Generate data\n",
    "n, m = 1000, 50  # Number of observations and groups\n",
    "p = int(n/m) # Number of observations per group\n",
    "n_datasets = 20\n",
    "n_valid = 5\n",
    "datasets, validation_datasets = generate_datasets(n, m, p, n_datasets, n_valid, func='non_linear', shared_gp=False, random_state=75)"
   ]
  },
  {
   "cell_type": "markdown",
   "metadata": {
    "id": "BtcFP_ZMBuaP"
   },
   "source": [
    "## MLP"
   ]
  },
  {
   "cell_type": "code",
   "execution_count": null,
   "metadata": {
    "id": "UnsppvYQwF7V"
   },
   "outputs": [],
   "source": [
    "model_config = {}\n",
    "model_config['input_dim'] = 30\n",
    "model_config['hidden_dim'] = 1000\n",
    "model_config['output_dim'] = 1\n",
    "\n",
    "train_config = {}\n",
    "train_config['n_epochs'] = 20\n",
    "train_config['lr'] = 0.001\n",
    "train_config['n_adapt'] = 2\n",
    "train_config['inner_lr'] = 0.1\n",
    "train_config['l2_penalty'] = 0.001\n",
    "\n",
    "# val_result = param_search(validation_datasets['dataframes'], model_config, train_config,\n",
    "#                           random_effects_column_names=['times'],\n",
    "#                           group_column_name='group', y_column_name='y',\n",
    "#                           n_samples_chosen_per_group_list=datasets['n_samples_chosen_per_group'],\n",
    "#                           model_type='MLP')\n",
    "\n",
    "# print(val_result)"
   ]
  },
  {
   "cell_type": "code",
   "execution_count": null,
   "metadata": {
    "colab": {
     "base_uri": "https://localhost:8080/"
    },
    "executionInfo": {
     "elapsed": 443,
     "status": "ok",
     "timestamp": 1629205357181,
     "user": {
      "displayName": "Jeria Kua",
      "photoUrl": "",
      "userId": "01722788589990916725"
     },
     "user_tz": -480
    },
    "id": "ZACiULJfw5dc",
    "outputId": "249324a6-f6be-4ee6-dc0f-f73c5abe6d99"
   },
   "outputs": [
    {
     "name": "stdout",
     "output_type": "stream",
     "text": [
      "12.425178509878965\n"
     ]
    }
   ],
   "source": [
    "print(val_result)"
   ]
  },
  {
   "cell_type": "code",
   "execution_count": null,
   "metadata": {
    "id": "8ZVXWFghwM8l"
   },
   "outputs": [],
   "source": [
    "test1_mean, test1_std, test2_mean, test2_std, F_mean, F_std = test(datasets['dataframes'], model_config, train_config, random_effects_column_names=['times'],\n",
    "                                                                   group_column_name='group', y_column_name='y',\n",
    "                                                                   n_samples_chosen_per_group_list=datasets['n_samples_chosen_per_group'],\n",
    "                                                                   model_type='MLP')"
   ]
  },
  {
   "cell_type": "code",
   "execution_count": null,
   "metadata": {
    "colab": {
     "base_uri": "https://localhost:8080/"
    },
    "executionInfo": {
     "elapsed": 501,
     "status": "ok",
     "timestamp": 1629279569697,
     "user": {
      "displayName": "Jeria Kua",
      "photoUrl": "",
      "userId": "01722788589990916725"
     },
     "user_tz": -480
    },
    "id": "zkjSzNJdwM_y",
    "outputId": "4439c455-4b67-40d6-89fe-c90f0237ab39"
   },
   "outputs": [
    {
     "name": "stdout",
     "output_type": "stream",
     "text": [
      "Extrapolation\n",
      "Mean:  11.88768003746365\n",
      "Std:  2.2521189166493945\n",
      "\n",
      "\n",
      "Interpolation\n",
      "Mean:  12.484949856350601\n",
      "Std:  3.5830453385026475\n",
      "\n",
      "\n",
      "F\n",
      "Mean:  8.693517078140527\n",
      "Std:  0.4544660588942596\n"
     ]
    }
   ],
   "source": [
    "print('Extrapolation')\n",
    "print('Mean: ', test1_mean)\n",
    "print('Std: ', test1_std)\n",
    "print('\\n')\n",
    "print('Interpolation')\n",
    "print('Mean: ', test2_mean)\n",
    "print('Std: ', test2_std)\n",
    "print('\\n')\n",
    "print('F')\n",
    "print('Mean: ', F_mean)\n",
    "print('Std: ', F_std)"
   ]
  },
  {
   "cell_type": "markdown",
   "metadata": {
    "id": "vouH1InbB4qp"
   },
   "source": [
    "## RNN"
   ]
  },
  {
   "cell_type": "code",
   "execution_count": null,
   "metadata": {
    "id": "U7aluV1TB3yp"
   },
   "outputs": [],
   "source": [
    "model_config = {}\n",
    "model_config['input_dim'] = 30\n",
    "model_config['hidden_dim'] = 500\n",
    "model_config['output_dim'] = 1\n",
    "\n",
    "train_config = {}\n",
    "train_config['n_epochs'] = 10\n",
    "train_config['lr'] = 0.01\n",
    "train_config['n_adapt'] = 2\n",
    "train_config['inner_lr'] = 0.1\n",
    "train_config['l2_penalty'] = 0.001\n",
    "\n",
    "# val_result = param_search(validation_datasets['dataframes'], model_config, train_config,\n",
    "#                           random_effects_column_names=['times'],\n",
    "#                           group_column_name='group', y_column_name='y',\n",
    "#                           n_samples_chosen_per_group_list=datasets['n_samples_chosen_per_group'],\n",
    "#                           model_type='LSTM')\n",
    "\n",
    "# print(val_result)"
   ]
  },
  {
   "cell_type": "code",
   "execution_count": null,
   "metadata": {
    "colab": {
     "base_uri": "https://localhost:8080/"
    },
    "executionInfo": {
     "elapsed": 516,
     "status": "ok",
     "timestamp": 1629280611955,
     "user": {
      "displayName": "Jeria Kua",
      "photoUrl": "",
      "userId": "01722788589990916725"
     },
     "user_tz": -480
    },
    "id": "6rRjSOPQB3yr",
    "outputId": "22fac8bd-facb-4290-a061-c021a220d9ee"
   },
   "outputs": [
    {
     "name": "stdout",
     "output_type": "stream",
     "text": [
      "10.564992327459205\n"
     ]
    }
   ],
   "source": [
    "print(val_result)"
   ]
  },
  {
   "cell_type": "code",
   "execution_count": null,
   "metadata": {
    "id": "tIQTgUfRB3yu"
   },
   "outputs": [],
   "source": [
    "test1_mean, test1_std, test2_mean, test2_std, F_mean, F_std = test(datasets['dataframes'], model_config, train_config, random_effects_column_names=['times'],\n",
    "                                                                   group_column_name='group', y_column_name='y',\n",
    "                                                                   n_samples_chosen_per_group_list=datasets['n_samples_chosen_per_group'],\n",
    "                                                                   model_type='LSTM')"
   ]
  },
  {
   "cell_type": "code",
   "execution_count": null,
   "metadata": {
    "colab": {
     "base_uri": "https://localhost:8080/"
    },
    "executionInfo": {
     "elapsed": 512,
     "status": "ok",
     "timestamp": 1629280932972,
     "user": {
      "displayName": "Jeria Kua",
      "photoUrl": "",
      "userId": "01722788589990916725"
     },
     "user_tz": -480
    },
    "id": "XOqcHKQcB3yu",
    "outputId": "0cda8dc5-8fd2-4c98-b9c4-6f20ad0c354b"
   },
   "outputs": [
    {
     "name": "stdout",
     "output_type": "stream",
     "text": [
      "Extrapolation\n",
      "Mean:  12.688886473544366\n",
      "Std:  2.3046064001575917\n",
      "\n",
      "\n",
      "Interpolation\n",
      "Mean:  13.028297518766326\n",
      "Std:  3.4081207707180994\n",
      "\n",
      "\n",
      "F\n",
      "Mean:  9.684766844907276\n",
      "Std:  0.9220526313912548\n"
     ]
    }
   ],
   "source": [
    "print('Extrapolation')\n",
    "print('Mean: ', test1_mean)\n",
    "print('Std: ', test1_std)\n",
    "print('\\n')\n",
    "print('Interpolation')\n",
    "print('Mean: ', test2_mean)\n",
    "print('Std: ', test2_std)\n",
    "print('\\n')\n",
    "print('F')\n",
    "print('Mean: ', F_mean)\n",
    "print('Std: ', F_std)"
   ]
  },
  {
   "cell_type": "markdown",
   "metadata": {
    "id": "I1n_JIxkDImT"
   },
   "source": [
    "# Experiment 3: Linear Function with Temporal Shared GP"
   ]
  },
  {
   "cell_type": "code",
   "execution_count": null,
   "metadata": {
    "id": "qv9BIZOgDH3W"
   },
   "outputs": [],
   "source": [
    "# Generate data\n",
    "n, m = 1000, 50  # Number of observations and groups\n",
    "p = int(n/m) # Number of observations per group\n",
    "n_datasets = 20\n",
    "n_valid = 5\n",
    "datasets, validation_datasets = generate_datasets(n, m, p, n_datasets, n_valid, func='linear_func', random_state=60)"
   ]
  },
  {
   "cell_type": "markdown",
   "metadata": {
    "id": "T4S62Oa4CHz8"
   },
   "source": [
    "## MLP"
   ]
  },
  {
   "cell_type": "code",
   "execution_count": null,
   "metadata": {
    "id": "4P_CpZv1DH7S"
   },
   "outputs": [],
   "source": [
    "model_config = {}\n",
    "model_config['input_dim'] = 30\n",
    "model_config['hidden_dim'] = 500\n",
    "model_config['output_dim'] = 1\n",
    "\n",
    "train_config = {}\n",
    "train_config['n_epochs'] = 25\n",
    "train_config['lr'] = 0.01\n",
    "train_config['n_adapt'] = 2\n",
    "train_config['inner_lr'] = 0.1\n",
    "train_config['l2_penalty'] = 0.001\n",
    "\n",
    "# val_result = param_search(validation_datasets['dataframes'], model_config, train_config,\n",
    "#                           random_effects_column_names=['times'],\n",
    "#                           group_column_name='group', y_column_name='y',\n",
    "#                           n_samples_chosen_per_group_list=datasets['n_samples_chosen_per_group'],\n",
    "#                           model_type='MLP')\n",
    "\n",
    "# print(val_result)"
   ]
  },
  {
   "cell_type": "code",
   "execution_count": null,
   "metadata": {
    "colab": {
     "base_uri": "https://localhost:8080/"
    },
    "executionInfo": {
     "elapsed": 435,
     "status": "ok",
     "timestamp": 1629271876021,
     "user": {
      "displayName": "Jeria Kua",
      "photoUrl": "",
      "userId": "01722788589990916725"
     },
     "user_tz": -480
    },
    "id": "A-s2snysDICo",
    "outputId": "a3db1b2e-0f7f-4399-dc3f-7d61592fd5ae"
   },
   "outputs": [
    {
     "name": "stdout",
     "output_type": "stream",
     "text": [
      "1.9752435575286966\n"
     ]
    }
   ],
   "source": [
    "print(val_result)"
   ]
  },
  {
   "cell_type": "code",
   "execution_count": null,
   "metadata": {
    "id": "RWVYLnYYDIHF"
   },
   "outputs": [],
   "source": [
    "test1_mean, test1_std, test2_mean, test2_std, F_mean, F_std = test(datasets['dataframes'], model_config, train_config, random_effects_column_names=['times'],\n",
    "                                                                   group_column_name='group', y_column_name='y',\n",
    "                                                                   n_samples_chosen_per_group_list=datasets['n_samples_chosen_per_group'],\n",
    "                                                                   model_type='MLP')"
   ]
  },
  {
   "cell_type": "code",
   "execution_count": null,
   "metadata": {
    "colab": {
     "base_uri": "https://localhost:8080/"
    },
    "executionInfo": {
     "elapsed": 494,
     "status": "ok",
     "timestamp": 1629273565601,
     "user": {
      "displayName": "Jeria Kua",
      "photoUrl": "",
      "userId": "01722788589990916725"
     },
     "user_tz": -480
    },
    "id": "4-WO--sVDIKr",
    "outputId": "15be4c2f-e072-4fcf-d81c-06d1b8cd5dc8"
   },
   "outputs": [
    {
     "name": "stdout",
     "output_type": "stream",
     "text": [
      "Extrapolation\n",
      "Mean:  1.9597709351591575\n",
      "Std:  0.23420589319026025\n",
      "\n",
      "\n",
      "Interpolation\n",
      "Mean:  1.8765089095858127\n",
      "Std:  0.18149579233142207\n",
      "\n",
      "\n",
      "F\n",
      "Mean:  0.6962999217870462\n",
      "Std:  0.20036777725100455\n"
     ]
    }
   ],
   "source": [
    "print('Extrapolation')\n",
    "print('Mean: ', test1_mean)\n",
    "print('Std: ', test1_std)\n",
    "print('\\n')\n",
    "print('Interpolation')\n",
    "print('Mean: ', test2_mean)\n",
    "print('Std: ', test2_std)\n",
    "print('\\n')\n",
    "print('F')\n",
    "print('Mean: ', F_mean)\n",
    "print('Std: ', F_std)"
   ]
  },
  {
   "cell_type": "markdown",
   "metadata": {
    "id": "9sXsnvESCJRq"
   },
   "source": [
    "## RNN"
   ]
  },
  {
   "cell_type": "code",
   "execution_count": null,
   "metadata": {
    "id": "WGql8VMnCKWb"
   },
   "outputs": [],
   "source": [
    "model_config = {}\n",
    "model_config['input_dim'] = 30\n",
    "model_config['hidden_dim'] = 500\n",
    "model_config['output_dim'] = 1\n",
    "\n",
    "train_config = {}\n",
    "train_config['n_epochs'] = 10\n",
    "train_config['lr'] = 0.001\n",
    "train_config['n_adapt'] = 2\n",
    "train_config['inner_lr'] = 0.1\n",
    "train_config['l2_penalty'] = 0.001\n",
    "\n",
    "# val_result = param_search(validation_datasets['dataframes'], model_config, train_config,\n",
    "#                           random_effects_column_names=['times'],\n",
    "#                           group_column_name='group', y_column_name='y',\n",
    "#                           n_samples_chosen_per_group_list=datasets['n_samples_chosen_per_group'],\n",
    "#                           model_type='LSTM')\n",
    "\n",
    "# print(val_result)"
   ]
  },
  {
   "cell_type": "code",
   "execution_count": null,
   "metadata": {
    "colab": {
     "base_uri": "https://localhost:8080/"
    },
    "executionInfo": {
     "elapsed": 634,
     "status": "ok",
     "timestamp": 1629211209209,
     "user": {
      "displayName": "Jeria Kua",
      "photoUrl": "",
      "userId": "01722788589990916725"
     },
     "user_tz": -480
    },
    "id": "PhfIxUQkCKWb",
    "outputId": "9c442d7e-e676-4a46-a645-a3bb9de8669e"
   },
   "outputs": [
    {
     "name": "stdout",
     "output_type": "stream",
     "text": [
      "1.889531494907223\n"
     ]
    }
   ],
   "source": [
    "print(val_result)"
   ]
  },
  {
   "cell_type": "code",
   "execution_count": null,
   "metadata": {
    "id": "VVEfcIH6CKWc"
   },
   "outputs": [],
   "source": [
    "test1_mean, test1_std, test2_mean, test2_std, F_mean, F_std = test(datasets['dataframes'], model_config, train_config, random_effects_column_names=['times'],\n",
    "                                                                   group_column_name='group', y_column_name='y',\n",
    "                                                                   n_samples_chosen_per_group_list=datasets['n_samples_chosen_per_group'],\n",
    "                                                                   model_type='LSTM')"
   ]
  },
  {
   "cell_type": "code",
   "execution_count": null,
   "metadata": {
    "colab": {
     "base_uri": "https://localhost:8080/"
    },
    "executionInfo": {
     "elapsed": 502,
     "status": "ok",
     "timestamp": 1629211436335,
     "user": {
      "displayName": "Jeria Kua",
      "photoUrl": "",
      "userId": "01722788589990916725"
     },
     "user_tz": -480
    },
    "id": "PQVVmc3cCKWd",
    "outputId": "ba51c4c0-e4cb-4458-996d-ab6b717f09c3"
   },
   "outputs": [
    {
     "name": "stdout",
     "output_type": "stream",
     "text": [
      "Extrapolation\n",
      "Mean:  1.8725721783936264\n",
      "Std:  0.20763778195107552\n",
      "\n",
      "\n",
      "Interpolation\n",
      "Mean:  1.779909557688964\n",
      "Std:  0.19100050076231667\n",
      "\n",
      "\n",
      "F\n",
      "Mean:  0.37814317368476347\n",
      "Std:  0.19852596624179686\n"
     ]
    }
   ],
   "source": [
    "print('Extrapolation')\n",
    "print('Mean: ', test1_mean)\n",
    "print('Std: ', test1_std)\n",
    "print('\\n')\n",
    "print('Interpolation')\n",
    "print('Mean: ', test2_mean)\n",
    "print('Std: ', test2_std)\n",
    "print('\\n')\n",
    "print('F')\n",
    "print('Mean: ', F_mean)\n",
    "print('Std: ', F_std)"
   ]
  },
  {
   "cell_type": "markdown",
   "metadata": {
    "id": "lw2eOYxRDdnX"
   },
   "source": [
    "# Experiment 4: Linear Function with Temporal Independent GP"
   ]
  },
  {
   "cell_type": "code",
   "execution_count": null,
   "metadata": {
    "id": "ayTSV6c0Dc87"
   },
   "outputs": [],
   "source": [
    "# Generate data\n",
    "n, m = 1000, 50  # Number of observations and groups\n",
    "p = int(n/m) # Number of observations per group\n",
    "n_datasets = 20\n",
    "n_valid = 5\n",
    "datasets, validation_datasets = generate_datasets(n, m, p, n_datasets, n_valid, func='linear_func', shared_gp=False, random_state=40)"
   ]
  },
  {
   "cell_type": "markdown",
   "metadata": {
    "id": "wX_un8JoCmQc"
   },
   "source": [
    "## MLP"
   ]
  },
  {
   "cell_type": "code",
   "execution_count": null,
   "metadata": {
    "id": "gcW6tls8DdAu"
   },
   "outputs": [],
   "source": [
    "model_config = {}\n",
    "model_config['input_dim'] = 30\n",
    "model_config['hidden_dim'] = 500\n",
    "model_config['output_dim'] = 1\n",
    "\n",
    "train_config = {}\n",
    "train_config['n_epochs'] = 20\n",
    "train_config['lr'] = 0.01\n",
    "train_config['n_adapt'] = 2\n",
    "train_config['inner_lr'] = 0.1\n",
    "train_config['l2_penalty'] = 0.001\n",
    "\n",
    "# val_result = param_search(validation_datasets['dataframes'], model_config, train_config,\n",
    "#                           random_effects_column_names=['times'],\n",
    "#                           group_column_name='group', y_column_name='y',\n",
    "#                           n_samples_chosen_per_group_list=datasets['n_samples_chosen_per_group'],\n",
    "#                           model_type='MLP')\n",
    "# print(val_result)"
   ]
  },
  {
   "cell_type": "code",
   "execution_count": null,
   "metadata": {
    "colab": {
     "base_uri": "https://localhost:8080/"
    },
    "executionInfo": {
     "elapsed": 671,
     "status": "ok",
     "timestamp": 1629274357335,
     "user": {
      "displayName": "Jeria Kua",
      "photoUrl": "",
      "userId": "01722788589990916725"
     },
     "user_tz": -480
    },
    "id": "BP0vspSK9Kp7",
    "outputId": "56383545-4061-4a19-e404-3636092dd48e"
   },
   "outputs": [
    {
     "name": "stdout",
     "output_type": "stream",
     "text": [
      "7.43874505477191\n"
     ]
    }
   ],
   "source": [
    "print(val_result)"
   ]
  },
  {
   "cell_type": "code",
   "execution_count": null,
   "metadata": {
    "id": "rrH2u2NYDdE8"
   },
   "outputs": [],
   "source": [
    "test1_mean, test1_std, test2_mean, test2_std, F_mean, F_std = test(datasets['dataframes'], model_config, train_config, random_effects_column_names=['times'],\n",
    "                                                                   group_column_name='group', y_column_name='y',\n",
    "                                                                   n_samples_chosen_per_group_list=datasets['n_samples_chosen_per_group'],\n",
    "                                                                   model_type='MLP')"
   ]
  },
  {
   "cell_type": "code",
   "execution_count": null,
   "metadata": {
    "colab": {
     "base_uri": "https://localhost:8080/"
    },
    "executionInfo": {
     "elapsed": 438,
     "status": "ok",
     "timestamp": 1629275414877,
     "user": {
      "displayName": "Jeria Kua",
      "photoUrl": "",
      "userId": "01722788589990916725"
     },
     "user_tz": -480
    },
    "id": "9TkBQL1XDdJa",
    "outputId": "86fed10d-2455-4485-d482-d82792214c1b"
   },
   "outputs": [
    {
     "name": "stdout",
     "output_type": "stream",
     "text": [
      "Extrapolation\n",
      "Mean:  6.115662528268964\n",
      "Std:  1.9171965119023557\n",
      "\n",
      "\n",
      "Interpolation\n",
      "Mean:  7.481036898688825\n",
      "Std:  4.310866029950044\n",
      "\n",
      "\n",
      "F\n",
      "Mean:  1.778840731001122\n",
      "Std:  0.5840231728221752\n"
     ]
    }
   ],
   "source": [
    "print('Extrapolation')\n",
    "print('Mean: ', test1_mean)\n",
    "print('Std: ', test1_std)\n",
    "print('\\n')\n",
    "print('Interpolation')\n",
    "print('Mean: ', test2_mean)\n",
    "print('Std: ', test2_std)\n",
    "print('\\n')\n",
    "print('F')\n",
    "print('Mean: ', F_mean)\n",
    "print('Std: ', F_std)"
   ]
  },
  {
   "cell_type": "markdown",
   "metadata": {
    "id": "kelW63xWCno6"
   },
   "source": [
    "## RNN"
   ]
  },
  {
   "cell_type": "code",
   "execution_count": null,
   "metadata": {
    "id": "-mFJzOy5Cno7"
   },
   "outputs": [],
   "source": [
    "model_config = {}\n",
    "model_config['input_dim'] = 30\n",
    "model_config['hidden_dim'] = 500\n",
    "model_config['output_dim'] = 1\n",
    "\n",
    "train_config = {}\n",
    "train_config['n_epochs'] = 3\n",
    "train_config['lr'] = 0.01\n",
    "train_config['n_adapt'] = 2\n",
    "train_config['inner_lr'] = 0.1\n",
    "train_config['l2_penalty'] = 0.001\n",
    "\n",
    "# val_result = param_search(validation_datasets['dataframes'], model_config, train_config,\n",
    "#                           random_effects_column_names=['times'],\n",
    "#                           group_column_name='group', y_column_name='y',\n",
    "#                           n_samples_chosen_per_group_list=datasets['n_samples_chosen_per_group'],\n",
    "#                           model_type='LSTM')\n",
    "\n",
    "# print(val_result)"
   ]
  },
  {
   "cell_type": "code",
   "execution_count": null,
   "metadata": {
    "colab": {
     "base_uri": "https://localhost:8080/"
    },
    "executionInfo": {
     "elapsed": 429,
     "status": "ok",
     "timestamp": 1629276477681,
     "user": {
      "displayName": "Jeria Kua",
      "photoUrl": "",
      "userId": "01722788589990916725"
     },
     "user_tz": -480
    },
    "id": "Xt6D9D1Yg31q",
    "outputId": "c7512319-36aa-4467-f8e1-a16f848df7da"
   },
   "outputs": [
    {
     "name": "stdout",
     "output_type": "stream",
     "text": [
      "7.442349868785516\n"
     ]
    }
   ],
   "source": [
    "print(val_result)"
   ]
  },
  {
   "cell_type": "code",
   "execution_count": null,
   "metadata": {
    "id": "P04v6IcZCno8"
   },
   "outputs": [],
   "source": [
    "test1_mean, test1_std, test2_mean, test2_std, F_mean, F_std = test(datasets['dataframes'], model_config, train_config, random_effects_column_names=['times'],\n",
    "                                                                   group_column_name='group', y_column_name='y',\n",
    "                                                                   n_samples_chosen_per_group_list=datasets['n_samples_chosen_per_group'],\n",
    "                                                                   model_type='LSTM')"
   ]
  },
  {
   "cell_type": "code",
   "execution_count": null,
   "metadata": {
    "colab": {
     "base_uri": "https://localhost:8080/"
    },
    "executionInfo": {
     "elapsed": 434,
     "status": "ok",
     "timestamp": 1629276905265,
     "user": {
      "displayName": "Jeria Kua",
      "photoUrl": "",
      "userId": "01722788589990916725"
     },
     "user_tz": -480
    },
    "id": "y2TjO01CCno8",
    "outputId": "ff7b9645-e7f2-4a2e-cc8c-fa17b7102c3e"
   },
   "outputs": [
    {
     "name": "stdout",
     "output_type": "stream",
     "text": [
      "Extrapolation\n",
      "Mean:  6.344229075067087\n",
      "Std:  2.02241664432447\n",
      "\n",
      "\n",
      "Interpolation\n",
      "Mean:  7.52363933720652\n",
      "Std:  4.3031119299264775\n",
      "\n",
      "\n",
      "F\n",
      "Mean:  2.008135385401061\n",
      "Std:  1.2037281862600464\n"
     ]
    }
   ],
   "source": [
    "print('Extrapolation')\n",
    "print('Mean: ', test1_mean)\n",
    "print('Std: ', test1_std)\n",
    "print('\\n')\n",
    "print('Interpolation')\n",
    "print('Mean: ', test2_mean)\n",
    "print('Std: ', test2_std)\n",
    "print('\\n')\n",
    "print('F')\n",
    "print('Mean: ', F_mean)\n",
    "print('Std: ', F_std)"
   ]
  }
 ],
 "metadata": {
  "accelerator": "GPU",
  "colab": {
   "authorship_tag": "ABX9TyMldav7XSbY7OPMG4WBQAsL",
   "collapsed_sections": [
    "bp6fZgdZvhsz",
    "YLWDklYOvwVy",
    "Tr9aQdr-wd94",
    "Ma3b5XhEbVbw",
    "MtdUvOx_bdQf",
    "QBScVTr6v7kr",
    "BtcFP_ZMBuaP",
    "vouH1InbB4qp",
    "I1n_JIxkDImT",
    "T4S62Oa4CHz8",
    "9sXsnvESCJRq",
    "lw2eOYxRDdnX",
    "wX_un8JoCmQc",
    "kelW63xWCno6"
   ],
   "name": "Project simulation Deep ME 2.ipynb",
   "provenance": [
    {
     "file_id": "1Lkp9pmTWrO3HfZcQpXs_YiM-5II6nFJm",
     "timestamp": 1628955442212
    }
   ]
  },
  "kernelspec": {
   "display_name": "Python 3",
   "language": "python",
   "name": "python3"
  },
  "language_info": {
   "codemirror_mode": {
    "name": "ipython",
    "version": 3
   },
   "file_extension": ".py",
   "mimetype": "text/x-python",
   "name": "python",
   "nbconvert_exporter": "python",
   "pygments_lexer": "ipython3",
   "version": "3.8.3"
  }
 },
 "nbformat": 4,
 "nbformat_minor": 1
}
