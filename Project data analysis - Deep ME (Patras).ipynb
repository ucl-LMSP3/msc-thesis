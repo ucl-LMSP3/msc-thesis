{
 "cells": [
  {
   "cell_type": "markdown",
   "metadata": {
    "id": "Fuz2TrIkOJXV"
   },
   "source": [
    "# Libraries"
   ]
  },
  {
   "cell_type": "code",
   "execution_count": 3,
   "metadata": {
    "executionInfo": {
     "elapsed": 987,
     "status": "ok",
     "timestamp": 1626947079778,
     "user": {
      "displayName": "Jeria Kua",
      "photoUrl": "",
      "userId": "01722788589990916725"
     },
     "user_tz": -480
    },
    "id": "a78Bwg0uOHMr"
   },
   "outputs": [],
   "source": [
    "import random\n",
    "import numpy as np\n",
    "import time\n",
    "import copy\n",
    "import scipy\n",
    "import pandas as pd\n",
    "import matplotlib.pyplot as plt\n",
    "from sklearn.model_selection import GroupKFold, GroupShuffleSplit\n",
    "from sklearn.preprocessing import OneHotEncoder as SklearnOneHotEncoder\n",
    "from tqdm.notebook import tqdm, tnrange"
   ]
  },
  {
   "cell_type": "code",
   "execution_count": 4,
   "metadata": {
    "executionInfo": {
     "elapsed": 5183,
     "status": "ok",
     "timestamp": 1626947084957,
     "user": {
      "displayName": "Jeria Kua",
      "photoUrl": "",
      "userId": "01722788589990916725"
     },
     "user_tz": -480
    },
    "id": "D-lvwUtfOHPX"
   },
   "outputs": [],
   "source": [
    "from DME.Analysis.train import *"
   ]
  },
  {
   "cell_type": "markdown",
   "metadata": {
    "id": "ZW8FLovuOWkK"
   },
   "source": [
    "# Helper functions"
   ]
  },
  {
   "cell_type": "code",
   "execution_count": 5,
   "metadata": {
    "executionInfo": {
     "elapsed": 19,
     "status": "ok",
     "timestamp": 1626947084959,
     "user": {
      "displayName": "Jeria Kua",
      "photoUrl": "",
      "userId": "01722788589990916725"
     },
     "user_tz": -480
    },
    "id": "QnFK7Mwboxp8"
   },
   "outputs": [],
   "source": [
    "class OneHotEncoder(SklearnOneHotEncoder):\n",
    "    def __init__(self, **kwargs):\n",
    "        super(OneHotEncoder, self).__init__(**kwargs)\n",
    "        self.fit_flag = False\n",
    "\n",
    "    def fit(self, X, **kwargs):\n",
    "        out = super().fit(X)\n",
    "        self.fit_flag = True\n",
    "        return out\n",
    "\n",
    "    def transform(self, X, **kwargs):\n",
    "        sparse_matrix = super(OneHotEncoder, self).transform(X)\n",
    "        new_columns = self.get_new_columns(X=X)\n",
    "        d_out = pd.DataFrame(sparse_matrix.toarray(), columns=new_columns, index=X.index)\n",
    "        return d_out\n",
    "\n",
    "    def fit_transform(self, X, **kwargs):\n",
    "        self.fit(X)\n",
    "        return self.transform(X)\n",
    "\n",
    "    def get_new_columns(self, X):\n",
    "        new_columns = []\n",
    "        for i, column in enumerate(X.columns):\n",
    "            j = 0\n",
    "            while j < len(self.categories_[i]):\n",
    "                new_columns.append(f'{column}_<{self.categories_[i][j]}>')\n",
    "                j += 1\n",
    "        return new_columns"
   ]
  },
  {
   "cell_type": "code",
   "execution_count": 6,
   "metadata": {
    "executionInfo": {
     "elapsed": 17,
     "status": "ok",
     "timestamp": 1626947084961,
     "user": {
      "displayName": "Jeria Kua",
      "photoUrl": "",
      "userId": "01722788589990916725"
     },
     "user_tz": -480
    },
    "id": "SlLo-RNToumx"
   },
   "outputs": [],
   "source": [
    "def encode(df):\n",
    "    s = (df.dtypes == 'object')\n",
    "    object_cols = list(s[s].index)\n",
    "    OH_encoder = OneHotEncoder(dtype=int)\n",
    "    OH_cols = pd.DataFrame(OH_encoder.fit_transform(df[object_cols]))\n",
    "    num_data = df.drop(object_cols, axis=1)\n",
    "    data_new = pd.concat([num_data, OH_cols], axis=1)\n",
    "    return data_new"
   ]
  },
  {
   "cell_type": "markdown",
   "metadata": {
    "id": "kNLLEMm8Oc6v"
   },
   "source": [
    "# Data pre-processing"
   ]
  },
  {
   "cell_type": "code",
   "execution_count": 7,
   "metadata": {
    "executionInfo": {
     "elapsed": 2722,
     "status": "ok",
     "timestamp": 1626947087668,
     "user": {
      "displayName": "Jeria Kua",
      "photoUrl": "",
      "userId": "01722788589990916725"
     },
     "user_tz": -480
    },
    "id": "rQpfk_xeOZ3H"
   },
   "outputs": [],
   "source": [
    "data_train_full_raw = pd.read_csv('Patras/data_train_full_patras.csv').drop(columns=['site'])\n",
    "test_interpolation_raw = pd.read_csv('Patras/test_interpolation_patras.csv').drop(columns=['site'])\n",
    "test_extrapolation_raw = pd.read_csv('Patras/test_extrapolation_patras.csv').drop(columns=['site'])\n",
    "data_train_raw = pd.read_csv('Patras/data_train_patras.csv').drop(columns=['site'])\n",
    "data_val_raw = pd.read_csv('Patras/data_val_patras.csv').drop(columns=['site'])\n",
    "n_samples_chosen_per_group = pd.read_csv('Patras/n_samples_chosen_per_group_series_patras.csv').to_numpy().reshape(-1)\n",
    "\n",
    "# One-hot encode categorical features\n",
    "data_train_full_raw2 = encode(data_train_full_raw)\n",
    "test_interpolation_raw2 = encode(test_interpolation_raw)\n",
    "test_extrapolation = encode(test_extrapolation_raw)\n",
    "data_train_raw2 = encode(data_train_raw)\n",
    "data_val = encode(data_val_raw)\n",
    "\n",
    "# Fix missing columns\n",
    "data_train_raw2['disease_<Obstructive>'] = 0\n",
    "data_train = data_train_raw2[list(data_val.columns.values)]\n",
    "test_extrapolation['disease_<Obstructive>'] = 0\n",
    "data_train_full_raw2['gender_<Unknown>'] = 0\n",
    "data_train_full_raw2['ethnicity_<Asian>'] = 0\n",
    "data_train_full_raw2['disease_<Vascular>'] = 0\n",
    "data_train_full_raw3 = data_train_full_raw2[list(test_extrapolation.columns.values)]\n",
    "\n",
    "test_interpolation_raw2['gender_<Unknown>'] = 0\n",
    "test_interpolation_raw2['ethnicity_<Asian>'] = 0\n",
    "test_interpolation_raw2['disease_<Vascular>'] = 0\n",
    "test_interpolation_raw3 = test_interpolation_raw2[list(test_extrapolation.columns.values)]\n",
    "\n",
    "# Combine train and interpolation set for Deep ME model\n",
    "data_train_full = pd.concat([data_train_full_raw3, test_interpolation_raw3], ignore_index=True).reset_index(drop=True)\n",
    "data_train_full.sort_values(['ID', 'times'], ignore_index=True, inplace=True)"
   ]
  },
  {
   "cell_type": "code",
   "execution_count": 8,
   "metadata": {
    "executionInfo": {
     "elapsed": 14,
     "status": "ok",
     "timestamp": 1626947087669,
     "user": {
      "displayName": "Jeria Kua",
      "photoUrl": "",
      "userId": "01722788589990916725"
     },
     "user_tz": -480
    },
    "id": "WhxKw49f_y4w"
   },
   "outputs": [],
   "source": [
    "dataframe_val = [data_train, data_val]\n",
    "dataframe = [data_train_full, test_extrapolation]"
   ]
  },
  {
   "cell_type": "markdown",
   "metadata": {
    "id": "xc9MY_XSOvtp"
   },
   "source": [
    "# Hyperparameter search and testing"
   ]
  },
  {
   "cell_type": "markdown",
   "metadata": {
    "id": "8eRCm4ilXXfp"
   },
   "source": [
    "### MLP"
   ]
  },
  {
   "cell_type": "code",
   "execution_count": null,
   "metadata": {
    "colab": {
     "base_uri": "https://localhost:8080/",
     "height": 122,
     "referenced_widgets": [
      "a72620253d15405e86a787c7da2bba18",
      "4aa7e20c1c884acf99e689b81656f1a7",
      "253b5289514c4a82a65689883886bd7d",
      "8453ae36c7064d2ca84dd8dba8e87467",
      "2df732943ecf48ee91a2a4f8b702b601",
      "3f853f2e547942ba9516d4f403392a08",
      "8d7cc4c7c85e4977a080819cc5d58e42",
      "35ef568440ab42c38caef3a7e298b38e"
     ]
    },
    "executionInfo": {
     "elapsed": 75983,
     "status": "ok",
     "timestamp": 1626943151470,
     "user": {
      "displayName": "Jeria Kua",
      "photoUrl": "",
      "userId": "01722788589990916725"
     },
     "user_tz": -480
    },
    "id": "e8tyr-L4OZ7E",
    "outputId": "f3f9ceff-4021-4e2a-deeb-6d3917bb4ab5"
   },
   "outputs": [
    {
     "data": {
      "application/vnd.jupyter.widget-view+json": {
       "model_id": "a72620253d15405e86a787c7da2bba18",
       "version_major": 2,
       "version_minor": 0
      },
      "text/plain": [
       "HBox(children=(FloatProgress(value=0.0, max=20.0), HTML(value='')))"
      ]
     },
     "metadata": {
      "tags": []
     },
     "output_type": "display_data"
    },
    {
     "name": "stdout",
     "output_type": "stream",
     "text": [
      "\n",
      "Best validation error:  16.82539366761778\n",
      "16.82539366761778\n"
     ]
    }
   ],
   "source": [
    "model_config = {}\n",
    "model_config['input_dim'] = data_train.shape[1] - 3\n",
    "model_config['hidden_dim'] = 1000\n",
    "model_config['output_dim'] = 1\n",
    "\n",
    "train_config = {}\n",
    "train_config['n_epochs'] = 20\n",
    "train_config['lr'] = 1e-3\n",
    "train_config['n_adapt'] = 1\n",
    "train_config['inner_lr'] = 0.01\n",
    "train_config['l2_penalty'] = 0.0001\n",
    "\n",
    "_, best_val_err = train_and_evaluate_model(model_config, train_config, dataframe_val, \n",
    "                                           random_effects_column_names=['times'],\n",
    "                                           group_column_name='ID', y_column_name='egfr',\n",
    "                                           n_samples_chosen_per_group=n_samples_chosen_per_group,\n",
    "                                           model_type='MLP', random_state=1)\n",
    "print(best_val_err)"
   ]
  },
  {
   "cell_type": "code",
   "execution_count": null,
   "metadata": {
    "colab": {
     "base_uri": "https://localhost:8080/"
    },
    "executionInfo": {
     "elapsed": 408,
     "status": "ok",
     "timestamp": 1626943157611,
     "user": {
      "displayName": "Jeria Kua",
      "photoUrl": "",
      "userId": "01722788589990916725"
     },
     "user_tz": -480
    },
    "id": "bZiYfjbGguYJ",
    "outputId": "f6a35828-627c-4e91-97d2-eac14e78031d"
   },
   "outputs": [
    {
     "name": "stdout",
     "output_type": "stream",
     "text": [
      "Best val RMSE:  16.82539366761778\n"
     ]
    }
   ],
   "source": [
    "print('Best val RMSE: ', best_val_err)"
   ]
  },
  {
   "cell_type": "code",
   "execution_count": 16,
   "metadata": {
    "executionInfo": {
     "elapsed": 488,
     "status": "ok",
     "timestamp": 1626947296278,
     "user": {
      "displayName": "Jeria Kua",
      "photoUrl": "",
      "userId": "01722788589990916725"
     },
     "user_tz": -480
    },
    "id": "9AqGBef0Xutr"
   },
   "outputs": [],
   "source": [
    "model_config = {}\n",
    "model_config['input_dim'] = data_train_full.shape[1] - 3\n",
    "model_config['hidden_dim'] = 1000\n",
    "model_config['output_dim'] = 1\n",
    "\n",
    "train_config = {}\n",
    "train_config['n_epochs'] = 20\n",
    "train_config['lr'] = 1e-3\n",
    "train_config['n_adapt'] = 1\n",
    "train_config['inner_lr'] = 0.01\n",
    "train_config['l2_penalty'] = 0.0001"
   ]
  },
  {
   "cell_type": "code",
   "execution_count": 17,
   "metadata": {
    "colab": {
     "base_uri": "https://localhost:8080/",
     "height": 122,
     "referenced_widgets": [
      "ace5ba2394fe4d349929d7be3cf3ed0b",
      "8cfe1ff4eb1648e4b58b62c89b487825",
      "6e9ca33259ae455f9b3a03ba80ca8be1",
      "ab4f17e651a4412f875fa269235a9619",
      "ae5637fb0b7046659fd21e2eb5bda33f",
      "3bb7995db60b42759a2343173c346861",
      "b4e6f12eec264ffe8d2c1b68a195a4f9",
      "4daad2e89297422a86a4e7cbf38fc77f"
     ]
    },
    "executionInfo": {
     "elapsed": 38766,
     "status": "ok",
     "timestamp": 1626947335038,
     "user": {
      "displayName": "Jeria Kua",
      "photoUrl": "",
      "userId": "01722788589990916725"
     },
     "user_tz": -480
    },
    "id": "LP2HXHDCOZ__",
    "outputId": "b1e4580d-4d91-4c08-f90f-eb6360685f22"
   },
   "outputs": [
    {
     "data": {
      "application/vnd.jupyter.widget-view+json": {
       "model_id": "ace5ba2394fe4d349929d7be3cf3ed0b",
       "version_major": 2,
       "version_minor": 0
      },
      "text/plain": [
       "HBox(children=(FloatProgress(value=0.0, max=20.0), HTML(value='')))"
      ]
     },
     "metadata": {
      "tags": []
     },
     "output_type": "display_data"
    },
    {
     "name": "stdout",
     "output_type": "stream",
     "text": [
      "\n",
      "[Test (Extrapolation)] RMSE=17.529 and loss=362.353\n",
      "[Test (Interpolation)] RMSE=14.835 and loss=424.639\n"
     ]
    }
   ],
   "source": [
    "rmse_test1, rmse_test2 = train_and_test_model(dataframe, model_config, train_config, random_effects_column_names=['times'],\n",
    "                                              group_column_name='ID', y_column_name='egfr',\n",
    "                                              n_samples_chosen_per_group=n_samples_chosen_per_group,\n",
    "                                              model_type='MLP', random_state=1)"
   ]
  },
  {
   "cell_type": "code",
   "execution_count": 18,
   "metadata": {
    "colab": {
     "base_uri": "https://localhost:8080/"
    },
    "executionInfo": {
     "elapsed": 313,
     "status": "ok",
     "timestamp": 1626947340355,
     "user": {
      "displayName": "Jeria Kua",
      "photoUrl": "",
      "userId": "01722788589990916725"
     },
     "user_tz": -480
    },
    "id": "CBE_2jpWOHV7",
    "outputId": "c23d0099-fbba-4c63-8490-6fdf302f623b"
   },
   "outputs": [
    {
     "name": "stdout",
     "output_type": "stream",
     "text": [
      "Extrapolation:  17.529392518019023\n",
      "Interpolation:  14.835458724666692\n"
     ]
    }
   ],
   "source": [
    "print('Extrapolation: ', rmse_test1)\n",
    "print('Interpolation: ', rmse_test2)"
   ]
  },
  {
   "cell_type": "markdown",
   "metadata": {
    "id": "cxpAsiN7XY_i"
   },
   "source": [
    "### RNN"
   ]
  },
  {
   "cell_type": "code",
   "execution_count": 19,
   "metadata": {
    "colab": {
     "base_uri": "https://localhost:8080/",
     "height": 122,
     "referenced_widgets": [
      "31d94a1f8c6d44f49fb218b715c16f99",
      "eea316609f864d16849e8442dcee3f97",
      "c6667fa5abc3425aaf78b9059c6a58e3",
      "0ca8292baf58488ca64e71811fed6a82",
      "71c858cb7e1a4b8f81686d0b899e96ac",
      "088235620b8c44168a3699f1d29567f7",
      "bda99a6654e9457b87bc09edf782d252",
      "30d235816cbc493cb951e3d4a33cf68d"
     ]
    },
    "executionInfo": {
     "elapsed": 251522,
     "status": "ok",
     "timestamp": 1626947622566,
     "user": {
      "displayName": "Jeria Kua",
      "photoUrl": "",
      "userId": "01722788589990916725"
     },
     "user_tz": -480
    },
    "id": "5maRS6t_XZpV",
    "outputId": "a2345320-ae9f-43bb-d50b-02d4d804aaac"
   },
   "outputs": [
    {
     "data": {
      "application/vnd.jupyter.widget-view+json": {
       "model_id": "31d94a1f8c6d44f49fb218b715c16f99",
       "version_major": 2,
       "version_minor": 0
      },
      "text/plain": [
       "HBox(children=(FloatProgress(value=0.0, max=20.0), HTML(value='')))"
      ]
     },
     "metadata": {
      "tags": []
     },
     "output_type": "display_data"
    },
    {
     "name": "stdout",
     "output_type": "stream",
     "text": [
      "\n",
      "Best validation error:  17.496500591803617\n",
      "17.496500591803617\n"
     ]
    }
   ],
   "source": [
    "model_config = {}\n",
    "model_config['input_dim'] = data_train.shape[1] - 3\n",
    "model_config['hidden_dim'] = 500\n",
    "model_config['output_dim'] = 1\n",
    "\n",
    "train_config = {}\n",
    "train_config['n_epochs'] = 20\n",
    "train_config['lr'] = 1e-3\n",
    "train_config['n_adapt'] = 1\n",
    "train_config['inner_lr'] = 0.01\n",
    "train_config['l2_penalty'] = 0.0001\n",
    "\n",
    "_, best_val_err = train_and_evaluate_model(model_config, train_config, dataframe_val, \n",
    "                                           random_effects_column_names=['times'],\n",
    "                                           group_column_name='ID', y_column_name='egfr',\n",
    "                                           n_samples_chosen_per_group=n_samples_chosen_per_group,\n",
    "                                           model_type='LSTM', random_state=1)\n",
    "print(best_val_err)"
   ]
  },
  {
   "cell_type": "code",
   "execution_count": 20,
   "metadata": {
    "colab": {
     "base_uri": "https://localhost:8080/"
    },
    "executionInfo": {
     "elapsed": 13,
     "status": "ok",
     "timestamp": 1626947622567,
     "user": {
      "displayName": "Jeria Kua",
      "photoUrl": "",
      "userId": "01722788589990916725"
     },
     "user_tz": -480
    },
    "id": "GVnHTN26XZ_D",
    "outputId": "af37bc45-dfbd-4829-a3eb-e4e6f60bad93"
   },
   "outputs": [
    {
     "name": "stdout",
     "output_type": "stream",
     "text": [
      "17.496500591803617\n"
     ]
    }
   ],
   "source": [
    "print(best_val_err)"
   ]
  },
  {
   "cell_type": "code",
   "execution_count": 21,
   "metadata": {
    "executionInfo": {
     "elapsed": 280,
     "status": "ok",
     "timestamp": 1626947685606,
     "user": {
      "displayName": "Jeria Kua",
      "photoUrl": "",
      "userId": "01722788589990916725"
     },
     "user_tz": -480
    },
    "id": "rXoffUwXZHzA"
   },
   "outputs": [],
   "source": [
    "model_config = {}\n",
    "model_config['input_dim'] = data_train_full.shape[1] - 3\n",
    "model_config['hidden_dim'] = 500\n",
    "model_config['output_dim'] = 1\n",
    "\n",
    "train_config = {}\n",
    "train_config['n_epochs'] = 20\n",
    "train_config['lr'] = 1e-3\n",
    "train_config['n_adapt'] = 1\n",
    "train_config['inner_lr'] = 0.01\n",
    "train_config['l2_penalty'] = 0.0001"
   ]
  },
  {
   "cell_type": "code",
   "execution_count": 22,
   "metadata": {
    "colab": {
     "base_uri": "https://localhost:8080/",
     "height": 122,
     "referenced_widgets": [
      "328f04b8298748c6b80e4dcb66d1b85b",
      "ffcd34e89bc142879b67a7c94ee17bfd",
      "e3cec2898ae941ff9aefa7da73159989",
      "1c71bb1beef749ec927643149a502cf5",
      "2a169bb1d9ab4b1eb88a7bc0bfa7c28e",
      "3ca30d15ed0644188bad836cbde2b1ce",
      "12c21587a2c34e6891590c2648828242",
      "8260b7a2c5284cd1870ecfc7c2722bbc"
     ]
    },
    "executionInfo": {
     "elapsed": 243422,
     "status": "ok",
     "timestamp": 1626947936219,
     "user": {
      "displayName": "Jeria Kua",
      "photoUrl": "",
      "userId": "01722788589990916725"
     },
     "user_tz": -480
    },
    "id": "Bu9o9OKnXaFd",
    "outputId": "403f4b6e-96f0-4ab0-8c18-3afc5c237520"
   },
   "outputs": [
    {
     "data": {
      "application/vnd.jupyter.widget-view+json": {
       "model_id": "328f04b8298748c6b80e4dcb66d1b85b",
       "version_major": 2,
       "version_minor": 0
      },
      "text/plain": [
       "HBox(children=(FloatProgress(value=0.0, max=20.0), HTML(value='')))"
      ]
     },
     "metadata": {
      "tags": []
     },
     "output_type": "display_data"
    },
    {
     "name": "stdout",
     "output_type": "stream",
     "text": [
      "\n",
      "[Test (Extrapolation)] RMSE=17.221 and loss=362.353\n",
      "[Test (Interpolation)] RMSE=15.332 and loss=424.639\n"
     ]
    }
   ],
   "source": [
    "rmse_test1, rmse_test2 = train_and_test_model(dataframe, model_config, train_config, random_effects_column_names=['times'],\n",
    "                                              group_column_name='ID', y_column_name='egfr',\n",
    "                                              n_samples_chosen_per_group=n_samples_chosen_per_group,\n",
    "                                              model_type='LSTM', random_state=1)"
   ]
  },
  {
   "cell_type": "code",
   "execution_count": 23,
   "metadata": {
    "colab": {
     "base_uri": "https://localhost:8080/"
    },
    "executionInfo": {
     "elapsed": 304,
     "status": "ok",
     "timestamp": 1626947949715,
     "user": {
      "displayName": "Jeria Kua",
      "photoUrl": "",
      "userId": "01722788589990916725"
     },
     "user_tz": -480
    },
    "id": "cHtOhAvsfKhw",
    "outputId": "25ef9512-615c-4bc5-d4be-70ffa33dff85"
   },
   "outputs": [
    {
     "name": "stdout",
     "output_type": "stream",
     "text": [
      "Extrapolation:  17.22057984974165\n",
      "Interpolation:  15.331955115256827\n"
     ]
    }
   ],
   "source": [
    "print('Extrapolation: ', rmse_test1)\n",
    "print('Interpolation: ', rmse_test2)"
   ]
  },
  {
   "cell_type": "code",
   "execution_count": null,
   "metadata": {
    "id": "y7np2nQIp5Ep"
   },
   "outputs": [],
   "source": []
  }
 ],
 "metadata": {
  "colab": {
   "authorship_tag": "ABX9TyOCmZPsZ7lNuZwtpFtW9GWk",
   "collapsed_sections": [
    "Fuz2TrIkOJXV",
    "ZW8FLovuOWkK",
    "kNLLEMm8Oc6v",
    "xc9MY_XSOvtp",
    "8eRCm4ilXXfp",
    "cxpAsiN7XY_i"
   ],
   "name": "Project data analysis - Deep ME (Patras).ipynb",
   "provenance": [
    {
     "file_id": "1j-p_YgdbCFxFgxQULQb6evpDdTeDiaqM",
     "timestamp": 1626941698279
    }
   ]
  },
  "kernelspec": {
   "display_name": "Python 3",
   "language": "python",
   "name": "python3"
  },
  "language_info": {
   "codemirror_mode": {
    "name": "ipython",
    "version": 3
   },
   "file_extension": ".py",
   "mimetype": "text/x-python",
   "name": "python",
   "nbconvert_exporter": "python",
   "pygments_lexer": "ipython3",
   "version": "3.8.3"
  },
  "widgets": {
   "application/vnd.jupyter.widget-state+json": {
    "088235620b8c44168a3699f1d29567f7": {
     "model_module": "@jupyter-widgets/base",
     "model_name": "LayoutModel",
     "state": {
      "_model_module": "@jupyter-widgets/base",
      "_model_module_version": "1.2.0",
      "_model_name": "LayoutModel",
      "_view_count": null,
      "_view_module": "@jupyter-widgets/base",
      "_view_module_version": "1.2.0",
      "_view_name": "LayoutView",
      "align_content": null,
      "align_items": null,
      "align_self": null,
      "border": null,
      "bottom": null,
      "display": null,
      "flex": null,
      "flex_flow": null,
      "grid_area": null,
      "grid_auto_columns": null,
      "grid_auto_flow": null,
      "grid_auto_rows": null,
      "grid_column": null,
      "grid_gap": null,
      "grid_row": null,
      "grid_template_areas": null,
      "grid_template_columns": null,
      "grid_template_rows": null,
      "height": null,
      "justify_content": null,
      "justify_items": null,
      "left": null,
      "margin": null,
      "max_height": null,
      "max_width": null,
      "min_height": null,
      "min_width": null,
      "object_fit": null,
      "object_position": null,
      "order": null,
      "overflow": null,
      "overflow_x": null,
      "overflow_y": null,
      "padding": null,
      "right": null,
      "top": null,
      "visibility": null,
      "width": null
     }
    },
    "0ca8292baf58488ca64e71811fed6a82": {
     "model_module": "@jupyter-widgets/controls",
     "model_name": "HTMLModel",
     "state": {
      "_dom_classes": [],
      "_model_module": "@jupyter-widgets/controls",
      "_model_module_version": "1.5.0",
      "_model_name": "HTMLModel",
      "_view_count": null,
      "_view_module": "@jupyter-widgets/controls",
      "_view_module_version": "1.5.0",
      "_view_name": "HTMLView",
      "description": "",
      "description_tooltip": null,
      "layout": "IPY_MODEL_30d235816cbc493cb951e3d4a33cf68d",
      "placeholder": "​",
      "style": "IPY_MODEL_bda99a6654e9457b87bc09edf782d252",
      "value": " 20/20 [04:10&lt;00:00, 12.52s/it, loss_and_val_err=630.670 and 17.550]"
     }
    },
    "12c21587a2c34e6891590c2648828242": {
     "model_module": "@jupyter-widgets/controls",
     "model_name": "DescriptionStyleModel",
     "state": {
      "_model_module": "@jupyter-widgets/controls",
      "_model_module_version": "1.5.0",
      "_model_name": "DescriptionStyleModel",
      "_view_count": null,
      "_view_module": "@jupyter-widgets/base",
      "_view_module_version": "1.2.0",
      "_view_name": "StyleView",
      "description_width": ""
     }
    },
    "1c71bb1beef749ec927643149a502cf5": {
     "model_module": "@jupyter-widgets/controls",
     "model_name": "HTMLModel",
     "state": {
      "_dom_classes": [],
      "_model_module": "@jupyter-widgets/controls",
      "_model_module_version": "1.5.0",
      "_model_name": "HTMLModel",
      "_view_count": null,
      "_view_module": "@jupyter-widgets/controls",
      "_view_module_version": "1.5.0",
      "_view_name": "HTMLView",
      "description": "",
      "description_tooltip": null,
      "layout": "IPY_MODEL_8260b7a2c5284cd1870ecfc7c2722bbc",
      "placeholder": "​",
      "style": "IPY_MODEL_12c21587a2c34e6891590c2648828242",
      "value": " 20/20 [03:52&lt;00:00, 11.63s/it]"
     }
    },
    "253b5289514c4a82a65689883886bd7d": {
     "model_module": "@jupyter-widgets/controls",
     "model_name": "FloatProgressModel",
     "state": {
      "_dom_classes": [],
      "_model_module": "@jupyter-widgets/controls",
      "_model_module_version": "1.5.0",
      "_model_name": "FloatProgressModel",
      "_view_count": null,
      "_view_module": "@jupyter-widgets/controls",
      "_view_module_version": "1.5.0",
      "_view_name": "ProgressView",
      "bar_style": "success",
      "description": "100%",
      "description_tooltip": null,
      "layout": "IPY_MODEL_3f853f2e547942ba9516d4f403392a08",
      "max": 20,
      "min": 0,
      "orientation": "horizontal",
      "style": "IPY_MODEL_2df732943ecf48ee91a2a4f8b702b601",
      "value": 20
     }
    },
    "2a169bb1d9ab4b1eb88a7bc0bfa7c28e": {
     "model_module": "@jupyter-widgets/controls",
     "model_name": "ProgressStyleModel",
     "state": {
      "_model_module": "@jupyter-widgets/controls",
      "_model_module_version": "1.5.0",
      "_model_name": "ProgressStyleModel",
      "_view_count": null,
      "_view_module": "@jupyter-widgets/base",
      "_view_module_version": "1.2.0",
      "_view_name": "StyleView",
      "bar_color": null,
      "description_width": "initial"
     }
    },
    "2df732943ecf48ee91a2a4f8b702b601": {
     "model_module": "@jupyter-widgets/controls",
     "model_name": "ProgressStyleModel",
     "state": {
      "_model_module": "@jupyter-widgets/controls",
      "_model_module_version": "1.5.0",
      "_model_name": "ProgressStyleModel",
      "_view_count": null,
      "_view_module": "@jupyter-widgets/base",
      "_view_module_version": "1.2.0",
      "_view_name": "StyleView",
      "bar_color": null,
      "description_width": "initial"
     }
    },
    "30d235816cbc493cb951e3d4a33cf68d": {
     "model_module": "@jupyter-widgets/base",
     "model_name": "LayoutModel",
     "state": {
      "_model_module": "@jupyter-widgets/base",
      "_model_module_version": "1.2.0",
      "_model_name": "LayoutModel",
      "_view_count": null,
      "_view_module": "@jupyter-widgets/base",
      "_view_module_version": "1.2.0",
      "_view_name": "LayoutView",
      "align_content": null,
      "align_items": null,
      "align_self": null,
      "border": null,
      "bottom": null,
      "display": null,
      "flex": null,
      "flex_flow": null,
      "grid_area": null,
      "grid_auto_columns": null,
      "grid_auto_flow": null,
      "grid_auto_rows": null,
      "grid_column": null,
      "grid_gap": null,
      "grid_row": null,
      "grid_template_areas": null,
      "grid_template_columns": null,
      "grid_template_rows": null,
      "height": null,
      "justify_content": null,
      "justify_items": null,
      "left": null,
      "margin": null,
      "max_height": null,
      "max_width": null,
      "min_height": null,
      "min_width": null,
      "object_fit": null,
      "object_position": null,
      "order": null,
      "overflow": null,
      "overflow_x": null,
      "overflow_y": null,
      "padding": null,
      "right": null,
      "top": null,
      "visibility": null,
      "width": null
     }
    },
    "31d94a1f8c6d44f49fb218b715c16f99": {
     "model_module": "@jupyter-widgets/controls",
     "model_name": "HBoxModel",
     "state": {
      "_dom_classes": [],
      "_model_module": "@jupyter-widgets/controls",
      "_model_module_version": "1.5.0",
      "_model_name": "HBoxModel",
      "_view_count": null,
      "_view_module": "@jupyter-widgets/controls",
      "_view_module_version": "1.5.0",
      "_view_name": "HBoxView",
      "box_style": "",
      "children": [
       "IPY_MODEL_c6667fa5abc3425aaf78b9059c6a58e3",
       "IPY_MODEL_0ca8292baf58488ca64e71811fed6a82"
      ],
      "layout": "IPY_MODEL_eea316609f864d16849e8442dcee3f97"
     }
    },
    "328f04b8298748c6b80e4dcb66d1b85b": {
     "model_module": "@jupyter-widgets/controls",
     "model_name": "HBoxModel",
     "state": {
      "_dom_classes": [],
      "_model_module": "@jupyter-widgets/controls",
      "_model_module_version": "1.5.0",
      "_model_name": "HBoxModel",
      "_view_count": null,
      "_view_module": "@jupyter-widgets/controls",
      "_view_module_version": "1.5.0",
      "_view_name": "HBoxView",
      "box_style": "",
      "children": [
       "IPY_MODEL_e3cec2898ae941ff9aefa7da73159989",
       "IPY_MODEL_1c71bb1beef749ec927643149a502cf5"
      ],
      "layout": "IPY_MODEL_ffcd34e89bc142879b67a7c94ee17bfd"
     }
    },
    "35ef568440ab42c38caef3a7e298b38e": {
     "model_module": "@jupyter-widgets/base",
     "model_name": "LayoutModel",
     "state": {
      "_model_module": "@jupyter-widgets/base",
      "_model_module_version": "1.2.0",
      "_model_name": "LayoutModel",
      "_view_count": null,
      "_view_module": "@jupyter-widgets/base",
      "_view_module_version": "1.2.0",
      "_view_name": "LayoutView",
      "align_content": null,
      "align_items": null,
      "align_self": null,
      "border": null,
      "bottom": null,
      "display": null,
      "flex": null,
      "flex_flow": null,
      "grid_area": null,
      "grid_auto_columns": null,
      "grid_auto_flow": null,
      "grid_auto_rows": null,
      "grid_column": null,
      "grid_gap": null,
      "grid_row": null,
      "grid_template_areas": null,
      "grid_template_columns": null,
      "grid_template_rows": null,
      "height": null,
      "justify_content": null,
      "justify_items": null,
      "left": null,
      "margin": null,
      "max_height": null,
      "max_width": null,
      "min_height": null,
      "min_width": null,
      "object_fit": null,
      "object_position": null,
      "order": null,
      "overflow": null,
      "overflow_x": null,
      "overflow_y": null,
      "padding": null,
      "right": null,
      "top": null,
      "visibility": null,
      "width": null
     }
    },
    "3bb7995db60b42759a2343173c346861": {
     "model_module": "@jupyter-widgets/base",
     "model_name": "LayoutModel",
     "state": {
      "_model_module": "@jupyter-widgets/base",
      "_model_module_version": "1.2.0",
      "_model_name": "LayoutModel",
      "_view_count": null,
      "_view_module": "@jupyter-widgets/base",
      "_view_module_version": "1.2.0",
      "_view_name": "LayoutView",
      "align_content": null,
      "align_items": null,
      "align_self": null,
      "border": null,
      "bottom": null,
      "display": null,
      "flex": null,
      "flex_flow": null,
      "grid_area": null,
      "grid_auto_columns": null,
      "grid_auto_flow": null,
      "grid_auto_rows": null,
      "grid_column": null,
      "grid_gap": null,
      "grid_row": null,
      "grid_template_areas": null,
      "grid_template_columns": null,
      "grid_template_rows": null,
      "height": null,
      "justify_content": null,
      "justify_items": null,
      "left": null,
      "margin": null,
      "max_height": null,
      "max_width": null,
      "min_height": null,
      "min_width": null,
      "object_fit": null,
      "object_position": null,
      "order": null,
      "overflow": null,
      "overflow_x": null,
      "overflow_y": null,
      "padding": null,
      "right": null,
      "top": null,
      "visibility": null,
      "width": null
     }
    },
    "3ca30d15ed0644188bad836cbde2b1ce": {
     "model_module": "@jupyter-widgets/base",
     "model_name": "LayoutModel",
     "state": {
      "_model_module": "@jupyter-widgets/base",
      "_model_module_version": "1.2.0",
      "_model_name": "LayoutModel",
      "_view_count": null,
      "_view_module": "@jupyter-widgets/base",
      "_view_module_version": "1.2.0",
      "_view_name": "LayoutView",
      "align_content": null,
      "align_items": null,
      "align_self": null,
      "border": null,
      "bottom": null,
      "display": null,
      "flex": null,
      "flex_flow": null,
      "grid_area": null,
      "grid_auto_columns": null,
      "grid_auto_flow": null,
      "grid_auto_rows": null,
      "grid_column": null,
      "grid_gap": null,
      "grid_row": null,
      "grid_template_areas": null,
      "grid_template_columns": null,
      "grid_template_rows": null,
      "height": null,
      "justify_content": null,
      "justify_items": null,
      "left": null,
      "margin": null,
      "max_height": null,
      "max_width": null,
      "min_height": null,
      "min_width": null,
      "object_fit": null,
      "object_position": null,
      "order": null,
      "overflow": null,
      "overflow_x": null,
      "overflow_y": null,
      "padding": null,
      "right": null,
      "top": null,
      "visibility": null,
      "width": null
     }
    },
    "3f853f2e547942ba9516d4f403392a08": {
     "model_module": "@jupyter-widgets/base",
     "model_name": "LayoutModel",
     "state": {
      "_model_module": "@jupyter-widgets/base",
      "_model_module_version": "1.2.0",
      "_model_name": "LayoutModel",
      "_view_count": null,
      "_view_module": "@jupyter-widgets/base",
      "_view_module_version": "1.2.0",
      "_view_name": "LayoutView",
      "align_content": null,
      "align_items": null,
      "align_self": null,
      "border": null,
      "bottom": null,
      "display": null,
      "flex": null,
      "flex_flow": null,
      "grid_area": null,
      "grid_auto_columns": null,
      "grid_auto_flow": null,
      "grid_auto_rows": null,
      "grid_column": null,
      "grid_gap": null,
      "grid_row": null,
      "grid_template_areas": null,
      "grid_template_columns": null,
      "grid_template_rows": null,
      "height": null,
      "justify_content": null,
      "justify_items": null,
      "left": null,
      "margin": null,
      "max_height": null,
      "max_width": null,
      "min_height": null,
      "min_width": null,
      "object_fit": null,
      "object_position": null,
      "order": null,
      "overflow": null,
      "overflow_x": null,
      "overflow_y": null,
      "padding": null,
      "right": null,
      "top": null,
      "visibility": null,
      "width": null
     }
    },
    "4aa7e20c1c884acf99e689b81656f1a7": {
     "model_module": "@jupyter-widgets/base",
     "model_name": "LayoutModel",
     "state": {
      "_model_module": "@jupyter-widgets/base",
      "_model_module_version": "1.2.0",
      "_model_name": "LayoutModel",
      "_view_count": null,
      "_view_module": "@jupyter-widgets/base",
      "_view_module_version": "1.2.0",
      "_view_name": "LayoutView",
      "align_content": null,
      "align_items": null,
      "align_self": null,
      "border": null,
      "bottom": null,
      "display": null,
      "flex": null,
      "flex_flow": null,
      "grid_area": null,
      "grid_auto_columns": null,
      "grid_auto_flow": null,
      "grid_auto_rows": null,
      "grid_column": null,
      "grid_gap": null,
      "grid_row": null,
      "grid_template_areas": null,
      "grid_template_columns": null,
      "grid_template_rows": null,
      "height": null,
      "justify_content": null,
      "justify_items": null,
      "left": null,
      "margin": null,
      "max_height": null,
      "max_width": null,
      "min_height": null,
      "min_width": null,
      "object_fit": null,
      "object_position": null,
      "order": null,
      "overflow": null,
      "overflow_x": null,
      "overflow_y": null,
      "padding": null,
      "right": null,
      "top": null,
      "visibility": null,
      "width": null
     }
    },
    "4daad2e89297422a86a4e7cbf38fc77f": {
     "model_module": "@jupyter-widgets/base",
     "model_name": "LayoutModel",
     "state": {
      "_model_module": "@jupyter-widgets/base",
      "_model_module_version": "1.2.0",
      "_model_name": "LayoutModel",
      "_view_count": null,
      "_view_module": "@jupyter-widgets/base",
      "_view_module_version": "1.2.0",
      "_view_name": "LayoutView",
      "align_content": null,
      "align_items": null,
      "align_self": null,
      "border": null,
      "bottom": null,
      "display": null,
      "flex": null,
      "flex_flow": null,
      "grid_area": null,
      "grid_auto_columns": null,
      "grid_auto_flow": null,
      "grid_auto_rows": null,
      "grid_column": null,
      "grid_gap": null,
      "grid_row": null,
      "grid_template_areas": null,
      "grid_template_columns": null,
      "grid_template_rows": null,
      "height": null,
      "justify_content": null,
      "justify_items": null,
      "left": null,
      "margin": null,
      "max_height": null,
      "max_width": null,
      "min_height": null,
      "min_width": null,
      "object_fit": null,
      "object_position": null,
      "order": null,
      "overflow": null,
      "overflow_x": null,
      "overflow_y": null,
      "padding": null,
      "right": null,
      "top": null,
      "visibility": null,
      "width": null
     }
    },
    "6e9ca33259ae455f9b3a03ba80ca8be1": {
     "model_module": "@jupyter-widgets/controls",
     "model_name": "FloatProgressModel",
     "state": {
      "_dom_classes": [],
      "_model_module": "@jupyter-widgets/controls",
      "_model_module_version": "1.5.0",
      "_model_name": "FloatProgressModel",
      "_view_count": null,
      "_view_module": "@jupyter-widgets/controls",
      "_view_module_version": "1.5.0",
      "_view_name": "ProgressView",
      "bar_style": "success",
      "description": "100%",
      "description_tooltip": null,
      "layout": "IPY_MODEL_3bb7995db60b42759a2343173c346861",
      "max": 20,
      "min": 0,
      "orientation": "horizontal",
      "style": "IPY_MODEL_ae5637fb0b7046659fd21e2eb5bda33f",
      "value": 20
     }
    },
    "71c858cb7e1a4b8f81686d0b899e96ac": {
     "model_module": "@jupyter-widgets/controls",
     "model_name": "ProgressStyleModel",
     "state": {
      "_model_module": "@jupyter-widgets/controls",
      "_model_module_version": "1.5.0",
      "_model_name": "ProgressStyleModel",
      "_view_count": null,
      "_view_module": "@jupyter-widgets/base",
      "_view_module_version": "1.2.0",
      "_view_name": "StyleView",
      "bar_color": null,
      "description_width": "initial"
     }
    },
    "8260b7a2c5284cd1870ecfc7c2722bbc": {
     "model_module": "@jupyter-widgets/base",
     "model_name": "LayoutModel",
     "state": {
      "_model_module": "@jupyter-widgets/base",
      "_model_module_version": "1.2.0",
      "_model_name": "LayoutModel",
      "_view_count": null,
      "_view_module": "@jupyter-widgets/base",
      "_view_module_version": "1.2.0",
      "_view_name": "LayoutView",
      "align_content": null,
      "align_items": null,
      "align_self": null,
      "border": null,
      "bottom": null,
      "display": null,
      "flex": null,
      "flex_flow": null,
      "grid_area": null,
      "grid_auto_columns": null,
      "grid_auto_flow": null,
      "grid_auto_rows": null,
      "grid_column": null,
      "grid_gap": null,
      "grid_row": null,
      "grid_template_areas": null,
      "grid_template_columns": null,
      "grid_template_rows": null,
      "height": null,
      "justify_content": null,
      "justify_items": null,
      "left": null,
      "margin": null,
      "max_height": null,
      "max_width": null,
      "min_height": null,
      "min_width": null,
      "object_fit": null,
      "object_position": null,
      "order": null,
      "overflow": null,
      "overflow_x": null,
      "overflow_y": null,
      "padding": null,
      "right": null,
      "top": null,
      "visibility": null,
      "width": null
     }
    },
    "8453ae36c7064d2ca84dd8dba8e87467": {
     "model_module": "@jupyter-widgets/controls",
     "model_name": "HTMLModel",
     "state": {
      "_dom_classes": [],
      "_model_module": "@jupyter-widgets/controls",
      "_model_module_version": "1.5.0",
      "_model_name": "HTMLModel",
      "_view_count": null,
      "_view_module": "@jupyter-widgets/controls",
      "_view_module_version": "1.5.0",
      "_view_name": "HTMLView",
      "description": "",
      "description_tooltip": null,
      "layout": "IPY_MODEL_35ef568440ab42c38caef3a7e298b38e",
      "placeholder": "​",
      "style": "IPY_MODEL_8d7cc4c7c85e4977a080819cc5d58e42",
      "value": " 20/20 [02:30&lt;00:00,  7.51s/it, loss_and_val_err=980.681 and 17.018]"
     }
    },
    "8cfe1ff4eb1648e4b58b62c89b487825": {
     "model_module": "@jupyter-widgets/base",
     "model_name": "LayoutModel",
     "state": {
      "_model_module": "@jupyter-widgets/base",
      "_model_module_version": "1.2.0",
      "_model_name": "LayoutModel",
      "_view_count": null,
      "_view_module": "@jupyter-widgets/base",
      "_view_module_version": "1.2.0",
      "_view_name": "LayoutView",
      "align_content": null,
      "align_items": null,
      "align_self": null,
      "border": null,
      "bottom": null,
      "display": null,
      "flex": null,
      "flex_flow": null,
      "grid_area": null,
      "grid_auto_columns": null,
      "grid_auto_flow": null,
      "grid_auto_rows": null,
      "grid_column": null,
      "grid_gap": null,
      "grid_row": null,
      "grid_template_areas": null,
      "grid_template_columns": null,
      "grid_template_rows": null,
      "height": null,
      "justify_content": null,
      "justify_items": null,
      "left": null,
      "margin": null,
      "max_height": null,
      "max_width": null,
      "min_height": null,
      "min_width": null,
      "object_fit": null,
      "object_position": null,
      "order": null,
      "overflow": null,
      "overflow_x": null,
      "overflow_y": null,
      "padding": null,
      "right": null,
      "top": null,
      "visibility": null,
      "width": null
     }
    },
    "8d7cc4c7c85e4977a080819cc5d58e42": {
     "model_module": "@jupyter-widgets/controls",
     "model_name": "DescriptionStyleModel",
     "state": {
      "_model_module": "@jupyter-widgets/controls",
      "_model_module_version": "1.5.0",
      "_model_name": "DescriptionStyleModel",
      "_view_count": null,
      "_view_module": "@jupyter-widgets/base",
      "_view_module_version": "1.2.0",
      "_view_name": "StyleView",
      "description_width": ""
     }
    },
    "a72620253d15405e86a787c7da2bba18": {
     "model_module": "@jupyter-widgets/controls",
     "model_name": "HBoxModel",
     "state": {
      "_dom_classes": [],
      "_model_module": "@jupyter-widgets/controls",
      "_model_module_version": "1.5.0",
      "_model_name": "HBoxModel",
      "_view_count": null,
      "_view_module": "@jupyter-widgets/controls",
      "_view_module_version": "1.5.0",
      "_view_name": "HBoxView",
      "box_style": "",
      "children": [
       "IPY_MODEL_253b5289514c4a82a65689883886bd7d",
       "IPY_MODEL_8453ae36c7064d2ca84dd8dba8e87467"
      ],
      "layout": "IPY_MODEL_4aa7e20c1c884acf99e689b81656f1a7"
     }
    },
    "ab4f17e651a4412f875fa269235a9619": {
     "model_module": "@jupyter-widgets/controls",
     "model_name": "HTMLModel",
     "state": {
      "_dom_classes": [],
      "_model_module": "@jupyter-widgets/controls",
      "_model_module_version": "1.5.0",
      "_model_name": "HTMLModel",
      "_view_count": null,
      "_view_module": "@jupyter-widgets/controls",
      "_view_module_version": "1.5.0",
      "_view_name": "HTMLView",
      "description": "",
      "description_tooltip": null,
      "layout": "IPY_MODEL_4daad2e89297422a86a4e7cbf38fc77f",
      "placeholder": "​",
      "style": "IPY_MODEL_b4e6f12eec264ffe8d2c1b68a195a4f9",
      "value": " 20/20 [00:29&lt;00:00,  1.47s/it]"
     }
    },
    "ace5ba2394fe4d349929d7be3cf3ed0b": {
     "model_module": "@jupyter-widgets/controls",
     "model_name": "HBoxModel",
     "state": {
      "_dom_classes": [],
      "_model_module": "@jupyter-widgets/controls",
      "_model_module_version": "1.5.0",
      "_model_name": "HBoxModel",
      "_view_count": null,
      "_view_module": "@jupyter-widgets/controls",
      "_view_module_version": "1.5.0",
      "_view_name": "HBoxView",
      "box_style": "",
      "children": [
       "IPY_MODEL_6e9ca33259ae455f9b3a03ba80ca8be1",
       "IPY_MODEL_ab4f17e651a4412f875fa269235a9619"
      ],
      "layout": "IPY_MODEL_8cfe1ff4eb1648e4b58b62c89b487825"
     }
    },
    "ae5637fb0b7046659fd21e2eb5bda33f": {
     "model_module": "@jupyter-widgets/controls",
     "model_name": "ProgressStyleModel",
     "state": {
      "_model_module": "@jupyter-widgets/controls",
      "_model_module_version": "1.5.0",
      "_model_name": "ProgressStyleModel",
      "_view_count": null,
      "_view_module": "@jupyter-widgets/base",
      "_view_module_version": "1.2.0",
      "_view_name": "StyleView",
      "bar_color": null,
      "description_width": "initial"
     }
    },
    "b4e6f12eec264ffe8d2c1b68a195a4f9": {
     "model_module": "@jupyter-widgets/controls",
     "model_name": "DescriptionStyleModel",
     "state": {
      "_model_module": "@jupyter-widgets/controls",
      "_model_module_version": "1.5.0",
      "_model_name": "DescriptionStyleModel",
      "_view_count": null,
      "_view_module": "@jupyter-widgets/base",
      "_view_module_version": "1.2.0",
      "_view_name": "StyleView",
      "description_width": ""
     }
    },
    "bda99a6654e9457b87bc09edf782d252": {
     "model_module": "@jupyter-widgets/controls",
     "model_name": "DescriptionStyleModel",
     "state": {
      "_model_module": "@jupyter-widgets/controls",
      "_model_module_version": "1.5.0",
      "_model_name": "DescriptionStyleModel",
      "_view_count": null,
      "_view_module": "@jupyter-widgets/base",
      "_view_module_version": "1.2.0",
      "_view_name": "StyleView",
      "description_width": ""
     }
    },
    "c6667fa5abc3425aaf78b9059c6a58e3": {
     "model_module": "@jupyter-widgets/controls",
     "model_name": "FloatProgressModel",
     "state": {
      "_dom_classes": [],
      "_model_module": "@jupyter-widgets/controls",
      "_model_module_version": "1.5.0",
      "_model_name": "FloatProgressModel",
      "_view_count": null,
      "_view_module": "@jupyter-widgets/controls",
      "_view_module_version": "1.5.0",
      "_view_name": "ProgressView",
      "bar_style": "success",
      "description": "100%",
      "description_tooltip": null,
      "layout": "IPY_MODEL_088235620b8c44168a3699f1d29567f7",
      "max": 20,
      "min": 0,
      "orientation": "horizontal",
      "style": "IPY_MODEL_71c858cb7e1a4b8f81686d0b899e96ac",
      "value": 20
     }
    },
    "e3cec2898ae941ff9aefa7da73159989": {
     "model_module": "@jupyter-widgets/controls",
     "model_name": "FloatProgressModel",
     "state": {
      "_dom_classes": [],
      "_model_module": "@jupyter-widgets/controls",
      "_model_module_version": "1.5.0",
      "_model_name": "FloatProgressModel",
      "_view_count": null,
      "_view_module": "@jupyter-widgets/controls",
      "_view_module_version": "1.5.0",
      "_view_name": "ProgressView",
      "bar_style": "success",
      "description": "100%",
      "description_tooltip": null,
      "layout": "IPY_MODEL_3ca30d15ed0644188bad836cbde2b1ce",
      "max": 20,
      "min": 0,
      "orientation": "horizontal",
      "style": "IPY_MODEL_2a169bb1d9ab4b1eb88a7bc0bfa7c28e",
      "value": 20
     }
    },
    "eea316609f864d16849e8442dcee3f97": {
     "model_module": "@jupyter-widgets/base",
     "model_name": "LayoutModel",
     "state": {
      "_model_module": "@jupyter-widgets/base",
      "_model_module_version": "1.2.0",
      "_model_name": "LayoutModel",
      "_view_count": null,
      "_view_module": "@jupyter-widgets/base",
      "_view_module_version": "1.2.0",
      "_view_name": "LayoutView",
      "align_content": null,
      "align_items": null,
      "align_self": null,
      "border": null,
      "bottom": null,
      "display": null,
      "flex": null,
      "flex_flow": null,
      "grid_area": null,
      "grid_auto_columns": null,
      "grid_auto_flow": null,
      "grid_auto_rows": null,
      "grid_column": null,
      "grid_gap": null,
      "grid_row": null,
      "grid_template_areas": null,
      "grid_template_columns": null,
      "grid_template_rows": null,
      "height": null,
      "justify_content": null,
      "justify_items": null,
      "left": null,
      "margin": null,
      "max_height": null,
      "max_width": null,
      "min_height": null,
      "min_width": null,
      "object_fit": null,
      "object_position": null,
      "order": null,
      "overflow": null,
      "overflow_x": null,
      "overflow_y": null,
      "padding": null,
      "right": null,
      "top": null,
      "visibility": null,
      "width": null
     }
    },
    "ffcd34e89bc142879b67a7c94ee17bfd": {
     "model_module": "@jupyter-widgets/base",
     "model_name": "LayoutModel",
     "state": {
      "_model_module": "@jupyter-widgets/base",
      "_model_module_version": "1.2.0",
      "_model_name": "LayoutModel",
      "_view_count": null,
      "_view_module": "@jupyter-widgets/base",
      "_view_module_version": "1.2.0",
      "_view_name": "LayoutView",
      "align_content": null,
      "align_items": null,
      "align_self": null,
      "border": null,
      "bottom": null,
      "display": null,
      "flex": null,
      "flex_flow": null,
      "grid_area": null,
      "grid_auto_columns": null,
      "grid_auto_flow": null,
      "grid_auto_rows": null,
      "grid_column": null,
      "grid_gap": null,
      "grid_row": null,
      "grid_template_areas": null,
      "grid_template_columns": null,
      "grid_template_rows": null,
      "height": null,
      "justify_content": null,
      "justify_items": null,
      "left": null,
      "margin": null,
      "max_height": null,
      "max_width": null,
      "min_height": null,
      "min_width": null,
      "object_fit": null,
      "object_position": null,
      "order": null,
      "overflow": null,
      "overflow_x": null,
      "overflow_y": null,
      "padding": null,
      "right": null,
      "top": null,
      "visibility": null,
      "width": null
     }
    }
   }
  }
 },
 "nbformat": 4,
 "nbformat_minor": 1
}
