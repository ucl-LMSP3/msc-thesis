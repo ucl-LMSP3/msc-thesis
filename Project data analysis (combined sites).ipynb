{
 "cells": [
  {
   "cell_type": "markdown",
   "metadata": {
    "id": "0MxytDpLQbmH"
   },
   "source": [
    "# Libraries"
   ]
  },
  {
   "cell_type": "code",
   "execution_count": 1,
   "metadata": {
    "colab": {
     "base_uri": "https://localhost:8080/"
    },
    "executionInfo": {
     "elapsed": 20163,
     "status": "ok",
     "timestamp": 1628066971074,
     "user": {
      "displayName": "Jeria Kua",
      "photoUrl": "",
      "userId": "01722788589990916725"
     },
     "user_tz": -480
    },
    "id": "DpJQIdHvQLbL",
    "outputId": "bda4d032-b363-4157-fa8d-8bc563d3051f"
   },
   "outputs": [
    {
     "name": "stdout",
     "output_type": "stream",
     "text": [
      "Collecting gpboost\n",
      "  Downloading gpboost-0.6.7-py3-none-macosx_10_11_x86_64.whl (2.3 MB)\n",
      "\u001b[K     |████████████████████████████████| 2.3 MB 2.1 MB/s eta 0:00:01\n",
      "\u001b[?25hRequirement already satisfied, skipping upgrade: scipy in /opt/anaconda3/lib/python3.8/site-packages (from gpboost) (1.5.0)\n",
      "Requirement already satisfied, skipping upgrade: wheel in /opt/anaconda3/lib/python3.8/site-packages (from gpboost) (0.34.2)\n",
      "Requirement already satisfied, skipping upgrade: numpy in /opt/anaconda3/lib/python3.8/site-packages (from gpboost) (1.18.5)\n",
      "Requirement already satisfied, skipping upgrade: scikit-learn!=0.22.0 in /opt/anaconda3/lib/python3.8/site-packages (from gpboost) (0.23.1)\n",
      "Requirement already satisfied, skipping upgrade: joblib>=0.11 in /opt/anaconda3/lib/python3.8/site-packages (from scikit-learn!=0.22.0->gpboost) (0.16.0)\n",
      "Requirement already satisfied, skipping upgrade: threadpoolctl>=2.0.0 in /opt/anaconda3/lib/python3.8/site-packages (from scikit-learn!=0.22.0->gpboost) (2.1.0)\n",
      "Installing collected packages: gpboost\n",
      "Successfully installed gpboost-0.6.7\n",
      "Collecting merf\n",
      "  Downloading merf-1.0-py3-none-any.whl (14 kB)\n",
      "Requirement already satisfied: pandas>=1.0 in /opt/anaconda3/lib/python3.8/site-packages (from merf) (1.0.5)\n",
      "Requirement already satisfied: numpy in /opt/anaconda3/lib/python3.8/site-packages (from merf) (1.18.5)\n",
      "Requirement already satisfied: scikit-learn in /opt/anaconda3/lib/python3.8/site-packages (from merf) (0.23.1)\n",
      "Requirement already satisfied: matplotlib>=3.0 in /opt/anaconda3/lib/python3.8/site-packages (from merf) (3.2.2)\n",
      "Requirement already satisfied: pytz>=2017.2 in /opt/anaconda3/lib/python3.8/site-packages (from pandas>=1.0->merf) (2020.1)\n",
      "Requirement already satisfied: python-dateutil>=2.6.1 in /opt/anaconda3/lib/python3.8/site-packages (from pandas>=1.0->merf) (2.8.1)\n",
      "Requirement already satisfied: scipy>=0.19.1 in /opt/anaconda3/lib/python3.8/site-packages (from scikit-learn->merf) (1.5.0)\n",
      "Requirement already satisfied: joblib>=0.11 in /opt/anaconda3/lib/python3.8/site-packages (from scikit-learn->merf) (0.16.0)\n",
      "Requirement already satisfied: threadpoolctl>=2.0.0 in /opt/anaconda3/lib/python3.8/site-packages (from scikit-learn->merf) (2.1.0)\n",
      "Requirement already satisfied: cycler>=0.10 in /opt/anaconda3/lib/python3.8/site-packages (from matplotlib>=3.0->merf) (0.10.0)\n",
      "Requirement already satisfied: kiwisolver>=1.0.1 in /opt/anaconda3/lib/python3.8/site-packages (from matplotlib>=3.0->merf) (1.2.0)\n",
      "Requirement already satisfied: pyparsing!=2.0.4,!=2.1.2,!=2.1.6,>=2.0.1 in /opt/anaconda3/lib/python3.8/site-packages (from matplotlib>=3.0->merf) (2.4.7)\n",
      "Requirement already satisfied: six>=1.5 in /opt/anaconda3/lib/python3.8/site-packages (from python-dateutil>=2.6.1->pandas>=1.0->merf) (1.15.0)\n",
      "Installing collected packages: merf\n",
      "Successfully installed merf-1.0\n",
      "Requirement already satisfied: shap in /opt/anaconda3/lib/python3.8/site-packages (0.38.1)\n",
      "Requirement already satisfied: numpy in /opt/anaconda3/lib/python3.8/site-packages (from shap) (1.18.5)\n",
      "Requirement already satisfied: scipy in /opt/anaconda3/lib/python3.8/site-packages (from shap) (1.5.0)\n",
      "Requirement already satisfied: slicer==0.0.7 in /opt/anaconda3/lib/python3.8/site-packages (from shap) (0.0.7)\n",
      "Requirement already satisfied: tqdm>4.25.0 in /opt/anaconda3/lib/python3.8/site-packages (from shap) (4.47.0)\n",
      "Requirement already satisfied: cloudpickle in /opt/anaconda3/lib/python3.8/site-packages (from shap) (1.5.0)\n",
      "Requirement already satisfied: pandas in /opt/anaconda3/lib/python3.8/site-packages (from shap) (1.0.5)\n",
      "Requirement already satisfied: scikit-learn in /opt/anaconda3/lib/python3.8/site-packages (from shap) (0.23.1)\n",
      "Requirement already satisfied: numba in /opt/anaconda3/lib/python3.8/site-packages (from shap) (0.50.1)\n",
      "Requirement already satisfied: pytz>=2017.2 in /opt/anaconda3/lib/python3.8/site-packages (from pandas->shap) (2020.1)\n",
      "Requirement already satisfied: python-dateutil>=2.6.1 in /opt/anaconda3/lib/python3.8/site-packages (from pandas->shap) (2.8.1)\n",
      "Requirement already satisfied: joblib>=0.11 in /opt/anaconda3/lib/python3.8/site-packages (from scikit-learn->shap) (0.16.0)\n",
      "Requirement already satisfied: threadpoolctl>=2.0.0 in /opt/anaconda3/lib/python3.8/site-packages (from scikit-learn->shap) (2.1.0)\n",
      "Requirement already satisfied: llvmlite<0.34,>=0.33.0.dev0 in /opt/anaconda3/lib/python3.8/site-packages (from numba->shap) (0.33.0+1.g022ab0f)\n",
      "Requirement already satisfied: setuptools in /opt/anaconda3/lib/python3.8/site-packages (from numba->shap) (49.2.0.post20200714)\n",
      "Requirement already satisfied: six>=1.5 in /opt/anaconda3/lib/python3.8/site-packages (from python-dateutil>=2.6.1->pandas->shap) (1.15.0)\n"
     ]
    }
   ],
   "source": [
    "!pip install gpboost -U\n",
    "!pip install merf\n",
    "!pip install shap"
   ]
  },
  {
   "cell_type": "code",
   "execution_count": 2,
   "metadata": {
    "executionInfo": {
     "elapsed": 9908,
     "status": "ok",
     "timestamp": 1628066980974,
     "user": {
      "displayName": "Jeria Kua",
      "photoUrl": "",
      "userId": "01722788589990916725"
     },
     "user_tz": -480
    },
    "id": "UHRMuupNQQb7"
   },
   "outputs": [],
   "source": [
    "import random\n",
    "import shap\n",
    "import gpboost as gpb\n",
    "import numpy as np\n",
    "import scipy\n",
    "import time\n",
    "import copy\n",
    "import pandas as pd\n",
    "import matplotlib.pyplot as plt\n",
    "from merf import MERF\n",
    "from sklearn.preprocessing import OneHotEncoder\n",
    "from sklearn.datasets import make_friedman3\n",
    "from sklearn.ensemble import RandomForestRegressor\n",
    "from sklearn.model_selection import GroupShuffleSplit\n",
    "from tqdm.notebook import tqdm, tnrange"
   ]
  },
  {
   "cell_type": "markdown",
   "metadata": {
    "id": "o2fEiTMyQiK5"
   },
   "source": [
    "# Helper functions"
   ]
  },
  {
   "cell_type": "code",
   "execution_count": 3,
   "metadata": {
    "executionInfo": {
     "elapsed": 11,
     "status": "ok",
     "timestamp": 1628066980976,
     "user": {
      "displayName": "Jeria Kua",
      "photoUrl": "",
      "userId": "01722788589990916725"
     },
     "user_tz": -480
    },
    "id": "v9W8AMNFgb8i"
   },
   "outputs": [],
   "source": [
    "def encode(df, linear=False):\n",
    "    s = (df.dtypes == 'object')\n",
    "    object_cols = list(s[s].index)\n",
    "    if linear:\n",
    "        OH_encoder = OneHotEncoder(drop='first', dtype=int)\n",
    "    else:\n",
    "        OH_encoder = OneHotEncoder(dtype=int)\n",
    "    OH_cols = pd.DataFrame(OH_encoder.fit_transform(df[object_cols]).toarray(), columns=OH_encoder.get_feature_names(object_cols))\n",
    "    num_data = df.drop(object_cols, axis=1)\n",
    "    data_new = pd.concat([num_data, OH_cols], axis=1)\n",
    "    return data_new"
   ]
  },
  {
   "cell_type": "code",
   "execution_count": 4,
   "metadata": {
    "executionInfo": {
     "elapsed": 486,
     "status": "ok",
     "timestamp": 1628066981455,
     "user": {
      "displayName": "Jeria Kua",
      "photoUrl": "",
      "userId": "01722788589990916725"
     },
     "user_tz": -480
    },
    "id": "tr4Ze-YjQQfB"
   },
   "outputs": [],
   "source": [
    "def train_test_split_grouped_interpolation(df, group_sizes, test_size=0.2, random_state=1):\n",
    "    '''\n",
    "    Train/test split, but test set contains at least one observation from each group in the training set, and contains no unseen groups.\n",
    "    '''\n",
    "    assert 0 < test_size < 1, \"Test size must be strictly between 0 and 1\"\n",
    "    assert np.sum(group_sizes) == len(df), \"Sum of group_sizes must be equal to length dataframe\"\n",
    "    assert group_sizes.all() > 0, \"Group sizes should be non-negative\"\n",
    "    assert len(group_sizes) < len(df), \"Number of groups should be less than number of observations\"\n",
    "\n",
    "    np.random.seed(random_state)\n",
    "    df_len = len(df)\n",
    "    test_len = int(test_size * df_len)\n",
    "    no_groups = len(group_sizes)\n",
    "\n",
    "    # Pick one observation from all groups\n",
    "    sample_len = no_groups\n",
    "    n_samples_chosen_per_group = np.ones_like(group_sizes)\n",
    "    last_idx_arr = np.cumsum(group_sizes)-1 # Array of index of the last observation in each group within the overall dataset\n",
    "    test_idx = [last_idx_arr[i] for i in range(no_groups)]\n",
    "    group_sizes_new = group_sizes.copy()\n",
    "    group_sizes_new -= 1\n",
    "\n",
    "    # Keep picking more observations until the required number of test observations has been picked\n",
    "    while sample_len < test_len:\n",
    "        group_idx = np.random.randint(no_groups) # Pick a random group\n",
    "        if group_sizes_new[group_idx] > 1:\n",
    "            if test_len - sample_len > 1:\n",
    "                n = np.random.randint(1, min([group_sizes_new[group_idx], test_len-sample_len])) # Pick a random sample of size 1<=n<group_size from the chosen group\n",
    "            else:\n",
    "                n = 1\n",
    "            last_idx = last_idx_arr[group_idx]-n_samples_chosen_per_group[group_idx] # Index of the last observation remaining in each group within the overall dataset\n",
    "            test_idx += [last_idx-i for i in range(n)]\n",
    "            n_samples_chosen_per_group[group_idx] += n # Update number of samples chosen from the group\n",
    "            group_sizes_new[group_idx] -= n # Update current group sizes\n",
    "            sample_len += n\n",
    "\n",
    "    mask = np.ones(df_len, dtype=bool)\n",
    "    mask[test_idx] = False\n",
    "    df_train, df_test = df[mask], df[~mask]\n",
    "\n",
    "    return df_train, df_test"
   ]
  },
  {
   "cell_type": "code",
   "execution_count": 5,
   "metadata": {
    "executionInfo": {
     "elapsed": 13,
     "status": "ok",
     "timestamp": 1628066981456,
     "user": {
      "displayName": "Jeria Kua",
      "photoUrl": "",
      "userId": "01722788589990916725"
     },
     "user_tz": -480
    },
    "id": "xTzJV9EmQSR6"
   },
   "outputs": [],
   "source": [
    "def train_test_split_grouped_extrapolation(df, groups, test_size=0.2, random_state=1):\n",
    "    '''\n",
    "    Train/test split for a dataframe, but test set only contains only unseen groups.\n",
    "    ``test_size`` represents the proportion of groups to include in the test split (rounded up).\n",
    "    '''\n",
    "    train_idx, test_idx = next(GroupShuffleSplit(test_size=test_size, random_state=random_state).split(df, groups=groups))\n",
    "    df_train, df_test = df.iloc[train_idx], df.iloc[test_idx]\n",
    "\n",
    "    return df_train, df_test"
   ]
  },
  {
   "cell_type": "code",
   "execution_count": 6,
   "metadata": {
    "executionInfo": {
     "elapsed": 12,
     "status": "ok",
     "timestamp": 1628066981457,
     "user": {
      "displayName": "Jeria Kua",
      "photoUrl": "",
      "userId": "01722788589990916725"
     },
     "user_tz": -480
    },
    "id": "-ZkLQjcIbPyg"
   },
   "outputs": [],
   "source": [
    "def grid_search_tune_parameters_multiple(data_cv_list, dataset_list, param_grid, params=None, num_try_random=None,\n",
    "                                         num_boost_round=100,\n",
    "                                         use_gp_model_for_validation=True, train_gp_model_cov_pars=True,\n",
    "                                         folds_list=None, nfold=5, stratified=False, shuffle=True,\n",
    "                                         metrics=None, fobj=None, feval=None, init_model=None,\n",
    "                                         feature_name='auto', categorical_feature='auto',\n",
    "                                         early_stopping_rounds=None, fpreproc=None,\n",
    "                                         verbose_eval=1, seed=0, callbacks=None,\n",
    "                                         gp_model_type='Random Intercept'):\n",
    "    '''\n",
    "    Conducts grid search over a list of training sets.\n",
    "    '''\n",
    "    # Check correct format\n",
    "    if not isinstance(param_grid, dict):\n",
    "        raise ValueError('param_grid needs to be a dict')\n",
    "    if verbose_eval is None:\n",
    "        verbose_eval = 0\n",
    "    else:\n",
    "        if not isinstance(verbose_eval, int):\n",
    "            raise ValueError('verbose_eval needs to be int')\n",
    "    if params is None:\n",
    "        params = {}\n",
    "    else:\n",
    "        params = copy.deepcopy(params)\n",
    "    param_grid = copy.deepcopy(param_grid)\n",
    "    for param in param_grid:\n",
    "        if gpb.basic.is_numeric(param_grid[param]):\n",
    "            param_grid[param] = [param_grid[param]]\n",
    "        param_grid[param] = gpb.basic._format_check_1D_data(param_grid[param],\n",
    "                                                  data_name=param, check_data_type=False,\n",
    "                                                  check_must_be_int=False, convert_to_type=None)\n",
    "\n",
    "    # Determine combinations of parameter values that should be tried out\n",
    "    grid_size = gpb.engine._get_grid_size(param_grid)\n",
    "    if num_try_random is not None:\n",
    "        if num_try_random > grid_size:\n",
    "            raise ValueError('num_try_random is larger than the number of all possible combinations of parameters in param_grid')\n",
    "        try_param_combs = np.random.RandomState(seed).choice(a=grid_size, size=num_try_random, replace=False)\n",
    "        print('Starting random grid search with ' + str(num_try_random) + ' trials out of ' + str(grid_size) + ' parameter combinations...')\n",
    "    else:\n",
    "        try_param_combs = range(grid_size)\n",
    "        print('Starting deterministic grid search with ' + str(grid_size) + ' parameter combinations...')\n",
    "    if verbose_eval < 2:\n",
    "        verbose_eval_cv = False\n",
    "    else:\n",
    "        verbose_eval_cv = True\n",
    "\n",
    "    best_score = 1e99\n",
    "    current_score = 1e99\n",
    "    best_params = {}\n",
    "    best_num_boost_round = num_boost_round\n",
    "    counter_num_comb = 1\n",
    "    for param_comb_number in try_param_combs:\n",
    "        cvbst_list = []\n",
    "        param_comb = gpb.engine._get_param_combination(param_comb_number=param_comb_number, param_grid=param_grid)\n",
    "        for param in param_comb:\n",
    "            params[param] = param_comb[param]\n",
    "        if verbose_eval >= 1:\n",
    "            print('Trying parameter combination ' + str(counter_num_comb) +\n",
    "                  ' of ' + str(len(try_param_combs)) + ': ' + str(param_comb) + ' ...')\n",
    "        for i, dataset in enumerate(dataset_list):\n",
    "            folds = [folds_list[i]]\n",
    "            if gp_model_type == 'Random Intercept':\n",
    "                gp_model = gpb.GPModel(group_data=np.column_stack((data_cv_list[i]['ID'], data_cv_list[i]['times'])))\n",
    "            elif gp_model_type == 'Individual GP':\n",
    "                gp_model = gpb.GPModel(group_data=data_cv_list[i]['ID'], gp_coords=data_cv_list[i]['times'], cluster_ids=data_cv_list[i]['ID'], cov_function='exponential')\n",
    "            else:\n",
    "                raise Exception(gp_model_type is invalid)\n",
    "            gp_model.set_optim_params(params={'optimizer_cov': 'gradient_descent', 'use_nesterov_acc': True})\n",
    "            cvbst = gpb.cv(params=params, train_set=dataset, num_boost_round=num_boost_round,\n",
    "                        gp_model=gp_model, use_gp_model_for_validation=use_gp_model_for_validation,\n",
    "                        train_gp_model_cov_pars=train_gp_model_cov_pars,\n",
    "                        folds=folds, nfold=nfold, stratified=stratified, shuffle=shuffle,\n",
    "                        metrics=metrics, fobj=fobj, feval=feval, init_model=init_model,\n",
    "                        feature_name=feature_name, categorical_feature=categorical_feature,\n",
    "                        early_stopping_rounds=early_stopping_rounds, fpreproc=fpreproc,\n",
    "                        verbose_eval=verbose_eval_cv, seed=seed, callbacks=callbacks,\n",
    "                        eval_train_metric=False, return_cvbooster=False)\n",
    "            cvbst_list.append(cvbst)\n",
    "        current_score_is_better = False\n",
    "        current_score = np.mean([np.min(cvbst[next(iter(cvbst))]) for cvbst in cvbst_list])\n",
    "        if current_score < best_score:\n",
    "            current_score_is_better = True\n",
    "        if current_score_is_better:\n",
    "            best_score = current_score\n",
    "            best_params = param_comb\n",
    "            best_num_boost_round = np.mean([np.argmin(cvbst[next(iter(cvbst))]) for cvbst in cvbst_list])\n",
    "            if verbose_eval >= 1:\n",
    "                print('***** New best score (' + str(best_score) + ') found for the following parameter combination:')\n",
    "                best_params_print = copy.deepcopy(best_params)\n",
    "                best_params_print['num_boost_round'] = best_num_boost_round\n",
    "                print(best_params_print)\n",
    "        counter_num_comb = counter_num_comb + 1\n",
    "\n",
    "    return {'best_params': best_params, 'best_iter': best_num_boost_round, 'best_score': best_score}"
   ]
  },
  {
   "cell_type": "code",
   "execution_count": 7,
   "metadata": {
    "executionInfo": {
     "elapsed": 12,
     "status": "ok",
     "timestamp": 1628066981459,
     "user": {
      "displayName": "Jeria Kua",
      "photoUrl": "",
      "userId": "01722788589990916725"
     },
     "user_tz": -480
    },
    "id": "oUV8OD6bcfjz"
   },
   "outputs": [],
   "source": [
    "# Create a function to do CV with MERF\n",
    "def MERF_cv(train_X_list, train_y_list, val_X_list, val_y_list, random_state=1):\n",
    "    n_estimators_list = [100, 200, 300]\n",
    "    accuracies = []\n",
    "    for n_estimators in tqdm(n_estimators_list):\n",
    "        fixed_effects_model= RandomForestRegressor(n_estimators=n_estimators, n_jobs=-1, random_state=random_state)\n",
    "        model_accuracies = []\n",
    "        for i in range(len(train_X_list)):\n",
    "            train_X = train_X_list[i].drop(columns=['ID', 'times', 'egfr']).to_numpy()\n",
    "            train_Z = train_X_list[i]['times'].to_numpy()\n",
    "            train_group = train_X_list[i]['ID'].to_numpy()\n",
    "            train_y = train_y_list[i]\n",
    "            val_X = val_X_list[i].drop(columns=['ID', 'times', 'egfr']).to_numpy()\n",
    "            val_Z = val_X_list[i]['times'].to_numpy()\n",
    "            val_group = val_X_list[i]['ID'].to_numpy()\n",
    "            val_y = val_y_list[i]\n",
    "            merf_model = MERF(fixed_effects_model, max_iterations=100)\n",
    "            merf_model.fit(train_X, train_Z, pd.Series(train_group), train_y)\n",
    "            y_pred = merf_model.predict(val_X, val_Z, pd.Series(val_group))\n",
    "            model_accuracies.append(np.sqrt(np.mean((val_y-y_pred)**2)))\n",
    "        accuracies.append(np.mean(model_accuracies))\n",
    "\n",
    "    return np.array(accuracies)"
   ]
  },
  {
   "cell_type": "markdown",
   "metadata": {
    "id": "AlFwPAAoQuci"
   },
   "source": [
    "# Data pre-processing"
   ]
  },
  {
   "cell_type": "code",
   "execution_count": 8,
   "metadata": {
    "executionInfo": {
     "elapsed": 313,
     "status": "ok",
     "timestamp": 1628066981764,
     "user": {
      "displayName": "Jeria Kua",
      "photoUrl": "",
      "userId": "01722788589990916725"
     },
     "user_tz": -480
    },
    "id": "f-05uGubQSVE"
   },
   "outputs": [],
   "source": [
    "data_train_full_raw = pd.read_csv('data_train_full.csv')\n",
    "test_extrapolation_raw = pd.read_csv('test_extrapolation.csv')\n",
    "test_interpolation_raw = pd.read_csv('test_interpolation.csv')\n",
    "\n",
    "# One-hot encode categorical features\n",
    "data_train_full = encode(data_train_full_raw)\n",
    "test_extrapolation = encode(test_extrapolation_raw)\n",
    "test_interpolation = encode(test_interpolation_raw)\n",
    "\n",
    "# Dummy encode categorical features for linear model\n",
    "data_train_full2 = encode(data_train_full_raw, linear=True)\n",
    "test_extrapolation2 = encode(test_extrapolation_raw, linear=True)\n",
    "test_interpolation2 = encode(test_interpolation_raw, linear=True)\n",
    "\n",
    "data_train_list, data_val_list = [], []\n",
    "for i in range(5):\n",
    "    train_raw = pd.read_csv('data_cv_train_' + str(i+1) + '.csv')\n",
    "    train = encode(train_raw)\n",
    "    val_raw = pd.read_csv('data_cv_val_' + str(i+1) + '.csv')\n",
    "    val = encode(val_raw)\n",
    "    data_train_list.append(train)\n",
    "    data_val_list.append(val)\n",
    "\n",
    "data_cv_list = [pd.concat([data_train_list[i], data_val_list[i]], ignore_index=True).reset_index(drop=True).fillna(0) for i in range(5)]"
   ]
  },
  {
   "cell_type": "code",
   "execution_count": 9,
   "metadata": {
    "colab": {
     "base_uri": "https://localhost:8080/"
    },
    "executionInfo": {
     "elapsed": 16,
     "status": "ok",
     "timestamp": 1628066981766,
     "user": {
      "displayName": "Jeria Kua",
      "photoUrl": "",
      "userId": "01722788589990916725"
     },
     "user_tz": -480
    },
    "id": "YzpUKC4ZdCsz",
    "outputId": "8366d967-0b64-4a28-84b8-30d640b1067d"
   },
   "outputs": [
    {
     "name": "stdout",
     "output_type": "stream",
     "text": [
      "[(array([   0,    1,    2, ..., 4895, 4896, 4897]), array([4898, 4899, 4900, ..., 6120, 6121, 6122])), (array([   0,    1,    2, ..., 4895, 4896, 4897]), array([4898, 4899, 4900, ..., 6120, 6121, 6122])), (array([   0,    1,    2, ..., 4895, 4896, 4897]), array([4898, 4899, 4900, ..., 6120, 6121, 6122])), (array([   0,    1,    2, ..., 4896, 4897, 4898]), array([4899, 4900, 4901, ..., 6120, 6121, 6122])), (array([   0,    1,    2, ..., 4896, 4897, 4898]), array([4899, 4900, 4901, ..., 6120, 6121, 6122]))]\n"
     ]
    }
   ],
   "source": [
    "# Get indices of training and validation sets for cross-validation\n",
    "data_cv_indices_list = []\n",
    "for i in range(5):\n",
    "    data_cv_indices_list.append((np.arange(len(data_train_list[i])), np.arange(len(data_train_list[i]), len(data_train_list[i])+len(data_val_list[i]))))\n",
    "\n",
    "print(data_cv_indices_list)"
   ]
  },
  {
   "cell_type": "code",
   "execution_count": 10,
   "metadata": {
    "executionInfo": {
     "elapsed": 15,
     "status": "ok",
     "timestamp": 1628066981767,
     "user": {
      "displayName": "Jeria Kua",
      "photoUrl": "",
      "userId": "01722788589990916725"
     },
     "user_tz": -480
    },
    "id": "M2FXrqhujJwY"
   },
   "outputs": [],
   "source": [
    "# Train/test split\n",
    "train_X, train_y = data_train_full.drop(columns=['egfr']), data_train_full['egfr'].to_numpy()\n",
    "test_extrapolation_X, test_extrapolation_y = test_extrapolation.drop(columns=['egfr']), test_extrapolation['egfr'].to_numpy()\n",
    "test_interpolation_X, test_interpolation_y = test_interpolation.drop(columns=['egfr']), test_interpolation['egfr'].to_numpy()\n",
    "data_train_full_gpb = gpb.Dataset(data=train_X.drop(columns=['ID', 'times']), label=train_y)\n",
    "\n",
    "# For linear\n",
    "train_X2 = data_train_full2.drop(columns=['egfr'])\n",
    "test_extrapolation_X2 = test_extrapolation2.drop(columns=['egfr'])\n",
    "test_interpolation_X2 = test_interpolation2.drop(columns=['egfr'])\n",
    "data_train_full2_gpb = gpb.Dataset(data=train_X2.drop(columns=['ID', 'times']), label=train_y)\n",
    "\n",
    "# CV sets\n",
    "dataset_list = []\n",
    "for i in range(5):\n",
    "    cv_train_X, cv_train_y = data_cv_list[i].drop(columns=['egfr']), data_cv_list[i]['egfr'].to_numpy()\n",
    "    dataset_list.append(gpb.Dataset(data=cv_train_X.drop(columns=['ID', 'times']), label=cv_train_y))"
   ]
  },
  {
   "cell_type": "code",
   "execution_count": 11,
   "metadata": {
    "colab": {
     "base_uri": "https://localhost:8080/",
     "height": 456
    },
    "executionInfo": {
     "elapsed": 15,
     "status": "ok",
     "timestamp": 1628066981768,
     "user": {
      "displayName": "Jeria Kua",
      "photoUrl": "",
      "userId": "01722788589990916725"
     },
     "user_tz": -480
    },
    "id": "6qRry7obfZ7L",
    "outputId": "dac35b48-bfbf-4b79-ddef-d233f3b2b188"
   },
   "outputs": [
    {
     "data": {
      "text/html": [
       "<div>\n",
       "<style scoped>\n",
       "    .dataframe tbody tr th:only-of-type {\n",
       "        vertical-align: middle;\n",
       "    }\n",
       "\n",
       "    .dataframe tbody tr th {\n",
       "        vertical-align: top;\n",
       "    }\n",
       "\n",
       "    .dataframe thead th {\n",
       "        text-align: right;\n",
       "    }\n",
       "</style>\n",
       "<table border=\"1\" class=\"dataframe\">\n",
       "  <thead>\n",
       "    <tr style=\"text-align: right;\">\n",
       "      <th></th>\n",
       "      <th>ID</th>\n",
       "      <th>age</th>\n",
       "      <th>height</th>\n",
       "      <th>weight</th>\n",
       "      <th>kidney_transplant</th>\n",
       "      <th>patient_died</th>\n",
       "      <th>bp.sys</th>\n",
       "      <th>bun</th>\n",
       "      <th>egfr</th>\n",
       "      <th>times</th>\n",
       "      <th>site_Patras</th>\n",
       "      <th>site_Sheffield</th>\n",
       "      <th>gender_Female</th>\n",
       "      <th>gender_Male</th>\n",
       "      <th>gender_Unknown</th>\n",
       "      <th>ethnicity_Asian</th>\n",
       "      <th>ethnicity_Black</th>\n",
       "      <th>ethnicity_Caucasian</th>\n",
       "      <th>ethnicity_Others</th>\n",
       "      <th>ethnicity_Unknown</th>\n",
       "      <th>smoker_Non-Smoker</th>\n",
       "      <th>smoker_Past-Smoker</th>\n",
       "      <th>smoker_Smoker</th>\n",
       "      <th>smoker_Unknown</th>\n",
       "      <th>disease_DN</th>\n",
       "      <th>disease_GMN</th>\n",
       "      <th>disease_HTN</th>\n",
       "      <th>disease_Obstructive</th>\n",
       "      <th>disease_Other</th>\n",
       "      <th>disease_Transplant</th>\n",
       "      <th>disease_Vascular</th>\n",
       "    </tr>\n",
       "  </thead>\n",
       "  <tbody>\n",
       "    <tr>\n",
       "      <th>0</th>\n",
       "      <td>0</td>\n",
       "      <td>59.0</td>\n",
       "      <td>1.69</td>\n",
       "      <td>132.2</td>\n",
       "      <td>False</td>\n",
       "      <td>False</td>\n",
       "      <td>150.600000</td>\n",
       "      <td>8.0</td>\n",
       "      <td>73.0</td>\n",
       "      <td>0</td>\n",
       "      <td>0</td>\n",
       "      <td>1</td>\n",
       "      <td>0</td>\n",
       "      <td>1</td>\n",
       "      <td>0</td>\n",
       "      <td>0</td>\n",
       "      <td>0</td>\n",
       "      <td>0</td>\n",
       "      <td>0</td>\n",
       "      <td>1</td>\n",
       "      <td>0</td>\n",
       "      <td>0</td>\n",
       "      <td>0</td>\n",
       "      <td>1</td>\n",
       "      <td>0</td>\n",
       "      <td>1</td>\n",
       "      <td>0</td>\n",
       "      <td>0</td>\n",
       "      <td>0</td>\n",
       "      <td>0</td>\n",
       "      <td>0</td>\n",
       "    </tr>\n",
       "    <tr>\n",
       "      <th>1</th>\n",
       "      <td>0</td>\n",
       "      <td>59.0</td>\n",
       "      <td>1.69</td>\n",
       "      <td>132.2</td>\n",
       "      <td>False</td>\n",
       "      <td>False</td>\n",
       "      <td>143.000000</td>\n",
       "      <td>8.0</td>\n",
       "      <td>62.0</td>\n",
       "      <td>168</td>\n",
       "      <td>0</td>\n",
       "      <td>1</td>\n",
       "      <td>0</td>\n",
       "      <td>1</td>\n",
       "      <td>0</td>\n",
       "      <td>0</td>\n",
       "      <td>0</td>\n",
       "      <td>0</td>\n",
       "      <td>0</td>\n",
       "      <td>1</td>\n",
       "      <td>0</td>\n",
       "      <td>0</td>\n",
       "      <td>0</td>\n",
       "      <td>1</td>\n",
       "      <td>0</td>\n",
       "      <td>1</td>\n",
       "      <td>0</td>\n",
       "      <td>0</td>\n",
       "      <td>0</td>\n",
       "      <td>0</td>\n",
       "      <td>0</td>\n",
       "    </tr>\n",
       "    <tr>\n",
       "      <th>2</th>\n",
       "      <td>0</td>\n",
       "      <td>59.0</td>\n",
       "      <td>1.69</td>\n",
       "      <td>132.2</td>\n",
       "      <td>False</td>\n",
       "      <td>False</td>\n",
       "      <td>150.000000</td>\n",
       "      <td>6.0</td>\n",
       "      <td>74.0</td>\n",
       "      <td>294</td>\n",
       "      <td>0</td>\n",
       "      <td>1</td>\n",
       "      <td>0</td>\n",
       "      <td>1</td>\n",
       "      <td>0</td>\n",
       "      <td>0</td>\n",
       "      <td>0</td>\n",
       "      <td>0</td>\n",
       "      <td>0</td>\n",
       "      <td>1</td>\n",
       "      <td>0</td>\n",
       "      <td>0</td>\n",
       "      <td>0</td>\n",
       "      <td>1</td>\n",
       "      <td>0</td>\n",
       "      <td>1</td>\n",
       "      <td>0</td>\n",
       "      <td>0</td>\n",
       "      <td>0</td>\n",
       "      <td>0</td>\n",
       "      <td>0</td>\n",
       "    </tr>\n",
       "    <tr>\n",
       "      <th>3</th>\n",
       "      <td>0</td>\n",
       "      <td>60.0</td>\n",
       "      <td>1.69</td>\n",
       "      <td>132.2</td>\n",
       "      <td>False</td>\n",
       "      <td>False</td>\n",
       "      <td>138.000000</td>\n",
       "      <td>7.0</td>\n",
       "      <td>77.0</td>\n",
       "      <td>492</td>\n",
       "      <td>0</td>\n",
       "      <td>1</td>\n",
       "      <td>0</td>\n",
       "      <td>1</td>\n",
       "      <td>0</td>\n",
       "      <td>0</td>\n",
       "      <td>0</td>\n",
       "      <td>0</td>\n",
       "      <td>0</td>\n",
       "      <td>1</td>\n",
       "      <td>0</td>\n",
       "      <td>0</td>\n",
       "      <td>0</td>\n",
       "      <td>1</td>\n",
       "      <td>0</td>\n",
       "      <td>1</td>\n",
       "      <td>0</td>\n",
       "      <td>0</td>\n",
       "      <td>0</td>\n",
       "      <td>0</td>\n",
       "      <td>0</td>\n",
       "    </tr>\n",
       "    <tr>\n",
       "      <th>4</th>\n",
       "      <td>0</td>\n",
       "      <td>60.0</td>\n",
       "      <td>1.69</td>\n",
       "      <td>132.2</td>\n",
       "      <td>False</td>\n",
       "      <td>False</td>\n",
       "      <td>144.000000</td>\n",
       "      <td>7.0</td>\n",
       "      <td>70.0</td>\n",
       "      <td>608</td>\n",
       "      <td>0</td>\n",
       "      <td>1</td>\n",
       "      <td>0</td>\n",
       "      <td>1</td>\n",
       "      <td>0</td>\n",
       "      <td>0</td>\n",
       "      <td>0</td>\n",
       "      <td>0</td>\n",
       "      <td>0</td>\n",
       "      <td>1</td>\n",
       "      <td>0</td>\n",
       "      <td>0</td>\n",
       "      <td>0</td>\n",
       "      <td>1</td>\n",
       "      <td>0</td>\n",
       "      <td>1</td>\n",
       "      <td>0</td>\n",
       "      <td>0</td>\n",
       "      <td>0</td>\n",
       "      <td>0</td>\n",
       "      <td>0</td>\n",
       "    </tr>\n",
       "    <tr>\n",
       "      <th>...</th>\n",
       "      <td>...</td>\n",
       "      <td>...</td>\n",
       "      <td>...</td>\n",
       "      <td>...</td>\n",
       "      <td>...</td>\n",
       "      <td>...</td>\n",
       "      <td>...</td>\n",
       "      <td>...</td>\n",
       "      <td>...</td>\n",
       "      <td>...</td>\n",
       "      <td>...</td>\n",
       "      <td>...</td>\n",
       "      <td>...</td>\n",
       "      <td>...</td>\n",
       "      <td>...</td>\n",
       "      <td>...</td>\n",
       "      <td>...</td>\n",
       "      <td>...</td>\n",
       "      <td>...</td>\n",
       "      <td>...</td>\n",
       "      <td>...</td>\n",
       "      <td>...</td>\n",
       "      <td>...</td>\n",
       "      <td>...</td>\n",
       "      <td>...</td>\n",
       "      <td>...</td>\n",
       "      <td>...</td>\n",
       "      <td>...</td>\n",
       "      <td>...</td>\n",
       "      <td>...</td>\n",
       "      <td>...</td>\n",
       "    </tr>\n",
       "    <tr>\n",
       "      <th>6118</th>\n",
       "      <td>1366</td>\n",
       "      <td>37.0</td>\n",
       "      <td>1.78</td>\n",
       "      <td>68.0</td>\n",
       "      <td>True</td>\n",
       "      <td>False</td>\n",
       "      <td>118.333333</td>\n",
       "      <td>46.0</td>\n",
       "      <td>66.0</td>\n",
       "      <td>275</td>\n",
       "      <td>1</td>\n",
       "      <td>0</td>\n",
       "      <td>0</td>\n",
       "      <td>1</td>\n",
       "      <td>0</td>\n",
       "      <td>0</td>\n",
       "      <td>0</td>\n",
       "      <td>1</td>\n",
       "      <td>0</td>\n",
       "      <td>0</td>\n",
       "      <td>1</td>\n",
       "      <td>0</td>\n",
       "      <td>0</td>\n",
       "      <td>0</td>\n",
       "      <td>0</td>\n",
       "      <td>0</td>\n",
       "      <td>0</td>\n",
       "      <td>0</td>\n",
       "      <td>0</td>\n",
       "      <td>1</td>\n",
       "      <td>0</td>\n",
       "    </tr>\n",
       "    <tr>\n",
       "      <th>6119</th>\n",
       "      <td>1366</td>\n",
       "      <td>37.0</td>\n",
       "      <td>1.78</td>\n",
       "      <td>68.0</td>\n",
       "      <td>True</td>\n",
       "      <td>False</td>\n",
       "      <td>120.000000</td>\n",
       "      <td>63.0</td>\n",
       "      <td>61.0</td>\n",
       "      <td>359</td>\n",
       "      <td>1</td>\n",
       "      <td>0</td>\n",
       "      <td>0</td>\n",
       "      <td>1</td>\n",
       "      <td>0</td>\n",
       "      <td>0</td>\n",
       "      <td>0</td>\n",
       "      <td>1</td>\n",
       "      <td>0</td>\n",
       "      <td>0</td>\n",
       "      <td>1</td>\n",
       "      <td>0</td>\n",
       "      <td>0</td>\n",
       "      <td>0</td>\n",
       "      <td>0</td>\n",
       "      <td>0</td>\n",
       "      <td>0</td>\n",
       "      <td>0</td>\n",
       "      <td>0</td>\n",
       "      <td>1</td>\n",
       "      <td>0</td>\n",
       "    </tr>\n",
       "    <tr>\n",
       "      <th>6120</th>\n",
       "      <td>1366</td>\n",
       "      <td>37.0</td>\n",
       "      <td>1.78</td>\n",
       "      <td>68.0</td>\n",
       "      <td>True</td>\n",
       "      <td>False</td>\n",
       "      <td>118.333333</td>\n",
       "      <td>39.0</td>\n",
       "      <td>66.0</td>\n",
       "      <td>473</td>\n",
       "      <td>1</td>\n",
       "      <td>0</td>\n",
       "      <td>0</td>\n",
       "      <td>1</td>\n",
       "      <td>0</td>\n",
       "      <td>0</td>\n",
       "      <td>0</td>\n",
       "      <td>1</td>\n",
       "      <td>0</td>\n",
       "      <td>0</td>\n",
       "      <td>1</td>\n",
       "      <td>0</td>\n",
       "      <td>0</td>\n",
       "      <td>0</td>\n",
       "      <td>0</td>\n",
       "      <td>0</td>\n",
       "      <td>0</td>\n",
       "      <td>0</td>\n",
       "      <td>0</td>\n",
       "      <td>1</td>\n",
       "      <td>0</td>\n",
       "    </tr>\n",
       "    <tr>\n",
       "      <th>6121</th>\n",
       "      <td>1366</td>\n",
       "      <td>37.0</td>\n",
       "      <td>1.78</td>\n",
       "      <td>68.0</td>\n",
       "      <td>True</td>\n",
       "      <td>False</td>\n",
       "      <td>120.000000</td>\n",
       "      <td>45.0</td>\n",
       "      <td>61.0</td>\n",
       "      <td>535</td>\n",
       "      <td>1</td>\n",
       "      <td>0</td>\n",
       "      <td>0</td>\n",
       "      <td>1</td>\n",
       "      <td>0</td>\n",
       "      <td>0</td>\n",
       "      <td>0</td>\n",
       "      <td>1</td>\n",
       "      <td>0</td>\n",
       "      <td>0</td>\n",
       "      <td>1</td>\n",
       "      <td>0</td>\n",
       "      <td>0</td>\n",
       "      <td>0</td>\n",
       "      <td>0</td>\n",
       "      <td>0</td>\n",
       "      <td>0</td>\n",
       "      <td>0</td>\n",
       "      <td>0</td>\n",
       "      <td>1</td>\n",
       "      <td>0</td>\n",
       "    </tr>\n",
       "    <tr>\n",
       "      <th>6122</th>\n",
       "      <td>1366</td>\n",
       "      <td>38.0</td>\n",
       "      <td>1.78</td>\n",
       "      <td>68.0</td>\n",
       "      <td>True</td>\n",
       "      <td>False</td>\n",
       "      <td>115.000000</td>\n",
       "      <td>48.0</td>\n",
       "      <td>66.0</td>\n",
       "      <td>597</td>\n",
       "      <td>1</td>\n",
       "      <td>0</td>\n",
       "      <td>0</td>\n",
       "      <td>1</td>\n",
       "      <td>0</td>\n",
       "      <td>0</td>\n",
       "      <td>0</td>\n",
       "      <td>1</td>\n",
       "      <td>0</td>\n",
       "      <td>0</td>\n",
       "      <td>1</td>\n",
       "      <td>0</td>\n",
       "      <td>0</td>\n",
       "      <td>0</td>\n",
       "      <td>0</td>\n",
       "      <td>0</td>\n",
       "      <td>0</td>\n",
       "      <td>0</td>\n",
       "      <td>0</td>\n",
       "      <td>1</td>\n",
       "      <td>0</td>\n",
       "    </tr>\n",
       "  </tbody>\n",
       "</table>\n",
       "<p>6123 rows × 31 columns</p>\n",
       "</div>"
      ],
      "text/plain": [
       "        ID   age  height  ...  disease_Other  disease_Transplant  disease_Vascular\n",
       "0        0  59.0    1.69  ...              0                   0                 0\n",
       "1        0  59.0    1.69  ...              0                   0                 0\n",
       "2        0  59.0    1.69  ...              0                   0                 0\n",
       "3        0  60.0    1.69  ...              0                   0                 0\n",
       "4        0  60.0    1.69  ...              0                   0                 0\n",
       "...    ...   ...     ...  ...            ...                 ...               ...\n",
       "6118  1366  37.0    1.78  ...              0                   1                 0\n",
       "6119  1366  37.0    1.78  ...              0                   1                 0\n",
       "6120  1366  37.0    1.78  ...              0                   1                 0\n",
       "6121  1366  37.0    1.78  ...              0                   1                 0\n",
       "6122  1366  38.0    1.78  ...              0                   1                 0\n",
       "\n",
       "[6123 rows x 31 columns]"
      ]
     },
     "execution_count": 11,
     "metadata": {
      "tags": []
     },
     "output_type": "execute_result"
    }
   ],
   "source": [
    "data_train_full"
   ]
  },
  {
   "cell_type": "markdown",
   "metadata": {
    "id": "jqp2b--jaK04"
   },
   "source": [
    "# Analysis"
   ]
  },
  {
   "cell_type": "markdown",
   "metadata": {
    "id": "EIB0YU8xk4DS"
   },
   "source": [
    "## Hyperparameter tuning for GPBoost"
   ]
  },
  {
   "cell_type": "markdown",
   "metadata": {
    "id": "alprwo9_n-xN"
   },
   "source": [
    "### Random Intercept"
   ]
  },
  {
   "cell_type": "code",
   "execution_count": null,
   "metadata": {
    "colab": {
     "background_save": true,
     "base_uri": "https://localhost:8080/"
    },
    "id": "dKKE4Cm3e5P2",
    "outputId": "9ddf28c4-56b4-478a-c906-cc2fd8b07bb7"
   },
   "outputs": [
    {
     "name": "stdout",
     "output_type": "stream",
     "text": [
      "Starting deterministic grid search with 45 parameter combinations...\n",
      "Trying parameter combination 1 of 45: {'learning_rate': 0.5, 'max_depth': 1, 'min_data_in_leaf': 10} ...\n",
      "***** New best score (23.927823484778695) found for the following parameter combination:\n",
      "{'learning_rate': 0.5, 'max_depth': 1, 'min_data_in_leaf': 10, 'num_boost_round': 1037.2}\n",
      "Trying parameter combination 2 of 45: {'learning_rate': 0.8, 'max_depth': 1, 'min_data_in_leaf': 10} ...\n",
      "***** New best score (23.924610422856738) found for the following parameter combination:\n",
      "{'learning_rate': 0.8, 'max_depth': 1, 'min_data_in_leaf': 10, 'num_boost_round': 690.0}\n",
      "Trying parameter combination 3 of 45: {'learning_rate': 1.0, 'max_depth': 1, 'min_data_in_leaf': 10} ...\n",
      "Trying parameter combination 4 of 45: {'learning_rate': 1.2, 'max_depth': 1, 'min_data_in_leaf': 10} ...\n",
      "***** New best score (23.924079555485964) found for the following parameter combination:\n",
      "{'learning_rate': 1.2, 'max_depth': 1, 'min_data_in_leaf': 10, 'num_boost_round': 458.6}\n",
      "Trying parameter combination 5 of 45: {'learning_rate': 1.5, 'max_depth': 1, 'min_data_in_leaf': 10} ...\n",
      "Trying parameter combination 6 of 45: {'learning_rate': 0.5, 'max_depth': 5, 'min_data_in_leaf': 10} ...\n"
     ]
    }
   ],
   "source": [
    "# Candidate parameter grid\n",
    "param_grid = {'learning_rate': [0.5, 0.8, 1.0, 1.2, 1.5], \n",
    "              'max_depth': [1, 5, 10],\n",
    "              'min_data_in_leaf': [10, 50, 100]}\n",
    "\n",
    "# Other parameters not contained in the grid of tuning parameters\n",
    "params = {'objective': 'regression_l2', 'verbose': 0, 'num_leaves': 2**10}\n",
    "opt_params = grid_search_tune_parameters_multiple(data_cv_list=data_cv_list,\n",
    "                                                  dataset_list=dataset_list,\n",
    "                                                  param_grid=param_grid,\n",
    "                                                  params=params,\n",
    "                                                  folds_list=data_cv_indices_list,\n",
    "                                                  use_gp_model_for_validation=True,\n",
    "                                                  verbose_eval=1,\n",
    "                                                  num_boost_round=4000, \n",
    "                                                  early_stopping_rounds=10,\n",
    "                                                  shuffle=False,\n",
    "                                                  seed=1,\n",
    "                                                  metrics='rmse',\n",
    "                                                  gp_model_type='Random Intercept')\n",
    "print('Best number of iterations: ', opt_params['best_iter'])\n",
    "print('Best score: ', opt_params['best_score'])\n",
    "print('Best parameters: ', opt_params['best_params'])"
   ]
  },
  {
   "cell_type": "markdown",
   "metadata": {
    "id": "DFMfKwohppvO"
   },
   "source": [
    "### Independent GP"
   ]
  },
  {
   "cell_type": "code",
   "execution_count": null,
   "metadata": {
    "colab": {
     "base_uri": "https://localhost:8080/"
    },
    "executionInfo": {
     "elapsed": 6528212,
     "status": "ok",
     "timestamp": 1626252775246,
     "user": {
      "displayName": "Jeria Kua",
      "photoUrl": "",
      "userId": "01722788589990916725"
     },
     "user_tz": -480
    },
    "id": "vkr7c0MA1DYq",
    "outputId": "f59200a6-701a-4515-b786-5bbeffecf583"
   },
   "outputs": [
    {
     "name": "stdout",
     "output_type": "stream",
     "text": [
      "Starting deterministic grid search with 27 parameter combinations...\n",
      "Trying parameter combination 1 of 27: {'learning_rate': 0.8, 'max_depth': 1, 'min_data_in_leaf': 10} ...\n",
      "***** New best score (23.884840634963826) found for the following parameter combination:\n",
      "{'learning_rate': 0.8, 'max_depth': 1, 'min_data_in_leaf': 10, 'num_boost_round': 789.8}\n",
      "Trying parameter combination 2 of 27: {'learning_rate': 1.0, 'max_depth': 1, 'min_data_in_leaf': 10} ...\n",
      "***** New best score (23.88305850275598) found for the following parameter combination:\n",
      "{'learning_rate': 1.0, 'max_depth': 1, 'min_data_in_leaf': 10, 'num_boost_round': 647.8}\n",
      "Trying parameter combination 3 of 27: {'learning_rate': 1.2, 'max_depth': 1, 'min_data_in_leaf': 10} ...\n",
      "***** New best score (23.88263448387105) found for the following parameter combination:\n",
      "{'learning_rate': 1.2, 'max_depth': 1, 'min_data_in_leaf': 10, 'num_boost_round': 542.2}\n",
      "Trying parameter combination 4 of 27: {'learning_rate': 0.8, 'max_depth': 5, 'min_data_in_leaf': 10} ...\n",
      "***** New best score (17.894634275264586) found for the following parameter combination:\n",
      "{'learning_rate': 0.8, 'max_depth': 5, 'min_data_in_leaf': 10, 'num_boost_round': 2449.6}\n",
      "Trying parameter combination 5 of 27: {'learning_rate': 1.0, 'max_depth': 5, 'min_data_in_leaf': 10} ...\n",
      "Trying parameter combination 6 of 27: {'learning_rate': 1.2, 'max_depth': 5, 'min_data_in_leaf': 10} ...\n",
      "Trying parameter combination 7 of 27: {'learning_rate': 0.8, 'max_depth': 10, 'min_data_in_leaf': 10} ...\n",
      "Trying parameter combination 8 of 27: {'learning_rate': 1.0, 'max_depth': 10, 'min_data_in_leaf': 10} ...\n",
      "***** New best score (17.26532010559012) found for the following parameter combination:\n",
      "{'learning_rate': 1.0, 'max_depth': 10, 'min_data_in_leaf': 10, 'num_boost_round': 2170.6}\n",
      "Trying parameter combination 9 of 27: {'learning_rate': 1.2, 'max_depth': 10, 'min_data_in_leaf': 10} ...\n",
      "***** New best score (17.22126554017881) found for the following parameter combination:\n",
      "{'learning_rate': 1.2, 'max_depth': 10, 'min_data_in_leaf': 10, 'num_boost_round': 1882.4}\n",
      "Trying parameter combination 10 of 27: {'learning_rate': 0.8, 'max_depth': 1, 'min_data_in_leaf': 50} ...\n",
      "Trying parameter combination 11 of 27: {'learning_rate': 1.0, 'max_depth': 1, 'min_data_in_leaf': 50} ...\n",
      "Trying parameter combination 12 of 27: {'learning_rate': 1.2, 'max_depth': 1, 'min_data_in_leaf': 50} ...\n",
      "Trying parameter combination 13 of 27: {'learning_rate': 0.8, 'max_depth': 5, 'min_data_in_leaf': 50} ...\n",
      "Trying parameter combination 14 of 27: {'learning_rate': 1.0, 'max_depth': 5, 'min_data_in_leaf': 50} ...\n",
      "Trying parameter combination 15 of 27: {'learning_rate': 1.2, 'max_depth': 5, 'min_data_in_leaf': 50} ...\n",
      "***** New best score (17.168502782392842) found for the following parameter combination:\n",
      "{'learning_rate': 1.2, 'max_depth': 5, 'min_data_in_leaf': 50, 'num_boost_round': 2254.0}\n",
      "Trying parameter combination 16 of 27: {'learning_rate': 0.8, 'max_depth': 10, 'min_data_in_leaf': 50} ...\n",
      "Trying parameter combination 17 of 27: {'learning_rate': 1.0, 'max_depth': 10, 'min_data_in_leaf': 50} ...\n",
      "Trying parameter combination 18 of 27: {'learning_rate': 1.2, 'max_depth': 10, 'min_data_in_leaf': 50} ...\n",
      "Trying parameter combination 19 of 27: {'learning_rate': 0.8, 'max_depth': 1, 'min_data_in_leaf': 100} ...\n",
      "Trying parameter combination 20 of 27: {'learning_rate': 1.0, 'max_depth': 1, 'min_data_in_leaf': 100} ...\n",
      "Trying parameter combination 21 of 27: {'learning_rate': 1.2, 'max_depth': 1, 'min_data_in_leaf': 100} ...\n",
      "Trying parameter combination 22 of 27: {'learning_rate': 0.8, 'max_depth': 5, 'min_data_in_leaf': 100} ...\n",
      "***** New best score (17.102767980612516) found for the following parameter combination:\n",
      "{'learning_rate': 0.8, 'max_depth': 5, 'min_data_in_leaf': 100, 'num_boost_round': 3313.8}\n",
      "Trying parameter combination 23 of 27: {'learning_rate': 1.0, 'max_depth': 5, 'min_data_in_leaf': 100} ...\n",
      "***** New best score (17.03093247544446) found for the following parameter combination:\n",
      "{'learning_rate': 1.0, 'max_depth': 5, 'min_data_in_leaf': 100, 'num_boost_round': 2912.2}\n",
      "Trying parameter combination 24 of 27: {'learning_rate': 1.2, 'max_depth': 5, 'min_data_in_leaf': 100} ...\n",
      "***** New best score (17.02964433901145) found for the following parameter combination:\n",
      "{'learning_rate': 1.2, 'max_depth': 5, 'min_data_in_leaf': 100, 'num_boost_round': 2342.8}\n",
      "Trying parameter combination 25 of 27: {'learning_rate': 0.8, 'max_depth': 10, 'min_data_in_leaf': 100} ...\n",
      "Trying parameter combination 26 of 27: {'learning_rate': 1.0, 'max_depth': 10, 'min_data_in_leaf': 100} ...\n",
      "Trying parameter combination 27 of 27: {'learning_rate': 1.2, 'max_depth': 10, 'min_data_in_leaf': 100} ...\n",
      "Best number of iterations:  2342.8\n",
      "Best score:  17.02964433901145\n",
      "Best parameters:  {'learning_rate': 1.2, 'max_depth': 5, 'min_data_in_leaf': 100}\n"
     ]
    }
   ],
   "source": [
    "# Candidate parameter grid\n",
    "param_grid = {'learning_rate': [0.8, 1, 1.2], \n",
    "              'max_depth': [1, 5, 10],\n",
    "              'min_data_in_leaf': [10, 50, 100]}\n",
    "\n",
    "# Other parameters not contained in the grid of tuning parameters\n",
    "params = {'objective': 'regression_l2', 'verbose': 0, 'num_leaves': 2**10}\n",
    "opt_params = grid_search_tune_parameters_multiple(data_cv_list=data_cv_list,\n",
    "                                                  dataset_list=dataset_list,\n",
    "                                                  param_grid=param_grid,\n",
    "                                                  params=params,\n",
    "                                                  folds_list=data_cv_indices_list,\n",
    "                                                  use_gp_model_for_validation=True,\n",
    "                                                  verbose_eval=1,\n",
    "                                                  num_boost_round=4000, \n",
    "                                                  early_stopping_rounds=10,\n",
    "                                                  shuffle=False,\n",
    "                                                  seed=1,\n",
    "                                                  metrics='rmse',\n",
    "                                                  gp_model_type='Individual GP')\n",
    "print('Best number of iterations: ', opt_params['best_iter'])\n",
    "print('Best score: ', opt_params['best_score'])\n",
    "print('Best parameters: ', opt_params['best_params'])"
   ]
  },
  {
   "cell_type": "markdown",
   "metadata": {
    "id": "f9qFEFV5g-n4"
   },
   "source": [
    "## Comparison of models"
   ]
  },
  {
   "cell_type": "code",
   "execution_count": 12,
   "metadata": {
    "executionInfo": {
     "elapsed": 283,
     "status": "ok",
     "timestamp": 1628066989168,
     "user": {
      "displayName": "Jeria Kua",
      "photoUrl": "",
      "userId": "01722788589990916725"
     },
     "user_tz": -480
    },
    "id": "DmIs9YF1NW2p"
   },
   "outputs": [],
   "source": [
    "# Create results dataframe\n",
    "results = pd.DataFrame(columns=['RMSE_extrapolation', 'RMSE_interpolation', 'Time'],\n",
    "                       index=['Linear Mixed Effects Model with no fixed features (random intercept)',\n",
    "                              'Linear Mixed Effects Model with Random Intercept',\n",
    "                              'Linear Mixed Effects Model with Shared Gaussian Process',\n",
    "                              'Linear Mixed Effects Model with Individual Gaussian Process',\n",
    "                              'MERF',\n",
    "                              'GPBoost with Random Intercept',\n",
    "                              'GPBoost with Shared Gaussian Process',\n",
    "                              'GPBoost with Individual Gaussian Process'])"
   ]
  },
  {
   "cell_type": "code",
   "execution_count": 13,
   "metadata": {
    "executionInfo": {
     "elapsed": 3,
     "status": "ok",
     "timestamp": 1628066990291,
     "user": {
      "displayName": "Jeria Kua",
      "photoUrl": "",
      "userId": "01722788589990916725"
     },
     "user_tz": -480
    },
    "id": "Piv82t9fhshs"
   },
   "outputs": [],
   "source": [
    "train_X_features = train_X.drop(columns=['ID', 'times'])\n",
    "test_extrapolation_X_features = test_extrapolation_X.drop(columns=['ID', 'times'])\n",
    "test_interpolation_X_features = test_interpolation_X.drop(columns=['ID', 'times'])\n",
    "\n",
    "train_X2_features = train_X2.drop(columns=['ID', 'times'])\n",
    "test_extrapolation_X2_features = test_extrapolation_X2.drop(columns=['ID', 'times'])\n",
    "test_interpolation_X2_features = test_interpolation_X2.drop(columns=['ID', 'times'])\n",
    "train_X2_linear = np.column_stack((np.ones(len(train_X2_features)), train_X2_features))\n",
    "test_extrapolation_X2_linear = np.column_stack((np.ones(len(test_extrapolation_X2_features)), test_extrapolation_X2_features))\n",
    "test_interpolation_X2_linear = np.column_stack((np.ones(len(test_interpolation_X2_features)), test_interpolation_X2_features))\n",
    "\n",
    "train_Z = np.column_stack((np.ones(len(train_X)), train_X['times']))\n",
    "test_extrapolation_Z = np.column_stack((np.ones(len(test_extrapolation_X)), test_extrapolation_X['times']))\n",
    "test_interpolation_Z = np.column_stack((np.ones(len(test_interpolation_X)), test_interpolation_X['times']))"
   ]
  },
  {
   "cell_type": "code",
   "execution_count": null,
   "metadata": {
    "id": "L_B-oGmgvt15"
   },
   "outputs": [],
   "source": [
    "# 1. Linear Mixed Effects Model with no fixed features (random intercept)\n",
    "np.random.seed(1)\n",
    "model = gpb.GPModel(group_data=np.column_stack((train_X2['ID'], train_X2['times'])))\n",
    "model.set_optim_params(params={'optimizer_cov': 'gradient_descent', 'use_nesterov_acc': True})\n",
    "\n",
    "start_time = time.time()\n",
    "model.fit(y=train_y, X=np.ones(len(train_X2)))\n",
    "results.loc['Linear Mixed Effects Model with no fixed features (random intercept)', 'Time'] = time.time() - start_time\n",
    "y_pred_extrapolation = model.predict(group_data_pred=np.column_stack((test_extrapolation_X2['ID'], test_extrapolation_X2['times'])),\n",
    "                                     X_pred=np.ones(len(test_extrapolation_X2)))\n",
    "results.loc['Linear Mixed Effects Model with no fixed features (random intercept)', 'RMSE_extrapolation'] = np.sqrt(np.mean((test_extrapolation_y-y_pred_extrapolation['mu'])**2))\n",
    "y_pred_interpolation = model.predict(group_data_pred=np.column_stack((test_interpolation_X2['ID'], test_interpolation_X2['times'])),\n",
    "                                     X_pred=np.ones(len(test_interpolation_X2)))\n",
    "results.loc['Linear Mixed Effects Model with no fixed features (random intercept)', 'RMSE_interpolation'] = np.sqrt(np.mean((test_interpolation_y-y_pred_interpolation['mu'])**2))"
   ]
  },
  {
   "cell_type": "code",
   "execution_count": null,
   "metadata": {
    "id": "8Sop4LCihBY2"
   },
   "outputs": [],
   "source": [
    "# 2. Linear Mixed Effects Model with Random Intercept\n",
    "np.random.seed(1)\n",
    "model = gpb.GPModel(group_data=np.column_stack((train_X2['ID'], train_X2['times'])))\n",
    "model.set_optim_params(params={'optimizer_cov': 'gradient_descent', 'use_nesterov_acc': True})\n",
    "\n",
    "start_time = time.time()\n",
    "model.fit(y=train_y, X=train_X2_linear)\n",
    "results.loc['Linear Mixed Effects Model with Random Intercept', 'Time'] = time.time() - start_time\n",
    "y_pred_extrapolation = model.predict(group_data_pred=np.column_stack((test_extrapolation_X2['ID'], test_extrapolation_X2['times'])),\n",
    "                                     X_pred=test_extrapolation_X2_linear)\n",
    "results.loc['Linear Mixed Effects Model with Random Intercept', 'RMSE_extrapolation'] = np.sqrt(np.mean((test_extrapolation_y-y_pred_extrapolation['mu'])**2))\n",
    "y_pred_interpolation = model.predict(group_data_pred=np.column_stack((test_interpolation_X2['ID'], test_interpolation_X2['times'])),\n",
    "                                     X_pred=test_interpolation_X2_linear)\n",
    "results.loc['Linear Mixed Effects Model with Random Intercept', 'RMSE_interpolation'] = np.sqrt(np.mean((test_interpolation_y-y_pred_interpolation['mu'])**2))"
   ]
  },
  {
   "cell_type": "code",
   "execution_count": null,
   "metadata": {
    "id": "GvQHHbxShBcg"
   },
   "outputs": [],
   "source": [
    "# 3. Linear Mixed Effects Model with Shared Gaussian Process\n",
    "np.random.seed(1)\n",
    "model = gpb.GPModel(group_data=train_X2['ID'], gp_coords=train_X2['times'], cov_function='exponential')\n",
    "model.set_optim_params(params={'optimizer_cov': 'gradient_descent', 'use_nesterov_acc': True})\n",
    "\n",
    "start_time = time.time()\n",
    "model.fit(y=train_y, X=train_X2_linear)\n",
    "results.loc['Linear Mixed Effects Model with Shared Gaussian Process', 'Time'] = time.time() - start_time\n",
    "y_pred_extrapolation = model.predict(group_data_pred=test_extrapolation_X2['ID'],\n",
    "                                     gp_coords_pred=test_extrapolation_X2['times'],\n",
    "                                     X_pred=test_extrapolation_X2_linear)\n",
    "results.loc['Linear Mixed Effects Model with Shared Gaussian Process', 'RMSE_extrapolation'] = np.sqrt(np.mean((test_extrapolation_y-y_pred_extrapolation['mu'])**2))\n",
    "y_pred_interpolation = model.predict(group_data_pred=test_interpolation_X2['ID'],\n",
    "                                     gp_coords_pred=test_interpolation_X2['times'],\n",
    "                                     X_pred=test_interpolation_X2_linear)\n",
    "results.loc['Linear Mixed Effects Model with Shared Gaussian Process', 'RMSE_interpolation'] = np.sqrt(np.mean((test_interpolation_y-y_pred_interpolation['mu'])**2))"
   ]
  },
  {
   "cell_type": "code",
   "execution_count": null,
   "metadata": {
    "id": "etEOmPLwhBgv"
   },
   "outputs": [],
   "source": [
    "# 4. Linear Mixed Effects Model with Individual Gaussian Process\n",
    "np.random.seed(1)\n",
    "model = gpb.GPModel(group_data=train_X2['ID'], gp_coords=train_X2['times'], cluster_ids=train_X2['ID'], cov_function='exponential')\n",
    "model.set_optim_params(params={'optimizer_cov': 'gradient_descent', 'use_nesterov_acc': True})\n",
    "\n",
    "start_time = time.time()\n",
    "model.fit(y=train_y, X=train_X2_linear)\n",
    "results.loc['Linear Mixed Effects Model with Individual Gaussian Process', 'Time'] = time.time() - start_time\n",
    "y_pred_extrapolation = model.predict(group_data_pred=test_extrapolation_X2['ID'],\n",
    "                                     gp_coords_pred=test_extrapolation_X2['times'],\n",
    "                                     cluster_ids_pred=test_extrapolation_X2['ID'],\n",
    "                                     X_pred=test_extrapolation_X2_linear)\n",
    "results.loc['Linear Mixed Effects Model with Individual Gaussian Process', 'RMSE_extrapolation'] = np.sqrt(np.mean((test_extrapolation_y-y_pred_extrapolation['mu'])**2))\n",
    "y_pred_interpolation = model.predict(group_data_pred=test_interpolation_X2['ID'],\n",
    "                                     gp_coords_pred=test_interpolation_X2['times'],\n",
    "                                     cluster_ids_pred=test_interpolation_X2['ID'],\n",
    "                                     X_pred=test_interpolation_X2_linear)\n",
    "results.loc['Linear Mixed Effects Model with Individual Gaussian Process', 'RMSE_interpolation'] = np.sqrt(np.mean((test_interpolation_y-y_pred_interpolation['mu'])**2))"
   ]
  },
  {
   "cell_type": "code",
   "execution_count": null,
   "metadata": {
    "id": "iHklwE9ONW5X"
   },
   "outputs": [],
   "source": [
    "# 5. MERF\n",
    "np.random.seed(1)\n",
    "fixed_effects_model= RandomForestRegressor(n_estimators=100, n_jobs=-1, random_state=1)\n",
    "merf_model = MERF(fixed_effects_model, max_iterations=30)\n",
    "\n",
    "start_time = time.time()\n",
    "merf_model.fit(train_X_features, train_Z, train_X['ID'], train_y)\n",
    "results.loc['MERF', 'Time'] = time.time() - start_time\n",
    "y_pred_extrapolation = merf_model.predict(test_extrapolation_X_features, test_extrapolation_Z, test_extrapolation_X['ID'])\n",
    "results.loc['MERF', 'RMSE_extrapolation'] = np.sqrt(np.mean((test_extrapolation_y-y_pred_extrapolation)**2))\n",
    "y_pred_interpolation = merf_model.predict(test_interpolation_X_features, test_interpolation_Z, test_interpolation_X['ID'])\n",
    "results.loc['MERF', 'RMSE_interpolation'] = np.sqrt(np.mean((test_interpolation_y-y_pred_interpolation)**2))"
   ]
  },
  {
   "cell_type": "code",
   "execution_count": null,
   "metadata": {
    "id": "fzxz9hXhmGc2"
   },
   "outputs": [],
   "source": [
    "# 6. GPBoost with Random Intercept\n",
    "np.random.seed(1)\n",
    "gp_model = gpb.GPModel(group_data=np.column_stack((train_X['ID'], train_X['times'])))\n",
    "gp_model.set_optim_params(params={'optimizer_cov': 'gradient_descent', 'use_nesterov_acc': True})\n",
    "params = {'objective': 'regression_l2',\n",
    "          'learning_rate': 1.5,\n",
    "          'max_depth': 5,\n",
    "          'min_data_in_leaf': 100,\n",
    "          'verbose': 0}\n",
    "\n",
    "start_time = time.time()\n",
    "bst = gpb.train(params=params,\n",
    "                train_set=data_train_full_gpb,\n",
    "                gp_model=gp_model,\n",
    "                num_boost_round=1847)\n",
    "results.loc['GPBoost with Random Intercept', 'Time'] = time.time() - start_time\n",
    "pred_extrapolation = bst.predict(data=test_extrapolation_X_features, group_data_pred=np.column_stack((test_extrapolation_X['ID'], test_extrapolation_X['times'])))\n",
    "y_pred_extrapolation = pred_extrapolation['fixed_effect'] + pred_extrapolation['random_effect_mean']\n",
    "results.loc['GPBoost with Random Intercept', 'RMSE_extrapolation'] = np.sqrt(np.mean((test_extrapolation_y-y_pred_extrapolation)**2))\n",
    "pred_interpolation = bst.predict(data=test_interpolation_X_features, group_data_pred=np.column_stack((test_interpolation_X['ID'], test_interpolation_X['times'])))\n",
    "y_pred_interpolation = pred_interpolation['fixed_effect'] + pred_interpolation['random_effect_mean']\n",
    "results.loc['GPBoost with Random Intercept', 'RMSE_interpolation'] = np.sqrt(np.mean((test_interpolation_y-y_pred_interpolation)**2))"
   ]
  },
  {
   "cell_type": "code",
   "execution_count": null,
   "metadata": {
    "id": "4tinITS-mGgZ"
   },
   "outputs": [],
   "source": [
    "# 7. GPBoost with Shared Gaussian Process\n",
    "np.random.seed(1)\n",
    "gp_model = gpb.GPModel(group_data=train_X['ID'], gp_coords=train_X['times'])\n",
    "gp_model.set_optim_params(params={'optimizer_cov': 'gradient_descent', 'use_nesterov_acc': True})\n",
    "params = {'objective': 'regression_l2',\n",
    "          'learning_rate': 1.2,\n",
    "          'max_depth': 5,\n",
    "          'min_data_in_leaf': 100,\n",
    "          'verbose': 0}\n",
    "\n",
    "start_time = time.time()\n",
    "bst = gpb.train(params=params,\n",
    "                train_set=data_train_full_gpb,\n",
    "                gp_model=gp_model,\n",
    "                num_boost_round=2343)\n",
    "results.loc['GPBoost with Shared Gaussian Process', 'Time'] = time.time() - start_time\n",
    "pred_extrapolation = bst.predict(data=test_extrapolation_X_features,\n",
    "                                 group_data_pred=test_extrapolation_X['ID'],\n",
    "                                 gp_coords_pred=test_extrapolation_X['times'])\n",
    "y_pred_extrapolation = pred_extrapolation['fixed_effect'] + pred_extrapolation['random_effect_mean']\n",
    "results.loc['GPBoost with Shared Gaussian Process', 'RMSE_extrapolation'] = np.sqrt(np.mean((test_extrapolation_y-y_pred_extrapolation)**2))\n",
    "pred_interpolation = bst.predict(data=test_interpolation_X_features,\n",
    "                                 group_data_pred=test_interpolation_X['ID'],\n",
    "                                 gp_coords_pred=test_interpolation_X['times'])\n",
    "y_pred_interpolation = pred_interpolation['fixed_effect'] + pred_interpolation['random_effect_mean']\n",
    "results.loc['GPBoost with Shared Gaussian Process', 'RMSE_interpolation'] = np.sqrt(np.mean((test_interpolation_y-y_pred_interpolation)**2))"
   ]
  },
  {
   "cell_type": "code",
   "execution_count": 14,
   "metadata": {
    "executionInfo": {
     "elapsed": 72185,
     "status": "ok",
     "timestamp": 1628067066674,
     "user": {
      "displayName": "Jeria Kua",
      "photoUrl": "",
      "userId": "01722788589990916725"
     },
     "user_tz": -480
    },
    "id": "GzD838OCmGpB"
   },
   "outputs": [],
   "source": [
    "# 8. GPBoost with Individual Gaussian Process\n",
    "np.random.seed(1)\n",
    "gp_model = gpb.GPModel(group_data=train_X['ID'], gp_coords=train_X['times'], cluster_ids=train_X['ID'])\n",
    "gp_model.set_optim_params(params={'optimizer_cov': 'gradient_descent', 'use_nesterov_acc': True})\n",
    "params = {'objective': 'regression_l2',\n",
    "          'learning_rate': 1.2,\n",
    "          'max_depth': 5,\n",
    "          'min_data_in_leaf': 100,\n",
    "          'verbose': 0}\n",
    "\n",
    "start_time = time.time()\n",
    "bst = gpb.train(params=params,\n",
    "                train_set=data_train_full_gpb,\n",
    "                gp_model=gp_model,\n",
    "                num_boost_round=2343)\n",
    "results.loc['GPBoost with Individual Gaussian Process', 'Time'] = time.time() - start_time\n",
    "pred_extrapolation = bst.predict(data=test_extrapolation_X_features,\n",
    "                                 group_data_pred=test_extrapolation_X['ID'],\n",
    "                                 gp_coords_pred=test_extrapolation_X['times'],\n",
    "                                 cluster_ids_pred=test_extrapolation_X['ID'])\n",
    "y_pred_extrapolation = pred_extrapolation['fixed_effect'] + pred_extrapolation['random_effect_mean']\n",
    "results.loc['GPBoost with Individual Gaussian Process', 'RMSE_extrapolation'] = np.sqrt(np.mean((test_extrapolation_y-y_pred_extrapolation)**2))\n",
    "pred_interpolation = bst.predict(data=test_interpolation_X_features,\n",
    "                                 group_data_pred=test_interpolation_X['ID'],\n",
    "                                 gp_coords_pred=test_interpolation_X['times'],\n",
    "                                 cluster_ids_pred=test_interpolation_X['ID'])\n",
    "y_pred_interpolation = pred_interpolation['fixed_effect'] + pred_interpolation['random_effect_mean']\n",
    "results.loc['GPBoost with Individual Gaussian Process', 'RMSE_interpolation'] = np.sqrt(np.mean((test_interpolation_y-y_pred_interpolation)**2))"
   ]
  },
  {
   "cell_type": "code",
   "execution_count": null,
   "metadata": {
    "colab": {
     "base_uri": "https://localhost:8080/",
     "height": 297
    },
    "executionInfo": {
     "elapsed": 321,
     "status": "ok",
     "timestamp": 1627799853392,
     "user": {
      "displayName": "Jeria Kua",
      "photoUrl": "",
      "userId": "01722788589990916725"
     },
     "user_tz": -480
    },
    "id": "yEZx0BQVsLsM",
    "outputId": "d089678b-71f1-4a7c-e27b-7b5f972ddb35"
   },
   "outputs": [
    {
     "data": {
      "text/html": [
       "<div>\n",
       "<style scoped>\n",
       "    .dataframe tbody tr th:only-of-type {\n",
       "        vertical-align: middle;\n",
       "    }\n",
       "\n",
       "    .dataframe tbody tr th {\n",
       "        vertical-align: top;\n",
       "    }\n",
       "\n",
       "    .dataframe thead th {\n",
       "        text-align: right;\n",
       "    }\n",
       "</style>\n",
       "<table border=\"1\" class=\"dataframe\">\n",
       "  <thead>\n",
       "    <tr style=\"text-align: right;\">\n",
       "      <th></th>\n",
       "      <th>RMSE_extrapolation</th>\n",
       "      <th>RMSE_interpolation</th>\n",
       "      <th>Time</th>\n",
       "    </tr>\n",
       "  </thead>\n",
       "  <tbody>\n",
       "    <tr>\n",
       "      <th>Linear Mixed Effects Model with no fixed features (random intercept)</th>\n",
       "      <td>26.4524</td>\n",
       "      <td>12.8361</td>\n",
       "      <td>10.296</td>\n",
       "    </tr>\n",
       "    <tr>\n",
       "      <th>Linear Mixed Effects Model with Random Intercept</th>\n",
       "      <td>20.527</td>\n",
       "      <td>11.7726</td>\n",
       "      <td>2.07577</td>\n",
       "    </tr>\n",
       "    <tr>\n",
       "      <th>Linear Mixed Effects Model with Shared Gaussian Process</th>\n",
       "      <td>NaN</td>\n",
       "      <td>NaN</td>\n",
       "      <td>NaN</td>\n",
       "    </tr>\n",
       "    <tr>\n",
       "      <th>Linear Mixed Effects Model with Individual Gaussian Process</th>\n",
       "      <td>NaN</td>\n",
       "      <td>NaN</td>\n",
       "      <td>NaN</td>\n",
       "    </tr>\n",
       "    <tr>\n",
       "      <th>MERF</th>\n",
       "      <td>NaN</td>\n",
       "      <td>NaN</td>\n",
       "      <td>NaN</td>\n",
       "    </tr>\n",
       "    <tr>\n",
       "      <th>GPBoost with Random Intercept</th>\n",
       "      <td>19.2385</td>\n",
       "      <td>10.7464</td>\n",
       "      <td>622.12</td>\n",
       "    </tr>\n",
       "    <tr>\n",
       "      <th>GPBoost with Shared Gaussian Process</th>\n",
       "      <td>NaN</td>\n",
       "      <td>NaN</td>\n",
       "      <td>NaN</td>\n",
       "    </tr>\n",
       "    <tr>\n",
       "      <th>GPBoost with Individual Gaussian Process</th>\n",
       "      <td>NaN</td>\n",
       "      <td>NaN</td>\n",
       "      <td>NaN</td>\n",
       "    </tr>\n",
       "  </tbody>\n",
       "</table>\n",
       "</div>"
      ],
      "text/plain": [
       "                                                   RMSE_extrapolation  ...     Time\n",
       "Linear Mixed Effects Model with no fixed featur...            26.4524  ...   10.296\n",
       "Linear Mixed Effects Model with Random Intercept               20.527  ...  2.07577\n",
       "Linear Mixed Effects Model with Shared Gaussian...                NaN  ...      NaN\n",
       "Linear Mixed Effects Model with Individual Gaus...                NaN  ...      NaN\n",
       "MERF                                                              NaN  ...      NaN\n",
       "GPBoost with Random Intercept                                 19.2385  ...   622.12\n",
       "GPBoost with Shared Gaussian Process                              NaN  ...      NaN\n",
       "GPBoost with Individual Gaussian Process                          NaN  ...      NaN\n",
       "\n",
       "[8 rows x 3 columns]"
      ]
     },
     "execution_count": 22,
     "metadata": {
      "tags": []
     },
     "output_type": "execute_result"
    }
   ],
   "source": [
    "results"
   ]
  },
  {
   "cell_type": "markdown",
   "metadata": {
    "id": "M4VVrpR6h9I8"
   },
   "source": [
    "# Feature importance"
   ]
  },
  {
   "cell_type": "code",
   "execution_count": null,
   "metadata": {
    "colab": {
     "base_uri": "https://localhost:8080/",
     "height": 585
    },
    "executionInfo": {
     "elapsed": 16226,
     "status": "ok",
     "timestamp": 1626412605123,
     "user": {
      "displayName": "Jeria Kua",
      "photoUrl": "",
      "userId": "01722788589990916725"
     },
     "user_tz": -480
    },
    "id": "qNoVR5iCh_Lo",
    "outputId": "39c2ed85-190a-48cd-dd70-34f2dd757358"
   },
   "outputs": [
    {
     "data": {
      "image/png": "[encoded data removed]",
      "text/plain": [
       "<Figure size 576x684 with 2 Axes>"
      ]
     },
     "metadata": {
      "tags": []
     },
     "output_type": "display_data"
    }
   ],
   "source": [
    "# Extrapolation test set\n",
    "shap_values = shap.TreeExplainer(bst).shap_values(test_extrapolation_X_features)\n",
    "shap.summary_plot(shap_values, test_extrapolation_X_features)"
   ]
  },
  {
   "cell_type": "code",
   "execution_count": null,
   "metadata": {
    "colab": {
     "base_uri": "https://localhost:8080/",
     "height": 585
    },
    "executionInfo": {
     "elapsed": 15520,
     "status": "ok",
     "timestamp": 1626413129933,
     "user": {
      "displayName": "Jeria Kua",
      "photoUrl": "",
      "userId": "01722788589990916725"
     },
     "user_tz": -480
    },
    "id": "kLHTtU0txlpQ",
    "outputId": "3eed8cdc-988a-4f66-b8c7-7552891f42a2"
   },
   "outputs": [
    {
     "data": {
      "image/png": "[encoded data removed]",
      "text/plain": [
       "<Figure size 576x684 with 2 Axes>"
      ]
     },
     "metadata": {
      "tags": []
     },
     "output_type": "display_data"
    }
   ],
   "source": [
    "# Interpolation test set\n",
    "shap_values = shap.TreeExplainer(bst).shap_values(test_interpolation_X_features)\n",
    "shap.summary_plot(shap_values, test_interpolation_X_features)"
   ]
  },
  {
   "cell_type": "markdown",
   "metadata": {
    "id": "5O4Jlqxt9eFp"
   },
   "source": [
    "# MERF Analysis"
   ]
  },
  {
   "cell_type": "code",
   "execution_count": null,
   "metadata": {
    "id": "DG5hNmJt9sq3"
   },
   "outputs": [],
   "source": [
    "RMSE_extrapolation_list_mean = []\n",
    "RMSE_interpolation_list_mean = []\n",
    "RMSE_extrapolation_list_std = []\n",
    "RMSE_interpolation_list_std = []\n",
    "iterations_list = [10, 30, 50, 80, 100]\n",
    "for i in tqdm(iterations_list):\n",
    "    np.random.seed(1)\n",
    "    RMSE_extrapolation_list = []\n",
    "    RMSE_interpolation_list = []\n",
    "    for j in range(5):\n",
    "        fixed_effects_model= RandomForestRegressor(n_estimators=100, n_jobs=-1, random_state=1)\n",
    "        merf_model = MERF(fixed_effects_model, max_iterations=i)\n",
    "        merf_model.fit(train_X_features, train_Z, train_X['ID'], train_y)\n",
    "        y_pred_extrapolation = merf_model.predict(test_extrapolation_X_features, test_extrapolation_Z, test_extrapolation_X['ID'])\n",
    "        RMSE_extrapolation_list.append(np.sqrt(np.mean((test_extrapolation_y-y_pred_extrapolation)**2)))\n",
    "        y_pred_interpolation = merf_model.predict(test_interpolation_X_features, test_interpolation_Z, test_interpolation_X['ID'])\n",
    "        RMSE_interpolation_list.append(np.sqrt(np.mean((test_interpolation_y-y_pred_interpolation)**2)))\n",
    "    RMSE_extrapolation_list_mean.append(np.mean(RMSE_extrapolation_list))\n",
    "    RMSE_interpolation_list_mean.append(np.mean(RMSE_interpolation_list))\n",
    "    RMSE_extrapolation_list_std.append(np.std(RMSE_extrapolation_list))\n",
    "    RMSE_interpolation_list_std.append(np.std(RMSE_interpolation_list))"
   ]
  },
  {
   "cell_type": "code",
   "execution_count": null,
   "metadata": {
    "id": "GfnGZN8u-LaS"
   },
   "outputs": [],
   "source": [
    "MERF_results_mean = pd.DataFrame(data={'RMSE_extrapolation': RMSE_extrapolation_list_mean,\n",
    "                                       'RMSE_interpolation': RMSE_interpolation_list_mean},\n",
    "                                 index=iterations_list)\n",
    "MERF_results_std = pd.DataFrame(data={'RMSE_extrapolation': RMSE_extrapolation_list_std,\n",
    "                                       'RMSE_interpolation': RMSE_interpolation_list_std},\n",
    "                                index=iterations_list)"
   ]
  },
  {
   "cell_type": "code",
   "execution_count": null,
   "metadata": {
    "colab": {
     "base_uri": "https://localhost:8080/",
     "height": 912
    },
    "executionInfo": {
     "elapsed": 620,
     "status": "ok",
     "timestamp": 1627904279388,
     "user": {
      "displayName": "Jeria Kua",
      "photoUrl": "",
      "userId": "01722788589990916725"
     },
     "user_tz": -480
    },
    "id": "QHVYXEifNp5t",
    "outputId": "338bc696-24f5-48d8-86c7-d95800195501"
   },
   "outputs": [
    {
     "data": {
      "text/plain": [
       "<Figure size 432x288 with 0 Axes>"
      ]
     },
     "metadata": {
      "tags": []
     },
     "output_type": "display_data"
    },
    {
     "data": {
      "image/png": "[encoded data removed]",
      "text/plain": [
       "<Figure size 1296x1080 with 1 Axes>"
      ]
     },
     "metadata": {
      "needs_background": "light",
      "tags": []
     },
     "output_type": "display_data"
    }
   ],
   "source": [
    "plt.figure()\n",
    "ax = MERF_results_mean.plot(figsize=(18, 15), xlabel='Iterations', ylabel='RMSE', style='o-', fontsize=18, lw=3, yerr=MERF_results_std, capsize=6)\n",
    "plt.rcParams.update({'font.size': 22})\n",
    "plt.show()"
   ]
  },
  {
   "cell_type": "markdown",
   "metadata": {
    "id": "K4Iv3NnXW8LR"
   },
   "source": [
    "# Show Patient GP"
   ]
  },
  {
   "cell_type": "code",
   "execution_count": null,
   "metadata": {
    "id": "tZFelrljpNo9"
   },
   "outputs": [],
   "source": [
    "np.random.seed(1)\n",
    "gp_model = gpb.GPModel(group_data=train_X['ID'], gp_coords=train_X['times'], cluster_ids=train_X['ID'])\n",
    "gp_model.set_optim_params(params={'optimizer_cov': 'gradient_descent', 'use_nesterov_acc': True})\n",
    "params = {'objective': 'regression_l2',\n",
    "          'learning_rate': 1.2,\n",
    "          'max_depth': 5,\n",
    "          'min_data_in_leaf': 100,\n",
    "          'verbose': 0}\n",
    "\n",
    "start_time = time.time()\n",
    "bst = gpb.train(params=params,\n",
    "                train_set=data_train_full_gpb,\n",
    "                gp_model=gp_model,\n",
    "                num_boost_round=2343)"
   ]
  },
  {
   "cell_type": "code",
   "execution_count": 88,
   "metadata": {
    "colab": {
     "base_uri": "https://localhost:8080/",
     "height": 390
    },
    "executionInfo": {
     "elapsed": 1789,
     "status": "ok",
     "timestamp": 1628069521151,
     "user": {
      "displayName": "Jeria Kua",
      "photoUrl": "",
      "userId": "01722788589990916725"
     },
     "user_tz": -480
    },
    "id": "NjDCsi78XH30",
    "outputId": "22ea9dfa-36fc-48f2-90a8-a52ae4d107bd"
   },
   "outputs": [
    {
     "data": {
      "image/png": "[encoded data removed]",
      "text/plain": [
       "<Figure size 576x432 with 1 Axes>"
      ]
     },
     "metadata": {
      "needs_background": "light",
      "tags": []
     },
     "output_type": "display_data"
    }
   ],
   "source": [
    "single_patient_data = data_train_full[data_train_full['ID'] == 41]\n",
    "y_true = single_patient_data['egfr'].to_numpy()\n",
    "predictions = bst.predict(data=single_patient_data.drop(columns=['egfr', 'ID', 'times']), \n",
    "                          group_data_pred=single_patient_data['ID'],\n",
    "                          gp_coords_pred=single_patient_data['times'],\n",
    "                          cluster_ids_pred=single_patient_data['ID'],\n",
    "                          predict_var=True)\n",
    "points = np.arange(single_patient_data['times'].iloc[-1]+10, step=10)\n",
    "p = np.tile(single_patient_data['ID'].iloc[0], len(points))\n",
    "predictions_points = gp_model.predict(group_data_pred=p, gp_coords_pred=points, cluster_ids_pred=p, predict_var=True)\n",
    "sigma = np.sqrt(predictions_points['var'])\n",
    "plt.figure(figsize=(8,6))\n",
    "plt.plot(single_patient_data['times'], y_true-predictions['fixed_effect'], 'r.', markersize=10, label='Observations')\n",
    "plt.plot(points, predictions_points['mu'], 'b-', label='Prediction')\n",
    "plt.fill_between(points, predictions_points['mu'] - 1.96 * sigma,\n",
    "                 predictions_points['mu'] + 1.96 * sigma, alpha=0.3,\n",
    "                 fc='b', label='95% confidence interval')\n",
    "plt.xlabel('$t$')\n",
    "plt.ylabel('eGFR (random effects component)')\n",
    "plt.legend(loc='upper right')\n",
    "plt.show()"
   ]
  },
  {
   "cell_type": "code",
   "execution_count": 89,
   "metadata": {
    "colab": {
     "base_uri": "https://localhost:8080/",
     "height": 390
    },
    "executionInfo": {
     "elapsed": 1760,
     "status": "ok",
     "timestamp": 1628069532312,
     "user": {
      "displayName": "Jeria Kua",
      "photoUrl": "",
      "userId": "01722788589990916725"
     },
     "user_tz": -480
    },
    "id": "JVbK4KbaZBQT",
    "outputId": "67ca67a5-c73b-4adb-af4e-5fd8962f27a7"
   },
   "outputs": [
    {
     "data": {
      "image/png": "[encoded data removed]",
      "text/plain": [
       "<Figure size 576x432 with 1 Axes>"
      ]
     },
     "metadata": {
      "needs_background": "light",
      "tags": []
     },
     "output_type": "display_data"
    }
   ],
   "source": [
    "single_patient_data = data_train_full[data_train_full['ID'] == 5]\n",
    "y_true = single_patient_data['egfr'].to_numpy()\n",
    "predictions = bst.predict(data=single_patient_data.drop(columns=['egfr', 'ID', 'times']), \n",
    "                          group_data_pred=single_patient_data['ID'],\n",
    "                          gp_coords_pred=single_patient_data['times'],\n",
    "                          cluster_ids_pred=single_patient_data['ID'],\n",
    "                          predict_var=True)\n",
    "points = np.arange(single_patient_data['times'].iloc[-1]+10, step=10)\n",
    "p = np.tile(single_patient_data['ID'].iloc[0], len(points))\n",
    "predictions_points = gp_model.predict(group_data_pred=p, gp_coords_pred=points, cluster_ids_pred=p, predict_var=True)\n",
    "sigma = np.sqrt(predictions_points['var'])\n",
    "plt.figure(figsize=(8,6))\n",
    "plt.plot(single_patient_data['times'], y_true-predictions['fixed_effect'], 'r.', markersize=10, label='Observations')\n",
    "plt.plot(points, predictions_points['mu'], 'b-', label='Prediction')\n",
    "plt.fill_between(points, predictions_points['mu'] - 1.96 * sigma,\n",
    "                 predictions_points['mu'] + 1.96 * sigma, alpha=0.3,\n",
    "                 fc='b', label='95% confidence interval')\n",
    "plt.xlabel('$t$')\n",
    "plt.ylabel('eGFR (random effects component)')\n",
    "plt.legend(loc='lower right')\n",
    "plt.show()"
   ]
  },
  {
   "cell_type": "code",
   "execution_count": 90,
   "metadata": {
    "colab": {
     "base_uri": "https://localhost:8080/",
     "height": 390
    },
    "executionInfo": {
     "elapsed": 2092,
     "status": "ok",
     "timestamp": 1628069540744,
     "user": {
      "displayName": "Jeria Kua",
      "photoUrl": "",
      "userId": "01722788589990916725"
     },
     "user_tz": -480
    },
    "id": "97B3XWX8aV9s",
    "outputId": "7b98c0a6-f53c-43d5-ef9d-85d96d400075"
   },
   "outputs": [
    {
     "data": {
      "image/png": "[encoded data removed]",
      "text/plain": [
       "<Figure size 576x432 with 1 Axes>"
      ]
     },
     "metadata": {
      "needs_background": "light",
      "tags": []
     },
     "output_type": "display_data"
    }
   ],
   "source": [
    "single_patient_data = data_train_full[data_train_full['ID'] == 727]\n",
    "y_true = single_patient_data['egfr'].to_numpy()\n",
    "predictions = bst.predict(data=single_patient_data.drop(columns=['egfr', 'ID', 'times']), \n",
    "                          group_data_pred=single_patient_data['ID'],\n",
    "                          gp_coords_pred=single_patient_data['times'],\n",
    "                          cluster_ids_pred=single_patient_data['ID'],\n",
    "                          predict_var=True)\n",
    "points = np.arange(single_patient_data['times'].iloc[-1]+10, step=10)\n",
    "p = np.tile(single_patient_data['ID'].iloc[0], len(points))\n",
    "predictions_points = gp_model.predict(group_data_pred=p, gp_coords_pred=points, cluster_ids_pred=p, predict_var=True)\n",
    "sigma = np.sqrt(predictions_points['var'])\n",
    "plt.figure(figsize=(8,6))\n",
    "plt.plot(single_patient_data['times'], y_true-predictions['fixed_effect'], 'r.', markersize=10, label='Observations')\n",
    "plt.plot(points, predictions_points['mu'], 'b-', label='Prediction')\n",
    "plt.fill_between(points, predictions_points['mu'] - 1.96 * sigma,\n",
    "                 predictions_points['mu'] + 1.96 * sigma, alpha=0.3,\n",
    "                 fc='b', label='95% confidence interval')\n",
    "plt.xlabel('$t$')\n",
    "plt.ylabel('eGFR (random effects component)')\n",
    "plt.legend(loc='upper right')\n",
    "plt.show()"
   ]
  },
  {
   "cell_type": "code",
   "execution_count": 91,
   "metadata": {
    "colab": {
     "base_uri": "https://localhost:8080/",
     "height": 390
    },
    "executionInfo": {
     "elapsed": 1731,
     "status": "ok",
     "timestamp": 1628069546326,
     "user": {
      "displayName": "Jeria Kua",
      "photoUrl": "",
      "userId": "01722788589990916725"
     },
     "user_tz": -480
    },
    "id": "8lf7D03rateG",
    "outputId": "3f34358c-3b2c-4c50-c969-699601719a40"
   },
   "outputs": [
    {
     "data": {
      "image/png": "[encoded data removed]",
      "text/plain": [
       "<Figure size 576x432 with 1 Axes>"
      ]
     },
     "metadata": {
      "needs_background": "light",
      "tags": []
     },
     "output_type": "display_data"
    }
   ],
   "source": [
    "single_patient_data = data_train_full[data_train_full['ID'] == 1134]\n",
    "y_true = single_patient_data['egfr'].to_numpy()\n",
    "predictions = bst.predict(data=single_patient_data.drop(columns=['egfr', 'ID', 'times']), \n",
    "                          group_data_pred=single_patient_data['ID'],\n",
    "                          gp_coords_pred=single_patient_data['times'],\n",
    "                          cluster_ids_pred=single_patient_data['ID'],\n",
    "                          predict_var=True)\n",
    "points = np.arange(single_patient_data['times'].iloc[-1]+10, step=10)\n",
    "p = np.tile(single_patient_data['ID'].iloc[0], len(points))\n",
    "predictions_points = gp_model.predict(group_data_pred=p, gp_coords_pred=points, cluster_ids_pred=p, predict_var=True)\n",
    "sigma = np.sqrt(predictions_points['var'])\n",
    "plt.figure(figsize=(8,6))\n",
    "plt.plot(single_patient_data['times'], y_true-predictions['fixed_effect'], 'r.', markersize=10, label='Observations')\n",
    "plt.plot(points, predictions_points['mu'], 'b-', label='Prediction')\n",
    "plt.fill_between(points, predictions_points['mu'] - 1.96 * sigma,\n",
    "                 predictions_points['mu'] + 1.96 * sigma, alpha=0.3,\n",
    "                 fc='b', label='95% confidence interval')\n",
    "plt.xlabel('$t$')\n",
    "plt.ylabel('eGFR (random effects component)')\n",
    "plt.legend(loc='upper right')\n",
    "plt.show()"
   ]
  },
  {
   "cell_type": "code",
   "execution_count": null,
   "metadata": {
    "id": "ed99zDl5bG30"
   },
   "outputs": [],
   "source": []
  }
 ],
 "metadata": {
  "colab": {
   "authorship_tag": "ABX9TyNqtZ8OLLpxs9OP6nBbVLw9",
   "collapsed_sections": [
    "0MxytDpLQbmH",
    "o2fEiTMyQiK5",
    "AlFwPAAoQuci",
    "jqp2b--jaK04",
    "EIB0YU8xk4DS",
    "alprwo9_n-xN",
    "DFMfKwohppvO",
    "f9qFEFV5g-n4",
    "M4VVrpR6h9I8",
    "5O4Jlqxt9eFp",
    "K4Iv3NnXW8LR"
   ],
   "name": "Project data analysis (combined sites).ipynb",
   "provenance": [
    {
     "file_id": "1sHavMOBHI8VrBsx_DYr1tmFb6cbSsJOv",
     "timestamp": 1626412269534
    }
   ]
  },
  "kernelspec": {
   "display_name": "Python 3",
   "language": "python",
   "name": "python3"
  },
  "language_info": {
   "codemirror_mode": {
    "name": "ipython",
    "version": 3
   },
   "file_extension": ".py",
   "mimetype": "text/x-python",
   "name": "python",
   "nbconvert_exporter": "python",
   "pygments_lexer": "ipython3",
   "version": "3.8.3"
  }
 },
 "nbformat": 4,
 "nbformat_minor": 1
}
