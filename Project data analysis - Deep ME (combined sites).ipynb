{
 "cells": [
  {
   "cell_type": "markdown",
   "metadata": {
    "id": "Fuz2TrIkOJXV"
   },
   "source": [
    "# Libraries"
   ]
  },
  {
   "cell_type": "code",
   "execution_count": null,
   "metadata": {
    "id": "a78Bwg0uOHMr"
   },
   "outputs": [],
   "source": [
    "import random\n",
    "import numpy as np\n",
    "import time\n",
    "import copy\n",
    "import scipy\n",
    "import pandas as pd\n",
    "import matplotlib.pyplot as plt\n",
    "from sklearn.model_selection import GroupKFold, GroupShuffleSplit\n",
    "from sklearn.preprocessing import OneHotEncoder as SklearnOneHotEncoder\n",
    "from tqdm.notebook import tqdm, tnrange"
   ]
  },
  {
   "cell_type": "code",
   "execution_count": 2,
   "metadata": {
    "id": "D-lvwUtfOHPX"
   },
   "outputs": [],
   "source": [
    "from DME.Analysis.train import *"
   ]
  },
  {
   "cell_type": "markdown",
   "metadata": {
    "id": "ZW8FLovuOWkK"
   },
   "source": [
    "# Helper functions"
   ]
  },
  {
   "cell_type": "code",
   "execution_count": null,
   "metadata": {
    "id": "QnFK7Mwboxp8"
   },
   "outputs": [],
   "source": [
    "class OneHotEncoder(SklearnOneHotEncoder):\n",
    "    def __init__(self, **kwargs):\n",
    "        super(OneHotEncoder, self).__init__(**kwargs)\n",
    "        self.fit_flag = False\n",
    "\n",
    "    def fit(self, X, **kwargs):\n",
    "        out = super().fit(X)\n",
    "        self.fit_flag = True\n",
    "        return out\n",
    "\n",
    "    def transform(self, X, **kwargs):\n",
    "        sparse_matrix = super(OneHotEncoder, self).transform(X)\n",
    "        new_columns = self.get_new_columns(X=X)\n",
    "        d_out = pd.DataFrame(sparse_matrix.toarray(), columns=new_columns, index=X.index)\n",
    "        return d_out\n",
    "\n",
    "    def fit_transform(self, X, **kwargs):\n",
    "        self.fit(X)\n",
    "        return self.transform(X)\n",
    "\n",
    "    def get_new_columns(self, X):\n",
    "        new_columns = []\n",
    "        for i, column in enumerate(X.columns):\n",
    "            j = 0\n",
    "            while j < len(self.categories_[i]):\n",
    "                new_columns.append(f'{column}_<{self.categories_[i][j]}>')\n",
    "                j += 1\n",
    "        return new_columns"
   ]
  },
  {
   "cell_type": "code",
   "execution_count": null,
   "metadata": {
    "id": "SlLo-RNToumx"
   },
   "outputs": [],
   "source": [
    "def encode(df):\n",
    "    s = (df.dtypes == 'object')\n",
    "    object_cols = list(s[s].index)\n",
    "    OH_encoder = OneHotEncoder(dtype=int)\n",
    "    OH_cols = pd.DataFrame(OH_encoder.fit_transform(df[object_cols]))\n",
    "    num_data = df.drop(object_cols, axis=1)\n",
    "    data_new = pd.concat([num_data, OH_cols], axis=1)\n",
    "    return data_new"
   ]
  },
  {
   "cell_type": "markdown",
   "metadata": {
    "id": "kNLLEMm8Oc6v"
   },
   "source": [
    "# Data pre-processing"
   ]
  },
  {
   "cell_type": "code",
   "execution_count": null,
   "metadata": {
    "id": "rQpfk_xeOZ3H"
   },
   "outputs": [],
   "source": [
    "data_train_full_raw = pd.read_csv('full data/data_train_full.csv')\n",
    "test_interpolation_raw = pd.read_csv('full data/test_interpolation.csv')\n",
    "test_extrapolation_raw = pd.read_csv('full data/test_extrapolation.csv')\n",
    "data_train_raw = pd.read_csv('full data/data_train.csv')\n",
    "data_val_raw = pd.read_csv('full data/data_val.csv')\n",
    "n_samples_chosen_per_group = pd.read_csv('full data/n_samples_chosen_per_group_series.csv').to_numpy().reshape(-1)\n",
    "\n",
    "# One-hot encode categorical features\n",
    "data_train_full_raw2 = encode(data_train_full_raw)\n",
    "test_interpolation_raw2 = encode(test_interpolation_raw)\n",
    "test_extrapolation = encode(test_extrapolation_raw)\n",
    "data_train = encode(data_train_raw)\n",
    "data_val_raw2 = encode(data_val_raw)\n",
    "\n",
    "# Combine train and interpolation set for Deep ME model\n",
    "data_train_full = pd.concat([data_train_full_raw2, test_interpolation_raw2], ignore_index=True).reset_index(drop=True)\n",
    "data_train_full.sort_values(['ID', 'times'], ignore_index=True, inplace=True)\n",
    "\n",
    "# Fill in missing column for data_val\n",
    "missing_column = pd.DataFrame(np.zeros(len(data_val_raw2), dtype=int), columns=['disease_<Vascular>'])\n",
    "data_val = data_val_raw2.copy()\n",
    "data_val.insert(data_val_raw2.shape[1], 'disease_<Vascular>', value=missing_column)"
   ]
  },
  {
   "cell_type": "code",
   "execution_count": null,
   "metadata": {
    "id": "WhxKw49f_y4w"
   },
   "outputs": [],
   "source": [
    "dataframe_val = [data_train, data_val]\n",
    "dataframe = [data_train_full, test_extrapolation]"
   ]
  },
  {
   "cell_type": "markdown",
   "metadata": {
    "id": "xc9MY_XSOvtp"
   },
   "source": [
    "# Hyperparameter search and testing"
   ]
  },
  {
   "cell_type": "markdown",
   "metadata": {
    "id": "JZpRIZrYoV34"
   },
   "source": [
    "## All features"
   ]
  },
  {
   "cell_type": "markdown",
   "metadata": {
    "id": "8eRCm4ilXXfp"
   },
   "source": [
    "### MLP"
   ]
  },
  {
   "cell_type": "code",
   "execution_count": null,
   "metadata": {
    "id": "e8tyr-L4OZ7E"
   },
   "outputs": [],
   "source": [
    "model_config = {}\n",
    "model_config['input_dim'] = data_train.shape[1] - 3\n",
    "model_config['hidden_dim'] = 1000\n",
    "model_config['output_dim'] = 1\n",
    "\n",
    "train_config = {}\n",
    "train_config['n_epochs'] = 20\n",
    "train_config['lr'] = 1e-3\n",
    "train_config['n_adapt'] = 1\n",
    "train_config['inner_lr'] = 0.01\n",
    "train_config['l2_penalty'] = 0.001\n",
    "\n",
    "# _, best_val_err = train_and_evaluate_model(model_config, train_config, dataframe_val, \n",
    "#                                            random_effects_column_names=['times'],\n",
    "#                                            group_column_name='ID', y_column_name='egfr',\n",
    "#                                            n_samples_chosen_per_group=n_samples_chosen_per_group,\n",
    "#                                            model_type='MLP', random_state=1)\n",
    "# print(best_val_err)"
   ]
  },
  {
   "cell_type": "code",
   "execution_count": null,
   "metadata": {
    "colab": {
     "base_uri": "https://localhost:8080/"
    },
    "executionInfo": {
     "elapsed": 342,
     "status": "ok",
     "timestamp": 1626189395841,
     "user": {
      "displayName": "Jeria Kua",
      "photoUrl": "",
      "userId": "01722788589990916725"
     },
     "user_tz": -480
    },
    "id": "bZiYfjbGguYJ",
    "outputId": "09f460c1-2ce1-4b9c-c69f-158b4f47b998"
   },
   "outputs": [
    {
     "name": "stdout",
     "output_type": "stream",
     "text": [
      "Best val RMSE:  15.111668283500233\n"
     ]
    }
   ],
   "source": [
    "# print('Best val RMSE: ', best_val_err)"
   ]
  },
  {
   "cell_type": "code",
   "execution_count": null,
   "metadata": {
    "id": "LP2HXHDCOZ__"
   },
   "outputs": [],
   "source": [
    "rmse_test1, rmse_test2 = train_and_test_model(dataframe, model_config, train_config, random_effects_column_names=['times'],\n",
    "                                              group_column_name='ID', y_column_name='egfr',\n",
    "                                              n_samples_chosen_per_group=n_samples_chosen_per_group,\n",
    "                                              model_type='MLP', random_state=1)"
   ]
  },
  {
   "cell_type": "code",
   "execution_count": null,
   "metadata": {
    "colab": {
     "base_uri": "https://localhost:8080/"
    },
    "executionInfo": {
     "elapsed": 615,
     "status": "ok",
     "timestamp": 1626189540515,
     "user": {
      "displayName": "Jeria Kua",
      "photoUrl": "",
      "userId": "01722788589990916725"
     },
     "user_tz": -480
    },
    "id": "CBE_2jpWOHV7",
    "outputId": "2e0d7a07-4387-42b0-b080-88bb822500d8"
   },
   "outputs": [
    {
     "name": "stdout",
     "output_type": "stream",
     "text": [
      "Extrapolation:  17.450256275820045\n",
      "Interpolation:  15.196058083411437\n"
     ]
    }
   ],
   "source": [
    "print('Extrapolation: ', rmse_test1)\n",
    "print('Interpolation: ', rmse_test2)"
   ]
  },
  {
   "cell_type": "markdown",
   "metadata": {
    "id": "cxpAsiN7XY_i"
   },
   "source": [
    "### RNN"
   ]
  },
  {
   "cell_type": "code",
   "execution_count": null,
   "metadata": {
    "id": "5maRS6t_XZpV"
   },
   "outputs": [],
   "source": [
    "# Learning rate seems to have the biggest influence on validation performance\n",
    "# Stop training as soon as validation RMSE increases\n",
    "model_config = {}\n",
    "model_config['input_dim'] = data_train.shape[1] - 3\n",
    "model_config['hidden_dim'] = 1000\n",
    "model_config['output_dim'] = 1\n",
    "\n",
    "train_config = {}\n",
    "train_config['n_epochs'] = 20\n",
    "train_config['lr'] = 1e-3\n",
    "train_config['n_adapt'] = 1\n",
    "train_config['inner_lr'] = 0.01\n",
    "train_config['l2_penalty'] = 0.0001\n",
    "\n",
    "# _, best_val_err = train_and_evaluate_model(model_config, train_config, dataframe_val, \n",
    "#                                            random_effects_column_names=['times'],\n",
    "#                                            group_column_name='ID', y_column_name='egfr',\n",
    "#                                            n_samples_chosen_per_group=n_samples_chosen_per_group,\n",
    "#                                            model_type='LSTM', random_state=1)\n",
    "# print(best_val_err)"
   ]
  },
  {
   "cell_type": "code",
   "execution_count": null,
   "metadata": {
    "colab": {
     "base_uri": "https://localhost:8080/"
    },
    "executionInfo": {
     "elapsed": 317,
     "status": "ok",
     "timestamp": 1626245729427,
     "user": {
      "displayName": "Jeria Kua",
      "photoUrl": "",
      "userId": "01722788589990916725"
     },
     "user_tz": -480
    },
    "id": "GVnHTN26XZ_D",
    "outputId": "2f2aba37-bd2f-4d85-fd1e-8e9b2b9ba4bb"
   },
   "outputs": [
    {
     "name": "stdout",
     "output_type": "stream",
     "text": [
      "16.306481431318097\n"
     ]
    }
   ],
   "source": [
    "print(best_val_err)"
   ]
  },
  {
   "cell_type": "code",
   "execution_count": null,
   "metadata": {
    "colab": {
     "base_uri": "https://localhost:8080/",
     "height": 49,
     "referenced_widgets": [
      "ef5a01bb8d474a799252b9d3282abaee",
      "5150b8cff835434bb435e82a7c3856ba",
      "a1520a95a4d34b0ca5187dca4ece600e",
      "0ae4f94a045c4b7f85b2814752f5b0b9",
      "cb20dd1deb974367afe34dc5621b8a50",
      "d36fedb8978e4b398f96fb76e78205e8",
      "b821c11f60a2478694498b972bcbf200",
      "df82fef34e544b19a1f44f02b6995c74"
     ]
    },
    "id": "Bu9o9OKnXaFd",
    "outputId": "ddf9e86c-85a6-4163-f35a-baeb7d4e8f28"
   },
   "outputs": [
    {
     "data": {
      "application/vnd.jupyter.widget-view+json": {
       "model_id": "ef5a01bb8d474a799252b9d3282abaee",
       "version_major": 2,
       "version_minor": 0
      },
      "text/plain": [
       "HBox(children=(FloatProgress(value=0.0, max=20.0), HTML(value='')))"
      ]
     },
     "metadata": {
      "tags": []
     },
     "output_type": "display_data"
    }
   ],
   "source": [
    "rmse_test1, rmse_test2 = train_and_test_model(dataframe, model_config, train_config, random_effects_column_names=['times'],\n",
    "                                              group_column_name='ID', y_column_name='egfr',\n",
    "                                              n_samples_chosen_per_group=n_samples_chosen_per_group,\n",
    "                                              model_type='LSTM', random_state=1)"
   ]
  },
  {
   "cell_type": "code",
   "execution_count": null,
   "metadata": {
    "colab": {
     "base_uri": "https://localhost:8080/"
    },
    "executionInfo": {
     "elapsed": 411,
     "status": "ok",
     "timestamp": 1626248255264,
     "user": {
      "displayName": "Jeria Kua",
      "photoUrl": "",
      "userId": "01722788589990916725"
     },
     "user_tz": -480
    },
    "id": "cHtOhAvsfKhw",
    "outputId": "481e3ac4-3687-4c05-9c7b-4da86cf8fe06"
   },
   "outputs": [
    {
     "name": "stdout",
     "output_type": "stream",
     "text": [
      "Extrapolation:  18.24463146101991\n",
      "Interpolation:  16.273086815112475\n"
     ]
    }
   ],
   "source": [
    "print('Extrapolation: ', rmse_test1)\n",
    "print('Interpolation: ', rmse_test2)"
   ]
  },
  {
   "cell_type": "markdown",
   "metadata": {
    "id": "G09J5v_GgaWq"
   },
   "source": [
    "## Selected features"
   ]
  },
  {
   "cell_type": "code",
   "execution_count": null,
   "metadata": {
    "id": "_ztjQBiTgfWx"
   },
   "outputs": [],
   "source": [
    "data_train2 = data_train.drop(columns=['height', 'weight', 'bp.sys'])\n",
    "data_val2 = data_val.drop(columns=['height', 'weight', 'bp.sys'])\n",
    "data_train_full2 = data_train_full.drop(columns=['height', 'weight', 'bp.sys'])\n",
    "test_extrapolation2 = test_extrapolation.drop(columns=['height', 'weight', 'bp.sys'])"
   ]
  },
  {
   "cell_type": "code",
   "execution_count": null,
   "metadata": {
    "id": "jZ5Rfi6cgbsI"
   },
   "outputs": [],
   "source": [
    "dataframe_val2 = [data_train2, data_val2]\n",
    "dataframe2 = [data_train_full2, test_extrapolation2]"
   ]
  },
  {
   "cell_type": "markdown",
   "metadata": {
    "id": "Uiu90FhZg1RI"
   },
   "source": [
    "### MLP"
   ]
  },
  {
   "cell_type": "code",
   "execution_count": null,
   "metadata": {
    "id": "zhUGvTePg4vv"
   },
   "outputs": [],
   "source": [
    "model_config = {}\n",
    "model_config['input_dim'] = data_train2.shape[1] - 3\n",
    "model_config['hidden_dim'] = 500\n",
    "model_config['output_dim'] = 1\n",
    "\n",
    "train_config = {}\n",
    "train_config['n_epochs'] = 20\n",
    "train_config['lr'] = 5e-3\n",
    "train_config['n_adapt'] = 1\n",
    "train_config['inner_lr'] = 0.01\n",
    "train_config['l2_penalty'] = 0.001\n",
    "\n",
    "_, best_val_err = train_and_evaluate_model(model_config, train_config, dataframe_val2, \n",
    "                                           random_effects_column_names=['times'],\n",
    "                                           group_column_name='ID', y_column_name='egfr',\n",
    "                                           n_samples_chosen_per_group=n_samples_chosen_per_group,\n",
    "                                           model_type='MLP', random_state=1)\n",
    "print(best_val_err)"
   ]
  },
  {
   "cell_type": "code",
   "execution_count": null,
   "metadata": {
    "colab": {
     "base_uri": "https://localhost:8080/"
    },
    "executionInfo": {
     "elapsed": 324,
     "status": "ok",
     "timestamp": 1626259090759,
     "user": {
      "displayName": "Jeria Kua",
      "photoUrl": "",
      "userId": "01722788589990916725"
     },
     "user_tz": -480
    },
    "id": "i7WiPEShg4vx",
    "outputId": "caabfb5d-cb2c-4c3b-f296-865e5285dc6a"
   },
   "outputs": [
    {
     "name": "stdout",
     "output_type": "stream",
     "text": [
      "Best val RMSE:  14.523430670890003\n"
     ]
    }
   ],
   "source": [
    "print('Best val RMSE: ', best_val_err)"
   ]
  },
  {
   "cell_type": "code",
   "execution_count": null,
   "metadata": {
    "colab": {
     "base_uri": "https://localhost:8080/",
     "height": 100,
     "referenced_widgets": [
      "f9f124104c44462e97b04a98b9f7e596",
      "c3eca7e62e0a40348cf9849b47470032",
      "17ad5c32c7144c7497efd97c5f743a20",
      "596d44af4af84634b267a552259be90d",
      "812862d0273b4896b517f83513aae69f",
      "ec5c8ed0fb3c4e9aa787e3de9513c699",
      "179230adccaa4e3d9d9f8168ac897b7d",
      "edee215875a24a4db9d611c0a5603e6a"
     ]
    },
    "executionInfo": {
     "elapsed": 109878,
     "status": "ok",
     "timestamp": 1626259721625,
     "user": {
      "displayName": "Jeria Kua",
      "photoUrl": "",
      "userId": "01722788589990916725"
     },
     "user_tz": -480
    },
    "id": "0_mgKtR9g4vx",
    "outputId": "05669f0b-2008-4a29-ecdb-d661195238e2"
   },
   "outputs": [
    {
     "data": {
      "application/vnd.jupyter.widget-view+json": {
       "model_id": "f9f124104c44462e97b04a98b9f7e596",
       "version_major": 2,
       "version_minor": 0
      },
      "text/plain": [
       "HBox(children=(FloatProgress(value=0.0, max=20.0), HTML(value='')))"
      ]
     },
     "metadata": {
      "tags": []
     },
     "output_type": "display_data"
    },
    {
     "name": "stdout",
     "output_type": "stream",
     "text": [
      "\n",
      "[Test (Extrapolation)] RMSE=17.928 and loss=38.945\n",
      "[Test (Interpolation)] RMSE=15.173 and loss=44.984\n"
     ]
    }
   ],
   "source": [
    "rmse_test1, rmse_test2 = train_and_test_model(dataframe2, model_config, train_config, random_effects_column_names=['times'],\n",
    "                                              group_column_name='ID', y_column_name='egfr',\n",
    "                                              n_samples_chosen_per_group=n_samples_chosen_per_group,\n",
    "                                              model_type='MLP', random_state=1)"
   ]
  },
  {
   "cell_type": "code",
   "execution_count": null,
   "metadata": {
    "colab": {
     "base_uri": "https://localhost:8080/"
    },
    "executionInfo": {
     "elapsed": 343,
     "status": "ok",
     "timestamp": 1626259928338,
     "user": {
      "displayName": "Jeria Kua",
      "photoUrl": "",
      "userId": "01722788589990916725"
     },
     "user_tz": -480
    },
    "id": "Gux5ktj3g4vy",
    "outputId": "e5188dd4-c986-4fd6-b447-1d4909ab2bf2"
   },
   "outputs": [
    {
     "name": "stdout",
     "output_type": "stream",
     "text": [
      "Extrapolation:  17.92766362488082\n",
      "Interpolation:  15.172783145773614\n"
     ]
    }
   ],
   "source": [
    "print('Extrapolation: ', rmse_test1)\n",
    "print('Interpolation: ', rmse_test2)"
   ]
  },
  {
   "cell_type": "markdown",
   "metadata": {
    "id": "Dc_FPGVog9gd"
   },
   "source": [
    "### RNN"
   ]
  },
  {
   "cell_type": "code",
   "execution_count": null,
   "metadata": {
    "colab": {
     "base_uri": "https://localhost:8080/",
     "height": 100,
     "referenced_widgets": [
      "4fe6e134f39c414a963a15af2b0b7d03",
      "0d84904faa0749e5bb74eb0cfc3014ae",
      "5b42147b49f3418dbcacb8e1b64a4517",
      "01bbbd3713ea4860998327c0c2c9876c",
      "e361de10424647a0ab2c2594ba35eb63",
      "9b8c5fb9eda943d088d18f1128d1be4d",
      "a8431e61cad041428d02008bb409465d",
      "a19cdbffbbe044739cc9ef8a397343dc"
     ]
    },
    "executionInfo": {
     "elapsed": 2024638,
     "status": "ok",
     "timestamp": 1626266010930,
     "user": {
      "displayName": "Jeria Kua",
      "photoUrl": "",
      "userId": "01722788589990916725"
     },
     "user_tz": -480
    },
    "id": "m6WQqdhug9ge",
    "outputId": "34921979-fe54-4a2e-808f-8b7c08ab508a"
   },
   "outputs": [
    {
     "data": {
      "application/vnd.jupyter.widget-view+json": {
       "model_id": "4fe6e134f39c414a963a15af2b0b7d03",
       "version_major": 2,
       "version_minor": 0
      },
      "text/plain": [
       "HBox(children=(FloatProgress(value=0.0, max=20.0), HTML(value='')))"
      ]
     },
     "metadata": {
      "tags": []
     },
     "output_type": "display_data"
    },
    {
     "name": "stdout",
     "output_type": "stream",
     "text": [
      "\n",
      "Best validation error:  16.306481431318097\n",
      "16.306481431318097\n"
     ]
    }
   ],
   "source": [
    "model_config = {}\n",
    "model_config['input_dim'] = data_train.shape[1] - 3\n",
    "model_config['hidden_dim'] = 1000\n",
    "model_config['output_dim'] = 1\n",
    "\n",
    "train_config = {}\n",
    "train_config['n_epochs'] = 20\n",
    "train_config['lr'] = 1e-3\n",
    "train_config['n_adapt'] = 1\n",
    "train_config['inner_lr'] = 0.01\n",
    "train_config['l2_penalty'] = 0.0001\n",
    "\n",
    "_, best_val_err = train_and_evaluate_model(model_config, train_config, dataframe_val, \n",
    "                                           random_effects_column_names=['times'],\n",
    "                                           group_column_name='ID', y_column_name='egfr',\n",
    "                                           n_samples_chosen_per_group=n_samples_chosen_per_group,\n",
    "                                           model_type='LSTM', random_state=1)\n",
    "print(best_val_err)"
   ]
  },
  {
   "cell_type": "code",
   "execution_count": null,
   "metadata": {
    "colab": {
     "base_uri": "https://localhost:8080/"
    },
    "executionInfo": {
     "elapsed": 413,
     "status": "ok",
     "timestamp": 1626266949093,
     "user": {
      "displayName": "Jeria Kua",
      "photoUrl": "",
      "userId": "01722788589990916725"
     },
     "user_tz": -480
    },
    "id": "ft8QhOVDg9gf",
    "outputId": "2e45bca0-13e6-45b8-c996-af69ccae2951"
   },
   "outputs": [
    {
     "name": "stdout",
     "output_type": "stream",
     "text": [
      "16.306481431318097\n"
     ]
    }
   ],
   "source": [
    "print(best_val_err)"
   ]
  },
  {
   "cell_type": "code",
   "execution_count": null,
   "metadata": {
    "id": "SJeCLkbSg9gg"
   },
   "outputs": [],
   "source": [
    "rmse_test1, rmse_test2 = train_and_test_model(dataframe, model_config, train_config, random_effects_column_names=['times'],\n",
    "                                              group_column_name='ID', y_column_name='egfr',\n",
    "                                              n_samples_chosen_per_group=n_samples_chosen_per_group,\n",
    "                                              model_type='LSTM', random_state=1)"
   ]
  },
  {
   "cell_type": "code",
   "execution_count": null,
   "metadata": {
    "colab": {
     "base_uri": "https://localhost:8080/"
    },
    "executionInfo": {
     "elapsed": 316,
     "status": "ok",
     "timestamp": 1626269439928,
     "user": {
      "displayName": "Jeria Kua",
      "photoUrl": "",
      "userId": "01722788589990916725"
     },
     "user_tz": -480
    },
    "id": "wlYcZq5xg9gg",
    "outputId": "dcfed14a-aeab-448c-dd52-6544a100a22c"
   },
   "outputs": [
    {
     "name": "stdout",
     "output_type": "stream",
     "text": [
      "Extrapolation:  18.24463146101991\n",
      "Interpolation:  16.273086815112475\n"
     ]
    }
   ],
   "source": [
    "print('Extrapolation: ', rmse_test1)\n",
    "print('Interpolation: ', rmse_test2)"
   ]
  }
 ],
 "metadata": {
  "colab": {
   "authorship_tag": "ABX9TyMDCcHv/XP5fRFJt8hfnFiS",
   "collapsed_sections": [
    "Fuz2TrIkOJXV",
    "ZW8FLovuOWkK",
    "kNLLEMm8Oc6v",
    "JZpRIZrYoV34",
    "8eRCm4ilXXfp",
    "cxpAsiN7XY_i",
    "G09J5v_GgaWq",
    "Dc_FPGVog9gd"
   ],
   "name": "Project data analysis - Deep ME (combined sites).ipynb",
   "provenance": []
  },
  "kernelspec": {
   "display_name": "Python 3",
   "language": "python",
   "name": "python3"
  },
  "language_info": {
   "codemirror_mode": {
    "name": "ipython",
    "version": 3
   },
   "file_extension": ".py",
   "mimetype": "text/x-python",
   "name": "python",
   "nbconvert_exporter": "python",
   "pygments_lexer": "ipython3",
   "version": "3.8.3"
  },
  "widgets": {
   "application/vnd.jupyter.widget-state+json": {
    "01bbbd3713ea4860998327c0c2c9876c": {
     "model_module": "@jupyter-widgets/controls",
     "model_name": "HTMLModel",
     "state": {
      "_dom_classes": [],
      "_model_module": "@jupyter-widgets/controls",
      "_model_module_version": "1.5.0",
      "_model_name": "HTMLModel",
      "_view_count": null,
      "_view_module": "@jupyter-widgets/controls",
      "_view_module_version": "1.5.0",
      "_view_name": "HTMLView",
      "description": "",
      "description_tooltip": null,
      "layout": "IPY_MODEL_a19cdbffbbe044739cc9ef8a397343dc",
      "placeholder": "​",
      "style": "IPY_MODEL_a8431e61cad041428d02008bb409465d",
      "value": " 20/20 [1:30:16&lt;00:00, 270.85s/it, loss_and_val_err=301.661 and 16.924]"
     }
    },
    "0ae4f94a045c4b7f85b2814752f5b0b9": {
     "model_module": "@jupyter-widgets/controls",
     "model_name": "HTMLModel",
     "state": {
      "_dom_classes": [],
      "_model_module": "@jupyter-widgets/controls",
      "_model_module_version": "1.5.0",
      "_model_name": "HTMLModel",
      "_view_count": null,
      "_view_module": "@jupyter-widgets/controls",
      "_view_module_version": "1.5.0",
      "_view_name": "HTMLView",
      "description": "",
      "description_tooltip": null,
      "layout": "IPY_MODEL_df82fef34e544b19a1f44f02b6995c74",
      "placeholder": "​",
      "style": "IPY_MODEL_b821c11f60a2478694498b972bcbf200",
      "value": " 0/20 [00:00&lt;?, ?it/s]"
     }
    },
    "0d84904faa0749e5bb74eb0cfc3014ae": {
     "model_module": "@jupyter-widgets/base",
     "model_name": "LayoutModel",
     "state": {
      "_model_module": "@jupyter-widgets/base",
      "_model_module_version": "1.2.0",
      "_model_name": "LayoutModel",
      "_view_count": null,
      "_view_module": "@jupyter-widgets/base",
      "_view_module_version": "1.2.0",
      "_view_name": "LayoutView",
      "align_content": null,
      "align_items": null,
      "align_self": null,
      "border": null,
      "bottom": null,
      "display": null,
      "flex": null,
      "flex_flow": null,
      "grid_area": null,
      "grid_auto_columns": null,
      "grid_auto_flow": null,
      "grid_auto_rows": null,
      "grid_column": null,
      "grid_gap": null,
      "grid_row": null,
      "grid_template_areas": null,
      "grid_template_columns": null,
      "grid_template_rows": null,
      "height": null,
      "justify_content": null,
      "justify_items": null,
      "left": null,
      "margin": null,
      "max_height": null,
      "max_width": null,
      "min_height": null,
      "min_width": null,
      "object_fit": null,
      "object_position": null,
      "order": null,
      "overflow": null,
      "overflow_x": null,
      "overflow_y": null,
      "padding": null,
      "right": null,
      "top": null,
      "visibility": null,
      "width": null
     }
    },
    "179230adccaa4e3d9d9f8168ac897b7d": {
     "model_module": "@jupyter-widgets/controls",
     "model_name": "DescriptionStyleModel",
     "state": {
      "_model_module": "@jupyter-widgets/controls",
      "_model_module_version": "1.5.0",
      "_model_name": "DescriptionStyleModel",
      "_view_count": null,
      "_view_module": "@jupyter-widgets/base",
      "_view_module_version": "1.2.0",
      "_view_name": "StyleView",
      "description_width": ""
     }
    },
    "17ad5c32c7144c7497efd97c5f743a20": {
     "model_module": "@jupyter-widgets/controls",
     "model_name": "FloatProgressModel",
     "state": {
      "_dom_classes": [],
      "_model_module": "@jupyter-widgets/controls",
      "_model_module_version": "1.5.0",
      "_model_name": "FloatProgressModel",
      "_view_count": null,
      "_view_module": "@jupyter-widgets/controls",
      "_view_module_version": "1.5.0",
      "_view_name": "ProgressView",
      "bar_style": "success",
      "description": "100%",
      "description_tooltip": null,
      "layout": "IPY_MODEL_ec5c8ed0fb3c4e9aa787e3de9513c699",
      "max": 20,
      "min": 0,
      "orientation": "horizontal",
      "style": "IPY_MODEL_812862d0273b4896b517f83513aae69f",
      "value": 20
     }
    },
    "4fe6e134f39c414a963a15af2b0b7d03": {
     "model_module": "@jupyter-widgets/controls",
     "model_name": "HBoxModel",
     "state": {
      "_dom_classes": [],
      "_model_module": "@jupyter-widgets/controls",
      "_model_module_version": "1.5.0",
      "_model_name": "HBoxModel",
      "_view_count": null,
      "_view_module": "@jupyter-widgets/controls",
      "_view_module_version": "1.5.0",
      "_view_name": "HBoxView",
      "box_style": "",
      "children": [
       "IPY_MODEL_5b42147b49f3418dbcacb8e1b64a4517",
       "IPY_MODEL_01bbbd3713ea4860998327c0c2c9876c"
      ],
      "layout": "IPY_MODEL_0d84904faa0749e5bb74eb0cfc3014ae"
     }
    },
    "5150b8cff835434bb435e82a7c3856ba": {
     "model_module": "@jupyter-widgets/base",
     "model_name": "LayoutModel",
     "state": {
      "_model_module": "@jupyter-widgets/base",
      "_model_module_version": "1.2.0",
      "_model_name": "LayoutModel",
      "_view_count": null,
      "_view_module": "@jupyter-widgets/base",
      "_view_module_version": "1.2.0",
      "_view_name": "LayoutView",
      "align_content": null,
      "align_items": null,
      "align_self": null,
      "border": null,
      "bottom": null,
      "display": null,
      "flex": null,
      "flex_flow": null,
      "grid_area": null,
      "grid_auto_columns": null,
      "grid_auto_flow": null,
      "grid_auto_rows": null,
      "grid_column": null,
      "grid_gap": null,
      "grid_row": null,
      "grid_template_areas": null,
      "grid_template_columns": null,
      "grid_template_rows": null,
      "height": null,
      "justify_content": null,
      "justify_items": null,
      "left": null,
      "margin": null,
      "max_height": null,
      "max_width": null,
      "min_height": null,
      "min_width": null,
      "object_fit": null,
      "object_position": null,
      "order": null,
      "overflow": null,
      "overflow_x": null,
      "overflow_y": null,
      "padding": null,
      "right": null,
      "top": null,
      "visibility": null,
      "width": null
     }
    },
    "596d44af4af84634b267a552259be90d": {
     "model_module": "@jupyter-widgets/controls",
     "model_name": "HTMLModel",
     "state": {
      "_dom_classes": [],
      "_model_module": "@jupyter-widgets/controls",
      "_model_module_version": "1.5.0",
      "_model_name": "HTMLModel",
      "_view_count": null,
      "_view_module": "@jupyter-widgets/controls",
      "_view_module_version": "1.5.0",
      "_view_name": "HTMLView",
      "description": "",
      "description_tooltip": null,
      "layout": "IPY_MODEL_edee215875a24a4db9d611c0a5603e6a",
      "placeholder": "​",
      "style": "IPY_MODEL_179230adccaa4e3d9d9f8168ac897b7d",
      "value": " 20/20 [01:23&lt;00:00,  4.19s/it]"
     }
    },
    "5b42147b49f3418dbcacb8e1b64a4517": {
     "model_module": "@jupyter-widgets/controls",
     "model_name": "FloatProgressModel",
     "state": {
      "_dom_classes": [],
      "_model_module": "@jupyter-widgets/controls",
      "_model_module_version": "1.5.0",
      "_model_name": "FloatProgressModel",
      "_view_count": null,
      "_view_module": "@jupyter-widgets/controls",
      "_view_module_version": "1.5.0",
      "_view_name": "ProgressView",
      "bar_style": "success",
      "description": "100%",
      "description_tooltip": null,
      "layout": "IPY_MODEL_9b8c5fb9eda943d088d18f1128d1be4d",
      "max": 20,
      "min": 0,
      "orientation": "horizontal",
      "style": "IPY_MODEL_e361de10424647a0ab2c2594ba35eb63",
      "value": 20
     }
    },
    "812862d0273b4896b517f83513aae69f": {
     "model_module": "@jupyter-widgets/controls",
     "model_name": "ProgressStyleModel",
     "state": {
      "_model_module": "@jupyter-widgets/controls",
      "_model_module_version": "1.5.0",
      "_model_name": "ProgressStyleModel",
      "_view_count": null,
      "_view_module": "@jupyter-widgets/base",
      "_view_module_version": "1.2.0",
      "_view_name": "StyleView",
      "bar_color": null,
      "description_width": "initial"
     }
    },
    "9b8c5fb9eda943d088d18f1128d1be4d": {
     "model_module": "@jupyter-widgets/base",
     "model_name": "LayoutModel",
     "state": {
      "_model_module": "@jupyter-widgets/base",
      "_model_module_version": "1.2.0",
      "_model_name": "LayoutModel",
      "_view_count": null,
      "_view_module": "@jupyter-widgets/base",
      "_view_module_version": "1.2.0",
      "_view_name": "LayoutView",
      "align_content": null,
      "align_items": null,
      "align_self": null,
      "border": null,
      "bottom": null,
      "display": null,
      "flex": null,
      "flex_flow": null,
      "grid_area": null,
      "grid_auto_columns": null,
      "grid_auto_flow": null,
      "grid_auto_rows": null,
      "grid_column": null,
      "grid_gap": null,
      "grid_row": null,
      "grid_template_areas": null,
      "grid_template_columns": null,
      "grid_template_rows": null,
      "height": null,
      "justify_content": null,
      "justify_items": null,
      "left": null,
      "margin": null,
      "max_height": null,
      "max_width": null,
      "min_height": null,
      "min_width": null,
      "object_fit": null,
      "object_position": null,
      "order": null,
      "overflow": null,
      "overflow_x": null,
      "overflow_y": null,
      "padding": null,
      "right": null,
      "top": null,
      "visibility": null,
      "width": null
     }
    },
    "a1520a95a4d34b0ca5187dca4ece600e": {
     "model_module": "@jupyter-widgets/controls",
     "model_name": "FloatProgressModel",
     "state": {
      "_dom_classes": [],
      "_model_module": "@jupyter-widgets/controls",
      "_model_module_version": "1.5.0",
      "_model_name": "FloatProgressModel",
      "_view_count": null,
      "_view_module": "@jupyter-widgets/controls",
      "_view_module_version": "1.5.0",
      "_view_name": "ProgressView",
      "bar_style": "",
      "description": "  0%",
      "description_tooltip": null,
      "layout": "IPY_MODEL_d36fedb8978e4b398f96fb76e78205e8",
      "max": 20,
      "min": 0,
      "orientation": "horizontal",
      "style": "IPY_MODEL_cb20dd1deb974367afe34dc5621b8a50",
      "value": 0
     }
    },
    "a19cdbffbbe044739cc9ef8a397343dc": {
     "model_module": "@jupyter-widgets/base",
     "model_name": "LayoutModel",
     "state": {
      "_model_module": "@jupyter-widgets/base",
      "_model_module_version": "1.2.0",
      "_model_name": "LayoutModel",
      "_view_count": null,
      "_view_module": "@jupyter-widgets/base",
      "_view_module_version": "1.2.0",
      "_view_name": "LayoutView",
      "align_content": null,
      "align_items": null,
      "align_self": null,
      "border": null,
      "bottom": null,
      "display": null,
      "flex": null,
      "flex_flow": null,
      "grid_area": null,
      "grid_auto_columns": null,
      "grid_auto_flow": null,
      "grid_auto_rows": null,
      "grid_column": null,
      "grid_gap": null,
      "grid_row": null,
      "grid_template_areas": null,
      "grid_template_columns": null,
      "grid_template_rows": null,
      "height": null,
      "justify_content": null,
      "justify_items": null,
      "left": null,
      "margin": null,
      "max_height": null,
      "max_width": null,
      "min_height": null,
      "min_width": null,
      "object_fit": null,
      "object_position": null,
      "order": null,
      "overflow": null,
      "overflow_x": null,
      "overflow_y": null,
      "padding": null,
      "right": null,
      "top": null,
      "visibility": null,
      "width": null
     }
    },
    "a8431e61cad041428d02008bb409465d": {
     "model_module": "@jupyter-widgets/controls",
     "model_name": "DescriptionStyleModel",
     "state": {
      "_model_module": "@jupyter-widgets/controls",
      "_model_module_version": "1.5.0",
      "_model_name": "DescriptionStyleModel",
      "_view_count": null,
      "_view_module": "@jupyter-widgets/base",
      "_view_module_version": "1.2.0",
      "_view_name": "StyleView",
      "description_width": ""
     }
    },
    "b821c11f60a2478694498b972bcbf200": {
     "model_module": "@jupyter-widgets/controls",
     "model_name": "DescriptionStyleModel",
     "state": {
      "_model_module": "@jupyter-widgets/controls",
      "_model_module_version": "1.5.0",
      "_model_name": "DescriptionStyleModel",
      "_view_count": null,
      "_view_module": "@jupyter-widgets/base",
      "_view_module_version": "1.2.0",
      "_view_name": "StyleView",
      "description_width": ""
     }
    },
    "c3eca7e62e0a40348cf9849b47470032": {
     "model_module": "@jupyter-widgets/base",
     "model_name": "LayoutModel",
     "state": {
      "_model_module": "@jupyter-widgets/base",
      "_model_module_version": "1.2.0",
      "_model_name": "LayoutModel",
      "_view_count": null,
      "_view_module": "@jupyter-widgets/base",
      "_view_module_version": "1.2.0",
      "_view_name": "LayoutView",
      "align_content": null,
      "align_items": null,
      "align_self": null,
      "border": null,
      "bottom": null,
      "display": null,
      "flex": null,
      "flex_flow": null,
      "grid_area": null,
      "grid_auto_columns": null,
      "grid_auto_flow": null,
      "grid_auto_rows": null,
      "grid_column": null,
      "grid_gap": null,
      "grid_row": null,
      "grid_template_areas": null,
      "grid_template_columns": null,
      "grid_template_rows": null,
      "height": null,
      "justify_content": null,
      "justify_items": null,
      "left": null,
      "margin": null,
      "max_height": null,
      "max_width": null,
      "min_height": null,
      "min_width": null,
      "object_fit": null,
      "object_position": null,
      "order": null,
      "overflow": null,
      "overflow_x": null,
      "overflow_y": null,
      "padding": null,
      "right": null,
      "top": null,
      "visibility": null,
      "width": null
     }
    },
    "cb20dd1deb974367afe34dc5621b8a50": {
     "model_module": "@jupyter-widgets/controls",
     "model_name": "ProgressStyleModel",
     "state": {
      "_model_module": "@jupyter-widgets/controls",
      "_model_module_version": "1.5.0",
      "_model_name": "ProgressStyleModel",
      "_view_count": null,
      "_view_module": "@jupyter-widgets/base",
      "_view_module_version": "1.2.0",
      "_view_name": "StyleView",
      "bar_color": null,
      "description_width": "initial"
     }
    },
    "d36fedb8978e4b398f96fb76e78205e8": {
     "model_module": "@jupyter-widgets/base",
     "model_name": "LayoutModel",
     "state": {
      "_model_module": "@jupyter-widgets/base",
      "_model_module_version": "1.2.0",
      "_model_name": "LayoutModel",
      "_view_count": null,
      "_view_module": "@jupyter-widgets/base",
      "_view_module_version": "1.2.0",
      "_view_name": "LayoutView",
      "align_content": null,
      "align_items": null,
      "align_self": null,
      "border": null,
      "bottom": null,
      "display": null,
      "flex": null,
      "flex_flow": null,
      "grid_area": null,
      "grid_auto_columns": null,
      "grid_auto_flow": null,
      "grid_auto_rows": null,
      "grid_column": null,
      "grid_gap": null,
      "grid_row": null,
      "grid_template_areas": null,
      "grid_template_columns": null,
      "grid_template_rows": null,
      "height": null,
      "justify_content": null,
      "justify_items": null,
      "left": null,
      "margin": null,
      "max_height": null,
      "max_width": null,
      "min_height": null,
      "min_width": null,
      "object_fit": null,
      "object_position": null,
      "order": null,
      "overflow": null,
      "overflow_x": null,
      "overflow_y": null,
      "padding": null,
      "right": null,
      "top": null,
      "visibility": null,
      "width": null
     }
    },
    "df82fef34e544b19a1f44f02b6995c74": {
     "model_module": "@jupyter-widgets/base",
     "model_name": "LayoutModel",
     "state": {
      "_model_module": "@jupyter-widgets/base",
      "_model_module_version": "1.2.0",
      "_model_name": "LayoutModel",
      "_view_count": null,
      "_view_module": "@jupyter-widgets/base",
      "_view_module_version": "1.2.0",
      "_view_name": "LayoutView",
      "align_content": null,
      "align_items": null,
      "align_self": null,
      "border": null,
      "bottom": null,
      "display": null,
      "flex": null,
      "flex_flow": null,
      "grid_area": null,
      "grid_auto_columns": null,
      "grid_auto_flow": null,
      "grid_auto_rows": null,
      "grid_column": null,
      "grid_gap": null,
      "grid_row": null,
      "grid_template_areas": null,
      "grid_template_columns": null,
      "grid_template_rows": null,
      "height": null,
      "justify_content": null,
      "justify_items": null,
      "left": null,
      "margin": null,
      "max_height": null,
      "max_width": null,
      "min_height": null,
      "min_width": null,
      "object_fit": null,
      "object_position": null,
      "order": null,
      "overflow": null,
      "overflow_x": null,
      "overflow_y": null,
      "padding": null,
      "right": null,
      "top": null,
      "visibility": null,
      "width": null
     }
    },
    "e361de10424647a0ab2c2594ba35eb63": {
     "model_module": "@jupyter-widgets/controls",
     "model_name": "ProgressStyleModel",
     "state": {
      "_model_module": "@jupyter-widgets/controls",
      "_model_module_version": "1.5.0",
      "_model_name": "ProgressStyleModel",
      "_view_count": null,
      "_view_module": "@jupyter-widgets/base",
      "_view_module_version": "1.2.0",
      "_view_name": "StyleView",
      "bar_color": null,
      "description_width": "initial"
     }
    },
    "ec5c8ed0fb3c4e9aa787e3de9513c699": {
     "model_module": "@jupyter-widgets/base",
     "model_name": "LayoutModel",
     "state": {
      "_model_module": "@jupyter-widgets/base",
      "_model_module_version": "1.2.0",
      "_model_name": "LayoutModel",
      "_view_count": null,
      "_view_module": "@jupyter-widgets/base",
      "_view_module_version": "1.2.0",
      "_view_name": "LayoutView",
      "align_content": null,
      "align_items": null,
      "align_self": null,
      "border": null,
      "bottom": null,
      "display": null,
      "flex": null,
      "flex_flow": null,
      "grid_area": null,
      "grid_auto_columns": null,
      "grid_auto_flow": null,
      "grid_auto_rows": null,
      "grid_column": null,
      "grid_gap": null,
      "grid_row": null,
      "grid_template_areas": null,
      "grid_template_columns": null,
      "grid_template_rows": null,
      "height": null,
      "justify_content": null,
      "justify_items": null,
      "left": null,
      "margin": null,
      "max_height": null,
      "max_width": null,
      "min_height": null,
      "min_width": null,
      "object_fit": null,
      "object_position": null,
      "order": null,
      "overflow": null,
      "overflow_x": null,
      "overflow_y": null,
      "padding": null,
      "right": null,
      "top": null,
      "visibility": null,
      "width": null
     }
    },
    "edee215875a24a4db9d611c0a5603e6a": {
     "model_module": "@jupyter-widgets/base",
     "model_name": "LayoutModel",
     "state": {
      "_model_module": "@jupyter-widgets/base",
      "_model_module_version": "1.2.0",
      "_model_name": "LayoutModel",
      "_view_count": null,
      "_view_module": "@jupyter-widgets/base",
      "_view_module_version": "1.2.0",
      "_view_name": "LayoutView",
      "align_content": null,
      "align_items": null,
      "align_self": null,
      "border": null,
      "bottom": null,
      "display": null,
      "flex": null,
      "flex_flow": null,
      "grid_area": null,
      "grid_auto_columns": null,
      "grid_auto_flow": null,
      "grid_auto_rows": null,
      "grid_column": null,
      "grid_gap": null,
      "grid_row": null,
      "grid_template_areas": null,
      "grid_template_columns": null,
      "grid_template_rows": null,
      "height": null,
      "justify_content": null,
      "justify_items": null,
      "left": null,
      "margin": null,
      "max_height": null,
      "max_width": null,
      "min_height": null,
      "min_width": null,
      "object_fit": null,
      "object_position": null,
      "order": null,
      "overflow": null,
      "overflow_x": null,
      "overflow_y": null,
      "padding": null,
      "right": null,
      "top": null,
      "visibility": null,
      "width": null
     }
    },
    "ef5a01bb8d474a799252b9d3282abaee": {
     "model_module": "@jupyter-widgets/controls",
     "model_name": "HBoxModel",
     "state": {
      "_dom_classes": [],
      "_model_module": "@jupyter-widgets/controls",
      "_model_module_version": "1.5.0",
      "_model_name": "HBoxModel",
      "_view_count": null,
      "_view_module": "@jupyter-widgets/controls",
      "_view_module_version": "1.5.0",
      "_view_name": "HBoxView",
      "box_style": "",
      "children": [
       "IPY_MODEL_a1520a95a4d34b0ca5187dca4ece600e",
       "IPY_MODEL_0ae4f94a045c4b7f85b2814752f5b0b9"
      ],
      "layout": "IPY_MODEL_5150b8cff835434bb435e82a7c3856ba"
     }
    },
    "f9f124104c44462e97b04a98b9f7e596": {
     "model_module": "@jupyter-widgets/controls",
     "model_name": "HBoxModel",
     "state": {
      "_dom_classes": [],
      "_model_module": "@jupyter-widgets/controls",
      "_model_module_version": "1.5.0",
      "_model_name": "HBoxModel",
      "_view_count": null,
      "_view_module": "@jupyter-widgets/controls",
      "_view_module_version": "1.5.0",
      "_view_name": "HBoxView",
      "box_style": "",
      "children": [
       "IPY_MODEL_17ad5c32c7144c7497efd97c5f743a20",
       "IPY_MODEL_596d44af4af84634b267a552259be90d"
      ],
      "layout": "IPY_MODEL_c3eca7e62e0a40348cf9849b47470032"
     }
    }
   }
  }
 },
 "nbformat": 4,
 "nbformat_minor": 1
}
