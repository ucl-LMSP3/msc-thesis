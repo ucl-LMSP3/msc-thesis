{
 "cells": [
  {
   "cell_type": "markdown",
   "metadata": {
    "id": "bp6fZgdZvhsz"
   },
   "source": [
    "# Libraries"
   ]
  },
  {
   "cell_type": "code",
   "execution_count": 6,
   "metadata": {
    "id": "69Mso1oRvmtX"
   },
   "outputs": [],
   "source": [
    "import numpy as np\n",
    "import sklearn.datasets as datasets\n",
    "import time\n",
    "import copy\n",
    "import scipy\n",
    "import pandas as pd\n",
    "import matplotlib.pyplot as plt\n",
    "from sklearn.datasets import make_friedman3\n",
    "from sklearn.model_selection import GroupKFold, GroupShuffleSplit\n",
    "from tqdm.notebook import tqdm, tnrange"
   ]
  },
  {
   "cell_type": "code",
   "execution_count": 5,
   "metadata": {
    "id": "IY14Alf9wEvt"
   },
   "outputs": [],
   "source": [
    "from DME.Simulation import train"
   ]
  },
  {
   "cell_type": "markdown",
   "metadata": {
    "id": "YLWDklYOvwVy"
   },
   "source": [
    "# Helper functions"
   ]
  },
  {
   "cell_type": "code",
   "execution_count": null,
   "metadata": {
    "id": "TztRbtYX3I5O"
   },
   "outputs": [],
   "source": [
    "def linear_func(n_samples, random_state=1):\n",
    "    np.random.seed(random_state)\n",
    "    X = np.random.uniform(size=(n_samples, 4))\n",
    "    F = 1 + np.sum(X, axis=1)\n",
    "\n",
    "    return X, F"
   ]
  },
  {
   "cell_type": "code",
   "execution_count": null,
   "metadata": {
    "id": "QZlDY0k-vmzD"
   },
   "outputs": [],
   "source": [
    "def exponential_kernel(x1, x2, sigma2, rho):\n",
    "    '''\n",
    "    Computes the exponential kernel matrix between two vectors.\n",
    "    '''\n",
    "    x1 = np.expand_dims(x1, axis=1)\n",
    "    x2 = np.expand_dims(x2, axis=1)\n",
    "\n",
    "    return sigma2 * np.exp(-scipy.spatial.distance.cdist(x1, x2, 'sqeuclidean') / rho)"
   ]
  },
  {
   "cell_type": "code",
   "execution_count": null,
   "metadata": {
    "id": "11VY12Sjvm2m"
   },
   "outputs": [],
   "source": [
    "def generate_data(n, m, p, func, shared_gp=True, random_state=1):\n",
    "    # Features\n",
    "    if func == 'make_friedman3':\n",
    "        X, F = make_friedman3(n_samples=n, random_state=random_state)\n",
    "        F *= 10**0.5\n",
    "    elif func == 'linear_func':\n",
    "        X, F = linear_func(n_samples=n, random_state=random_state)\n",
    "    else:\n",
    "        raise Exception('function is invalid') \n",
    "\n",
    "    # Create groups\n",
    "    group = np.arange(n) # Variable that stores group IDs\n",
    "    for i in range(m):\n",
    "        group[i*p:(i+1)*p] = i\n",
    "\n",
    "    # Incidence matrix relating grouped random effects to observations\n",
    "    Z1 = np.zeros((n, m))\n",
    "    for i in range(m):\n",
    "        Z1[np.where(group==i), i] = 1\n",
    "\n",
    "    # Simulate random (sorted) observation times for each group\n",
    "    rng = np.random.default_rng(seed=random_state)\n",
    "    times_arrays = [np.sort(rng.choice(1000, size=p, replace=False, shuffle=False)) for i in range(m)]\n",
    "    times = np.concatenate(times_arrays)\n",
    "\n",
    "    # Simulate GPs\n",
    "    GP_list = []\n",
    "    np.random.seed(random_state)\n",
    "    if shared_gp:\n",
    "        # Simulate GPs with same parameters\n",
    "        sigma2_2 = 1 ** 2  # Marginal variance of GP\n",
    "        rho = 0.1  # GP Range parameter\n",
    "        for arr in times_arrays:\n",
    "            K = exponential_kernel(arr, arr, sigma2_2, rho)\n",
    "            g = np.random.multivariate_normal(mean=np.zeros(p), cov=K)\n",
    "            GP_list.append(g)\n",
    "    else:\n",
    "        # Simulate GPs with different, random parameters\n",
    "        for arr in times_arrays:\n",
    "            sigma2_2 = scipy.stats.invgamma.rvs(1, loc=0, scale=10)\n",
    "            rho = np.random.uniform(0.01, 1000)\n",
    "            K = exponential_kernel(arr, arr, sigma2_2, rho)\n",
    "            g = np.random.multivariate_normal(mean=np.zeros(p), cov=K)\n",
    "            GP_list.append(g)\n",
    "\n",
    "    # Simulate outcome variable\n",
    "    np.random.seed(random_state)\n",
    "    sigma2 = 0.5 ** 2  # Error variance\n",
    "    b = np.random.normal(size=m) # Simulate random effect intercept\n",
    "    G = np.dot(Z1, b) + np.concatenate(GP_list) # Combine random effect intercept with GP\n",
    "    epsilon = np.sqrt(sigma2) * np.random.normal(size=n) # Simulate error term\n",
    "    y = F + G + epsilon\n",
    "\n",
    "    # Create dataframes\n",
    "    data = pd.concat([pd.DataFrame(F, columns=['F']),\n",
    "                   pd.DataFrame(group, columns=['group']),\n",
    "                   pd.DataFrame(times, columns=['times']),\n",
    "                   pd.DataFrame(X,columns=['feature_1','feature_2','feature_3','feature_4']),\n",
    "                   pd.DataFrame(y, columns=['y'])],\n",
    "                   axis=1)\n",
    "\n",
    "    return data"
   ]
  },
  {
   "cell_type": "code",
   "execution_count": null,
   "metadata": {
    "id": "HeYuT3ILwU_r"
   },
   "outputs": [],
   "source": [
    "def generate_datasets(n, m, p, n_datasets, n_valid, func, shared_gp=True, random_state=1):\n",
    "    datasets = {}\n",
    "    datasets['data'] = []\n",
    "    datasets['dataframes'] = []\n",
    "    datasets['n_samples_chosen_per_group'] = []\n",
    "\n",
    "    # Create training and test sets\n",
    "    for i in range(n_datasets):\n",
    "        data = generate_data(n, m, p, func, shared_gp, random_state=i+random_state)\n",
    "        df_new, df_test = train_test_split_grouped_extrapolation(data, data['group'], test_size=0.2, random_state=i)\n",
    "        group_sizes = df_new.groupby(['group']).size().to_numpy()\n",
    "        n_samples_chosen_per_group = train_test_split_grouped_interpolation(df_new, group_sizes, test_size=0.2, random_state=i)\n",
    "        datasets['data'].append(data)\n",
    "        datasets['dataframes'].append([df_new, df_test])\n",
    "        datasets['n_samples_chosen_per_group'].append(n_samples_chosen_per_group)\n",
    "    \n",
    "    # Create validation datasets\n",
    "    validation_datasets = {}\n",
    "    validation_datasets['dataframes'] = []\n",
    "    for i in range(n_valid):\n",
    "        data = generate_data(n, m, p, func, shared_gp, random_state=i+n_datasets+random_state)\n",
    "        df_train, df_val = train_test_split_grouped_extrapolation(data, data['group'], test_size=0.2, random_state=i)\n",
    "        validation_datasets['dataframes'].append([df_train, df_val])\n",
    "\n",
    "    return datasets, validation_datasets"
   ]
  },
  {
   "cell_type": "code",
   "execution_count": null,
   "metadata": {
    "id": "DwyckCXj3fL3"
   },
   "outputs": [],
   "source": [
    "def param_search(dataframes, model_config, train_config,\n",
    "                 random_effects_column_names,\n",
    "                 group_column_name, y_column_name,\n",
    "                 n_samples_chosen_per_group_list,\n",
    "                 model_type='MLP',\n",
    "                 random_state=1):\n",
    "    best_val_error_list = []\n",
    "    for i in tnrange(len(dataframes)):\n",
    "        best_state, best_val_err = train.train_and_evaluate_model(model_config, train_config, dataframes[i], \n",
    "                                                                  random_effects_column_names,\n",
    "                                                                  group_column_name, y_column_name,\n",
    "                                                                  n_samples_chosen_per_group_list[i],\n",
    "                                                                  model_type, random_state=random_state)\n",
    "        best_val_error_list.append(best_val_err)\n",
    "\n",
    "    return np.mean(best_val_error_list)"
   ]
  },
  {
   "cell_type": "code",
   "execution_count": null,
   "metadata": {
    "id": "96xgMt4hhQJt"
   },
   "outputs": [],
   "source": [
    "def test(dataframes, model_config, train_config,\n",
    "         random_effects_column_names,\n",
    "         group_column_name, y_column_name,\n",
    "         n_samples_chosen_per_group_list,\n",
    "         model_type='MLP',\n",
    "         random_state=1):\n",
    "    F_rmse_test_list, rmse_test1_list, rmse_test2_list = [], [], []\n",
    "    for i in tnrange(len(dataframes)):\n",
    "        F_rmse_test1, F_rmse_test2, rmse_test1, rmse_test2 = train.train_and_test_model(model_config, train_config, dataframes[i], random_effects_column_names,\n",
    "                                                                                        group_column_name, y_column_name,\n",
    "                                                                                        n_samples_chosen_per_group_list[i],\n",
    "                                                                                        model_type, random_state=random_state)\n",
    "        F_rmse_test_list.append(F_rmse_test1)\n",
    "        F_rmse_test_list.append(F_rmse_test2)\n",
    "        rmse_test1_list.append(rmse_test1)\n",
    "        rmse_test2_list.append(rmse_test2)\n",
    "    \n",
    "    print('Extrapolation')\n",
    "    print('Mean: ', np.mean(rmse_test1_list))\n",
    "    print('Std: ', np.std(rmse_test1_list))\n",
    "    print('\\n')\n",
    "    print('Interpolation')\n",
    "    print('Mean: ', np.mean(rmse_test2_list))\n",
    "    print('Std: ', np.std(rmse_test2_list))\n",
    "    print('\\n')\n",
    "    print('F')\n",
    "    print('Mean: ', np.mean(F_rmse_test_list))\n",
    "    print('Std: ', np.std(F_rmse_test_list))\n",
    "    \n",
    "    return np.mean(rmse_test1_list), np.std(rmse_test1_list), np.mean(rmse_test2_list), np.std(rmse_test2_list), np.mean(F_rmse_test_list), np.std(F_rmse_test_list)"
   ]
  },
  {
   "cell_type": "code",
   "execution_count": null,
   "metadata": {
    "id": "1CUo55R5HIkG"
   },
   "outputs": [],
   "source": [
    "def train_test_split_grouped_interpolation(df, group_sizes, test_size=0.2, random_state=1):\n",
    "    '''\n",
    "    Train/test split for a dataframe, but test set contains at least one observation from each group in the training set, and contains no unseen groups.\n",
    "    '''\n",
    "    assert 0 < test_size < 1, \"Test size must be strictly between 0 and 1\"\n",
    "    assert np.sum(group_sizes) == len(df), \"Sum of group_sizes must be equal to length of dataframe\"\n",
    "    assert group_sizes.all() > 0, \"Group sizes should be non-negative\"\n",
    "    assert len(group_sizes) < len(df), \"Number of groups should be less than number of observations\"\n",
    "\n",
    "    np.random.seed(random_state)\n",
    "    df_len = len(df)\n",
    "    test_len = int(test_size * df_len)\n",
    "    no_groups = len(group_sizes)\n",
    "    group_sizes_new = group_sizes.copy()\n",
    "\n",
    "    # Pick one observation from all groups\n",
    "    sample_len = no_groups\n",
    "    n_samples_chosen_per_group = np.ones_like(group_sizes_new)\n",
    "    last_idx_arr = np.cumsum(group_sizes_new)-1 # Array of index of the last observation in each group within the overall dataset\n",
    "    test_idx = [last_idx_arr[i] for i in range(no_groups)]\n",
    "    group_sizes_new -= 1\n",
    "\n",
    "    # Keep picking more observations until the required number of test observations has been picked\n",
    "    while sample_len < test_len:\n",
    "        group_idx = np.random.randint(no_groups) # Pick a random group\n",
    "        if group_sizes_new[group_idx] > 1:\n",
    "            if test_len - sample_len > 1:\n",
    "                n = np.random.randint(1, min([group_sizes_new[group_idx], test_len-sample_len])) # Pick a random sample of size 1<=n<group_size from the chosen group\n",
    "            else:\n",
    "                n = 1\n",
    "            last_idx = last_idx_arr[group_idx]-n_samples_chosen_per_group[group_idx] # Index of the last observation remaining in each group within the overall dataset\n",
    "            test_idx += [last_idx-i for i in range(n)]\n",
    "            n_samples_chosen_per_group[group_idx] += n # Update number of samples chosen from the group\n",
    "            group_sizes_new[group_idx] -= n # Update current group sizes\n",
    "            sample_len += n\n",
    "\n",
    "    return n_samples_chosen_per_group"
   ]
  },
  {
   "cell_type": "code",
   "execution_count": null,
   "metadata": {
    "id": "MLalQKTBvm56"
   },
   "outputs": [],
   "source": [
    "def train_test_split_grouped_extrapolation(df, groups, test_size=0.2, random_state=1):\n",
    "    '''\n",
    "    Train/test split for a dataframe, but test set only contains only unseen groups.\n",
    "    ``test_size`` represents the proportion of groups to include in the test split (rounded up).\n",
    "    '''\n",
    "    train_idx, test_idx = next(GroupShuffleSplit(test_size=test_size, random_state=random_state).split(df, groups=groups))\n",
    "    df_train, df_test = df.iloc[train_idx], df.iloc[test_idx]\n",
    "\n",
    "    return df_train, df_test"
   ]
  },
  {
   "cell_type": "markdown",
   "metadata": {
    "id": "Tr9aQdr-wd94"
   },
   "source": [
    "# Experiment 1: Friedman 3 Function with Temporal Shared GP"
   ]
  },
  {
   "cell_type": "code",
   "execution_count": null,
   "metadata": {
    "id": "6hanjNavwdTp"
   },
   "outputs": [],
   "source": [
    "# Generate data\n",
    "n, m = 1000, 50  # Number of observations and groups\n",
    "p = int(n/m) # Number of observations per group\n",
    "n_datasets = 20\n",
    "n_valid = 5\n",
    "datasets, validation_datasets = generate_datasets(n, m, p, n_datasets, n_valid, func='make_friedman3', random_state=60)"
   ]
  },
  {
   "cell_type": "markdown",
   "metadata": {
    "id": "Ma3b5XhEbVbw"
   },
   "source": [
    "## MLP"
   ]
  },
  {
   "cell_type": "code",
   "execution_count": null,
   "metadata": {
    "id": "Kdg-QDY66JMg"
   },
   "outputs": [],
   "source": [
    "model_config = {}\n",
    "model_config['input_dim'] = 4\n",
    "model_config['hidden_dim'] = 20\n",
    "model_config['output_dim'] = 1\n",
    "\n",
    "train_config = {}\n",
    "train_config['n_epochs'] = 20\n",
    "train_config['lr'] = 0.001\n",
    "train_config['n_adapt'] = 2\n",
    "train_config['inner_lr'] = 0.1\n",
    "train_config['l2_penalty'] = 0.001\n",
    "\n",
    "# val_result = param_search(validation_datasets['dataframes'], model_config, train_config,\n",
    "#                           random_effects_column_names=['times'],\n",
    "#                           group_column_name='group', y_column_name='y',\n",
    "#                           n_samples_chosen_per_group_list=datasets['n_samples_chosen_per_group'],\n",
    "#                           model_type='MLP')\n",
    "\n",
    "# print(val_result)"
   ]
  },
  {
   "cell_type": "code",
   "execution_count": null,
   "metadata": {
    "id": "RwkuKKDX-TKk"
   },
   "outputs": [],
   "source": [
    "print(val_result)"
   ]
  },
  {
   "cell_type": "code",
   "execution_count": null,
   "metadata": {
    "colab": {
     "base_uri": "https://localhost:8080/",
     "height": 1000,
     "referenced_widgets": [
      "27e157e5fc824659a0b65e3272e1d5cf",
      "1e3f1919b4f44da7a62da83cdecc83dc",
      "70ed7062acfb476c8e82f7831dab4859",
      "d8639377b4824a94abe1c8502d98bbae",
      "fa24a81ba8454b149876b778df1f1756",
      "9afd70a5277c4edeb9620575e71789d4",
      "ba67e86997774531a2cf50fed52f037d",
      "bfa12e2110c2402a9485a98accb55931",
      "c35075574db54243876a93894427fc30",
      "aaf993bcbfee4c33935c6a1027e848f7",
      "b068c98512cd4470bfb3550fc083e91e",
      "1a1fbb26f9a6456db7eb26f9f38bae4c",
      "3d06886a3c554166a3e3608f8ea8d6a3",
      "10129a108c7248fb8c1c0780c6101a38",
      "8a6a28a366794f85bb37d57076d5ab87",
      "56003e52a3e14c5cb57e6c8008ae1048",
      "ab239c9d1a5440e6badeb1577e946b64",
      "79b70f9ca4a14ebfa0d4f887c498aa37",
      "5f6b2fb636b043f388e99a8bf30f68de",
      "97eaf07dc21847a08dc5e989b904e3cd",
      "a026d6aaf5914f86a12f44be17616973",
      "43b29334e913424abbc4ea30c2e80794",
      "35517f4cba8b44efab01a4183a540122",
      "6b3f919fed3346e2a629b8ad57188e6c",
      "c1f07312a92848979b6af7a5b5da5187",
      "92cf024779c44829a560b95309c2c05b",
      "173912c55f064e50bd74887dcb51e94e",
      "ae46d1de3991468a811904516cf423e6",
      "a118383ffb3246ca84ae82ca7da1846d",
      "f28947cb090a468c9f955655194b7343",
      "b48bf33067bc43dfad059a778bb3ca51",
      "be1b875ad6884de78f6ec1b5a4be0dcf",
      "7f726ed3ec6245abb7c4684ae1879d6f",
      "5b3c44d0ff0b40a686e79d6519a98502",
      "75964ec3d4ba4562b318a5e90499e568",
      "3e1fe814080c4293a29872a50182ff39",
      "5e371633a5c149aeaf8dfa9a8346bfa1",
      "a2e4e622c1a343c4b03ffab6cd157b6d",
      "3ba0d16e7cd54365a4bc3737ecd983a2",
      "782db3613064451eadd9fbb5dbc2968a",
      "7d69a42e733542c48aceaf26a210bcf8",
      "8e264ce56a0146b89c1f20d5e98f382d",
      "294ba007940e44e29ee4f1aa29a3d995",
      "448cb9332a374fed98d7e34be0f7f3c3",
      "2f607fe81048477b968c5ec454afbd4d",
      "6cbdd91df06747a18f6a48db7d9643d3",
      "8a3c13d5a2394335a70b4e62db0aa5a2",
      "58c3909be88f4fd9b4f07edf4c446479",
      "3511297e2ff64e94bef82180392d050b",
      "220c1cc0cec4451e9be18a88a90e5d47",
      "92188d031f83491e9d57690937e06d02",
      "175d17bae4384f6f88ef1a2f1c081879",
      "de1fd09fb1b34d12a72936ea81ff684f",
      "7b0d5ef20f344ad9a64a1a98886ad540",
      "5ba7bd3cd1794d30860132df1f095e9d",
      "eac19f0d4e72405ca2849db4a27e0350",
      "a7b74ffd80f14ef99cf00d47971ba7e2",
      "911790620a944a0599a1a58dba32d040",
      "4128f1de9d1a4fd99d7fa6dad98a0301",
      "c512fb7d46db4e7d9f19e8dd0f95eab0",
      "354167a7670d4dc6900a16f8f5801eae",
      "baa98ddd6a174185afa844575208afc1",
      "be9ac5b20f1643ca884ce45160650602",
      "3ca8cc61a0a44d33afa6b03079a2daf9",
      "fc4b346b082143ea83182387f59c22c1",
      "a0bee9b3853c4600990f501f9f7b1542",
      "912c0eff6253440f845223ed6d7b0085",
      "f033bf9b310a4bbb8154a8d9ed69810f",
      "b11270a286ca4df386b808f33c10b7dd",
      "47bd4b65f79d4a9180b5c0981221f795",
      "3b11453e05be4690bdcf020f10f9e231",
      "29f312cf3a874386ace81c795f7a28d0",
      "2915fc6c13fb4ae0839bfa33498d9c82",
      "d77420e1986345a5814e8849f2c030a0",
      "d52a6bf317df42898774ce0441ad457d",
      "a8b93651a8a94cbabfbe63971dc5d178",
      "21677645daca4295b3ef511206f6830f",
      "8da6050b4b204bd5848858c4df174301",
      "e6a28bd8abf74c03af008171e881b358",
      "b0b6a83f3ffb4cd7b5fedeb971882a5d",
      "71cbc6ed75844f7484a8c6422cbce5cb",
      "e82dd219337c4410b800791e70e3a317",
      "9969ffc2f42947a5adaa415e9650921b",
      "11ea740207c140ada9b68045174f8307",
      "f5aaa84eca2c40fdabe577dbcea174b3",
      "5656eb2ad2694d60a7d7cc115398eb4a",
      "07cb91ceefe045089dac4ca3b0d577a2",
      "bbd78d059d0e4b788411461ae910597e",
      "220c0465faed4f878c42d969d6c05d0b",
      "6f0fd343102a4b118e558c65f51bc505",
      "d0bfc7d5de8544a59e4a1549cd1994d8",
      "83bb6b6578584c6e8938baf909e73694",
      "a5be4ad567df47f6b8bd9d47793cefe5",
      "0fc7ece66c9d4b35a37d8ee524975fc8",
      "ffdeaec5d6b64ff8865fc69a8d4109b5",
      "d39121f4c9fb4d259aa75aaaa58ad761",
      "b492d93514504aefb70ce50c1328874c",
      "202cd0fcd8cd4b9aa5ebc95527c5e392",
      "cf2c0fa531e349869f8b777ef5ba406b",
      "b85c580f9954485c9891917d69546a96",
      "96f7597e0bcc47f890629afeeefb0ee1",
      "7d33114ffb8e4d548840b2cfef1f1b3a",
      "a0b3a0cc0aa043c6a353f552ea93fec2",
      "bbd2c5055f734bd28533cdb14556fcaa",
      "73b91fc200b4400f8ad46f3002e5fbcc",
      "79eae5cf0caf4fb7b0897f65cb5334e5",
      "a9538cf423f54627910edc7d27a14d83",
      "e12a07a6181248f988e8beca49d6e7aa",
      "3128c81074e34c418d89b5debdf99db6",
      "380decc0ee7740afb62d1e6b89930520",
      "01d85847da7f4a22b23b4f4d4b97a2d9",
      "6444c5e8ce90477da398798ce483ecea",
      "7cdc535593804fa7a6b49bc8cb205538",
      "f017a93d4302487fa156b9c9a02fffd7",
      "afc116379c1345bf910c6bca24d3d31d",
      "34307943701b4b8c85cb981184592dbf",
      "2d659eeb48444615bd27584696778823",
      "7aa9fc490ea049fbad57aefac1f61f96",
      "7b2cb2ba54b24e7a847325af0ef751d8",
      "0cdc514942b74778aa0e7b4ef2ff3f3a",
      "2ad09fb09f4f4770aac37469ebb8103c",
      "e4797ada972e4603bf45fe0599a2b067",
      "901843c010154a459fdd41227a8c78a0",
      "71249d22893f4adebe47b711ffde3c1b",
      "44093c4efdf347dc8d5c11e35ef59754",
      "1c8337e020cb4135ab2fc272282f2e7c",
      "cb94c5f6b6fc406fb7cc7b697b1ee5f1",
      "368ddc4f4e444d82af346e6ca2648546",
      "51a2180cc38b40f0b5bcf34dadcff0ce",
      "187f5a6704fe4297a939f0062e44540e",
      "8cd3e71d62ed4f50985a23e0ac911ecc",
      "7eec6b388d5b440e975412be8f90bdcc",
      "453bc96f83874a168bc03abfcd48fd00",
      "cb09577be4af48668909cb2c753e3d6d",
      "3db98ca2e67e493e9b13766a3a33be86",
      "674c8a75d2ce42c8b720b24e155b7f13",
      "9029620d160845a69b2db3059b0dea42",
      "11b5770c254c4fc4be680a1d305a08cf",
      "f1f86e0eabb143809ebdc87a7d9a8417",
      "f7d3d5cb0ac8425d8e9aadc38f1445d5",
      "4925500b681b4fc2950dc5937c253f50",
      "e4e8711d56514b1fba053bc242c509ce",
      "d3a5d7656a4c499999b79e5341a8fec1",
      "c58d51487da940399f630e068245f6e3",
      "24d6c65e971649d7b5d56201e2b98dc8",
      "ca8a049e7e1e480fa4108bf207070b6e",
      "ebbad9b3f4e244b9b7da8bc3e7f60a93",
      "6a85aba9a7384346a0810644eaf5a914",
      "088a8716a09a4155a9073149412b4544",
      "b2f5cf2503104d6e83e22cf145c6b60d",
      "1d185b182175401bad23bfd543b3a508",
      "7c686e02f36144c49049e188e84ed448",
      "51ae19c214ff4b33b44b1808e3b9066e",
      "00814be1fc2d4d60908799b11a5c49ee",
      "f7e7979abd414291b54f96b4faa01c1b",
      "e4978b37ec5c4b01bf1bded2bbb9ed89",
      "1ed325647e784e3981c3c7c8d47ce2b0",
      "bd47fe06ecdb46acb29d2f497ca9bd3f",
      "7007c8839f3a4e82803ca07cd4ae1873",
      "dbd751c124274dc4bc926f45c2b27156",
      "72e200a16fdb477d8f10958d695439da",
      "b29addd8b26342ef820b87ba5f12c75c",
      "e77e5d36853641e48ee25cc74e917d5a",
      "01bd4b9c2eb04b888d280784252d75b4",
      "211f03492de041d0886ab29931e6d99a",
      "d7ad2f19fdc24ab8afc3cfc65eb8dd46",
      "0bbf8139d6f44f5999c2e72ef7453065",
      "9c6c293dfe4a48f3ae46e3f64da4a486"
     ]
    },
    "executionInfo": {
     "elapsed": 149973,
     "status": "ok",
     "timestamp": 1627819100964,
     "user": {
      "displayName": "Jeria Kua",
      "photoUrl": "",
      "userId": "01722788589990916725"
     },
     "user_tz": -480
    },
    "id": "EQQ5sPB3wdhm",
    "outputId": "9f761b0b-aa57-451c-b3d2-f0322b610103"
   },
   "outputs": [
    {
     "data": {
      "application/vnd.jupyter.widget-view+json": {
       "model_id": "27e157e5fc824659a0b65e3272e1d5cf",
       "version_major": 2,
       "version_minor": 0
      },
      "text/plain": [
       "HBox(children=(FloatProgress(value=0.0, max=20.0), HTML(value='')))"
      ]
     },
     "metadata": {
      "tags": []
     },
     "output_type": "display_data"
    },
    {
     "data": {
      "application/vnd.jupyter.widget-view+json": {
       "model_id": "c35075574db54243876a93894427fc30",
       "version_major": 2,
       "version_minor": 0
      },
      "text/plain": [
       "HBox(children=(FloatProgress(value=0.0, max=50.0), HTML(value='')))"
      ]
     },
     "metadata": {
      "tags": []
     },
     "output_type": "display_data"
    },
    {
     "name": "stdout",
     "output_type": "stream",
     "text": [
      "\n",
      "[Test (Extrapolation)] RMSE=2.088 and loss=28.789\n",
      "[Test (Interpolation)] RMSE=1.965 and loss=46.679\n"
     ]
    },
    {
     "data": {
      "application/vnd.jupyter.widget-view+json": {
       "model_id": "ab239c9d1a5440e6badeb1577e946b64",
       "version_major": 2,
       "version_minor": 0
      },
      "text/plain": [
       "HBox(children=(FloatProgress(value=0.0, max=50.0), HTML(value='')))"
      ]
     },
     "metadata": {
      "tags": []
     },
     "output_type": "display_data"
    },
    {
     "name": "stdout",
     "output_type": "stream",
     "text": [
      "\n",
      "[Test (Extrapolation)] RMSE=1.960 and loss=30.057\n",
      "[Test (Interpolation)] RMSE=1.725 and loss=43.149\n"
     ]
    },
    {
     "data": {
      "application/vnd.jupyter.widget-view+json": {
       "model_id": "c1f07312a92848979b6af7a5b5da5187",
       "version_major": 2,
       "version_minor": 0
      },
      "text/plain": [
       "HBox(children=(FloatProgress(value=0.0, max=50.0), HTML(value='')))"
      ]
     },
     "metadata": {
      "tags": []
     },
     "output_type": "display_data"
    },
    {
     "name": "stdout",
     "output_type": "stream",
     "text": [
      "\n",
      "[Test (Extrapolation)] RMSE=1.931 and loss=34.921\n",
      "[Test (Interpolation)] RMSE=1.599 and loss=45.508\n"
     ]
    },
    {
     "data": {
      "application/vnd.jupyter.widget-view+json": {
       "model_id": "7f726ed3ec6245abb7c4684ae1879d6f",
       "version_major": 2,
       "version_minor": 0
      },
      "text/plain": [
       "HBox(children=(FloatProgress(value=0.0, max=50.0), HTML(value='')))"
      ]
     },
     "metadata": {
      "tags": []
     },
     "output_type": "display_data"
    },
    {
     "name": "stdout",
     "output_type": "stream",
     "text": [
      "\n",
      "[Test (Extrapolation)] RMSE=1.962 and loss=33.639\n",
      "[Test (Interpolation)] RMSE=1.851 and loss=46.596\n"
     ]
    },
    {
     "data": {
      "application/vnd.jupyter.widget-view+json": {
       "model_id": "7d69a42e733542c48aceaf26a210bcf8",
       "version_major": 2,
       "version_minor": 0
      },
      "text/plain": [
       "HBox(children=(FloatProgress(value=0.0, max=50.0), HTML(value='')))"
      ]
     },
     "metadata": {
      "tags": []
     },
     "output_type": "display_data"
    },
    {
     "name": "stdout",
     "output_type": "stream",
     "text": [
      "\n",
      "[Test (Extrapolation)] RMSE=1.981 and loss=31.240\n",
      "[Test (Interpolation)] RMSE=1.919 and loss=44.418\n"
     ]
    },
    {
     "data": {
      "application/vnd.jupyter.widget-view+json": {
       "model_id": "3511297e2ff64e94bef82180392d050b",
       "version_major": 2,
       "version_minor": 0
      },
      "text/plain": [
       "HBox(children=(FloatProgress(value=0.0, max=50.0), HTML(value='')))"
      ]
     },
     "metadata": {
      "tags": []
     },
     "output_type": "display_data"
    },
    {
     "name": "stdout",
     "output_type": "stream",
     "text": [
      "\n",
      "[Test (Extrapolation)] RMSE=1.735 and loss=30.611\n",
      "[Test (Interpolation)] RMSE=1.886 and loss=43.598\n"
     ]
    },
    {
     "data": {
      "application/vnd.jupyter.widget-view+json": {
       "model_id": "a7b74ffd80f14ef99cf00d47971ba7e2",
       "version_major": 2,
       "version_minor": 0
      },
      "text/plain": [
       "HBox(children=(FloatProgress(value=0.0, max=50.0), HTML(value='')))"
      ]
     },
     "metadata": {
      "tags": []
     },
     "output_type": "display_data"
    },
    {
     "name": "stdout",
     "output_type": "stream",
     "text": [
      "\n",
      "[Test (Extrapolation)] RMSE=1.847 and loss=33.423\n",
      "[Test (Interpolation)] RMSE=1.862 and loss=45.118\n"
     ]
    },
    {
     "data": {
      "application/vnd.jupyter.widget-view+json": {
       "model_id": "fc4b346b082143ea83182387f59c22c1",
       "version_major": 2,
       "version_minor": 0
      },
      "text/plain": [
       "HBox(children=(FloatProgress(value=0.0, max=50.0), HTML(value='')))"
      ]
     },
     "metadata": {
      "tags": []
     },
     "output_type": "display_data"
    },
    {
     "name": "stdout",
     "output_type": "stream",
     "text": [
      "\n",
      "[Test (Extrapolation)] RMSE=1.659 and loss=29.421\n",
      "[Test (Interpolation)] RMSE=1.631 and loss=48.067\n"
     ]
    },
    {
     "data": {
      "application/vnd.jupyter.widget-view+json": {
       "model_id": "2915fc6c13fb4ae0839bfa33498d9c82",
       "version_major": 2,
       "version_minor": 0
      },
      "text/plain": [
       "HBox(children=(FloatProgress(value=0.0, max=50.0), HTML(value='')))"
      ]
     },
     "metadata": {
      "tags": []
     },
     "output_type": "display_data"
    },
    {
     "name": "stdout",
     "output_type": "stream",
     "text": [
      "\n",
      "[Test (Extrapolation)] RMSE=1.921 and loss=32.363\n",
      "[Test (Interpolation)] RMSE=1.850 and loss=48.052\n"
     ]
    },
    {
     "data": {
      "application/vnd.jupyter.widget-view+json": {
       "model_id": "71cbc6ed75844f7484a8c6422cbce5cb",
       "version_major": 2,
       "version_minor": 0
      },
      "text/plain": [
       "HBox(children=(FloatProgress(value=0.0, max=50.0), HTML(value='')))"
      ]
     },
     "metadata": {
      "tags": []
     },
     "output_type": "display_data"
    },
    {
     "name": "stdout",
     "output_type": "stream",
     "text": [
      "\n",
      "[Test (Extrapolation)] RMSE=1.629 and loss=32.823\n",
      "[Test (Interpolation)] RMSE=1.778 and loss=47.700\n"
     ]
    },
    {
     "data": {
      "application/vnd.jupyter.widget-view+json": {
       "model_id": "220c0465faed4f878c42d969d6c05d0b",
       "version_major": 2,
       "version_minor": 0
      },
      "text/plain": [
       "HBox(children=(FloatProgress(value=0.0, max=50.0), HTML(value='')))"
      ]
     },
     "metadata": {
      "tags": []
     },
     "output_type": "display_data"
    },
    {
     "name": "stdout",
     "output_type": "stream",
     "text": [
      "\n",
      "[Test (Extrapolation)] RMSE=2.235 and loss=30.423\n",
      "[Test (Interpolation)] RMSE=1.593 and loss=42.248\n"
     ]
    },
    {
     "data": {
      "application/vnd.jupyter.widget-view+json": {
       "model_id": "b492d93514504aefb70ce50c1328874c",
       "version_major": 2,
       "version_minor": 0
      },
      "text/plain": [
       "HBox(children=(FloatProgress(value=0.0, max=50.0), HTML(value='')))"
      ]
     },
     "metadata": {
      "tags": []
     },
     "output_type": "display_data"
    },
    {
     "name": "stdout",
     "output_type": "stream",
     "text": [
      "\n",
      "[Test (Extrapolation)] RMSE=1.662 and loss=32.167\n",
      "[Test (Interpolation)] RMSE=1.734 and loss=45.947\n"
     ]
    },
    {
     "data": {
      "application/vnd.jupyter.widget-view+json": {
       "model_id": "73b91fc200b4400f8ad46f3002e5fbcc",
       "version_major": 2,
       "version_minor": 0
      },
      "text/plain": [
       "HBox(children=(FloatProgress(value=0.0, max=50.0), HTML(value='')))"
      ]
     },
     "metadata": {
      "tags": []
     },
     "output_type": "display_data"
    },
    {
     "name": "stdout",
     "output_type": "stream",
     "text": [
      "\n",
      "[Test (Extrapolation)] RMSE=1.935 and loss=32.201\n",
      "[Test (Interpolation)] RMSE=1.718 and loss=46.738\n"
     ]
    },
    {
     "data": {
      "application/vnd.jupyter.widget-view+json": {
       "model_id": "7cdc535593804fa7a6b49bc8cb205538",
       "version_major": 2,
       "version_minor": 0
      },
      "text/plain": [
       "HBox(children=(FloatProgress(value=0.0, max=50.0), HTML(value='')))"
      ]
     },
     "metadata": {
      "tags": []
     },
     "output_type": "display_data"
    },
    {
     "name": "stdout",
     "output_type": "stream",
     "text": [
      "\n",
      "[Test (Extrapolation)] RMSE=1.677 and loss=32.601\n",
      "[Test (Interpolation)] RMSE=1.939 and loss=46.343\n"
     ]
    },
    {
     "data": {
      "application/vnd.jupyter.widget-view+json": {
       "model_id": "2ad09fb09f4f4770aac37469ebb8103c",
       "version_major": 2,
       "version_minor": 0
      },
      "text/plain": [
       "HBox(children=(FloatProgress(value=0.0, max=50.0), HTML(value='')))"
      ]
     },
     "metadata": {
      "tags": []
     },
     "output_type": "display_data"
    },
    {
     "name": "stdout",
     "output_type": "stream",
     "text": [
      "\n",
      "[Test (Extrapolation)] RMSE=2.032 and loss=36.327\n",
      "[Test (Interpolation)] RMSE=1.890 and loss=48.421\n"
     ]
    },
    {
     "data": {
      "application/vnd.jupyter.widget-view+json": {
       "model_id": "51a2180cc38b40f0b5bcf34dadcff0ce",
       "version_major": 2,
       "version_minor": 0
      },
      "text/plain": [
       "HBox(children=(FloatProgress(value=0.0, max=50.0), HTML(value='')))"
      ]
     },
     "metadata": {
      "tags": []
     },
     "output_type": "display_data"
    },
    {
     "name": "stdout",
     "output_type": "stream",
     "text": [
      "\n",
      "[Test (Extrapolation)] RMSE=2.015 and loss=37.617\n",
      "[Test (Interpolation)] RMSE=1.819 and loss=46.190\n"
     ]
    },
    {
     "data": {
      "application/vnd.jupyter.widget-view+json": {
       "model_id": "9029620d160845a69b2db3059b0dea42",
       "version_major": 2,
       "version_minor": 0
      },
      "text/plain": [
       "HBox(children=(FloatProgress(value=0.0, max=50.0), HTML(value='')))"
      ]
     },
     "metadata": {
      "tags": []
     },
     "output_type": "display_data"
    },
    {
     "name": "stdout",
     "output_type": "stream",
     "text": [
      "\n",
      "[Test (Extrapolation)] RMSE=1.600 and loss=32.988\n",
      "[Test (Interpolation)] RMSE=1.839 and loss=49.569\n"
     ]
    },
    {
     "data": {
      "application/vnd.jupyter.widget-view+json": {
       "model_id": "24d6c65e971649d7b5d56201e2b98dc8",
       "version_major": 2,
       "version_minor": 0
      },
      "text/plain": [
       "HBox(children=(FloatProgress(value=0.0, max=50.0), HTML(value='')))"
      ]
     },
     "metadata": {
      "tags": []
     },
     "output_type": "display_data"
    },
    {
     "name": "stdout",
     "output_type": "stream",
     "text": [
      "\n",
      "[Test (Extrapolation)] RMSE=1.406 and loss=30.879\n",
      "[Test (Interpolation)] RMSE=1.638 and loss=44.035\n"
     ]
    },
    {
     "data": {
      "application/vnd.jupyter.widget-view+json": {
       "model_id": "51ae19c214ff4b33b44b1808e3b9066e",
       "version_major": 2,
       "version_minor": 0
      },
      "text/plain": [
       "HBox(children=(FloatProgress(value=0.0, max=50.0), HTML(value='')))"
      ]
     },
     "metadata": {
      "tags": []
     },
     "output_type": "display_data"
    },
    {
     "name": "stdout",
     "output_type": "stream",
     "text": [
      "\n",
      "[Test (Extrapolation)] RMSE=1.938 and loss=33.291\n",
      "[Test (Interpolation)] RMSE=1.981 and loss=51.868\n"
     ]
    },
    {
     "data": {
      "application/vnd.jupyter.widget-view+json": {
       "model_id": "72e200a16fdb477d8f10958d695439da",
       "version_major": 2,
       "version_minor": 0
      },
      "text/plain": [
       "HBox(children=(FloatProgress(value=0.0, max=50.0), HTML(value='')))"
      ]
     },
     "metadata": {
      "tags": []
     },
     "output_type": "display_data"
    },
    {
     "name": "stdout",
     "output_type": "stream",
     "text": [
      "\n",
      "[Test (Extrapolation)] RMSE=1.727 and loss=34.736\n",
      "[Test (Interpolation)] RMSE=1.826 and loss=46.504\n",
      "\n",
      "Extrapolation\n",
      "Mean:  1.8470439021672622\n",
      "Std:  0.19650450645854264\n",
      "\n",
      "\n",
      "Interpolation\n",
      "Mean:  1.8022884989435002\n",
      "Std:  0.11746959708331613\n",
      "\n",
      "\n",
      "F\n",
      "Mean:  0.8928573491529477\n",
      "Std:  0.09050752483344789\n"
     ]
    }
   ],
   "source": [
    "test1_mean, test1_std, test2_mean, test2_std, F_mean, F_std = test(datasets['dataframes'], model_config, train_config, random_effects_column_names=['times'],\n",
    "                                                                   group_column_name='group', y_column_name='y',\n",
    "                                                                   n_samples_chosen_per_group_list=datasets['n_samples_chosen_per_group'],\n",
    "                                                                   model_type='MLP')"
   ]
  },
  {
   "cell_type": "code",
   "execution_count": null,
   "metadata": {
    "colab": {
     "base_uri": "https://localhost:8080/"
    },
    "executionInfo": {
     "elapsed": 406,
     "status": "ok",
     "timestamp": 1627746138370,
     "user": {
      "displayName": "Jeria Kua",
      "photoUrl": "",
      "userId": "01722788589990916725"
     },
     "user_tz": -480
    },
    "id": "r_A3NTxrwdmp",
    "outputId": "594a6e33-f090-45a9-a59f-23193ea811a7"
   },
   "outputs": [
    {
     "name": "stdout",
     "output_type": "stream",
     "text": [
      "Extrapolation\n",
      "Mean:  1.8447034882588624\n",
      "Std:  0.19108703741809022\n",
      "\n",
      "\n",
      "Interpolation\n",
      "Mean:  1.794005695357486\n",
      "Std:  0.11338433247485936\n",
      "\n",
      "\n",
      "F\n",
      "Mean:  0.8923388156361856\n",
      "Std:  0.08536524283251234\n"
     ]
    }
   ],
   "source": [
    "print('Extrapolation')\n",
    "print('Mean: ', test1_mean)\n",
    "print('Std: ', test1_std)\n",
    "print('\\n')\n",
    "print('Interpolation')\n",
    "print('Mean: ', test2_mean)\n",
    "print('Std: ', test2_std)\n",
    "print('\\n')\n",
    "print('F')\n",
    "print('Mean: ', F_mean)\n",
    "print('Std: ', F_std)"
   ]
  },
  {
   "cell_type": "markdown",
   "metadata": {
    "id": "MtdUvOx_bdQf"
   },
   "source": [
    "## RNN"
   ]
  },
  {
   "cell_type": "code",
   "execution_count": null,
   "metadata": {
    "id": "i-tV9hwLbdQi"
   },
   "outputs": [],
   "source": [
    "model_config = {}\n",
    "model_config['input_dim'] = 4\n",
    "model_config['hidden_dim'] = 20\n",
    "model_config['output_dim'] = 1\n",
    "\n",
    "train_config = {}\n",
    "train_config['n_epochs'] = 10\n",
    "train_config['lr'] = 0.01\n",
    "train_config['n_adapt'] = 2\n",
    "train_config['inner_lr'] = 0.1\n",
    "train_config['l2_penalty'] = 0.001\n",
    "\n",
    "# val_result = param_search(validation_datasets['dataframes'], model_config, train_config,\n",
    "#                           random_effects_column_names=['times'],\n",
    "#                           group_column_name='group', y_column_name='y',\n",
    "#                           n_samples_chosen_per_group_list=datasets['n_samples_chosen_per_group'],\n",
    "#                           model_type='LSTM')\n",
    "\n",
    "# print(val_result)"
   ]
  },
  {
   "cell_type": "code",
   "execution_count": null,
   "metadata": {
    "id": "AJTei3Um35DO"
   },
   "outputs": [],
   "source": [
    "print(val_result)"
   ]
  },
  {
   "cell_type": "code",
   "execution_count": null,
   "metadata": {
    "id": "6h8oRnDebdQl"
   },
   "outputs": [],
   "source": [
    "test1_mean, test1_std, test2_mean, test2_std, F_mean, F_std = test(datasets['dataframes'], model_config, train_config, random_effects_column_names=['times'],\n",
    "                                                                   group_column_name='group', y_column_name='y',\n",
    "                                                                   n_samples_chosen_per_group_list=datasets['n_samples_chosen_per_group'],\n",
    "                                                                   model_type='LSTM')"
   ]
  },
  {
   "cell_type": "code",
   "execution_count": null,
   "metadata": {
    "colab": {
     "base_uri": "https://localhost:8080/"
    },
    "executionInfo": {
     "elapsed": 324,
     "status": "ok",
     "timestamp": 1627749786488,
     "user": {
      "displayName": "Jeria Kua",
      "photoUrl": "",
      "userId": "01722788589990916725"
     },
     "user_tz": -480
    },
    "id": "HVu6tfWWbdQl",
    "outputId": "31794a5a-b62f-4773-9bc8-b081f8731c5b"
   },
   "outputs": [
    {
     "name": "stdout",
     "output_type": "stream",
     "text": [
      "Extrapolation\n",
      "Mean:  1.9430961547980725\n",
      "Std:  0.23743332689318258\n",
      "\n",
      "\n",
      "Interpolation\n",
      "Mean:  1.9283003302247994\n",
      "Std:  0.1511101017986711\n",
      "\n",
      "\n",
      "F\n",
      "Mean:  1.2107607878822475\n",
      "Std:  0.12928396752799812\n"
     ]
    }
   ],
   "source": [
    "print('Extrapolation')\n",
    "print('Mean: ', test1_mean)\n",
    "print('Std: ', test1_std)\n",
    "print('\\n')\n",
    "print('Interpolation')\n",
    "print('Mean: ', test2_mean)\n",
    "print('Std: ', test2_std)\n",
    "print('\\n')\n",
    "print('F')\n",
    "print('Mean: ', F_mean)\n",
    "print('Std: ', F_std)"
   ]
  },
  {
   "cell_type": "markdown",
   "metadata": {
    "id": "QBScVTr6v7kr"
   },
   "source": [
    "# Experiment 2: Friedman 3 Function with Temporal Individual GP"
   ]
  },
  {
   "cell_type": "code",
   "execution_count": null,
   "metadata": {
    "id": "Ym7UNkF8lBPh"
   },
   "outputs": [],
   "source": [
    "# Generate data\n",
    "n, m = 1000, 50  # Number of observations and groups\n",
    "p = int(n/m) # Number of observations per group\n",
    "n_datasets = 20\n",
    "n_valid = 5\n",
    "datasets, validation_datasets = generate_datasets(n, m, p, n_datasets, n_valid, func='make_friedman3', shared_gp=False, random_state=75)"
   ]
  },
  {
   "cell_type": "markdown",
   "metadata": {
    "id": "BtcFP_ZMBuaP"
   },
   "source": [
    "## MLP"
   ]
  },
  {
   "cell_type": "code",
   "execution_count": null,
   "metadata": {
    "id": "UnsppvYQwF7V"
   },
   "outputs": [],
   "source": [
    "model_config = {}\n",
    "model_config['input_dim'] = 4\n",
    "model_config['hidden_dim'] = 100\n",
    "model_config['output_dim'] = 1\n",
    "\n",
    "train_config = {}\n",
    "train_config['n_epochs'] = 20\n",
    "train_config['lr'] = 0.005\n",
    "train_config['n_adapt'] = 2\n",
    "train_config['inner_lr'] = 0.1\n",
    "train_config['l2_penalty'] = 0.001\n",
    "\n",
    "# val_result = param_search(validation_datasets['dataframes'], model_config, train_config,\n",
    "#                           random_effects_column_names=['times'],\n",
    "#                           group_column_name='group', y_column_name='y',\n",
    "#                           n_samples_chosen_per_group_list=datasets['n_samples_chosen_per_group'],\n",
    "#                           model_type='MLP')\n",
    "\n",
    "# print(val_result)"
   ]
  },
  {
   "cell_type": "code",
   "execution_count": null,
   "metadata": {
    "colab": {
     "base_uri": "https://localhost:8080/"
    },
    "executionInfo": {
     "elapsed": 426,
     "status": "ok",
     "timestamp": 1625829513968,
     "user": {
      "displayName": "Jeria Kua",
      "photoUrl": "",
      "userId": "01722788589990916725"
     },
     "user_tz": -480
    },
    "id": "ZACiULJfw5dc",
    "outputId": "c4235c42-25a8-43ee-b132-870975204942"
   },
   "outputs": [
    {
     "name": "stdout",
     "output_type": "stream",
     "text": [
      "4.821257044677564\n"
     ]
    }
   ],
   "source": [
    "print(val_result)"
   ]
  },
  {
   "cell_type": "code",
   "execution_count": null,
   "metadata": {
    "id": "8ZVXWFghwM8l"
   },
   "outputs": [],
   "source": [
    "test1_mean, test1_std, test2_mean, test2_std, F_mean, F_std = test(datasets['dataframes'], model_config, train_config, random_effects_column_names=['times'],\n",
    "                                                                   group_column_name='group', y_column_name='y',\n",
    "                                                                   n_samples_chosen_per_group_list=datasets['n_samples_chosen_per_group'],\n",
    "                                                                   model_type='MLP')"
   ]
  },
  {
   "cell_type": "code",
   "execution_count": null,
   "metadata": {
    "colab": {
     "base_uri": "https://localhost:8080/"
    },
    "executionInfo": {
     "elapsed": 517,
     "status": "ok",
     "timestamp": 1625829645023,
     "user": {
      "displayName": "Jeria Kua",
      "photoUrl": "",
      "userId": "01722788589990916725"
     },
     "user_tz": -480
    },
    "id": "zkjSzNJdwM_y",
    "outputId": "93fa7949-d29c-4bcc-c756-fd6d3899fd86"
   },
   "outputs": [
    {
     "name": "stdout",
     "output_type": "stream",
     "text": [
      "Extrapolation\n",
      "Mean:  7.380636263514949\n",
      "Std:  2.7219344255093914\n",
      "\n",
      "\n",
      "Interpolation\n",
      "Mean:  8.19656902792111\n",
      "Std:  4.18327649052143\n",
      "\n",
      "\n",
      "F\n",
      "Mean:  1.0923493831100162\n",
      "Std:  0.22262280923828884\n"
     ]
    }
   ],
   "source": [
    "print('Extrapolation')\n",
    "print('Mean: ', test1_mean)\n",
    "print('Std: ', test1_std)\n",
    "print('\\n')\n",
    "print('Interpolation')\n",
    "print('Mean: ', test2_mean)\n",
    "print('Std: ', test2_std)\n",
    "print('\\n')\n",
    "print('F')\n",
    "print('Mean: ', F_mean)\n",
    "print('Std: ', F_std)"
   ]
  },
  {
   "cell_type": "markdown",
   "metadata": {
    "id": "vouH1InbB4qp"
   },
   "source": [
    "## RNN"
   ]
  },
  {
   "cell_type": "code",
   "execution_count": null,
   "metadata": {
    "id": "U7aluV1TB3yp"
   },
   "outputs": [],
   "source": [
    "model_config = {}\n",
    "model_config['input_dim'] = 4\n",
    "model_config['hidden_dim'] = 100\n",
    "model_config['output_dim'] = 1\n",
    "\n",
    "train_config = {}\n",
    "train_config['n_epochs'] = 20\n",
    "train_config['lr'] = 0.01\n",
    "train_config['n_adapt'] = 2\n",
    "train_config['inner_lr'] = 0.1\n",
    "train_config['l2_penalty'] = 0.001\n",
    "\n",
    "# val_result = param_search(validation_datasets['dataframes'], model_config, train_config,\n",
    "#                           random_effects_column_names=['times'],\n",
    "#                           group_column_name='group', y_column_name='y',\n",
    "#                           n_samples_chosen_per_group_list=datasets['n_samples_chosen_per_group'],\n",
    "#                           model_type='LSTM')\n",
    "\n",
    "# print(val_result)"
   ]
  },
  {
   "cell_type": "code",
   "execution_count": null,
   "metadata": {
    "colab": {
     "base_uri": "https://localhost:8080/"
    },
    "executionInfo": {
     "elapsed": 631,
     "status": "ok",
     "timestamp": 1625830686809,
     "user": {
      "displayName": "Jeria Kua",
      "photoUrl": "",
      "userId": "01722788589990916725"
     },
     "user_tz": -480
    },
    "id": "6rRjSOPQB3yr",
    "outputId": "920bc56a-1d68-4c5c-9b29-7c56c30f46eb"
   },
   "outputs": [
    {
     "name": "stdout",
     "output_type": "stream",
     "text": [
      "4.852100091455474\n"
     ]
    }
   ],
   "source": [
    "print(val_result)"
   ]
  },
  {
   "cell_type": "code",
   "execution_count": null,
   "metadata": {
    "id": "tIQTgUfRB3yu"
   },
   "outputs": [],
   "source": [
    "test1_mean, test1_std, test2_mean, test2_std, F_mean, F_std = test(datasets['dataframes'], model_config, train_config, random_effects_column_names=['times'],\n",
    "                                                                   group_column_name='group', y_column_name='y',\n",
    "                                                                   n_samples_chosen_per_group_list=datasets['n_samples_chosen_per_group'],\n",
    "                                                                   model_type='LSTM')"
   ]
  },
  {
   "cell_type": "code",
   "execution_count": null,
   "metadata": {
    "colab": {
     "base_uri": "https://localhost:8080/"
    },
    "executionInfo": {
     "elapsed": 513,
     "status": "ok",
     "timestamp": 1625831225103,
     "user": {
      "displayName": "Jeria Kua",
      "photoUrl": "",
      "userId": "01722788589990916725"
     },
     "user_tz": -480
    },
    "id": "XOqcHKQcB3yu",
    "outputId": "c39f1e52-8716-41a7-b5b0-9ca4c244c62c"
   },
   "outputs": [
    {
     "name": "stdout",
     "output_type": "stream",
     "text": [
      "Extrapolation\n",
      "Mean:  7.395978922721264\n",
      "Std:  2.719650446601197\n",
      "\n",
      "\n",
      "Interpolation\n",
      "Mean:  8.190454477459078\n",
      "Std:  4.1982947082181346\n",
      "\n",
      "\n",
      "F\n",
      "Mean:  1.216642040096025\n",
      "Std:  0.23131919213913554\n"
     ]
    }
   ],
   "source": [
    "print('Extrapolation')\n",
    "print('Mean: ', test1_mean)\n",
    "print('Std: ', test1_std)\n",
    "print('\\n')\n",
    "print('Interpolation')\n",
    "print('Mean: ', test2_mean)\n",
    "print('Std: ', test2_std)\n",
    "print('\\n')\n",
    "print('F')\n",
    "print('Mean: ', F_mean)\n",
    "print('Std: ', F_std)"
   ]
  },
  {
   "cell_type": "markdown",
   "metadata": {
    "id": "I1n_JIxkDImT"
   },
   "source": [
    "# Experiment 3: Linear Function with Temporal Shared GP"
   ]
  },
  {
   "cell_type": "code",
   "execution_count": null,
   "metadata": {
    "id": "qv9BIZOgDH3W"
   },
   "outputs": [],
   "source": [
    "# Generate data\n",
    "n, m = 1000, 50  # Number of observations and groups\n",
    "p = int(n/m) # Number of observations per group\n",
    "n_datasets = 20\n",
    "n_valid = 5\n",
    "datasets, validation_datasets = generate_datasets(n, m, p, n_datasets, n_valid, func='linear_func', random_state=60)"
   ]
  },
  {
   "cell_type": "markdown",
   "metadata": {
    "id": "T4S62Oa4CHz8"
   },
   "source": [
    "## MLP"
   ]
  },
  {
   "cell_type": "code",
   "execution_count": null,
   "metadata": {
    "id": "4P_CpZv1DH7S"
   },
   "outputs": [],
   "source": [
    "model_config = {}\n",
    "model_config['input_dim'] = 4\n",
    "model_config['hidden_dim'] = 20\n",
    "model_config['output_dim'] = 1\n",
    "\n",
    "train_config = {}\n",
    "train_config['n_epochs'] = 15\n",
    "train_config['lr'] = 0.001\n",
    "train_config['n_adapt'] = 2\n",
    "train_config['inner_lr'] = 0.1\n",
    "train_config['l2_penalty'] = 0.001\n",
    "\n",
    "# val_result = param_search(validation_datasets['dataframes'], model_config, train_config,\n",
    "#                           random_effects_column_names=['times'],\n",
    "#                           group_column_name='group', y_column_name='y',\n",
    "#                           n_samples_chosen_per_group_list=datasets['n_samples_chosen_per_group'],\n",
    "#                           model_type='MLP')\n",
    "\n",
    "# print(val_result)"
   ]
  },
  {
   "cell_type": "code",
   "execution_count": null,
   "metadata": {
    "colab": {
     "base_uri": "https://localhost:8080/"
    },
    "executionInfo": {
     "elapsed": 633,
     "status": "ok",
     "timestamp": 1625818533751,
     "user": {
      "displayName": "Jeria Kua",
      "photoUrl": "",
      "userId": "01722788589990916725"
     },
     "user_tz": -480
    },
    "id": "A-s2snysDICo",
    "outputId": "a5444317-8e3f-4403-c476-d354248731f6"
   },
   "outputs": [
    {
     "name": "stdout",
     "output_type": "stream",
     "text": [
      "1.6005159741630943\n"
     ]
    }
   ],
   "source": [
    "print(val_result)"
   ]
  },
  {
   "cell_type": "code",
   "execution_count": null,
   "metadata": {
    "id": "RWVYLnYYDIHF"
   },
   "outputs": [],
   "source": [
    "test1_mean, test1_std, test2_mean, test2_std, F_mean, F_std = test(datasets['dataframes'], model_config, train_config, random_effects_column_names=['times'],\n",
    "                                                                   group_column_name='group', y_column_name='y',\n",
    "                                                                   n_samples_chosen_per_group_list=datasets['n_samples_chosen_per_group'],\n",
    "                                                                   model_type='MLP')"
   ]
  },
  {
   "cell_type": "code",
   "execution_count": null,
   "metadata": {
    "colab": {
     "base_uri": "https://localhost:8080/"
    },
    "executionInfo": {
     "elapsed": 825,
     "status": "ok",
     "timestamp": 1625818782768,
     "user": {
      "displayName": "Jeria Kua",
      "photoUrl": "",
      "userId": "01722788589990916725"
     },
     "user_tz": -480
    },
    "id": "4-WO--sVDIKr",
    "outputId": "aed67c0c-7ebc-4779-f830-debcec8c5ce9"
   },
   "outputs": [
    {
     "name": "stdout",
     "output_type": "stream",
     "text": [
      "Extrapolation\n",
      "Mean:  1.6149160531213957\n",
      "Std:  0.15618772975939785\n",
      "\n",
      "\n",
      "Interpolation\n",
      "Mean:  1.5287743377945733\n",
      "Std:  0.127347176465175\n",
      "\n",
      "\n",
      "F\n",
      "Mean:  0.45677609070681857\n",
      "Std:  0.03791896279041083\n"
     ]
    }
   ],
   "source": [
    "print('Extrapolation')\n",
    "print('Mean: ', test1_mean)\n",
    "print('Std: ', test1_std)\n",
    "print('\\n')\n",
    "print('Interpolation')\n",
    "print('Mean: ', test2_mean)\n",
    "print('Std: ', test2_std)\n",
    "print('\\n')\n",
    "print('F')\n",
    "print('Mean: ', F_mean)\n",
    "print('Std: ', F_std)"
   ]
  },
  {
   "cell_type": "markdown",
   "metadata": {
    "id": "9sXsnvESCJRq"
   },
   "source": [
    "## RNN"
   ]
  },
  {
   "cell_type": "code",
   "execution_count": null,
   "metadata": {
    "id": "WGql8VMnCKWb"
   },
   "outputs": [],
   "source": [
    "model_config = {}\n",
    "model_config['input_dim'] = 4\n",
    "model_config['hidden_dim'] = 20\n",
    "model_config['output_dim'] = 1\n",
    "\n",
    "train_config = {}\n",
    "train_config['n_epochs'] = 15\n",
    "train_config['lr'] = 0.01\n",
    "train_config['n_adapt'] = 2\n",
    "train_config['inner_lr'] = 0.1\n",
    "train_config['l2_penalty'] = 0.001\n",
    "\n",
    "# val_result = param_search(validation_datasets['dataframes'], model_config, train_config,\n",
    "#                           random_effects_column_names=['times'],\n",
    "#                           group_column_name='group', y_column_name='y',\n",
    "#                           n_samples_chosen_per_group_list=datasets['n_samples_chosen_per_group'],\n",
    "#                           model_type='LSTM')\n",
    "\n",
    "# print(val_result)"
   ]
  },
  {
   "cell_type": "code",
   "execution_count": null,
   "metadata": {
    "colab": {
     "base_uri": "https://localhost:8080/"
    },
    "executionInfo": {
     "elapsed": 531,
     "status": "ok",
     "timestamp": 1625819616095,
     "user": {
      "displayName": "Jeria Kua",
      "photoUrl": "",
      "userId": "01722788589990916725"
     },
     "user_tz": -480
    },
    "id": "PhfIxUQkCKWb",
    "outputId": "9540b762-4a0a-4bc8-eeb5-eab151d40484"
   },
   "outputs": [
    {
     "name": "stdout",
     "output_type": "stream",
     "text": [
      "1.5656870395772609\n"
     ]
    }
   ],
   "source": [
    "print(val_result)"
   ]
  },
  {
   "cell_type": "code",
   "execution_count": null,
   "metadata": {
    "id": "VVEfcIH6CKWc"
   },
   "outputs": [],
   "source": [
    "test1_mean, test1_std, test2_mean, test2_std, F_mean, F_std = test(datasets['dataframes'], model_config, train_config, random_effects_column_names=['times'],\n",
    "                                                                   group_column_name='group', y_column_name='y',\n",
    "                                                                   n_samples_chosen_per_group_list=datasets['n_samples_chosen_per_group'],\n",
    "                                                                   model_type='LSTM')"
   ]
  },
  {
   "cell_type": "code",
   "execution_count": null,
   "metadata": {
    "colab": {
     "base_uri": "https://localhost:8080/"
    },
    "executionInfo": {
     "elapsed": 554,
     "status": "ok",
     "timestamp": 1625819764789,
     "user": {
      "displayName": "Jeria Kua",
      "photoUrl": "",
      "userId": "01722788589990916725"
     },
     "user_tz": -480
    },
    "id": "PQVVmc3cCKWd",
    "outputId": "d6fa06df-8c0d-4f73-cfcb-ed5a8dcbfb61"
   },
   "outputs": [
    {
     "name": "stdout",
     "output_type": "stream",
     "text": [
      "Extrapolation\n",
      "Mean:  1.6057474921594834\n",
      "Std:  0.17254362471900006\n",
      "\n",
      "\n",
      "Interpolation\n",
      "Mean:  1.5226190798350194\n",
      "Std:  0.1381481663932315\n",
      "\n",
      "\n",
      "F\n",
      "Mean:  0.3921212515412324\n",
      "Std:  0.1831173929132119\n"
     ]
    }
   ],
   "source": [
    "print('Extrapolation')\n",
    "print('Mean: ', test1_mean)\n",
    "print('Std: ', test1_std)\n",
    "print('\\n')\n",
    "print('Interpolation')\n",
    "print('Mean: ', test2_mean)\n",
    "print('Std: ', test2_std)\n",
    "print('\\n')\n",
    "print('F')\n",
    "print('Mean: ', F_mean)\n",
    "print('Std: ', F_std)"
   ]
  },
  {
   "cell_type": "markdown",
   "metadata": {
    "id": "lw2eOYxRDdnX"
   },
   "source": [
    "# Experiment 4: Linear Function with Temporal Independent GP"
   ]
  },
  {
   "cell_type": "code",
   "execution_count": null,
   "metadata": {
    "id": "ayTSV6c0Dc87"
   },
   "outputs": [],
   "source": [
    "# Generate data\n",
    "n, m = 1000, 50  # Number of observations and groups\n",
    "p = int(n/m) # Number of observations per group\n",
    "n_datasets = 20\n",
    "n_valid = 5\n",
    "datasets, validation_datasets = generate_datasets(n, m, p, n_datasets, n_valid, func='linear_func', shared_gp=False, random_state=40)"
   ]
  },
  {
   "cell_type": "markdown",
   "metadata": {
    "id": "wX_un8JoCmQc"
   },
   "source": [
    "## MLP"
   ]
  },
  {
   "cell_type": "code",
   "execution_count": null,
   "metadata": {
    "id": "gcW6tls8DdAu"
   },
   "outputs": [],
   "source": [
    "model_config = {}\n",
    "model_config['input_dim'] = 4\n",
    "model_config['hidden_dim'] = 100\n",
    "model_config['output_dim'] = 1\n",
    "\n",
    "train_config = {}\n",
    "train_config['n_epochs'] = 20\n",
    "train_config['lr'] = 0.01\n",
    "train_config['n_adapt'] = 2\n",
    "train_config['inner_lr'] = 0.1\n",
    "train_config['l2_penalty'] = 0.001\n",
    "\n",
    "# val_result = param_search(validation_datasets['dataframes'], model_config, train_config,\n",
    "#                           random_effects_column_names=['times'],\n",
    "#                           group_column_name='group', y_column_name='y',\n",
    "#                           n_samples_chosen_per_group_list=datasets['n_samples_chosen_per_group'],\n",
    "#                           model_type='MLP')\n",
    "# print(val_result)"
   ]
  },
  {
   "cell_type": "code",
   "execution_count": null,
   "metadata": {
    "colab": {
     "base_uri": "https://localhost:8080/"
    },
    "executionInfo": {
     "elapsed": 437,
     "status": "ok",
     "timestamp": 1625835124104,
     "user": {
      "displayName": "Jeria Kua",
      "photoUrl": "",
      "userId": "01722788589990916725"
     },
     "user_tz": -480
    },
    "id": "BP0vspSK9Kp7",
    "outputId": "9ffd3053-cbc8-473f-c282-c94849603316"
   },
   "outputs": [
    {
     "name": "stdout",
     "output_type": "stream",
     "text": [
      "7.03313279163515\n"
     ]
    }
   ],
   "source": [
    "print(val_result)"
   ]
  },
  {
   "cell_type": "code",
   "execution_count": null,
   "metadata": {
    "id": "rrH2u2NYDdE8"
   },
   "outputs": [],
   "source": [
    "test1_mean, test1_std, test2_mean, test2_std, F_mean, F_std = test(datasets['dataframes'], model_config, train_config, random_effects_column_names=['times'],\n",
    "                                                                   group_column_name='group', y_column_name='y',\n",
    "                                                                   n_samples_chosen_per_group_list=datasets['n_samples_chosen_per_group'],\n",
    "                                                                   model_type='MLP')"
   ]
  },
  {
   "cell_type": "code",
   "execution_count": null,
   "metadata": {
    "colab": {
     "base_uri": "https://localhost:8080/"
    },
    "executionInfo": {
     "elapsed": 498,
     "status": "ok",
     "timestamp": 1625834037766,
     "user": {
      "displayName": "Jeria Kua",
      "photoUrl": "",
      "userId": "01722788589990916725"
     },
     "user_tz": -480
    },
    "id": "9TkBQL1XDdJa",
    "outputId": "80c36ab0-fa8a-48a7-f310-5ed8aa95edbf"
   },
   "outputs": [
    {
     "name": "stdout",
     "output_type": "stream",
     "text": [
      "Extrapolation\n",
      "Mean:  5.630500108506405\n",
      "Std:  1.8809425532926864\n",
      "\n",
      "\n",
      "Interpolation\n",
      "Mean:  6.97632089358054\n",
      "Std:  4.341562186029008\n",
      "\n",
      "\n",
      "F\n",
      "Mean:  0.7174793200806473\n",
      "Std:  0.26452146922937897\n"
     ]
    }
   ],
   "source": [
    "print('Extrapolation')\n",
    "print('Mean: ', test1_mean)\n",
    "print('Std: ', test1_std)\n",
    "print('\\n')\n",
    "print('Interpolation')\n",
    "print('Mean: ', test2_mean)\n",
    "print('Std: ', test2_std)\n",
    "print('\\n')\n",
    "print('F')\n",
    "print('Mean: ', F_mean)\n",
    "print('Std: ', F_std)"
   ]
  },
  {
   "cell_type": "markdown",
   "metadata": {
    "id": "kelW63xWCno6"
   },
   "source": [
    "## RNN"
   ]
  },
  {
   "cell_type": "code",
   "execution_count": null,
   "metadata": {
    "id": "-mFJzOy5Cno7"
   },
   "outputs": [],
   "source": [
    "model_config = {}\n",
    "model_config['input_dim'] = 4\n",
    "model_config['hidden_dim'] = 50\n",
    "model_config['output_dim'] = 1\n",
    "\n",
    "train_config = {}\n",
    "train_config['n_epochs'] = 10\n",
    "train_config['lr'] = 0.01\n",
    "train_config['n_adapt'] = 2\n",
    "train_config['inner_lr'] = 0.1\n",
    "train_config['l2_penalty'] = 0.001\n",
    "\n",
    "# val_result = param_search(validation_datasets['dataframes'], model_config, train_config,\n",
    "#                           random_effects_column_names=['times'],\n",
    "#                           group_column_name='group', y_column_name='y',\n",
    "#                           n_samples_chosen_per_group_list=datasets['n_samples_chosen_per_group'],\n",
    "#                           model_type='LSTM')\n",
    "\n",
    "# print(val_result)"
   ]
  },
  {
   "cell_type": "code",
   "execution_count": null,
   "metadata": {
    "colab": {
     "base_uri": "https://localhost:8080/"
    },
    "executionInfo": {
     "elapsed": 523,
     "status": "ok",
     "timestamp": 1625821300939,
     "user": {
      "displayName": "Jeria Kua",
      "photoUrl": "",
      "userId": "01722788589990916725"
     },
     "user_tz": -480
    },
    "id": "Xt6D9D1Yg31q",
    "outputId": "b87c1499-7819-46c4-82c9-cf48629ecf22"
   },
   "outputs": [
    {
     "name": "stdout",
     "output_type": "stream",
     "text": [
      "7.519978710254309\n"
     ]
    }
   ],
   "source": [
    "print(val_result)"
   ]
  },
  {
   "cell_type": "code",
   "execution_count": null,
   "metadata": {
    "id": "P04v6IcZCno8"
   },
   "outputs": [],
   "source": [
    "test1_mean, test1_std, test2_mean, test2_std, F_mean, F_std = test(datasets['dataframes'], model_config, train_config, random_effects_column_names=['times'],\n",
    "                                                                   group_column_name='group', y_column_name='y',\n",
    "                                                                   n_samples_chosen_per_group_list=datasets['n_samples_chosen_per_group'],\n",
    "                                                                   model_type='LSTM')"
   ]
  },
  {
   "cell_type": "code",
   "execution_count": null,
   "metadata": {
    "colab": {
     "base_uri": "https://localhost:8080/"
    },
    "executionInfo": {
     "elapsed": 641,
     "status": "ok",
     "timestamp": 1625835514867,
     "user": {
      "displayName": "Jeria Kua",
      "photoUrl": "",
      "userId": "01722788589990916725"
     },
     "user_tz": -480
    },
    "id": "y2TjO01CCno8",
    "outputId": "f570e3bb-962e-45d1-d09a-c3343d4eb8b5"
   },
   "outputs": [
    {
     "name": "stdout",
     "output_type": "stream",
     "text": [
      "Extrapolation\n",
      "Mean:  5.730281490367273\n",
      "Std:  1.9782859830486084\n",
      "\n",
      "\n",
      "Interpolation\n",
      "Mean:  7.045151985869337\n",
      "Std:  4.3136252085097\n",
      "\n",
      "\n",
      "F\n",
      "Mean:  1.1095539011118505\n",
      "Std:  0.7157333099158796\n"
     ]
    }
   ],
   "source": [
    "print('Extrapolation')\n",
    "print('Mean: ', test1_mean)\n",
    "print('Std: ', test1_std)\n",
    "print('\\n')\n",
    "print('Interpolation')\n",
    "print('Mean: ', test2_mean)\n",
    "print('Std: ', test2_std)\n",
    "print('\\n')\n",
    "print('F')\n",
    "print('Mean: ', F_mean)\n",
    "print('Std: ', F_std)"
   ]
  }
 ],
 "metadata": {
  "colab": {
   "authorship_tag": "ABX9TyPxPhmIaieWqOjWCGVyGCvy",
   "collapsed_sections": [
    "bp6fZgdZvhsz",
    "YLWDklYOvwVy",
    "Tr9aQdr-wd94",
    "Ma3b5XhEbVbw",
    "MtdUvOx_bdQf",
    "QBScVTr6v7kr",
    "BtcFP_ZMBuaP",
    "vouH1InbB4qp",
    "I1n_JIxkDImT",
    "T4S62Oa4CHz8",
    "9sXsnvESCJRq",
    "lw2eOYxRDdnX",
    "wX_un8JoCmQc",
    "kelW63xWCno6"
   ],
   "name": "Project simulation Deep ME.ipynb",
   "provenance": []
  },
  "kernelspec": {
   "display_name": "Python 3",
   "language": "python",
   "name": "python3"
  },
  "language_info": {
   "codemirror_mode": {
    "name": "ipython",
    "version": 3
   },
   "file_extension": ".py",
   "mimetype": "text/x-python",
   "name": "python",
   "nbconvert_exporter": "python",
   "pygments_lexer": "ipython3",
   "version": "3.8.3"
  },
  "widgets": {
   "application/vnd.jupyter.widget-state+json": {
    "00814be1fc2d4d60908799b11a5c49ee": {
     "model_module": "@jupyter-widgets/base",
     "model_module_version": "1.2.0",
     "model_name": "LayoutModel",
     "state": {
      "_model_module": "@jupyter-widgets/base",
      "_model_module_version": "1.2.0",
      "_model_name": "LayoutModel",
      "_view_count": null,
      "_view_module": "@jupyter-widgets/base",
      "_view_module_version": "1.2.0",
      "_view_name": "LayoutView",
      "align_content": null,
      "align_items": null,
      "align_self": null,
      "border": null,
      "bottom": null,
      "display": null,
      "flex": null,
      "flex_flow": null,
      "grid_area": null,
      "grid_auto_columns": null,
      "grid_auto_flow": null,
      "grid_auto_rows": null,
      "grid_column": null,
      "grid_gap": null,
      "grid_row": null,
      "grid_template_areas": null,
      "grid_template_columns": null,
      "grid_template_rows": null,
      "height": null,
      "justify_content": null,
      "justify_items": null,
      "left": null,
      "margin": null,
      "max_height": null,
      "max_width": null,
      "min_height": null,
      "min_width": null,
      "object_fit": null,
      "object_position": null,
      "order": null,
      "overflow": null,
      "overflow_x": null,
      "overflow_y": null,
      "padding": null,
      "right": null,
      "top": null,
      "visibility": null,
      "width": null
     }
    },
    "01bd4b9c2eb04b888d280784252d75b4": {
     "model_module": "@jupyter-widgets/controls",
     "model_module_version": "1.5.0",
     "model_name": "HTMLModel",
     "state": {
      "_dom_classes": [],
      "_model_module": "@jupyter-widgets/controls",
      "_model_module_version": "1.5.0",
      "_model_name": "HTMLModel",
      "_view_count": null,
      "_view_module": "@jupyter-widgets/controls",
      "_view_module_version": "1.5.0",
      "_view_name": "HTMLView",
      "description": "",
      "description_tooltip": null,
      "layout": "IPY_MODEL_9c6c293dfe4a48f3ae46e3f64da4a486",
      "placeholder": "​",
      "style": "IPY_MODEL_0bbf8139d6f44f5999c2e72ef7453065",
      "value": " 50/50 [00:05&lt;00:00,  9.12it/s]"
     }
    },
    "01d85847da7f4a22b23b4f4d4b97a2d9": {
     "model_module": "@jupyter-widgets/controls",
     "model_module_version": "1.5.0",
     "model_name": "DescriptionStyleModel",
     "state": {
      "_model_module": "@jupyter-widgets/controls",
      "_model_module_version": "1.5.0",
      "_model_name": "DescriptionStyleModel",
      "_view_count": null,
      "_view_module": "@jupyter-widgets/base",
      "_view_module_version": "1.2.0",
      "_view_name": "StyleView",
      "description_width": ""
     }
    },
    "07cb91ceefe045089dac4ca3b0d577a2": {
     "model_module": "@jupyter-widgets/controls",
     "model_module_version": "1.5.0",
     "model_name": "DescriptionStyleModel",
     "state": {
      "_model_module": "@jupyter-widgets/controls",
      "_model_module_version": "1.5.0",
      "_model_name": "DescriptionStyleModel",
      "_view_count": null,
      "_view_module": "@jupyter-widgets/base",
      "_view_module_version": "1.2.0",
      "_view_name": "StyleView",
      "description_width": ""
     }
    },
    "088a8716a09a4155a9073149412b4544": {
     "model_module": "@jupyter-widgets/controls",
     "model_module_version": "1.5.0",
     "model_name": "ProgressStyleModel",
     "state": {
      "_model_module": "@jupyter-widgets/controls",
      "_model_module_version": "1.5.0",
      "_model_name": "ProgressStyleModel",
      "_view_count": null,
      "_view_module": "@jupyter-widgets/base",
      "_view_module_version": "1.2.0",
      "_view_name": "StyleView",
      "bar_color": null,
      "description_width": "initial"
     }
    },
    "0bbf8139d6f44f5999c2e72ef7453065": {
     "model_module": "@jupyter-widgets/controls",
     "model_module_version": "1.5.0",
     "model_name": "DescriptionStyleModel",
     "state": {
      "_model_module": "@jupyter-widgets/controls",
      "_model_module_version": "1.5.0",
      "_model_name": "DescriptionStyleModel",
      "_view_count": null,
      "_view_module": "@jupyter-widgets/base",
      "_view_module_version": "1.2.0",
      "_view_name": "StyleView",
      "description_width": ""
     }
    },
    "0cdc514942b74778aa0e7b4ef2ff3f3a": {
     "model_module": "@jupyter-widgets/base",
     "model_module_version": "1.2.0",
     "model_name": "LayoutModel",
     "state": {
      "_model_module": "@jupyter-widgets/base",
      "_model_module_version": "1.2.0",
      "_model_name": "LayoutModel",
      "_view_count": null,
      "_view_module": "@jupyter-widgets/base",
      "_view_module_version": "1.2.0",
      "_view_name": "LayoutView",
      "align_content": null,
      "align_items": null,
      "align_self": null,
      "border": null,
      "bottom": null,
      "display": null,
      "flex": null,
      "flex_flow": null,
      "grid_area": null,
      "grid_auto_columns": null,
      "grid_auto_flow": null,
      "grid_auto_rows": null,
      "grid_column": null,
      "grid_gap": null,
      "grid_row": null,
      "grid_template_areas": null,
      "grid_template_columns": null,
      "grid_template_rows": null,
      "height": null,
      "justify_content": null,
      "justify_items": null,
      "left": null,
      "margin": null,
      "max_height": null,
      "max_width": null,
      "min_height": null,
      "min_width": null,
      "object_fit": null,
      "object_position": null,
      "order": null,
      "overflow": null,
      "overflow_x": null,
      "overflow_y": null,
      "padding": null,
      "right": null,
      "top": null,
      "visibility": null,
      "width": null
     }
    },
    "0fc7ece66c9d4b35a37d8ee524975fc8": {
     "model_module": "@jupyter-widgets/base",
     "model_module_version": "1.2.0",
     "model_name": "LayoutModel",
     "state": {
      "_model_module": "@jupyter-widgets/base",
      "_model_module_version": "1.2.0",
      "_model_name": "LayoutModel",
      "_view_count": null,
      "_view_module": "@jupyter-widgets/base",
      "_view_module_version": "1.2.0",
      "_view_name": "LayoutView",
      "align_content": null,
      "align_items": null,
      "align_self": null,
      "border": null,
      "bottom": null,
      "display": null,
      "flex": null,
      "flex_flow": null,
      "grid_area": null,
      "grid_auto_columns": null,
      "grid_auto_flow": null,
      "grid_auto_rows": null,
      "grid_column": null,
      "grid_gap": null,
      "grid_row": null,
      "grid_template_areas": null,
      "grid_template_columns": null,
      "grid_template_rows": null,
      "height": null,
      "justify_content": null,
      "justify_items": null,
      "left": null,
      "margin": null,
      "max_height": null,
      "max_width": null,
      "min_height": null,
      "min_width": null,
      "object_fit": null,
      "object_position": null,
      "order": null,
      "overflow": null,
      "overflow_x": null,
      "overflow_y": null,
      "padding": null,
      "right": null,
      "top": null,
      "visibility": null,
      "width": null
     }
    },
    "10129a108c7248fb8c1c0780c6101a38": {
     "model_module": "@jupyter-widgets/base",
     "model_module_version": "1.2.0",
     "model_name": "LayoutModel",
     "state": {
      "_model_module": "@jupyter-widgets/base",
      "_model_module_version": "1.2.0",
      "_model_name": "LayoutModel",
      "_view_count": null,
      "_view_module": "@jupyter-widgets/base",
      "_view_module_version": "1.2.0",
      "_view_name": "LayoutView",
      "align_content": null,
      "align_items": null,
      "align_self": null,
      "border": null,
      "bottom": null,
      "display": null,
      "flex": null,
      "flex_flow": null,
      "grid_area": null,
      "grid_auto_columns": null,
      "grid_auto_flow": null,
      "grid_auto_rows": null,
      "grid_column": null,
      "grid_gap": null,
      "grid_row": null,
      "grid_template_areas": null,
      "grid_template_columns": null,
      "grid_template_rows": null,
      "height": null,
      "justify_content": null,
      "justify_items": null,
      "left": null,
      "margin": null,
      "max_height": null,
      "max_width": null,
      "min_height": null,
      "min_width": null,
      "object_fit": null,
      "object_position": null,
      "order": null,
      "overflow": null,
      "overflow_x": null,
      "overflow_y": null,
      "padding": null,
      "right": null,
      "top": null,
      "visibility": null,
      "width": null
     }
    },
    "11b5770c254c4fc4be680a1d305a08cf": {
     "model_module": "@jupyter-widgets/base",
     "model_module_version": "1.2.0",
     "model_name": "LayoutModel",
     "state": {
      "_model_module": "@jupyter-widgets/base",
      "_model_module_version": "1.2.0",
      "_model_name": "LayoutModel",
      "_view_count": null,
      "_view_module": "@jupyter-widgets/base",
      "_view_module_version": "1.2.0",
      "_view_name": "LayoutView",
      "align_content": null,
      "align_items": null,
      "align_self": null,
      "border": null,
      "bottom": null,
      "display": null,
      "flex": null,
      "flex_flow": null,
      "grid_area": null,
      "grid_auto_columns": null,
      "grid_auto_flow": null,
      "grid_auto_rows": null,
      "grid_column": null,
      "grid_gap": null,
      "grid_row": null,
      "grid_template_areas": null,
      "grid_template_columns": null,
      "grid_template_rows": null,
      "height": null,
      "justify_content": null,
      "justify_items": null,
      "left": null,
      "margin": null,
      "max_height": null,
      "max_width": null,
      "min_height": null,
      "min_width": null,
      "object_fit": null,
      "object_position": null,
      "order": null,
      "overflow": null,
      "overflow_x": null,
      "overflow_y": null,
      "padding": null,
      "right": null,
      "top": null,
      "visibility": null,
      "width": null
     }
    },
    "11ea740207c140ada9b68045174f8307": {
     "model_module": "@jupyter-widgets/controls",
     "model_module_version": "1.5.0",
     "model_name": "HTMLModel",
     "state": {
      "_dom_classes": [],
      "_model_module": "@jupyter-widgets/controls",
      "_model_module_version": "1.5.0",
      "_model_name": "HTMLModel",
      "_view_count": null,
      "_view_module": "@jupyter-widgets/controls",
      "_view_module_version": "1.5.0",
      "_view_name": "HTMLView",
      "description": "",
      "description_tooltip": null,
      "layout": "IPY_MODEL_bbd78d059d0e4b788411461ae910597e",
      "placeholder": "​",
      "style": "IPY_MODEL_07cb91ceefe045089dac4ca3b0d577a2",
      "value": " 50/50 [00:05&lt;00:00,  9.06it/s]"
     }
    },
    "173912c55f064e50bd74887dcb51e94e": {
     "model_module": "@jupyter-widgets/controls",
     "model_module_version": "1.5.0",
     "model_name": "FloatProgressModel",
     "state": {
      "_dom_classes": [],
      "_model_module": "@jupyter-widgets/controls",
      "_model_module_version": "1.5.0",
      "_model_name": "FloatProgressModel",
      "_view_count": null,
      "_view_module": "@jupyter-widgets/controls",
      "_view_module_version": "1.5.0",
      "_view_name": "ProgressView",
      "bar_style": "success",
      "description": "100%",
      "description_tooltip": null,
      "layout": "IPY_MODEL_f28947cb090a468c9f955655194b7343",
      "max": 50,
      "min": 0,
      "orientation": "horizontal",
      "style": "IPY_MODEL_a118383ffb3246ca84ae82ca7da1846d",
      "value": 50
     }
    },
    "175d17bae4384f6f88ef1a2f1c081879": {
     "model_module": "@jupyter-widgets/controls",
     "model_module_version": "1.5.0",
     "model_name": "HTMLModel",
     "state": {
      "_dom_classes": [],
      "_model_module": "@jupyter-widgets/controls",
      "_model_module_version": "1.5.0",
      "_model_name": "HTMLModel",
      "_view_count": null,
      "_view_module": "@jupyter-widgets/controls",
      "_view_module_version": "1.5.0",
      "_view_name": "HTMLView",
      "description": "",
      "description_tooltip": null,
      "layout": "IPY_MODEL_eac19f0d4e72405ca2849db4a27e0350",
      "placeholder": "​",
      "style": "IPY_MODEL_5ba7bd3cd1794d30860132df1f095e9d",
      "value": " 50/50 [00:05&lt;00:00,  9.45it/s]"
     }
    },
    "187f5a6704fe4297a939f0062e44540e": {
     "model_module": "@jupyter-widgets/base",
     "model_module_version": "1.2.0",
     "model_name": "LayoutModel",
     "state": {
      "_model_module": "@jupyter-widgets/base",
      "_model_module_version": "1.2.0",
      "_model_name": "LayoutModel",
      "_view_count": null,
      "_view_module": "@jupyter-widgets/base",
      "_view_module_version": "1.2.0",
      "_view_name": "LayoutView",
      "align_content": null,
      "align_items": null,
      "align_self": null,
      "border": null,
      "bottom": null,
      "display": null,
      "flex": null,
      "flex_flow": null,
      "grid_area": null,
      "grid_auto_columns": null,
      "grid_auto_flow": null,
      "grid_auto_rows": null,
      "grid_column": null,
      "grid_gap": null,
      "grid_row": null,
      "grid_template_areas": null,
      "grid_template_columns": null,
      "grid_template_rows": null,
      "height": null,
      "justify_content": null,
      "justify_items": null,
      "left": null,
      "margin": null,
      "max_height": null,
      "max_width": null,
      "min_height": null,
      "min_width": null,
      "object_fit": null,
      "object_position": null,
      "order": null,
      "overflow": null,
      "overflow_x": null,
      "overflow_y": null,
      "padding": null,
      "right": null,
      "top": null,
      "visibility": null,
      "width": null
     }
    },
    "1a1fbb26f9a6456db7eb26f9f38bae4c": {
     "model_module": "@jupyter-widgets/controls",
     "model_module_version": "1.5.0",
     "model_name": "HTMLModel",
     "state": {
      "_dom_classes": [],
      "_model_module": "@jupyter-widgets/controls",
      "_model_module_version": "1.5.0",
      "_model_name": "HTMLModel",
      "_view_count": null,
      "_view_module": "@jupyter-widgets/controls",
      "_view_module_version": "1.5.0",
      "_view_name": "HTMLView",
      "description": "",
      "description_tooltip": null,
      "layout": "IPY_MODEL_56003e52a3e14c5cb57e6c8008ae1048",
      "placeholder": "​",
      "style": "IPY_MODEL_8a6a28a366794f85bb37d57076d5ab87",
      "value": " 50/50 [00:07&lt;00:00,  6.81it/s]"
     }
    },
    "1c8337e020cb4135ab2fc272282f2e7c": {
     "model_module": "@jupyter-widgets/base",
     "model_module_version": "1.2.0",
     "model_name": "LayoutModel",
     "state": {
      "_model_module": "@jupyter-widgets/base",
      "_model_module_version": "1.2.0",
      "_model_name": "LayoutModel",
      "_view_count": null,
      "_view_module": "@jupyter-widgets/base",
      "_view_module_version": "1.2.0",
      "_view_name": "LayoutView",
      "align_content": null,
      "align_items": null,
      "align_self": null,
      "border": null,
      "bottom": null,
      "display": null,
      "flex": null,
      "flex_flow": null,
      "grid_area": null,
      "grid_auto_columns": null,
      "grid_auto_flow": null,
      "grid_auto_rows": null,
      "grid_column": null,
      "grid_gap": null,
      "grid_row": null,
      "grid_template_areas": null,
      "grid_template_columns": null,
      "grid_template_rows": null,
      "height": null,
      "justify_content": null,
      "justify_items": null,
      "left": null,
      "margin": null,
      "max_height": null,
      "max_width": null,
      "min_height": null,
      "min_width": null,
      "object_fit": null,
      "object_position": null,
      "order": null,
      "overflow": null,
      "overflow_x": null,
      "overflow_y": null,
      "padding": null,
      "right": null,
      "top": null,
      "visibility": null,
      "width": null
     }
    },
    "1d185b182175401bad23bfd543b3a508": {
     "model_module": "@jupyter-widgets/controls",
     "model_module_version": "1.5.0",
     "model_name": "DescriptionStyleModel",
     "state": {
      "_model_module": "@jupyter-widgets/controls",
      "_model_module_version": "1.5.0",
      "_model_name": "DescriptionStyleModel",
      "_view_count": null,
      "_view_module": "@jupyter-widgets/base",
      "_view_module_version": "1.2.0",
      "_view_name": "StyleView",
      "description_width": ""
     }
    },
    "1e3f1919b4f44da7a62da83cdecc83dc": {
     "model_module": "@jupyter-widgets/base",
     "model_module_version": "1.2.0",
     "model_name": "LayoutModel",
     "state": {
      "_model_module": "@jupyter-widgets/base",
      "_model_module_version": "1.2.0",
      "_model_name": "LayoutModel",
      "_view_count": null,
      "_view_module": "@jupyter-widgets/base",
      "_view_module_version": "1.2.0",
      "_view_name": "LayoutView",
      "align_content": null,
      "align_items": null,
      "align_self": null,
      "border": null,
      "bottom": null,
      "display": null,
      "flex": null,
      "flex_flow": null,
      "grid_area": null,
      "grid_auto_columns": null,
      "grid_auto_flow": null,
      "grid_auto_rows": null,
      "grid_column": null,
      "grid_gap": null,
      "grid_row": null,
      "grid_template_areas": null,
      "grid_template_columns": null,
      "grid_template_rows": null,
      "height": null,
      "justify_content": null,
      "justify_items": null,
      "left": null,
      "margin": null,
      "max_height": null,
      "max_width": null,
      "min_height": null,
      "min_width": null,
      "object_fit": null,
      "object_position": null,
      "order": null,
      "overflow": null,
      "overflow_x": null,
      "overflow_y": null,
      "padding": null,
      "right": null,
      "top": null,
      "visibility": null,
      "width": null
     }
    },
    "1ed325647e784e3981c3c7c8d47ce2b0": {
     "model_module": "@jupyter-widgets/controls",
     "model_module_version": "1.5.0",
     "model_name": "ProgressStyleModel",
     "state": {
      "_model_module": "@jupyter-widgets/controls",
      "_model_module_version": "1.5.0",
      "_model_name": "ProgressStyleModel",
      "_view_count": null,
      "_view_module": "@jupyter-widgets/base",
      "_view_module_version": "1.2.0",
      "_view_name": "StyleView",
      "bar_color": null,
      "description_width": "initial"
     }
    },
    "202cd0fcd8cd4b9aa5ebc95527c5e392": {
     "model_module": "@jupyter-widgets/base",
     "model_module_version": "1.2.0",
     "model_name": "LayoutModel",
     "state": {
      "_model_module": "@jupyter-widgets/base",
      "_model_module_version": "1.2.0",
      "_model_name": "LayoutModel",
      "_view_count": null,
      "_view_module": "@jupyter-widgets/base",
      "_view_module_version": "1.2.0",
      "_view_name": "LayoutView",
      "align_content": null,
      "align_items": null,
      "align_self": null,
      "border": null,
      "bottom": null,
      "display": null,
      "flex": null,
      "flex_flow": null,
      "grid_area": null,
      "grid_auto_columns": null,
      "grid_auto_flow": null,
      "grid_auto_rows": null,
      "grid_column": null,
      "grid_gap": null,
      "grid_row": null,
      "grid_template_areas": null,
      "grid_template_columns": null,
      "grid_template_rows": null,
      "height": null,
      "justify_content": null,
      "justify_items": null,
      "left": null,
      "margin": null,
      "max_height": null,
      "max_width": null,
      "min_height": null,
      "min_width": null,
      "object_fit": null,
      "object_position": null,
      "order": null,
      "overflow": null,
      "overflow_x": null,
      "overflow_y": null,
      "padding": null,
      "right": null,
      "top": null,
      "visibility": null,
      "width": null
     }
    },
    "211f03492de041d0886ab29931e6d99a": {
     "model_module": "@jupyter-widgets/controls",
     "model_module_version": "1.5.0",
     "model_name": "ProgressStyleModel",
     "state": {
      "_model_module": "@jupyter-widgets/controls",
      "_model_module_version": "1.5.0",
      "_model_name": "ProgressStyleModel",
      "_view_count": null,
      "_view_module": "@jupyter-widgets/base",
      "_view_module_version": "1.2.0",
      "_view_name": "StyleView",
      "bar_color": null,
      "description_width": "initial"
     }
    },
    "21677645daca4295b3ef511206f6830f": {
     "model_module": "@jupyter-widgets/controls",
     "model_module_version": "1.5.0",
     "model_name": "ProgressStyleModel",
     "state": {
      "_model_module": "@jupyter-widgets/controls",
      "_model_module_version": "1.5.0",
      "_model_name": "ProgressStyleModel",
      "_view_count": null,
      "_view_module": "@jupyter-widgets/base",
      "_view_module_version": "1.2.0",
      "_view_name": "StyleView",
      "bar_color": null,
      "description_width": "initial"
     }
    },
    "220c0465faed4f878c42d969d6c05d0b": {
     "model_module": "@jupyter-widgets/controls",
     "model_module_version": "1.5.0",
     "model_name": "HBoxModel",
     "state": {
      "_dom_classes": [],
      "_model_module": "@jupyter-widgets/controls",
      "_model_module_version": "1.5.0",
      "_model_name": "HBoxModel",
      "_view_count": null,
      "_view_module": "@jupyter-widgets/controls",
      "_view_module_version": "1.5.0",
      "_view_name": "HBoxView",
      "box_style": "",
      "children": [
       "IPY_MODEL_d0bfc7d5de8544a59e4a1549cd1994d8",
       "IPY_MODEL_83bb6b6578584c6e8938baf909e73694"
      ],
      "layout": "IPY_MODEL_6f0fd343102a4b118e558c65f51bc505"
     }
    },
    "220c1cc0cec4451e9be18a88a90e5d47": {
     "model_module": "@jupyter-widgets/base",
     "model_module_version": "1.2.0",
     "model_name": "LayoutModel",
     "state": {
      "_model_module": "@jupyter-widgets/base",
      "_model_module_version": "1.2.0",
      "_model_name": "LayoutModel",
      "_view_count": null,
      "_view_module": "@jupyter-widgets/base",
      "_view_module_version": "1.2.0",
      "_view_name": "LayoutView",
      "align_content": null,
      "align_items": null,
      "align_self": null,
      "border": null,
      "bottom": null,
      "display": null,
      "flex": null,
      "flex_flow": null,
      "grid_area": null,
      "grid_auto_columns": null,
      "grid_auto_flow": null,
      "grid_auto_rows": null,
      "grid_column": null,
      "grid_gap": null,
      "grid_row": null,
      "grid_template_areas": null,
      "grid_template_columns": null,
      "grid_template_rows": null,
      "height": null,
      "justify_content": null,
      "justify_items": null,
      "left": null,
      "margin": null,
      "max_height": null,
      "max_width": null,
      "min_height": null,
      "min_width": null,
      "object_fit": null,
      "object_position": null,
      "order": null,
      "overflow": null,
      "overflow_x": null,
      "overflow_y": null,
      "padding": null,
      "right": null,
      "top": null,
      "visibility": null,
      "width": null
     }
    },
    "24d6c65e971649d7b5d56201e2b98dc8": {
     "model_module": "@jupyter-widgets/controls",
     "model_module_version": "1.5.0",
     "model_name": "HBoxModel",
     "state": {
      "_dom_classes": [],
      "_model_module": "@jupyter-widgets/controls",
      "_model_module_version": "1.5.0",
      "_model_name": "HBoxModel",
      "_view_count": null,
      "_view_module": "@jupyter-widgets/controls",
      "_view_module_version": "1.5.0",
      "_view_name": "HBoxView",
      "box_style": "",
      "children": [
       "IPY_MODEL_ebbad9b3f4e244b9b7da8bc3e7f60a93",
       "IPY_MODEL_6a85aba9a7384346a0810644eaf5a914"
      ],
      "layout": "IPY_MODEL_ca8a049e7e1e480fa4108bf207070b6e"
     }
    },
    "27e157e5fc824659a0b65e3272e1d5cf": {
     "model_module": "@jupyter-widgets/controls",
     "model_module_version": "1.5.0",
     "model_name": "HBoxModel",
     "state": {
      "_dom_classes": [],
      "_model_module": "@jupyter-widgets/controls",
      "_model_module_version": "1.5.0",
      "_model_name": "HBoxModel",
      "_view_count": null,
      "_view_module": "@jupyter-widgets/controls",
      "_view_module_version": "1.5.0",
      "_view_name": "HBoxView",
      "box_style": "",
      "children": [
       "IPY_MODEL_70ed7062acfb476c8e82f7831dab4859",
       "IPY_MODEL_d8639377b4824a94abe1c8502d98bbae"
      ],
      "layout": "IPY_MODEL_1e3f1919b4f44da7a62da83cdecc83dc"
     }
    },
    "2915fc6c13fb4ae0839bfa33498d9c82": {
     "model_module": "@jupyter-widgets/controls",
     "model_module_version": "1.5.0",
     "model_name": "HBoxModel",
     "state": {
      "_dom_classes": [],
      "_model_module": "@jupyter-widgets/controls",
      "_model_module_version": "1.5.0",
      "_model_name": "HBoxModel",
      "_view_count": null,
      "_view_module": "@jupyter-widgets/controls",
      "_view_module_version": "1.5.0",
      "_view_name": "HBoxView",
      "box_style": "",
      "children": [
       "IPY_MODEL_d52a6bf317df42898774ce0441ad457d",
       "IPY_MODEL_a8b93651a8a94cbabfbe63971dc5d178"
      ],
      "layout": "IPY_MODEL_d77420e1986345a5814e8849f2c030a0"
     }
    },
    "294ba007940e44e29ee4f1aa29a3d995": {
     "model_module": "@jupyter-widgets/controls",
     "model_module_version": "1.5.0",
     "model_name": "FloatProgressModel",
     "state": {
      "_dom_classes": [],
      "_model_module": "@jupyter-widgets/controls",
      "_model_module_version": "1.5.0",
      "_model_name": "FloatProgressModel",
      "_view_count": null,
      "_view_module": "@jupyter-widgets/controls",
      "_view_module_version": "1.5.0",
      "_view_name": "ProgressView",
      "bar_style": "success",
      "description": "100%",
      "description_tooltip": null,
      "layout": "IPY_MODEL_6cbdd91df06747a18f6a48db7d9643d3",
      "max": 50,
      "min": 0,
      "orientation": "horizontal",
      "style": "IPY_MODEL_2f607fe81048477b968c5ec454afbd4d",
      "value": 50
     }
    },
    "29f312cf3a874386ace81c795f7a28d0": {
     "model_module": "@jupyter-widgets/base",
     "model_module_version": "1.2.0",
     "model_name": "LayoutModel",
     "state": {
      "_model_module": "@jupyter-widgets/base",
      "_model_module_version": "1.2.0",
      "_model_name": "LayoutModel",
      "_view_count": null,
      "_view_module": "@jupyter-widgets/base",
      "_view_module_version": "1.2.0",
      "_view_name": "LayoutView",
      "align_content": null,
      "align_items": null,
      "align_self": null,
      "border": null,
      "bottom": null,
      "display": null,
      "flex": null,
      "flex_flow": null,
      "grid_area": null,
      "grid_auto_columns": null,
      "grid_auto_flow": null,
      "grid_auto_rows": null,
      "grid_column": null,
      "grid_gap": null,
      "grid_row": null,
      "grid_template_areas": null,
      "grid_template_columns": null,
      "grid_template_rows": null,
      "height": null,
      "justify_content": null,
      "justify_items": null,
      "left": null,
      "margin": null,
      "max_height": null,
      "max_width": null,
      "min_height": null,
      "min_width": null,
      "object_fit": null,
      "object_position": null,
      "order": null,
      "overflow": null,
      "overflow_x": null,
      "overflow_y": null,
      "padding": null,
      "right": null,
      "top": null,
      "visibility": null,
      "width": null
     }
    },
    "2ad09fb09f4f4770aac37469ebb8103c": {
     "model_module": "@jupyter-widgets/controls",
     "model_module_version": "1.5.0",
     "model_name": "HBoxModel",
     "state": {
      "_dom_classes": [],
      "_model_module": "@jupyter-widgets/controls",
      "_model_module_version": "1.5.0",
      "_model_name": "HBoxModel",
      "_view_count": null,
      "_view_module": "@jupyter-widgets/controls",
      "_view_module_version": "1.5.0",
      "_view_name": "HBoxView",
      "box_style": "",
      "children": [
       "IPY_MODEL_901843c010154a459fdd41227a8c78a0",
       "IPY_MODEL_71249d22893f4adebe47b711ffde3c1b"
      ],
      "layout": "IPY_MODEL_e4797ada972e4603bf45fe0599a2b067"
     }
    },
    "2d659eeb48444615bd27584696778823": {
     "model_module": "@jupyter-widgets/controls",
     "model_module_version": "1.5.0",
     "model_name": "ProgressStyleModel",
     "state": {
      "_model_module": "@jupyter-widgets/controls",
      "_model_module_version": "1.5.0",
      "_model_name": "ProgressStyleModel",
      "_view_count": null,
      "_view_module": "@jupyter-widgets/base",
      "_view_module_version": "1.2.0",
      "_view_name": "StyleView",
      "bar_color": null,
      "description_width": "initial"
     }
    },
    "2f607fe81048477b968c5ec454afbd4d": {
     "model_module": "@jupyter-widgets/controls",
     "model_module_version": "1.5.0",
     "model_name": "ProgressStyleModel",
     "state": {
      "_model_module": "@jupyter-widgets/controls",
      "_model_module_version": "1.5.0",
      "_model_name": "ProgressStyleModel",
      "_view_count": null,
      "_view_module": "@jupyter-widgets/base",
      "_view_module_version": "1.2.0",
      "_view_name": "StyleView",
      "bar_color": null,
      "description_width": "initial"
     }
    },
    "3128c81074e34c418d89b5debdf99db6": {
     "model_module": "@jupyter-widgets/controls",
     "model_module_version": "1.5.0",
     "model_name": "ProgressStyleModel",
     "state": {
      "_model_module": "@jupyter-widgets/controls",
      "_model_module_version": "1.5.0",
      "_model_name": "ProgressStyleModel",
      "_view_count": null,
      "_view_module": "@jupyter-widgets/base",
      "_view_module_version": "1.2.0",
      "_view_name": "StyleView",
      "bar_color": null,
      "description_width": "initial"
     }
    },
    "34307943701b4b8c85cb981184592dbf": {
     "model_module": "@jupyter-widgets/controls",
     "model_module_version": "1.5.0",
     "model_name": "HTMLModel",
     "state": {
      "_dom_classes": [],
      "_model_module": "@jupyter-widgets/controls",
      "_model_module_version": "1.5.0",
      "_model_name": "HTMLModel",
      "_view_count": null,
      "_view_module": "@jupyter-widgets/controls",
      "_view_module_version": "1.5.0",
      "_view_name": "HTMLView",
      "description": "",
      "description_tooltip": null,
      "layout": "IPY_MODEL_0cdc514942b74778aa0e7b4ef2ff3f3a",
      "placeholder": "​",
      "style": "IPY_MODEL_7b2cb2ba54b24e7a847325af0ef751d8",
      "value": " 50/50 [00:05&lt;00:00,  9.37it/s]"
     }
    },
    "3511297e2ff64e94bef82180392d050b": {
     "model_module": "@jupyter-widgets/controls",
     "model_module_version": "1.5.0",
     "model_name": "HBoxModel",
     "state": {
      "_dom_classes": [],
      "_model_module": "@jupyter-widgets/controls",
      "_model_module_version": "1.5.0",
      "_model_name": "HBoxModel",
      "_view_count": null,
      "_view_module": "@jupyter-widgets/controls",
      "_view_module_version": "1.5.0",
      "_view_name": "HBoxView",
      "box_style": "",
      "children": [
       "IPY_MODEL_92188d031f83491e9d57690937e06d02",
       "IPY_MODEL_175d17bae4384f6f88ef1a2f1c081879"
      ],
      "layout": "IPY_MODEL_220c1cc0cec4451e9be18a88a90e5d47"
     }
    },
    "354167a7670d4dc6900a16f8f5801eae": {
     "model_module": "@jupyter-widgets/controls",
     "model_module_version": "1.5.0",
     "model_name": "ProgressStyleModel",
     "state": {
      "_model_module": "@jupyter-widgets/controls",
      "_model_module_version": "1.5.0",
      "_model_name": "ProgressStyleModel",
      "_view_count": null,
      "_view_module": "@jupyter-widgets/base",
      "_view_module_version": "1.2.0",
      "_view_name": "StyleView",
      "bar_color": null,
      "description_width": "initial"
     }
    },
    "35517f4cba8b44efab01a4183a540122": {
     "model_module": "@jupyter-widgets/controls",
     "model_module_version": "1.5.0",
     "model_name": "DescriptionStyleModel",
     "state": {
      "_model_module": "@jupyter-widgets/controls",
      "_model_module_version": "1.5.0",
      "_model_name": "DescriptionStyleModel",
      "_view_count": null,
      "_view_module": "@jupyter-widgets/base",
      "_view_module_version": "1.2.0",
      "_view_name": "StyleView",
      "description_width": ""
     }
    },
    "368ddc4f4e444d82af346e6ca2648546": {
     "model_module": "@jupyter-widgets/base",
     "model_module_version": "1.2.0",
     "model_name": "LayoutModel",
     "state": {
      "_model_module": "@jupyter-widgets/base",
      "_model_module_version": "1.2.0",
      "_model_name": "LayoutModel",
      "_view_count": null,
      "_view_module": "@jupyter-widgets/base",
      "_view_module_version": "1.2.0",
      "_view_name": "LayoutView",
      "align_content": null,
      "align_items": null,
      "align_self": null,
      "border": null,
      "bottom": null,
      "display": null,
      "flex": null,
      "flex_flow": null,
      "grid_area": null,
      "grid_auto_columns": null,
      "grid_auto_flow": null,
      "grid_auto_rows": null,
      "grid_column": null,
      "grid_gap": null,
      "grid_row": null,
      "grid_template_areas": null,
      "grid_template_columns": null,
      "grid_template_rows": null,
      "height": null,
      "justify_content": null,
      "justify_items": null,
      "left": null,
      "margin": null,
      "max_height": null,
      "max_width": null,
      "min_height": null,
      "min_width": null,
      "object_fit": null,
      "object_position": null,
      "order": null,
      "overflow": null,
      "overflow_x": null,
      "overflow_y": null,
      "padding": null,
      "right": null,
      "top": null,
      "visibility": null,
      "width": null
     }
    },
    "380decc0ee7740afb62d1e6b89930520": {
     "model_module": "@jupyter-widgets/base",
     "model_module_version": "1.2.0",
     "model_name": "LayoutModel",
     "state": {
      "_model_module": "@jupyter-widgets/base",
      "_model_module_version": "1.2.0",
      "_model_name": "LayoutModel",
      "_view_count": null,
      "_view_module": "@jupyter-widgets/base",
      "_view_module_version": "1.2.0",
      "_view_name": "LayoutView",
      "align_content": null,
      "align_items": null,
      "align_self": null,
      "border": null,
      "bottom": null,
      "display": null,
      "flex": null,
      "flex_flow": null,
      "grid_area": null,
      "grid_auto_columns": null,
      "grid_auto_flow": null,
      "grid_auto_rows": null,
      "grid_column": null,
      "grid_gap": null,
      "grid_row": null,
      "grid_template_areas": null,
      "grid_template_columns": null,
      "grid_template_rows": null,
      "height": null,
      "justify_content": null,
      "justify_items": null,
      "left": null,
      "margin": null,
      "max_height": null,
      "max_width": null,
      "min_height": null,
      "min_width": null,
      "object_fit": null,
      "object_position": null,
      "order": null,
      "overflow": null,
      "overflow_x": null,
      "overflow_y": null,
      "padding": null,
      "right": null,
      "top": null,
      "visibility": null,
      "width": null
     }
    },
    "3b11453e05be4690bdcf020f10f9e231": {
     "model_module": "@jupyter-widgets/controls",
     "model_module_version": "1.5.0",
     "model_name": "DescriptionStyleModel",
     "state": {
      "_model_module": "@jupyter-widgets/controls",
      "_model_module_version": "1.5.0",
      "_model_name": "DescriptionStyleModel",
      "_view_count": null,
      "_view_module": "@jupyter-widgets/base",
      "_view_module_version": "1.2.0",
      "_view_name": "StyleView",
      "description_width": ""
     }
    },
    "3ba0d16e7cd54365a4bc3737ecd983a2": {
     "model_module": "@jupyter-widgets/controls",
     "model_module_version": "1.5.0",
     "model_name": "DescriptionStyleModel",
     "state": {
      "_model_module": "@jupyter-widgets/controls",
      "_model_module_version": "1.5.0",
      "_model_name": "DescriptionStyleModel",
      "_view_count": null,
      "_view_module": "@jupyter-widgets/base",
      "_view_module_version": "1.2.0",
      "_view_name": "StyleView",
      "description_width": ""
     }
    },
    "3ca8cc61a0a44d33afa6b03079a2daf9": {
     "model_module": "@jupyter-widgets/base",
     "model_module_version": "1.2.0",
     "model_name": "LayoutModel",
     "state": {
      "_model_module": "@jupyter-widgets/base",
      "_model_module_version": "1.2.0",
      "_model_name": "LayoutModel",
      "_view_count": null,
      "_view_module": "@jupyter-widgets/base",
      "_view_module_version": "1.2.0",
      "_view_name": "LayoutView",
      "align_content": null,
      "align_items": null,
      "align_self": null,
      "border": null,
      "bottom": null,
      "display": null,
      "flex": null,
      "flex_flow": null,
      "grid_area": null,
      "grid_auto_columns": null,
      "grid_auto_flow": null,
      "grid_auto_rows": null,
      "grid_column": null,
      "grid_gap": null,
      "grid_row": null,
      "grid_template_areas": null,
      "grid_template_columns": null,
      "grid_template_rows": null,
      "height": null,
      "justify_content": null,
      "justify_items": null,
      "left": null,
      "margin": null,
      "max_height": null,
      "max_width": null,
      "min_height": null,
      "min_width": null,
      "object_fit": null,
      "object_position": null,
      "order": null,
      "overflow": null,
      "overflow_x": null,
      "overflow_y": null,
      "padding": null,
      "right": null,
      "top": null,
      "visibility": null,
      "width": null
     }
    },
    "3d06886a3c554166a3e3608f8ea8d6a3": {
     "model_module": "@jupyter-widgets/controls",
     "model_module_version": "1.5.0",
     "model_name": "ProgressStyleModel",
     "state": {
      "_model_module": "@jupyter-widgets/controls",
      "_model_module_version": "1.5.0",
      "_model_name": "ProgressStyleModel",
      "_view_count": null,
      "_view_module": "@jupyter-widgets/base",
      "_view_module_version": "1.2.0",
      "_view_name": "StyleView",
      "bar_color": null,
      "description_width": "initial"
     }
    },
    "3db98ca2e67e493e9b13766a3a33be86": {
     "model_module": "@jupyter-widgets/controls",
     "model_module_version": "1.5.0",
     "model_name": "DescriptionStyleModel",
     "state": {
      "_model_module": "@jupyter-widgets/controls",
      "_model_module_version": "1.5.0",
      "_model_name": "DescriptionStyleModel",
      "_view_count": null,
      "_view_module": "@jupyter-widgets/base",
      "_view_module_version": "1.2.0",
      "_view_name": "StyleView",
      "description_width": ""
     }
    },
    "3e1fe814080c4293a29872a50182ff39": {
     "model_module": "@jupyter-widgets/controls",
     "model_module_version": "1.5.0",
     "model_name": "HTMLModel",
     "state": {
      "_dom_classes": [],
      "_model_module": "@jupyter-widgets/controls",
      "_model_module_version": "1.5.0",
      "_model_name": "HTMLModel",
      "_view_count": null,
      "_view_module": "@jupyter-widgets/controls",
      "_view_module_version": "1.5.0",
      "_view_name": "HTMLView",
      "description": "",
      "description_tooltip": null,
      "layout": "IPY_MODEL_782db3613064451eadd9fbb5dbc2968a",
      "placeholder": "​",
      "style": "IPY_MODEL_3ba0d16e7cd54365a4bc3737ecd983a2",
      "value": " 50/50 [00:05&lt;00:00,  9.26it/s]"
     }
    },
    "4128f1de9d1a4fd99d7fa6dad98a0301": {
     "model_module": "@jupyter-widgets/controls",
     "model_module_version": "1.5.0",
     "model_name": "FloatProgressModel",
     "state": {
      "_dom_classes": [],
      "_model_module": "@jupyter-widgets/controls",
      "_model_module_version": "1.5.0",
      "_model_name": "FloatProgressModel",
      "_view_count": null,
      "_view_module": "@jupyter-widgets/controls",
      "_view_module_version": "1.5.0",
      "_view_name": "ProgressView",
      "bar_style": "success",
      "description": "100%",
      "description_tooltip": null,
      "layout": "IPY_MODEL_baa98ddd6a174185afa844575208afc1",
      "max": 50,
      "min": 0,
      "orientation": "horizontal",
      "style": "IPY_MODEL_354167a7670d4dc6900a16f8f5801eae",
      "value": 50
     }
    },
    "43b29334e913424abbc4ea30c2e80794": {
     "model_module": "@jupyter-widgets/base",
     "model_module_version": "1.2.0",
     "model_name": "LayoutModel",
     "state": {
      "_model_module": "@jupyter-widgets/base",
      "_model_module_version": "1.2.0",
      "_model_name": "LayoutModel",
      "_view_count": null,
      "_view_module": "@jupyter-widgets/base",
      "_view_module_version": "1.2.0",
      "_view_name": "LayoutView",
      "align_content": null,
      "align_items": null,
      "align_self": null,
      "border": null,
      "bottom": null,
      "display": null,
      "flex": null,
      "flex_flow": null,
      "grid_area": null,
      "grid_auto_columns": null,
      "grid_auto_flow": null,
      "grid_auto_rows": null,
      "grid_column": null,
      "grid_gap": null,
      "grid_row": null,
      "grid_template_areas": null,
      "grid_template_columns": null,
      "grid_template_rows": null,
      "height": null,
      "justify_content": null,
      "justify_items": null,
      "left": null,
      "margin": null,
      "max_height": null,
      "max_width": null,
      "min_height": null,
      "min_width": null,
      "object_fit": null,
      "object_position": null,
      "order": null,
      "overflow": null,
      "overflow_x": null,
      "overflow_y": null,
      "padding": null,
      "right": null,
      "top": null,
      "visibility": null,
      "width": null
     }
    },
    "44093c4efdf347dc8d5c11e35ef59754": {
     "model_module": "@jupyter-widgets/controls",
     "model_module_version": "1.5.0",
     "model_name": "ProgressStyleModel",
     "state": {
      "_model_module": "@jupyter-widgets/controls",
      "_model_module_version": "1.5.0",
      "_model_name": "ProgressStyleModel",
      "_view_count": null,
      "_view_module": "@jupyter-widgets/base",
      "_view_module_version": "1.2.0",
      "_view_name": "StyleView",
      "bar_color": null,
      "description_width": "initial"
     }
    },
    "448cb9332a374fed98d7e34be0f7f3c3": {
     "model_module": "@jupyter-widgets/controls",
     "model_module_version": "1.5.0",
     "model_name": "HTMLModel",
     "state": {
      "_dom_classes": [],
      "_model_module": "@jupyter-widgets/controls",
      "_model_module_version": "1.5.0",
      "_model_name": "HTMLModel",
      "_view_count": null,
      "_view_module": "@jupyter-widgets/controls",
      "_view_module_version": "1.5.0",
      "_view_name": "HTMLView",
      "description": "",
      "description_tooltip": null,
      "layout": "IPY_MODEL_58c3909be88f4fd9b4f07edf4c446479",
      "placeholder": "​",
      "style": "IPY_MODEL_8a3c13d5a2394335a70b4e62db0aa5a2",
      "value": " 50/50 [00:05&lt;00:00,  9.29it/s]"
     }
    },
    "453bc96f83874a168bc03abfcd48fd00": {
     "model_module": "@jupyter-widgets/controls",
     "model_module_version": "1.5.0",
     "model_name": "ProgressStyleModel",
     "state": {
      "_model_module": "@jupyter-widgets/controls",
      "_model_module_version": "1.5.0",
      "_model_name": "ProgressStyleModel",
      "_view_count": null,
      "_view_module": "@jupyter-widgets/base",
      "_view_module_version": "1.2.0",
      "_view_name": "StyleView",
      "bar_color": null,
      "description_width": "initial"
     }
    },
    "47bd4b65f79d4a9180b5c0981221f795": {
     "model_module": "@jupyter-widgets/base",
     "model_module_version": "1.2.0",
     "model_name": "LayoutModel",
     "state": {
      "_model_module": "@jupyter-widgets/base",
      "_model_module_version": "1.2.0",
      "_model_name": "LayoutModel",
      "_view_count": null,
      "_view_module": "@jupyter-widgets/base",
      "_view_module_version": "1.2.0",
      "_view_name": "LayoutView",
      "align_content": null,
      "align_items": null,
      "align_self": null,
      "border": null,
      "bottom": null,
      "display": null,
      "flex": null,
      "flex_flow": null,
      "grid_area": null,
      "grid_auto_columns": null,
      "grid_auto_flow": null,
      "grid_auto_rows": null,
      "grid_column": null,
      "grid_gap": null,
      "grid_row": null,
      "grid_template_areas": null,
      "grid_template_columns": null,
      "grid_template_rows": null,
      "height": null,
      "justify_content": null,
      "justify_items": null,
      "left": null,
      "margin": null,
      "max_height": null,
      "max_width": null,
      "min_height": null,
      "min_width": null,
      "object_fit": null,
      "object_position": null,
      "order": null,
      "overflow": null,
      "overflow_x": null,
      "overflow_y": null,
      "padding": null,
      "right": null,
      "top": null,
      "visibility": null,
      "width": null
     }
    },
    "4925500b681b4fc2950dc5937c253f50": {
     "model_module": "@jupyter-widgets/controls",
     "model_module_version": "1.5.0",
     "model_name": "ProgressStyleModel",
     "state": {
      "_model_module": "@jupyter-widgets/controls",
      "_model_module_version": "1.5.0",
      "_model_name": "ProgressStyleModel",
      "_view_count": null,
      "_view_module": "@jupyter-widgets/base",
      "_view_module_version": "1.2.0",
      "_view_name": "StyleView",
      "bar_color": null,
      "description_width": "initial"
     }
    },
    "51a2180cc38b40f0b5bcf34dadcff0ce": {
     "model_module": "@jupyter-widgets/controls",
     "model_module_version": "1.5.0",
     "model_name": "HBoxModel",
     "state": {
      "_dom_classes": [],
      "_model_module": "@jupyter-widgets/controls",
      "_model_module_version": "1.5.0",
      "_model_name": "HBoxModel",
      "_view_count": null,
      "_view_module": "@jupyter-widgets/controls",
      "_view_module_version": "1.5.0",
      "_view_name": "HBoxView",
      "box_style": "",
      "children": [
       "IPY_MODEL_8cd3e71d62ed4f50985a23e0ac911ecc",
       "IPY_MODEL_7eec6b388d5b440e975412be8f90bdcc"
      ],
      "layout": "IPY_MODEL_187f5a6704fe4297a939f0062e44540e"
     }
    },
    "51ae19c214ff4b33b44b1808e3b9066e": {
     "model_module": "@jupyter-widgets/controls",
     "model_module_version": "1.5.0",
     "model_name": "HBoxModel",
     "state": {
      "_dom_classes": [],
      "_model_module": "@jupyter-widgets/controls",
      "_model_module_version": "1.5.0",
      "_model_name": "HBoxModel",
      "_view_count": null,
      "_view_module": "@jupyter-widgets/controls",
      "_view_module_version": "1.5.0",
      "_view_name": "HBoxView",
      "box_style": "",
      "children": [
       "IPY_MODEL_f7e7979abd414291b54f96b4faa01c1b",
       "IPY_MODEL_e4978b37ec5c4b01bf1bded2bbb9ed89"
      ],
      "layout": "IPY_MODEL_00814be1fc2d4d60908799b11a5c49ee"
     }
    },
    "56003e52a3e14c5cb57e6c8008ae1048": {
     "model_module": "@jupyter-widgets/base",
     "model_module_version": "1.2.0",
     "model_name": "LayoutModel",
     "state": {
      "_model_module": "@jupyter-widgets/base",
      "_model_module_version": "1.2.0",
      "_model_name": "LayoutModel",
      "_view_count": null,
      "_view_module": "@jupyter-widgets/base",
      "_view_module_version": "1.2.0",
      "_view_name": "LayoutView",
      "align_content": null,
      "align_items": null,
      "align_self": null,
      "border": null,
      "bottom": null,
      "display": null,
      "flex": null,
      "flex_flow": null,
      "grid_area": null,
      "grid_auto_columns": null,
      "grid_auto_flow": null,
      "grid_auto_rows": null,
      "grid_column": null,
      "grid_gap": null,
      "grid_row": null,
      "grid_template_areas": null,
      "grid_template_columns": null,
      "grid_template_rows": null,
      "height": null,
      "justify_content": null,
      "justify_items": null,
      "left": null,
      "margin": null,
      "max_height": null,
      "max_width": null,
      "min_height": null,
      "min_width": null,
      "object_fit": null,
      "object_position": null,
      "order": null,
      "overflow": null,
      "overflow_x": null,
      "overflow_y": null,
      "padding": null,
      "right": null,
      "top": null,
      "visibility": null,
      "width": null
     }
    },
    "5656eb2ad2694d60a7d7cc115398eb4a": {
     "model_module": "@jupyter-widgets/base",
     "model_module_version": "1.2.0",
     "model_name": "LayoutModel",
     "state": {
      "_model_module": "@jupyter-widgets/base",
      "_model_module_version": "1.2.0",
      "_model_name": "LayoutModel",
      "_view_count": null,
      "_view_module": "@jupyter-widgets/base",
      "_view_module_version": "1.2.0",
      "_view_name": "LayoutView",
      "align_content": null,
      "align_items": null,
      "align_self": null,
      "border": null,
      "bottom": null,
      "display": null,
      "flex": null,
      "flex_flow": null,
      "grid_area": null,
      "grid_auto_columns": null,
      "grid_auto_flow": null,
      "grid_auto_rows": null,
      "grid_column": null,
      "grid_gap": null,
      "grid_row": null,
      "grid_template_areas": null,
      "grid_template_columns": null,
      "grid_template_rows": null,
      "height": null,
      "justify_content": null,
      "justify_items": null,
      "left": null,
      "margin": null,
      "max_height": null,
      "max_width": null,
      "min_height": null,
      "min_width": null,
      "object_fit": null,
      "object_position": null,
      "order": null,
      "overflow": null,
      "overflow_x": null,
      "overflow_y": null,
      "padding": null,
      "right": null,
      "top": null,
      "visibility": null,
      "width": null
     }
    },
    "58c3909be88f4fd9b4f07edf4c446479": {
     "model_module": "@jupyter-widgets/base",
     "model_module_version": "1.2.0",
     "model_name": "LayoutModel",
     "state": {
      "_model_module": "@jupyter-widgets/base",
      "_model_module_version": "1.2.0",
      "_model_name": "LayoutModel",
      "_view_count": null,
      "_view_module": "@jupyter-widgets/base",
      "_view_module_version": "1.2.0",
      "_view_name": "LayoutView",
      "align_content": null,
      "align_items": null,
      "align_self": null,
      "border": null,
      "bottom": null,
      "display": null,
      "flex": null,
      "flex_flow": null,
      "grid_area": null,
      "grid_auto_columns": null,
      "grid_auto_flow": null,
      "grid_auto_rows": null,
      "grid_column": null,
      "grid_gap": null,
      "grid_row": null,
      "grid_template_areas": null,
      "grid_template_columns": null,
      "grid_template_rows": null,
      "height": null,
      "justify_content": null,
      "justify_items": null,
      "left": null,
      "margin": null,
      "max_height": null,
      "max_width": null,
      "min_height": null,
      "min_width": null,
      "object_fit": null,
      "object_position": null,
      "order": null,
      "overflow": null,
      "overflow_x": null,
      "overflow_y": null,
      "padding": null,
      "right": null,
      "top": null,
      "visibility": null,
      "width": null
     }
    },
    "5b3c44d0ff0b40a686e79d6519a98502": {
     "model_module": "@jupyter-widgets/base",
     "model_module_version": "1.2.0",
     "model_name": "LayoutModel",
     "state": {
      "_model_module": "@jupyter-widgets/base",
      "_model_module_version": "1.2.0",
      "_model_name": "LayoutModel",
      "_view_count": null,
      "_view_module": "@jupyter-widgets/base",
      "_view_module_version": "1.2.0",
      "_view_name": "LayoutView",
      "align_content": null,
      "align_items": null,
      "align_self": null,
      "border": null,
      "bottom": null,
      "display": null,
      "flex": null,
      "flex_flow": null,
      "grid_area": null,
      "grid_auto_columns": null,
      "grid_auto_flow": null,
      "grid_auto_rows": null,
      "grid_column": null,
      "grid_gap": null,
      "grid_row": null,
      "grid_template_areas": null,
      "grid_template_columns": null,
      "grid_template_rows": null,
      "height": null,
      "justify_content": null,
      "justify_items": null,
      "left": null,
      "margin": null,
      "max_height": null,
      "max_width": null,
      "min_height": null,
      "min_width": null,
      "object_fit": null,
      "object_position": null,
      "order": null,
      "overflow": null,
      "overflow_x": null,
      "overflow_y": null,
      "padding": null,
      "right": null,
      "top": null,
      "visibility": null,
      "width": null
     }
    },
    "5ba7bd3cd1794d30860132df1f095e9d": {
     "model_module": "@jupyter-widgets/controls",
     "model_module_version": "1.5.0",
     "model_name": "DescriptionStyleModel",
     "state": {
      "_model_module": "@jupyter-widgets/controls",
      "_model_module_version": "1.5.0",
      "_model_name": "DescriptionStyleModel",
      "_view_count": null,
      "_view_module": "@jupyter-widgets/base",
      "_view_module_version": "1.2.0",
      "_view_name": "StyleView",
      "description_width": ""
     }
    },
    "5e371633a5c149aeaf8dfa9a8346bfa1": {
     "model_module": "@jupyter-widgets/controls",
     "model_module_version": "1.5.0",
     "model_name": "ProgressStyleModel",
     "state": {
      "_model_module": "@jupyter-widgets/controls",
      "_model_module_version": "1.5.0",
      "_model_name": "ProgressStyleModel",
      "_view_count": null,
      "_view_module": "@jupyter-widgets/base",
      "_view_module_version": "1.2.0",
      "_view_name": "StyleView",
      "bar_color": null,
      "description_width": "initial"
     }
    },
    "5f6b2fb636b043f388e99a8bf30f68de": {
     "model_module": "@jupyter-widgets/controls",
     "model_module_version": "1.5.0",
     "model_name": "FloatProgressModel",
     "state": {
      "_dom_classes": [],
      "_model_module": "@jupyter-widgets/controls",
      "_model_module_version": "1.5.0",
      "_model_name": "FloatProgressModel",
      "_view_count": null,
      "_view_module": "@jupyter-widgets/controls",
      "_view_module_version": "1.5.0",
      "_view_name": "ProgressView",
      "bar_style": "success",
      "description": "100%",
      "description_tooltip": null,
      "layout": "IPY_MODEL_43b29334e913424abbc4ea30c2e80794",
      "max": 50,
      "min": 0,
      "orientation": "horizontal",
      "style": "IPY_MODEL_a026d6aaf5914f86a12f44be17616973",
      "value": 50
     }
    },
    "6444c5e8ce90477da398798ce483ecea": {
     "model_module": "@jupyter-widgets/base",
     "model_module_version": "1.2.0",
     "model_name": "LayoutModel",
     "state": {
      "_model_module": "@jupyter-widgets/base",
      "_model_module_version": "1.2.0",
      "_model_name": "LayoutModel",
      "_view_count": null,
      "_view_module": "@jupyter-widgets/base",
      "_view_module_version": "1.2.0",
      "_view_name": "LayoutView",
      "align_content": null,
      "align_items": null,
      "align_self": null,
      "border": null,
      "bottom": null,
      "display": null,
      "flex": null,
      "flex_flow": null,
      "grid_area": null,
      "grid_auto_columns": null,
      "grid_auto_flow": null,
      "grid_auto_rows": null,
      "grid_column": null,
      "grid_gap": null,
      "grid_row": null,
      "grid_template_areas": null,
      "grid_template_columns": null,
      "grid_template_rows": null,
      "height": null,
      "justify_content": null,
      "justify_items": null,
      "left": null,
      "margin": null,
      "max_height": null,
      "max_width": null,
      "min_height": null,
      "min_width": null,
      "object_fit": null,
      "object_position": null,
      "order": null,
      "overflow": null,
      "overflow_x": null,
      "overflow_y": null,
      "padding": null,
      "right": null,
      "top": null,
      "visibility": null,
      "width": null
     }
    },
    "674c8a75d2ce42c8b720b24e155b7f13": {
     "model_module": "@jupyter-widgets/base",
     "model_module_version": "1.2.0",
     "model_name": "LayoutModel",
     "state": {
      "_model_module": "@jupyter-widgets/base",
      "_model_module_version": "1.2.0",
      "_model_name": "LayoutModel",
      "_view_count": null,
      "_view_module": "@jupyter-widgets/base",
      "_view_module_version": "1.2.0",
      "_view_name": "LayoutView",
      "align_content": null,
      "align_items": null,
      "align_self": null,
      "border": null,
      "bottom": null,
      "display": null,
      "flex": null,
      "flex_flow": null,
      "grid_area": null,
      "grid_auto_columns": null,
      "grid_auto_flow": null,
      "grid_auto_rows": null,
      "grid_column": null,
      "grid_gap": null,
      "grid_row": null,
      "grid_template_areas": null,
      "grid_template_columns": null,
      "grid_template_rows": null,
      "height": null,
      "justify_content": null,
      "justify_items": null,
      "left": null,
      "margin": null,
      "max_height": null,
      "max_width": null,
      "min_height": null,
      "min_width": null,
      "object_fit": null,
      "object_position": null,
      "order": null,
      "overflow": null,
      "overflow_x": null,
      "overflow_y": null,
      "padding": null,
      "right": null,
      "top": null,
      "visibility": null,
      "width": null
     }
    },
    "6a85aba9a7384346a0810644eaf5a914": {
     "model_module": "@jupyter-widgets/controls",
     "model_module_version": "1.5.0",
     "model_name": "HTMLModel",
     "state": {
      "_dom_classes": [],
      "_model_module": "@jupyter-widgets/controls",
      "_model_module_version": "1.5.0",
      "_model_name": "HTMLModel",
      "_view_count": null,
      "_view_module": "@jupyter-widgets/controls",
      "_view_module_version": "1.5.0",
      "_view_name": "HTMLView",
      "description": "",
      "description_tooltip": null,
      "layout": "IPY_MODEL_7c686e02f36144c49049e188e84ed448",
      "placeholder": "​",
      "style": "IPY_MODEL_1d185b182175401bad23bfd543b3a508",
      "value": " 50/50 [00:05&lt;00:00,  9.32it/s]"
     }
    },
    "6b3f919fed3346e2a629b8ad57188e6c": {
     "model_module": "@jupyter-widgets/base",
     "model_module_version": "1.2.0",
     "model_name": "LayoutModel",
     "state": {
      "_model_module": "@jupyter-widgets/base",
      "_model_module_version": "1.2.0",
      "_model_name": "LayoutModel",
      "_view_count": null,
      "_view_module": "@jupyter-widgets/base",
      "_view_module_version": "1.2.0",
      "_view_name": "LayoutView",
      "align_content": null,
      "align_items": null,
      "align_self": null,
      "border": null,
      "bottom": null,
      "display": null,
      "flex": null,
      "flex_flow": null,
      "grid_area": null,
      "grid_auto_columns": null,
      "grid_auto_flow": null,
      "grid_auto_rows": null,
      "grid_column": null,
      "grid_gap": null,
      "grid_row": null,
      "grid_template_areas": null,
      "grid_template_columns": null,
      "grid_template_rows": null,
      "height": null,
      "justify_content": null,
      "justify_items": null,
      "left": null,
      "margin": null,
      "max_height": null,
      "max_width": null,
      "min_height": null,
      "min_width": null,
      "object_fit": null,
      "object_position": null,
      "order": null,
      "overflow": null,
      "overflow_x": null,
      "overflow_y": null,
      "padding": null,
      "right": null,
      "top": null,
      "visibility": null,
      "width": null
     }
    },
    "6cbdd91df06747a18f6a48db7d9643d3": {
     "model_module": "@jupyter-widgets/base",
     "model_module_version": "1.2.0",
     "model_name": "LayoutModel",
     "state": {
      "_model_module": "@jupyter-widgets/base",
      "_model_module_version": "1.2.0",
      "_model_name": "LayoutModel",
      "_view_count": null,
      "_view_module": "@jupyter-widgets/base",
      "_view_module_version": "1.2.0",
      "_view_name": "LayoutView",
      "align_content": null,
      "align_items": null,
      "align_self": null,
      "border": null,
      "bottom": null,
      "display": null,
      "flex": null,
      "flex_flow": null,
      "grid_area": null,
      "grid_auto_columns": null,
      "grid_auto_flow": null,
      "grid_auto_rows": null,
      "grid_column": null,
      "grid_gap": null,
      "grid_row": null,
      "grid_template_areas": null,
      "grid_template_columns": null,
      "grid_template_rows": null,
      "height": null,
      "justify_content": null,
      "justify_items": null,
      "left": null,
      "margin": null,
      "max_height": null,
      "max_width": null,
      "min_height": null,
      "min_width": null,
      "object_fit": null,
      "object_position": null,
      "order": null,
      "overflow": null,
      "overflow_x": null,
      "overflow_y": null,
      "padding": null,
      "right": null,
      "top": null,
      "visibility": null,
      "width": null
     }
    },
    "6f0fd343102a4b118e558c65f51bc505": {
     "model_module": "@jupyter-widgets/base",
     "model_module_version": "1.2.0",
     "model_name": "LayoutModel",
     "state": {
      "_model_module": "@jupyter-widgets/base",
      "_model_module_version": "1.2.0",
      "_model_name": "LayoutModel",
      "_view_count": null,
      "_view_module": "@jupyter-widgets/base",
      "_view_module_version": "1.2.0",
      "_view_name": "LayoutView",
      "align_content": null,
      "align_items": null,
      "align_self": null,
      "border": null,
      "bottom": null,
      "display": null,
      "flex": null,
      "flex_flow": null,
      "grid_area": null,
      "grid_auto_columns": null,
      "grid_auto_flow": null,
      "grid_auto_rows": null,
      "grid_column": null,
      "grid_gap": null,
      "grid_row": null,
      "grid_template_areas": null,
      "grid_template_columns": null,
      "grid_template_rows": null,
      "height": null,
      "justify_content": null,
      "justify_items": null,
      "left": null,
      "margin": null,
      "max_height": null,
      "max_width": null,
      "min_height": null,
      "min_width": null,
      "object_fit": null,
      "object_position": null,
      "order": null,
      "overflow": null,
      "overflow_x": null,
      "overflow_y": null,
      "padding": null,
      "right": null,
      "top": null,
      "visibility": null,
      "width": null
     }
    },
    "7007c8839f3a4e82803ca07cd4ae1873": {
     "model_module": "@jupyter-widgets/controls",
     "model_module_version": "1.5.0",
     "model_name": "DescriptionStyleModel",
     "state": {
      "_model_module": "@jupyter-widgets/controls",
      "_model_module_version": "1.5.0",
      "_model_name": "DescriptionStyleModel",
      "_view_count": null,
      "_view_module": "@jupyter-widgets/base",
      "_view_module_version": "1.2.0",
      "_view_name": "StyleView",
      "description_width": ""
     }
    },
    "70ed7062acfb476c8e82f7831dab4859": {
     "model_module": "@jupyter-widgets/controls",
     "model_module_version": "1.5.0",
     "model_name": "FloatProgressModel",
     "state": {
      "_dom_classes": [],
      "_model_module": "@jupyter-widgets/controls",
      "_model_module_version": "1.5.0",
      "_model_name": "FloatProgressModel",
      "_view_count": null,
      "_view_module": "@jupyter-widgets/controls",
      "_view_module_version": "1.5.0",
      "_view_name": "ProgressView",
      "bar_style": "success",
      "description": "100%",
      "description_tooltip": null,
      "layout": "IPY_MODEL_9afd70a5277c4edeb9620575e71789d4",
      "max": 20,
      "min": 0,
      "orientation": "horizontal",
      "style": "IPY_MODEL_fa24a81ba8454b149876b778df1f1756",
      "value": 20
     }
    },
    "71249d22893f4adebe47b711ffde3c1b": {
     "model_module": "@jupyter-widgets/controls",
     "model_module_version": "1.5.0",
     "model_name": "HTMLModel",
     "state": {
      "_dom_classes": [],
      "_model_module": "@jupyter-widgets/controls",
      "_model_module_version": "1.5.0",
      "_model_name": "HTMLModel",
      "_view_count": null,
      "_view_module": "@jupyter-widgets/controls",
      "_view_module_version": "1.5.0",
      "_view_name": "HTMLView",
      "description": "",
      "description_tooltip": null,
      "layout": "IPY_MODEL_368ddc4f4e444d82af346e6ca2648546",
      "placeholder": "​",
      "style": "IPY_MODEL_cb94c5f6b6fc406fb7cc7b697b1ee5f1",
      "value": " 50/50 [00:05&lt;00:00,  9.24it/s]"
     }
    },
    "71cbc6ed75844f7484a8c6422cbce5cb": {
     "model_module": "@jupyter-widgets/controls",
     "model_module_version": "1.5.0",
     "model_name": "HBoxModel",
     "state": {
      "_dom_classes": [],
      "_model_module": "@jupyter-widgets/controls",
      "_model_module_version": "1.5.0",
      "_model_name": "HBoxModel",
      "_view_count": null,
      "_view_module": "@jupyter-widgets/controls",
      "_view_module_version": "1.5.0",
      "_view_name": "HBoxView",
      "box_style": "",
      "children": [
       "IPY_MODEL_9969ffc2f42947a5adaa415e9650921b",
       "IPY_MODEL_11ea740207c140ada9b68045174f8307"
      ],
      "layout": "IPY_MODEL_e82dd219337c4410b800791e70e3a317"
     }
    },
    "72e200a16fdb477d8f10958d695439da": {
     "model_module": "@jupyter-widgets/controls",
     "model_module_version": "1.5.0",
     "model_name": "HBoxModel",
     "state": {
      "_dom_classes": [],
      "_model_module": "@jupyter-widgets/controls",
      "_model_module_version": "1.5.0",
      "_model_name": "HBoxModel",
      "_view_count": null,
      "_view_module": "@jupyter-widgets/controls",
      "_view_module_version": "1.5.0",
      "_view_name": "HBoxView",
      "box_style": "",
      "children": [
       "IPY_MODEL_e77e5d36853641e48ee25cc74e917d5a",
       "IPY_MODEL_01bd4b9c2eb04b888d280784252d75b4"
      ],
      "layout": "IPY_MODEL_b29addd8b26342ef820b87ba5f12c75c"
     }
    },
    "73b91fc200b4400f8ad46f3002e5fbcc": {
     "model_module": "@jupyter-widgets/controls",
     "model_module_version": "1.5.0",
     "model_name": "HBoxModel",
     "state": {
      "_dom_classes": [],
      "_model_module": "@jupyter-widgets/controls",
      "_model_module_version": "1.5.0",
      "_model_name": "HBoxModel",
      "_view_count": null,
      "_view_module": "@jupyter-widgets/controls",
      "_view_module_version": "1.5.0",
      "_view_name": "HBoxView",
      "box_style": "",
      "children": [
       "IPY_MODEL_a9538cf423f54627910edc7d27a14d83",
       "IPY_MODEL_e12a07a6181248f988e8beca49d6e7aa"
      ],
      "layout": "IPY_MODEL_79eae5cf0caf4fb7b0897f65cb5334e5"
     }
    },
    "75964ec3d4ba4562b318a5e90499e568": {
     "model_module": "@jupyter-widgets/controls",
     "model_module_version": "1.5.0",
     "model_name": "FloatProgressModel",
     "state": {
      "_dom_classes": [],
      "_model_module": "@jupyter-widgets/controls",
      "_model_module_version": "1.5.0",
      "_model_name": "FloatProgressModel",
      "_view_count": null,
      "_view_module": "@jupyter-widgets/controls",
      "_view_module_version": "1.5.0",
      "_view_name": "ProgressView",
      "bar_style": "success",
      "description": "100%",
      "description_tooltip": null,
      "layout": "IPY_MODEL_a2e4e622c1a343c4b03ffab6cd157b6d",
      "max": 50,
      "min": 0,
      "orientation": "horizontal",
      "style": "IPY_MODEL_5e371633a5c149aeaf8dfa9a8346bfa1",
      "value": 50
     }
    },
    "782db3613064451eadd9fbb5dbc2968a": {
     "model_module": "@jupyter-widgets/base",
     "model_module_version": "1.2.0",
     "model_name": "LayoutModel",
     "state": {
      "_model_module": "@jupyter-widgets/base",
      "_model_module_version": "1.2.0",
      "_model_name": "LayoutModel",
      "_view_count": null,
      "_view_module": "@jupyter-widgets/base",
      "_view_module_version": "1.2.0",
      "_view_name": "LayoutView",
      "align_content": null,
      "align_items": null,
      "align_self": null,
      "border": null,
      "bottom": null,
      "display": null,
      "flex": null,
      "flex_flow": null,
      "grid_area": null,
      "grid_auto_columns": null,
      "grid_auto_flow": null,
      "grid_auto_rows": null,
      "grid_column": null,
      "grid_gap": null,
      "grid_row": null,
      "grid_template_areas": null,
      "grid_template_columns": null,
      "grid_template_rows": null,
      "height": null,
      "justify_content": null,
      "justify_items": null,
      "left": null,
      "margin": null,
      "max_height": null,
      "max_width": null,
      "min_height": null,
      "min_width": null,
      "object_fit": null,
      "object_position": null,
      "order": null,
      "overflow": null,
      "overflow_x": null,
      "overflow_y": null,
      "padding": null,
      "right": null,
      "top": null,
      "visibility": null,
      "width": null
     }
    },
    "79b70f9ca4a14ebfa0d4f887c498aa37": {
     "model_module": "@jupyter-widgets/base",
     "model_module_version": "1.2.0",
     "model_name": "LayoutModel",
     "state": {
      "_model_module": "@jupyter-widgets/base",
      "_model_module_version": "1.2.0",
      "_model_name": "LayoutModel",
      "_view_count": null,
      "_view_module": "@jupyter-widgets/base",
      "_view_module_version": "1.2.0",
      "_view_name": "LayoutView",
      "align_content": null,
      "align_items": null,
      "align_self": null,
      "border": null,
      "bottom": null,
      "display": null,
      "flex": null,
      "flex_flow": null,
      "grid_area": null,
      "grid_auto_columns": null,
      "grid_auto_flow": null,
      "grid_auto_rows": null,
      "grid_column": null,
      "grid_gap": null,
      "grid_row": null,
      "grid_template_areas": null,
      "grid_template_columns": null,
      "grid_template_rows": null,
      "height": null,
      "justify_content": null,
      "justify_items": null,
      "left": null,
      "margin": null,
      "max_height": null,
      "max_width": null,
      "min_height": null,
      "min_width": null,
      "object_fit": null,
      "object_position": null,
      "order": null,
      "overflow": null,
      "overflow_x": null,
      "overflow_y": null,
      "padding": null,
      "right": null,
      "top": null,
      "visibility": null,
      "width": null
     }
    },
    "79eae5cf0caf4fb7b0897f65cb5334e5": {
     "model_module": "@jupyter-widgets/base",
     "model_module_version": "1.2.0",
     "model_name": "LayoutModel",
     "state": {
      "_model_module": "@jupyter-widgets/base",
      "_model_module_version": "1.2.0",
      "_model_name": "LayoutModel",
      "_view_count": null,
      "_view_module": "@jupyter-widgets/base",
      "_view_module_version": "1.2.0",
      "_view_name": "LayoutView",
      "align_content": null,
      "align_items": null,
      "align_self": null,
      "border": null,
      "bottom": null,
      "display": null,
      "flex": null,
      "flex_flow": null,
      "grid_area": null,
      "grid_auto_columns": null,
      "grid_auto_flow": null,
      "grid_auto_rows": null,
      "grid_column": null,
      "grid_gap": null,
      "grid_row": null,
      "grid_template_areas": null,
      "grid_template_columns": null,
      "grid_template_rows": null,
      "height": null,
      "justify_content": null,
      "justify_items": null,
      "left": null,
      "margin": null,
      "max_height": null,
      "max_width": null,
      "min_height": null,
      "min_width": null,
      "object_fit": null,
      "object_position": null,
      "order": null,
      "overflow": null,
      "overflow_x": null,
      "overflow_y": null,
      "padding": null,
      "right": null,
      "top": null,
      "visibility": null,
      "width": null
     }
    },
    "7aa9fc490ea049fbad57aefac1f61f96": {
     "model_module": "@jupyter-widgets/base",
     "model_module_version": "1.2.0",
     "model_name": "LayoutModel",
     "state": {
      "_model_module": "@jupyter-widgets/base",
      "_model_module_version": "1.2.0",
      "_model_name": "LayoutModel",
      "_view_count": null,
      "_view_module": "@jupyter-widgets/base",
      "_view_module_version": "1.2.0",
      "_view_name": "LayoutView",
      "align_content": null,
      "align_items": null,
      "align_self": null,
      "border": null,
      "bottom": null,
      "display": null,
      "flex": null,
      "flex_flow": null,
      "grid_area": null,
      "grid_auto_columns": null,
      "grid_auto_flow": null,
      "grid_auto_rows": null,
      "grid_column": null,
      "grid_gap": null,
      "grid_row": null,
      "grid_template_areas": null,
      "grid_template_columns": null,
      "grid_template_rows": null,
      "height": null,
      "justify_content": null,
      "justify_items": null,
      "left": null,
      "margin": null,
      "max_height": null,
      "max_width": null,
      "min_height": null,
      "min_width": null,
      "object_fit": null,
      "object_position": null,
      "order": null,
      "overflow": null,
      "overflow_x": null,
      "overflow_y": null,
      "padding": null,
      "right": null,
      "top": null,
      "visibility": null,
      "width": null
     }
    },
    "7b0d5ef20f344ad9a64a1a98886ad540": {
     "model_module": "@jupyter-widgets/base",
     "model_module_version": "1.2.0",
     "model_name": "LayoutModel",
     "state": {
      "_model_module": "@jupyter-widgets/base",
      "_model_module_version": "1.2.0",
      "_model_name": "LayoutModel",
      "_view_count": null,
      "_view_module": "@jupyter-widgets/base",
      "_view_module_version": "1.2.0",
      "_view_name": "LayoutView",
      "align_content": null,
      "align_items": null,
      "align_self": null,
      "border": null,
      "bottom": null,
      "display": null,
      "flex": null,
      "flex_flow": null,
      "grid_area": null,
      "grid_auto_columns": null,
      "grid_auto_flow": null,
      "grid_auto_rows": null,
      "grid_column": null,
      "grid_gap": null,
      "grid_row": null,
      "grid_template_areas": null,
      "grid_template_columns": null,
      "grid_template_rows": null,
      "height": null,
      "justify_content": null,
      "justify_items": null,
      "left": null,
      "margin": null,
      "max_height": null,
      "max_width": null,
      "min_height": null,
      "min_width": null,
      "object_fit": null,
      "object_position": null,
      "order": null,
      "overflow": null,
      "overflow_x": null,
      "overflow_y": null,
      "padding": null,
      "right": null,
      "top": null,
      "visibility": null,
      "width": null
     }
    },
    "7b2cb2ba54b24e7a847325af0ef751d8": {
     "model_module": "@jupyter-widgets/controls",
     "model_module_version": "1.5.0",
     "model_name": "DescriptionStyleModel",
     "state": {
      "_model_module": "@jupyter-widgets/controls",
      "_model_module_version": "1.5.0",
      "_model_name": "DescriptionStyleModel",
      "_view_count": null,
      "_view_module": "@jupyter-widgets/base",
      "_view_module_version": "1.2.0",
      "_view_name": "StyleView",
      "description_width": ""
     }
    },
    "7c686e02f36144c49049e188e84ed448": {
     "model_module": "@jupyter-widgets/base",
     "model_module_version": "1.2.0",
     "model_name": "LayoutModel",
     "state": {
      "_model_module": "@jupyter-widgets/base",
      "_model_module_version": "1.2.0",
      "_model_name": "LayoutModel",
      "_view_count": null,
      "_view_module": "@jupyter-widgets/base",
      "_view_module_version": "1.2.0",
      "_view_name": "LayoutView",
      "align_content": null,
      "align_items": null,
      "align_self": null,
      "border": null,
      "bottom": null,
      "display": null,
      "flex": null,
      "flex_flow": null,
      "grid_area": null,
      "grid_auto_columns": null,
      "grid_auto_flow": null,
      "grid_auto_rows": null,
      "grid_column": null,
      "grid_gap": null,
      "grid_row": null,
      "grid_template_areas": null,
      "grid_template_columns": null,
      "grid_template_rows": null,
      "height": null,
      "justify_content": null,
      "justify_items": null,
      "left": null,
      "margin": null,
      "max_height": null,
      "max_width": null,
      "min_height": null,
      "min_width": null,
      "object_fit": null,
      "object_position": null,
      "order": null,
      "overflow": null,
      "overflow_x": null,
      "overflow_y": null,
      "padding": null,
      "right": null,
      "top": null,
      "visibility": null,
      "width": null
     }
    },
    "7cdc535593804fa7a6b49bc8cb205538": {
     "model_module": "@jupyter-widgets/controls",
     "model_module_version": "1.5.0",
     "model_name": "HBoxModel",
     "state": {
      "_dom_classes": [],
      "_model_module": "@jupyter-widgets/controls",
      "_model_module_version": "1.5.0",
      "_model_name": "HBoxModel",
      "_view_count": null,
      "_view_module": "@jupyter-widgets/controls",
      "_view_module_version": "1.5.0",
      "_view_name": "HBoxView",
      "box_style": "",
      "children": [
       "IPY_MODEL_afc116379c1345bf910c6bca24d3d31d",
       "IPY_MODEL_34307943701b4b8c85cb981184592dbf"
      ],
      "layout": "IPY_MODEL_f017a93d4302487fa156b9c9a02fffd7"
     }
    },
    "7d33114ffb8e4d548840b2cfef1f1b3a": {
     "model_module": "@jupyter-widgets/base",
     "model_module_version": "1.2.0",
     "model_name": "LayoutModel",
     "state": {
      "_model_module": "@jupyter-widgets/base",
      "_model_module_version": "1.2.0",
      "_model_name": "LayoutModel",
      "_view_count": null,
      "_view_module": "@jupyter-widgets/base",
      "_view_module_version": "1.2.0",
      "_view_name": "LayoutView",
      "align_content": null,
      "align_items": null,
      "align_self": null,
      "border": null,
      "bottom": null,
      "display": null,
      "flex": null,
      "flex_flow": null,
      "grid_area": null,
      "grid_auto_columns": null,
      "grid_auto_flow": null,
      "grid_auto_rows": null,
      "grid_column": null,
      "grid_gap": null,
      "grid_row": null,
      "grid_template_areas": null,
      "grid_template_columns": null,
      "grid_template_rows": null,
      "height": null,
      "justify_content": null,
      "justify_items": null,
      "left": null,
      "margin": null,
      "max_height": null,
      "max_width": null,
      "min_height": null,
      "min_width": null,
      "object_fit": null,
      "object_position": null,
      "order": null,
      "overflow": null,
      "overflow_x": null,
      "overflow_y": null,
      "padding": null,
      "right": null,
      "top": null,
      "visibility": null,
      "width": null
     }
    },
    "7d69a42e733542c48aceaf26a210bcf8": {
     "model_module": "@jupyter-widgets/controls",
     "model_module_version": "1.5.0",
     "model_name": "HBoxModel",
     "state": {
      "_dom_classes": [],
      "_model_module": "@jupyter-widgets/controls",
      "_model_module_version": "1.5.0",
      "_model_name": "HBoxModel",
      "_view_count": null,
      "_view_module": "@jupyter-widgets/controls",
      "_view_module_version": "1.5.0",
      "_view_name": "HBoxView",
      "box_style": "",
      "children": [
       "IPY_MODEL_294ba007940e44e29ee4f1aa29a3d995",
       "IPY_MODEL_448cb9332a374fed98d7e34be0f7f3c3"
      ],
      "layout": "IPY_MODEL_8e264ce56a0146b89c1f20d5e98f382d"
     }
    },
    "7eec6b388d5b440e975412be8f90bdcc": {
     "model_module": "@jupyter-widgets/controls",
     "model_module_version": "1.5.0",
     "model_name": "HTMLModel",
     "state": {
      "_dom_classes": [],
      "_model_module": "@jupyter-widgets/controls",
      "_model_module_version": "1.5.0",
      "_model_name": "HTMLModel",
      "_view_count": null,
      "_view_module": "@jupyter-widgets/controls",
      "_view_module_version": "1.5.0",
      "_view_name": "HTMLView",
      "description": "",
      "description_tooltip": null,
      "layout": "IPY_MODEL_674c8a75d2ce42c8b720b24e155b7f13",
      "placeholder": "​",
      "style": "IPY_MODEL_3db98ca2e67e493e9b13766a3a33be86",
      "value": " 50/50 [00:05&lt;00:00,  8.98it/s]"
     }
    },
    "7f726ed3ec6245abb7c4684ae1879d6f": {
     "model_module": "@jupyter-widgets/controls",
     "model_module_version": "1.5.0",
     "model_name": "HBoxModel",
     "state": {
      "_dom_classes": [],
      "_model_module": "@jupyter-widgets/controls",
      "_model_module_version": "1.5.0",
      "_model_name": "HBoxModel",
      "_view_count": null,
      "_view_module": "@jupyter-widgets/controls",
      "_view_module_version": "1.5.0",
      "_view_name": "HBoxView",
      "box_style": "",
      "children": [
       "IPY_MODEL_75964ec3d4ba4562b318a5e90499e568",
       "IPY_MODEL_3e1fe814080c4293a29872a50182ff39"
      ],
      "layout": "IPY_MODEL_5b3c44d0ff0b40a686e79d6519a98502"
     }
    },
    "83bb6b6578584c6e8938baf909e73694": {
     "model_module": "@jupyter-widgets/controls",
     "model_module_version": "1.5.0",
     "model_name": "HTMLModel",
     "state": {
      "_dom_classes": [],
      "_model_module": "@jupyter-widgets/controls",
      "_model_module_version": "1.5.0",
      "_model_name": "HTMLModel",
      "_view_count": null,
      "_view_module": "@jupyter-widgets/controls",
      "_view_module_version": "1.5.0",
      "_view_name": "HTMLView",
      "description": "",
      "description_tooltip": null,
      "layout": "IPY_MODEL_d39121f4c9fb4d259aa75aaaa58ad761",
      "placeholder": "​",
      "style": "IPY_MODEL_ffdeaec5d6b64ff8865fc69a8d4109b5",
      "value": " 50/50 [00:05&lt;00:00,  9.16it/s]"
     }
    },
    "8a3c13d5a2394335a70b4e62db0aa5a2": {
     "model_module": "@jupyter-widgets/controls",
     "model_module_version": "1.5.0",
     "model_name": "DescriptionStyleModel",
     "state": {
      "_model_module": "@jupyter-widgets/controls",
      "_model_module_version": "1.5.0",
      "_model_name": "DescriptionStyleModel",
      "_view_count": null,
      "_view_module": "@jupyter-widgets/base",
      "_view_module_version": "1.2.0",
      "_view_name": "StyleView",
      "description_width": ""
     }
    },
    "8a6a28a366794f85bb37d57076d5ab87": {
     "model_module": "@jupyter-widgets/controls",
     "model_module_version": "1.5.0",
     "model_name": "DescriptionStyleModel",
     "state": {
      "_model_module": "@jupyter-widgets/controls",
      "_model_module_version": "1.5.0",
      "_model_name": "DescriptionStyleModel",
      "_view_count": null,
      "_view_module": "@jupyter-widgets/base",
      "_view_module_version": "1.2.0",
      "_view_name": "StyleView",
      "description_width": ""
     }
    },
    "8cd3e71d62ed4f50985a23e0ac911ecc": {
     "model_module": "@jupyter-widgets/controls",
     "model_module_version": "1.5.0",
     "model_name": "FloatProgressModel",
     "state": {
      "_dom_classes": [],
      "_model_module": "@jupyter-widgets/controls",
      "_model_module_version": "1.5.0",
      "_model_name": "FloatProgressModel",
      "_view_count": null,
      "_view_module": "@jupyter-widgets/controls",
      "_view_module_version": "1.5.0",
      "_view_name": "ProgressView",
      "bar_style": "success",
      "description": "100%",
      "description_tooltip": null,
      "layout": "IPY_MODEL_cb09577be4af48668909cb2c753e3d6d",
      "max": 50,
      "min": 0,
      "orientation": "horizontal",
      "style": "IPY_MODEL_453bc96f83874a168bc03abfcd48fd00",
      "value": 50
     }
    },
    "8da6050b4b204bd5848858c4df174301": {
     "model_module": "@jupyter-widgets/base",
     "model_module_version": "1.2.0",
     "model_name": "LayoutModel",
     "state": {
      "_model_module": "@jupyter-widgets/base",
      "_model_module_version": "1.2.0",
      "_model_name": "LayoutModel",
      "_view_count": null,
      "_view_module": "@jupyter-widgets/base",
      "_view_module_version": "1.2.0",
      "_view_name": "LayoutView",
      "align_content": null,
      "align_items": null,
      "align_self": null,
      "border": null,
      "bottom": null,
      "display": null,
      "flex": null,
      "flex_flow": null,
      "grid_area": null,
      "grid_auto_columns": null,
      "grid_auto_flow": null,
      "grid_auto_rows": null,
      "grid_column": null,
      "grid_gap": null,
      "grid_row": null,
      "grid_template_areas": null,
      "grid_template_columns": null,
      "grid_template_rows": null,
      "height": null,
      "justify_content": null,
      "justify_items": null,
      "left": null,
      "margin": null,
      "max_height": null,
      "max_width": null,
      "min_height": null,
      "min_width": null,
      "object_fit": null,
      "object_position": null,
      "order": null,
      "overflow": null,
      "overflow_x": null,
      "overflow_y": null,
      "padding": null,
      "right": null,
      "top": null,
      "visibility": null,
      "width": null
     }
    },
    "8e264ce56a0146b89c1f20d5e98f382d": {
     "model_module": "@jupyter-widgets/base",
     "model_module_version": "1.2.0",
     "model_name": "LayoutModel",
     "state": {
      "_model_module": "@jupyter-widgets/base",
      "_model_module_version": "1.2.0",
      "_model_name": "LayoutModel",
      "_view_count": null,
      "_view_module": "@jupyter-widgets/base",
      "_view_module_version": "1.2.0",
      "_view_name": "LayoutView",
      "align_content": null,
      "align_items": null,
      "align_self": null,
      "border": null,
      "bottom": null,
      "display": null,
      "flex": null,
      "flex_flow": null,
      "grid_area": null,
      "grid_auto_columns": null,
      "grid_auto_flow": null,
      "grid_auto_rows": null,
      "grid_column": null,
      "grid_gap": null,
      "grid_row": null,
      "grid_template_areas": null,
      "grid_template_columns": null,
      "grid_template_rows": null,
      "height": null,
      "justify_content": null,
      "justify_items": null,
      "left": null,
      "margin": null,
      "max_height": null,
      "max_width": null,
      "min_height": null,
      "min_width": null,
      "object_fit": null,
      "object_position": null,
      "order": null,
      "overflow": null,
      "overflow_x": null,
      "overflow_y": null,
      "padding": null,
      "right": null,
      "top": null,
      "visibility": null,
      "width": null
     }
    },
    "901843c010154a459fdd41227a8c78a0": {
     "model_module": "@jupyter-widgets/controls",
     "model_module_version": "1.5.0",
     "model_name": "FloatProgressModel",
     "state": {
      "_dom_classes": [],
      "_model_module": "@jupyter-widgets/controls",
      "_model_module_version": "1.5.0",
      "_model_name": "FloatProgressModel",
      "_view_count": null,
      "_view_module": "@jupyter-widgets/controls",
      "_view_module_version": "1.5.0",
      "_view_name": "ProgressView",
      "bar_style": "success",
      "description": "100%",
      "description_tooltip": null,
      "layout": "IPY_MODEL_1c8337e020cb4135ab2fc272282f2e7c",
      "max": 50,
      "min": 0,
      "orientation": "horizontal",
      "style": "IPY_MODEL_44093c4efdf347dc8d5c11e35ef59754",
      "value": 50
     }
    },
    "9029620d160845a69b2db3059b0dea42": {
     "model_module": "@jupyter-widgets/controls",
     "model_module_version": "1.5.0",
     "model_name": "HBoxModel",
     "state": {
      "_dom_classes": [],
      "_model_module": "@jupyter-widgets/controls",
      "_model_module_version": "1.5.0",
      "_model_name": "HBoxModel",
      "_view_count": null,
      "_view_module": "@jupyter-widgets/controls",
      "_view_module_version": "1.5.0",
      "_view_name": "HBoxView",
      "box_style": "",
      "children": [
       "IPY_MODEL_f1f86e0eabb143809ebdc87a7d9a8417",
       "IPY_MODEL_f7d3d5cb0ac8425d8e9aadc38f1445d5"
      ],
      "layout": "IPY_MODEL_11b5770c254c4fc4be680a1d305a08cf"
     }
    },
    "911790620a944a0599a1a58dba32d040": {
     "model_module": "@jupyter-widgets/base",
     "model_module_version": "1.2.0",
     "model_name": "LayoutModel",
     "state": {
      "_model_module": "@jupyter-widgets/base",
      "_model_module_version": "1.2.0",
      "_model_name": "LayoutModel",
      "_view_count": null,
      "_view_module": "@jupyter-widgets/base",
      "_view_module_version": "1.2.0",
      "_view_name": "LayoutView",
      "align_content": null,
      "align_items": null,
      "align_self": null,
      "border": null,
      "bottom": null,
      "display": null,
      "flex": null,
      "flex_flow": null,
      "grid_area": null,
      "grid_auto_columns": null,
      "grid_auto_flow": null,
      "grid_auto_rows": null,
      "grid_column": null,
      "grid_gap": null,
      "grid_row": null,
      "grid_template_areas": null,
      "grid_template_columns": null,
      "grid_template_rows": null,
      "height": null,
      "justify_content": null,
      "justify_items": null,
      "left": null,
      "margin": null,
      "max_height": null,
      "max_width": null,
      "min_height": null,
      "min_width": null,
      "object_fit": null,
      "object_position": null,
      "order": null,
      "overflow": null,
      "overflow_x": null,
      "overflow_y": null,
      "padding": null,
      "right": null,
      "top": null,
      "visibility": null,
      "width": null
     }
    },
    "912c0eff6253440f845223ed6d7b0085": {
     "model_module": "@jupyter-widgets/controls",
     "model_module_version": "1.5.0",
     "model_name": "FloatProgressModel",
     "state": {
      "_dom_classes": [],
      "_model_module": "@jupyter-widgets/controls",
      "_model_module_version": "1.5.0",
      "_model_name": "FloatProgressModel",
      "_view_count": null,
      "_view_module": "@jupyter-widgets/controls",
      "_view_module_version": "1.5.0",
      "_view_name": "ProgressView",
      "bar_style": "success",
      "description": "100%",
      "description_tooltip": null,
      "layout": "IPY_MODEL_47bd4b65f79d4a9180b5c0981221f795",
      "max": 50,
      "min": 0,
      "orientation": "horizontal",
      "style": "IPY_MODEL_b11270a286ca4df386b808f33c10b7dd",
      "value": 50
     }
    },
    "92188d031f83491e9d57690937e06d02": {
     "model_module": "@jupyter-widgets/controls",
     "model_module_version": "1.5.0",
     "model_name": "FloatProgressModel",
     "state": {
      "_dom_classes": [],
      "_model_module": "@jupyter-widgets/controls",
      "_model_module_version": "1.5.0",
      "_model_name": "FloatProgressModel",
      "_view_count": null,
      "_view_module": "@jupyter-widgets/controls",
      "_view_module_version": "1.5.0",
      "_view_name": "ProgressView",
      "bar_style": "success",
      "description": "100%",
      "description_tooltip": null,
      "layout": "IPY_MODEL_7b0d5ef20f344ad9a64a1a98886ad540",
      "max": 50,
      "min": 0,
      "orientation": "horizontal",
      "style": "IPY_MODEL_de1fd09fb1b34d12a72936ea81ff684f",
      "value": 50
     }
    },
    "92cf024779c44829a560b95309c2c05b": {
     "model_module": "@jupyter-widgets/base",
     "model_module_version": "1.2.0",
     "model_name": "LayoutModel",
     "state": {
      "_model_module": "@jupyter-widgets/base",
      "_model_module_version": "1.2.0",
      "_model_name": "LayoutModel",
      "_view_count": null,
      "_view_module": "@jupyter-widgets/base",
      "_view_module_version": "1.2.0",
      "_view_name": "LayoutView",
      "align_content": null,
      "align_items": null,
      "align_self": null,
      "border": null,
      "bottom": null,
      "display": null,
      "flex": null,
      "flex_flow": null,
      "grid_area": null,
      "grid_auto_columns": null,
      "grid_auto_flow": null,
      "grid_auto_rows": null,
      "grid_column": null,
      "grid_gap": null,
      "grid_row": null,
      "grid_template_areas": null,
      "grid_template_columns": null,
      "grid_template_rows": null,
      "height": null,
      "justify_content": null,
      "justify_items": null,
      "left": null,
      "margin": null,
      "max_height": null,
      "max_width": null,
      "min_height": null,
      "min_width": null,
      "object_fit": null,
      "object_position": null,
      "order": null,
      "overflow": null,
      "overflow_x": null,
      "overflow_y": null,
      "padding": null,
      "right": null,
      "top": null,
      "visibility": null,
      "width": null
     }
    },
    "96f7597e0bcc47f890629afeeefb0ee1": {
     "model_module": "@jupyter-widgets/controls",
     "model_module_version": "1.5.0",
     "model_name": "ProgressStyleModel",
     "state": {
      "_model_module": "@jupyter-widgets/controls",
      "_model_module_version": "1.5.0",
      "_model_name": "ProgressStyleModel",
      "_view_count": null,
      "_view_module": "@jupyter-widgets/base",
      "_view_module_version": "1.2.0",
      "_view_name": "StyleView",
      "bar_color": null,
      "description_width": "initial"
     }
    },
    "97eaf07dc21847a08dc5e989b904e3cd": {
     "model_module": "@jupyter-widgets/controls",
     "model_module_version": "1.5.0",
     "model_name": "HTMLModel",
     "state": {
      "_dom_classes": [],
      "_model_module": "@jupyter-widgets/controls",
      "_model_module_version": "1.5.0",
      "_model_name": "HTMLModel",
      "_view_count": null,
      "_view_module": "@jupyter-widgets/controls",
      "_view_module_version": "1.5.0",
      "_view_name": "HTMLView",
      "description": "",
      "description_tooltip": null,
      "layout": "IPY_MODEL_6b3f919fed3346e2a629b8ad57188e6c",
      "placeholder": "​",
      "style": "IPY_MODEL_35517f4cba8b44efab01a4183a540122",
      "value": " 50/50 [00:36&lt;00:00,  1.36it/s]"
     }
    },
    "9969ffc2f42947a5adaa415e9650921b": {
     "model_module": "@jupyter-widgets/controls",
     "model_module_version": "1.5.0",
     "model_name": "FloatProgressModel",
     "state": {
      "_dom_classes": [],
      "_model_module": "@jupyter-widgets/controls",
      "_model_module_version": "1.5.0",
      "_model_name": "FloatProgressModel",
      "_view_count": null,
      "_view_module": "@jupyter-widgets/controls",
      "_view_module_version": "1.5.0",
      "_view_name": "ProgressView",
      "bar_style": "success",
      "description": "100%",
      "description_tooltip": null,
      "layout": "IPY_MODEL_5656eb2ad2694d60a7d7cc115398eb4a",
      "max": 50,
      "min": 0,
      "orientation": "horizontal",
      "style": "IPY_MODEL_f5aaa84eca2c40fdabe577dbcea174b3",
      "value": 50
     }
    },
    "9afd70a5277c4edeb9620575e71789d4": {
     "model_module": "@jupyter-widgets/base",
     "model_module_version": "1.2.0",
     "model_name": "LayoutModel",
     "state": {
      "_model_module": "@jupyter-widgets/base",
      "_model_module_version": "1.2.0",
      "_model_name": "LayoutModel",
      "_view_count": null,
      "_view_module": "@jupyter-widgets/base",
      "_view_module_version": "1.2.0",
      "_view_name": "LayoutView",
      "align_content": null,
      "align_items": null,
      "align_self": null,
      "border": null,
      "bottom": null,
      "display": null,
      "flex": null,
      "flex_flow": null,
      "grid_area": null,
      "grid_auto_columns": null,
      "grid_auto_flow": null,
      "grid_auto_rows": null,
      "grid_column": null,
      "grid_gap": null,
      "grid_row": null,
      "grid_template_areas": null,
      "grid_template_columns": null,
      "grid_template_rows": null,
      "height": null,
      "justify_content": null,
      "justify_items": null,
      "left": null,
      "margin": null,
      "max_height": null,
      "max_width": null,
      "min_height": null,
      "min_width": null,
      "object_fit": null,
      "object_position": null,
      "order": null,
      "overflow": null,
      "overflow_x": null,
      "overflow_y": null,
      "padding": null,
      "right": null,
      "top": null,
      "visibility": null,
      "width": null
     }
    },
    "9c6c293dfe4a48f3ae46e3f64da4a486": {
     "model_module": "@jupyter-widgets/base",
     "model_module_version": "1.2.0",
     "model_name": "LayoutModel",
     "state": {
      "_model_module": "@jupyter-widgets/base",
      "_model_module_version": "1.2.0",
      "_model_name": "LayoutModel",
      "_view_count": null,
      "_view_module": "@jupyter-widgets/base",
      "_view_module_version": "1.2.0",
      "_view_name": "LayoutView",
      "align_content": null,
      "align_items": null,
      "align_self": null,
      "border": null,
      "bottom": null,
      "display": null,
      "flex": null,
      "flex_flow": null,
      "grid_area": null,
      "grid_auto_columns": null,
      "grid_auto_flow": null,
      "grid_auto_rows": null,
      "grid_column": null,
      "grid_gap": null,
      "grid_row": null,
      "grid_template_areas": null,
      "grid_template_columns": null,
      "grid_template_rows": null,
      "height": null,
      "justify_content": null,
      "justify_items": null,
      "left": null,
      "margin": null,
      "max_height": null,
      "max_width": null,
      "min_height": null,
      "min_width": null,
      "object_fit": null,
      "object_position": null,
      "order": null,
      "overflow": null,
      "overflow_x": null,
      "overflow_y": null,
      "padding": null,
      "right": null,
      "top": null,
      "visibility": null,
      "width": null
     }
    },
    "a026d6aaf5914f86a12f44be17616973": {
     "model_module": "@jupyter-widgets/controls",
     "model_module_version": "1.5.0",
     "model_name": "ProgressStyleModel",
     "state": {
      "_model_module": "@jupyter-widgets/controls",
      "_model_module_version": "1.5.0",
      "_model_name": "ProgressStyleModel",
      "_view_count": null,
      "_view_module": "@jupyter-widgets/base",
      "_view_module_version": "1.2.0",
      "_view_name": "StyleView",
      "bar_color": null,
      "description_width": "initial"
     }
    },
    "a0b3a0cc0aa043c6a353f552ea93fec2": {
     "model_module": "@jupyter-widgets/controls",
     "model_module_version": "1.5.0",
     "model_name": "DescriptionStyleModel",
     "state": {
      "_model_module": "@jupyter-widgets/controls",
      "_model_module_version": "1.5.0",
      "_model_name": "DescriptionStyleModel",
      "_view_count": null,
      "_view_module": "@jupyter-widgets/base",
      "_view_module_version": "1.2.0",
      "_view_name": "StyleView",
      "description_width": ""
     }
    },
    "a0bee9b3853c4600990f501f9f7b1542": {
     "model_module": "@jupyter-widgets/base",
     "model_module_version": "1.2.0",
     "model_name": "LayoutModel",
     "state": {
      "_model_module": "@jupyter-widgets/base",
      "_model_module_version": "1.2.0",
      "_model_name": "LayoutModel",
      "_view_count": null,
      "_view_module": "@jupyter-widgets/base",
      "_view_module_version": "1.2.0",
      "_view_name": "LayoutView",
      "align_content": null,
      "align_items": null,
      "align_self": null,
      "border": null,
      "bottom": null,
      "display": null,
      "flex": null,
      "flex_flow": null,
      "grid_area": null,
      "grid_auto_columns": null,
      "grid_auto_flow": null,
      "grid_auto_rows": null,
      "grid_column": null,
      "grid_gap": null,
      "grid_row": null,
      "grid_template_areas": null,
      "grid_template_columns": null,
      "grid_template_rows": null,
      "height": null,
      "justify_content": null,
      "justify_items": null,
      "left": null,
      "margin": null,
      "max_height": null,
      "max_width": null,
      "min_height": null,
      "min_width": null,
      "object_fit": null,
      "object_position": null,
      "order": null,
      "overflow": null,
      "overflow_x": null,
      "overflow_y": null,
      "padding": null,
      "right": null,
      "top": null,
      "visibility": null,
      "width": null
     }
    },
    "a118383ffb3246ca84ae82ca7da1846d": {
     "model_module": "@jupyter-widgets/controls",
     "model_module_version": "1.5.0",
     "model_name": "ProgressStyleModel",
     "state": {
      "_model_module": "@jupyter-widgets/controls",
      "_model_module_version": "1.5.0",
      "_model_name": "ProgressStyleModel",
      "_view_count": null,
      "_view_module": "@jupyter-widgets/base",
      "_view_module_version": "1.2.0",
      "_view_name": "StyleView",
      "bar_color": null,
      "description_width": "initial"
     }
    },
    "a2e4e622c1a343c4b03ffab6cd157b6d": {
     "model_module": "@jupyter-widgets/base",
     "model_module_version": "1.2.0",
     "model_name": "LayoutModel",
     "state": {
      "_model_module": "@jupyter-widgets/base",
      "_model_module_version": "1.2.0",
      "_model_name": "LayoutModel",
      "_view_count": null,
      "_view_module": "@jupyter-widgets/base",
      "_view_module_version": "1.2.0",
      "_view_name": "LayoutView",
      "align_content": null,
      "align_items": null,
      "align_self": null,
      "border": null,
      "bottom": null,
      "display": null,
      "flex": null,
      "flex_flow": null,
      "grid_area": null,
      "grid_auto_columns": null,
      "grid_auto_flow": null,
      "grid_auto_rows": null,
      "grid_column": null,
      "grid_gap": null,
      "grid_row": null,
      "grid_template_areas": null,
      "grid_template_columns": null,
      "grid_template_rows": null,
      "height": null,
      "justify_content": null,
      "justify_items": null,
      "left": null,
      "margin": null,
      "max_height": null,
      "max_width": null,
      "min_height": null,
      "min_width": null,
      "object_fit": null,
      "object_position": null,
      "order": null,
      "overflow": null,
      "overflow_x": null,
      "overflow_y": null,
      "padding": null,
      "right": null,
      "top": null,
      "visibility": null,
      "width": null
     }
    },
    "a5be4ad567df47f6b8bd9d47793cefe5": {
     "model_module": "@jupyter-widgets/controls",
     "model_module_version": "1.5.0",
     "model_name": "ProgressStyleModel",
     "state": {
      "_model_module": "@jupyter-widgets/controls",
      "_model_module_version": "1.5.0",
      "_model_name": "ProgressStyleModel",
      "_view_count": null,
      "_view_module": "@jupyter-widgets/base",
      "_view_module_version": "1.2.0",
      "_view_name": "StyleView",
      "bar_color": null,
      "description_width": "initial"
     }
    },
    "a7b74ffd80f14ef99cf00d47971ba7e2": {
     "model_module": "@jupyter-widgets/controls",
     "model_module_version": "1.5.0",
     "model_name": "HBoxModel",
     "state": {
      "_dom_classes": [],
      "_model_module": "@jupyter-widgets/controls",
      "_model_module_version": "1.5.0",
      "_model_name": "HBoxModel",
      "_view_count": null,
      "_view_module": "@jupyter-widgets/controls",
      "_view_module_version": "1.5.0",
      "_view_name": "HBoxView",
      "box_style": "",
      "children": [
       "IPY_MODEL_4128f1de9d1a4fd99d7fa6dad98a0301",
       "IPY_MODEL_c512fb7d46db4e7d9f19e8dd0f95eab0"
      ],
      "layout": "IPY_MODEL_911790620a944a0599a1a58dba32d040"
     }
    },
    "a8b93651a8a94cbabfbe63971dc5d178": {
     "model_module": "@jupyter-widgets/controls",
     "model_module_version": "1.5.0",
     "model_name": "HTMLModel",
     "state": {
      "_dom_classes": [],
      "_model_module": "@jupyter-widgets/controls",
      "_model_module_version": "1.5.0",
      "_model_name": "HTMLModel",
      "_view_count": null,
      "_view_module": "@jupyter-widgets/controls",
      "_view_module_version": "1.5.0",
      "_view_name": "HTMLView",
      "description": "",
      "description_tooltip": null,
      "layout": "IPY_MODEL_b0b6a83f3ffb4cd7b5fedeb971882a5d",
      "placeholder": "​",
      "style": "IPY_MODEL_e6a28bd8abf74c03af008171e881b358",
      "value": " 50/50 [00:05&lt;00:00,  9.13it/s]"
     }
    },
    "a9538cf423f54627910edc7d27a14d83": {
     "model_module": "@jupyter-widgets/controls",
     "model_module_version": "1.5.0",
     "model_name": "FloatProgressModel",
     "state": {
      "_dom_classes": [],
      "_model_module": "@jupyter-widgets/controls",
      "_model_module_version": "1.5.0",
      "_model_name": "FloatProgressModel",
      "_view_count": null,
      "_view_module": "@jupyter-widgets/controls",
      "_view_module_version": "1.5.0",
      "_view_name": "ProgressView",
      "bar_style": "success",
      "description": "100%",
      "description_tooltip": null,
      "layout": "IPY_MODEL_380decc0ee7740afb62d1e6b89930520",
      "max": 50,
      "min": 0,
      "orientation": "horizontal",
      "style": "IPY_MODEL_3128c81074e34c418d89b5debdf99db6",
      "value": 50
     }
    },
    "aaf993bcbfee4c33935c6a1027e848f7": {
     "model_module": "@jupyter-widgets/base",
     "model_module_version": "1.2.0",
     "model_name": "LayoutModel",
     "state": {
      "_model_module": "@jupyter-widgets/base",
      "_model_module_version": "1.2.0",
      "_model_name": "LayoutModel",
      "_view_count": null,
      "_view_module": "@jupyter-widgets/base",
      "_view_module_version": "1.2.0",
      "_view_name": "LayoutView",
      "align_content": null,
      "align_items": null,
      "align_self": null,
      "border": null,
      "bottom": null,
      "display": null,
      "flex": null,
      "flex_flow": null,
      "grid_area": null,
      "grid_auto_columns": null,
      "grid_auto_flow": null,
      "grid_auto_rows": null,
      "grid_column": null,
      "grid_gap": null,
      "grid_row": null,
      "grid_template_areas": null,
      "grid_template_columns": null,
      "grid_template_rows": null,
      "height": null,
      "justify_content": null,
      "justify_items": null,
      "left": null,
      "margin": null,
      "max_height": null,
      "max_width": null,
      "min_height": null,
      "min_width": null,
      "object_fit": null,
      "object_position": null,
      "order": null,
      "overflow": null,
      "overflow_x": null,
      "overflow_y": null,
      "padding": null,
      "right": null,
      "top": null,
      "visibility": null,
      "width": null
     }
    },
    "ab239c9d1a5440e6badeb1577e946b64": {
     "model_module": "@jupyter-widgets/controls",
     "model_module_version": "1.5.0",
     "model_name": "HBoxModel",
     "state": {
      "_dom_classes": [],
      "_model_module": "@jupyter-widgets/controls",
      "_model_module_version": "1.5.0",
      "_model_name": "HBoxModel",
      "_view_count": null,
      "_view_module": "@jupyter-widgets/controls",
      "_view_module_version": "1.5.0",
      "_view_name": "HBoxView",
      "box_style": "",
      "children": [
       "IPY_MODEL_5f6b2fb636b043f388e99a8bf30f68de",
       "IPY_MODEL_97eaf07dc21847a08dc5e989b904e3cd"
      ],
      "layout": "IPY_MODEL_79b70f9ca4a14ebfa0d4f887c498aa37"
     }
    },
    "ae46d1de3991468a811904516cf423e6": {
     "model_module": "@jupyter-widgets/controls",
     "model_module_version": "1.5.0",
     "model_name": "HTMLModel",
     "state": {
      "_dom_classes": [],
      "_model_module": "@jupyter-widgets/controls",
      "_model_module_version": "1.5.0",
      "_model_name": "HTMLModel",
      "_view_count": null,
      "_view_module": "@jupyter-widgets/controls",
      "_view_module_version": "1.5.0",
      "_view_name": "HTMLView",
      "description": "",
      "description_tooltip": null,
      "layout": "IPY_MODEL_be1b875ad6884de78f6ec1b5a4be0dcf",
      "placeholder": "​",
      "style": "IPY_MODEL_b48bf33067bc43dfad059a778bb3ca51",
      "value": " 50/50 [00:29&lt;00:00,  1.71it/s]"
     }
    },
    "afc116379c1345bf910c6bca24d3d31d": {
     "model_module": "@jupyter-widgets/controls",
     "model_module_version": "1.5.0",
     "model_name": "FloatProgressModel",
     "state": {
      "_dom_classes": [],
      "_model_module": "@jupyter-widgets/controls",
      "_model_module_version": "1.5.0",
      "_model_name": "FloatProgressModel",
      "_view_count": null,
      "_view_module": "@jupyter-widgets/controls",
      "_view_module_version": "1.5.0",
      "_view_name": "ProgressView",
      "bar_style": "success",
      "description": "100%",
      "description_tooltip": null,
      "layout": "IPY_MODEL_7aa9fc490ea049fbad57aefac1f61f96",
      "max": 50,
      "min": 0,
      "orientation": "horizontal",
      "style": "IPY_MODEL_2d659eeb48444615bd27584696778823",
      "value": 50
     }
    },
    "b068c98512cd4470bfb3550fc083e91e": {
     "model_module": "@jupyter-widgets/controls",
     "model_module_version": "1.5.0",
     "model_name": "FloatProgressModel",
     "state": {
      "_dom_classes": [],
      "_model_module": "@jupyter-widgets/controls",
      "_model_module_version": "1.5.0",
      "_model_name": "FloatProgressModel",
      "_view_count": null,
      "_view_module": "@jupyter-widgets/controls",
      "_view_module_version": "1.5.0",
      "_view_name": "ProgressView",
      "bar_style": "success",
      "description": "100%",
      "description_tooltip": null,
      "layout": "IPY_MODEL_10129a108c7248fb8c1c0780c6101a38",
      "max": 50,
      "min": 0,
      "orientation": "horizontal",
      "style": "IPY_MODEL_3d06886a3c554166a3e3608f8ea8d6a3",
      "value": 50
     }
    },
    "b0b6a83f3ffb4cd7b5fedeb971882a5d": {
     "model_module": "@jupyter-widgets/base",
     "model_module_version": "1.2.0",
     "model_name": "LayoutModel",
     "state": {
      "_model_module": "@jupyter-widgets/base",
      "_model_module_version": "1.2.0",
      "_model_name": "LayoutModel",
      "_view_count": null,
      "_view_module": "@jupyter-widgets/base",
      "_view_module_version": "1.2.0",
      "_view_name": "LayoutView",
      "align_content": null,
      "align_items": null,
      "align_self": null,
      "border": null,
      "bottom": null,
      "display": null,
      "flex": null,
      "flex_flow": null,
      "grid_area": null,
      "grid_auto_columns": null,
      "grid_auto_flow": null,
      "grid_auto_rows": null,
      "grid_column": null,
      "grid_gap": null,
      "grid_row": null,
      "grid_template_areas": null,
      "grid_template_columns": null,
      "grid_template_rows": null,
      "height": null,
      "justify_content": null,
      "justify_items": null,
      "left": null,
      "margin": null,
      "max_height": null,
      "max_width": null,
      "min_height": null,
      "min_width": null,
      "object_fit": null,
      "object_position": null,
      "order": null,
      "overflow": null,
      "overflow_x": null,
      "overflow_y": null,
      "padding": null,
      "right": null,
      "top": null,
      "visibility": null,
      "width": null
     }
    },
    "b11270a286ca4df386b808f33c10b7dd": {
     "model_module": "@jupyter-widgets/controls",
     "model_module_version": "1.5.0",
     "model_name": "ProgressStyleModel",
     "state": {
      "_model_module": "@jupyter-widgets/controls",
      "_model_module_version": "1.5.0",
      "_model_name": "ProgressStyleModel",
      "_view_count": null,
      "_view_module": "@jupyter-widgets/base",
      "_view_module_version": "1.2.0",
      "_view_name": "StyleView",
      "bar_color": null,
      "description_width": "initial"
     }
    },
    "b29addd8b26342ef820b87ba5f12c75c": {
     "model_module": "@jupyter-widgets/base",
     "model_module_version": "1.2.0",
     "model_name": "LayoutModel",
     "state": {
      "_model_module": "@jupyter-widgets/base",
      "_model_module_version": "1.2.0",
      "_model_name": "LayoutModel",
      "_view_count": null,
      "_view_module": "@jupyter-widgets/base",
      "_view_module_version": "1.2.0",
      "_view_name": "LayoutView",
      "align_content": null,
      "align_items": null,
      "align_self": null,
      "border": null,
      "bottom": null,
      "display": null,
      "flex": null,
      "flex_flow": null,
      "grid_area": null,
      "grid_auto_columns": null,
      "grid_auto_flow": null,
      "grid_auto_rows": null,
      "grid_column": null,
      "grid_gap": null,
      "grid_row": null,
      "grid_template_areas": null,
      "grid_template_columns": null,
      "grid_template_rows": null,
      "height": null,
      "justify_content": null,
      "justify_items": null,
      "left": null,
      "margin": null,
      "max_height": null,
      "max_width": null,
      "min_height": null,
      "min_width": null,
      "object_fit": null,
      "object_position": null,
      "order": null,
      "overflow": null,
      "overflow_x": null,
      "overflow_y": null,
      "padding": null,
      "right": null,
      "top": null,
      "visibility": null,
      "width": null
     }
    },
    "b2f5cf2503104d6e83e22cf145c6b60d": {
     "model_module": "@jupyter-widgets/base",
     "model_module_version": "1.2.0",
     "model_name": "LayoutModel",
     "state": {
      "_model_module": "@jupyter-widgets/base",
      "_model_module_version": "1.2.0",
      "_model_name": "LayoutModel",
      "_view_count": null,
      "_view_module": "@jupyter-widgets/base",
      "_view_module_version": "1.2.0",
      "_view_name": "LayoutView",
      "align_content": null,
      "align_items": null,
      "align_self": null,
      "border": null,
      "bottom": null,
      "display": null,
      "flex": null,
      "flex_flow": null,
      "grid_area": null,
      "grid_auto_columns": null,
      "grid_auto_flow": null,
      "grid_auto_rows": null,
      "grid_column": null,
      "grid_gap": null,
      "grid_row": null,
      "grid_template_areas": null,
      "grid_template_columns": null,
      "grid_template_rows": null,
      "height": null,
      "justify_content": null,
      "justify_items": null,
      "left": null,
      "margin": null,
      "max_height": null,
      "max_width": null,
      "min_height": null,
      "min_width": null,
      "object_fit": null,
      "object_position": null,
      "order": null,
      "overflow": null,
      "overflow_x": null,
      "overflow_y": null,
      "padding": null,
      "right": null,
      "top": null,
      "visibility": null,
      "width": null
     }
    },
    "b48bf33067bc43dfad059a778bb3ca51": {
     "model_module": "@jupyter-widgets/controls",
     "model_module_version": "1.5.0",
     "model_name": "DescriptionStyleModel",
     "state": {
      "_model_module": "@jupyter-widgets/controls",
      "_model_module_version": "1.5.0",
      "_model_name": "DescriptionStyleModel",
      "_view_count": null,
      "_view_module": "@jupyter-widgets/base",
      "_view_module_version": "1.2.0",
      "_view_name": "StyleView",
      "description_width": ""
     }
    },
    "b492d93514504aefb70ce50c1328874c": {
     "model_module": "@jupyter-widgets/controls",
     "model_module_version": "1.5.0",
     "model_name": "HBoxModel",
     "state": {
      "_dom_classes": [],
      "_model_module": "@jupyter-widgets/controls",
      "_model_module_version": "1.5.0",
      "_model_name": "HBoxModel",
      "_view_count": null,
      "_view_module": "@jupyter-widgets/controls",
      "_view_module_version": "1.5.0",
      "_view_name": "HBoxView",
      "box_style": "",
      "children": [
       "IPY_MODEL_cf2c0fa531e349869f8b777ef5ba406b",
       "IPY_MODEL_b85c580f9954485c9891917d69546a96"
      ],
      "layout": "IPY_MODEL_202cd0fcd8cd4b9aa5ebc95527c5e392"
     }
    },
    "b85c580f9954485c9891917d69546a96": {
     "model_module": "@jupyter-widgets/controls",
     "model_module_version": "1.5.0",
     "model_name": "HTMLModel",
     "state": {
      "_dom_classes": [],
      "_model_module": "@jupyter-widgets/controls",
      "_model_module_version": "1.5.0",
      "_model_name": "HTMLModel",
      "_view_count": null,
      "_view_module": "@jupyter-widgets/controls",
      "_view_module_version": "1.5.0",
      "_view_name": "HTMLView",
      "description": "",
      "description_tooltip": null,
      "layout": "IPY_MODEL_bbd2c5055f734bd28533cdb14556fcaa",
      "placeholder": "​",
      "style": "IPY_MODEL_a0b3a0cc0aa043c6a353f552ea93fec2",
      "value": " 50/50 [00:05&lt;00:00,  9.07it/s]"
     }
    },
    "ba67e86997774531a2cf50fed52f037d": {
     "model_module": "@jupyter-widgets/controls",
     "model_module_version": "1.5.0",
     "model_name": "DescriptionStyleModel",
     "state": {
      "_model_module": "@jupyter-widgets/controls",
      "_model_module_version": "1.5.0",
      "_model_name": "DescriptionStyleModel",
      "_view_count": null,
      "_view_module": "@jupyter-widgets/base",
      "_view_module_version": "1.2.0",
      "_view_name": "StyleView",
      "description_width": ""
     }
    },
    "baa98ddd6a174185afa844575208afc1": {
     "model_module": "@jupyter-widgets/base",
     "model_module_version": "1.2.0",
     "model_name": "LayoutModel",
     "state": {
      "_model_module": "@jupyter-widgets/base",
      "_model_module_version": "1.2.0",
      "_model_name": "LayoutModel",
      "_view_count": null,
      "_view_module": "@jupyter-widgets/base",
      "_view_module_version": "1.2.0",
      "_view_name": "LayoutView",
      "align_content": null,
      "align_items": null,
      "align_self": null,
      "border": null,
      "bottom": null,
      "display": null,
      "flex": null,
      "flex_flow": null,
      "grid_area": null,
      "grid_auto_columns": null,
      "grid_auto_flow": null,
      "grid_auto_rows": null,
      "grid_column": null,
      "grid_gap": null,
      "grid_row": null,
      "grid_template_areas": null,
      "grid_template_columns": null,
      "grid_template_rows": null,
      "height": null,
      "justify_content": null,
      "justify_items": null,
      "left": null,
      "margin": null,
      "max_height": null,
      "max_width": null,
      "min_height": null,
      "min_width": null,
      "object_fit": null,
      "object_position": null,
      "order": null,
      "overflow": null,
      "overflow_x": null,
      "overflow_y": null,
      "padding": null,
      "right": null,
      "top": null,
      "visibility": null,
      "width": null
     }
    },
    "bbd2c5055f734bd28533cdb14556fcaa": {
     "model_module": "@jupyter-widgets/base",
     "model_module_version": "1.2.0",
     "model_name": "LayoutModel",
     "state": {
      "_model_module": "@jupyter-widgets/base",
      "_model_module_version": "1.2.0",
      "_model_name": "LayoutModel",
      "_view_count": null,
      "_view_module": "@jupyter-widgets/base",
      "_view_module_version": "1.2.0",
      "_view_name": "LayoutView",
      "align_content": null,
      "align_items": null,
      "align_self": null,
      "border": null,
      "bottom": null,
      "display": null,
      "flex": null,
      "flex_flow": null,
      "grid_area": null,
      "grid_auto_columns": null,
      "grid_auto_flow": null,
      "grid_auto_rows": null,
      "grid_column": null,
      "grid_gap": null,
      "grid_row": null,
      "grid_template_areas": null,
      "grid_template_columns": null,
      "grid_template_rows": null,
      "height": null,
      "justify_content": null,
      "justify_items": null,
      "left": null,
      "margin": null,
      "max_height": null,
      "max_width": null,
      "min_height": null,
      "min_width": null,
      "object_fit": null,
      "object_position": null,
      "order": null,
      "overflow": null,
      "overflow_x": null,
      "overflow_y": null,
      "padding": null,
      "right": null,
      "top": null,
      "visibility": null,
      "width": null
     }
    },
    "bbd78d059d0e4b788411461ae910597e": {
     "model_module": "@jupyter-widgets/base",
     "model_module_version": "1.2.0",
     "model_name": "LayoutModel",
     "state": {
      "_model_module": "@jupyter-widgets/base",
      "_model_module_version": "1.2.0",
      "_model_name": "LayoutModel",
      "_view_count": null,
      "_view_module": "@jupyter-widgets/base",
      "_view_module_version": "1.2.0",
      "_view_name": "LayoutView",
      "align_content": null,
      "align_items": null,
      "align_self": null,
      "border": null,
      "bottom": null,
      "display": null,
      "flex": null,
      "flex_flow": null,
      "grid_area": null,
      "grid_auto_columns": null,
      "grid_auto_flow": null,
      "grid_auto_rows": null,
      "grid_column": null,
      "grid_gap": null,
      "grid_row": null,
      "grid_template_areas": null,
      "grid_template_columns": null,
      "grid_template_rows": null,
      "height": null,
      "justify_content": null,
      "justify_items": null,
      "left": null,
      "margin": null,
      "max_height": null,
      "max_width": null,
      "min_height": null,
      "min_width": null,
      "object_fit": null,
      "object_position": null,
      "order": null,
      "overflow": null,
      "overflow_x": null,
      "overflow_y": null,
      "padding": null,
      "right": null,
      "top": null,
      "visibility": null,
      "width": null
     }
    },
    "bd47fe06ecdb46acb29d2f497ca9bd3f": {
     "model_module": "@jupyter-widgets/base",
     "model_module_version": "1.2.0",
     "model_name": "LayoutModel",
     "state": {
      "_model_module": "@jupyter-widgets/base",
      "_model_module_version": "1.2.0",
      "_model_name": "LayoutModel",
      "_view_count": null,
      "_view_module": "@jupyter-widgets/base",
      "_view_module_version": "1.2.0",
      "_view_name": "LayoutView",
      "align_content": null,
      "align_items": null,
      "align_self": null,
      "border": null,
      "bottom": null,
      "display": null,
      "flex": null,
      "flex_flow": null,
      "grid_area": null,
      "grid_auto_columns": null,
      "grid_auto_flow": null,
      "grid_auto_rows": null,
      "grid_column": null,
      "grid_gap": null,
      "grid_row": null,
      "grid_template_areas": null,
      "grid_template_columns": null,
      "grid_template_rows": null,
      "height": null,
      "justify_content": null,
      "justify_items": null,
      "left": null,
      "margin": null,
      "max_height": null,
      "max_width": null,
      "min_height": null,
      "min_width": null,
      "object_fit": null,
      "object_position": null,
      "order": null,
      "overflow": null,
      "overflow_x": null,
      "overflow_y": null,
      "padding": null,
      "right": null,
      "top": null,
      "visibility": null,
      "width": null
     }
    },
    "be1b875ad6884de78f6ec1b5a4be0dcf": {
     "model_module": "@jupyter-widgets/base",
     "model_module_version": "1.2.0",
     "model_name": "LayoutModel",
     "state": {
      "_model_module": "@jupyter-widgets/base",
      "_model_module_version": "1.2.0",
      "_model_name": "LayoutModel",
      "_view_count": null,
      "_view_module": "@jupyter-widgets/base",
      "_view_module_version": "1.2.0",
      "_view_name": "LayoutView",
      "align_content": null,
      "align_items": null,
      "align_self": null,
      "border": null,
      "bottom": null,
      "display": null,
      "flex": null,
      "flex_flow": null,
      "grid_area": null,
      "grid_auto_columns": null,
      "grid_auto_flow": null,
      "grid_auto_rows": null,
      "grid_column": null,
      "grid_gap": null,
      "grid_row": null,
      "grid_template_areas": null,
      "grid_template_columns": null,
      "grid_template_rows": null,
      "height": null,
      "justify_content": null,
      "justify_items": null,
      "left": null,
      "margin": null,
      "max_height": null,
      "max_width": null,
      "min_height": null,
      "min_width": null,
      "object_fit": null,
      "object_position": null,
      "order": null,
      "overflow": null,
      "overflow_x": null,
      "overflow_y": null,
      "padding": null,
      "right": null,
      "top": null,
      "visibility": null,
      "width": null
     }
    },
    "be9ac5b20f1643ca884ce45160650602": {
     "model_module": "@jupyter-widgets/controls",
     "model_module_version": "1.5.0",
     "model_name": "DescriptionStyleModel",
     "state": {
      "_model_module": "@jupyter-widgets/controls",
      "_model_module_version": "1.5.0",
      "_model_name": "DescriptionStyleModel",
      "_view_count": null,
      "_view_module": "@jupyter-widgets/base",
      "_view_module_version": "1.2.0",
      "_view_name": "StyleView",
      "description_width": ""
     }
    },
    "bfa12e2110c2402a9485a98accb55931": {
     "model_module": "@jupyter-widgets/base",
     "model_module_version": "1.2.0",
     "model_name": "LayoutModel",
     "state": {
      "_model_module": "@jupyter-widgets/base",
      "_model_module_version": "1.2.0",
      "_model_name": "LayoutModel",
      "_view_count": null,
      "_view_module": "@jupyter-widgets/base",
      "_view_module_version": "1.2.0",
      "_view_name": "LayoutView",
      "align_content": null,
      "align_items": null,
      "align_self": null,
      "border": null,
      "bottom": null,
      "display": null,
      "flex": null,
      "flex_flow": null,
      "grid_area": null,
      "grid_auto_columns": null,
      "grid_auto_flow": null,
      "grid_auto_rows": null,
      "grid_column": null,
      "grid_gap": null,
      "grid_row": null,
      "grid_template_areas": null,
      "grid_template_columns": null,
      "grid_template_rows": null,
      "height": null,
      "justify_content": null,
      "justify_items": null,
      "left": null,
      "margin": null,
      "max_height": null,
      "max_width": null,
      "min_height": null,
      "min_width": null,
      "object_fit": null,
      "object_position": null,
      "order": null,
      "overflow": null,
      "overflow_x": null,
      "overflow_y": null,
      "padding": null,
      "right": null,
      "top": null,
      "visibility": null,
      "width": null
     }
    },
    "c1f07312a92848979b6af7a5b5da5187": {
     "model_module": "@jupyter-widgets/controls",
     "model_module_version": "1.5.0",
     "model_name": "HBoxModel",
     "state": {
      "_dom_classes": [],
      "_model_module": "@jupyter-widgets/controls",
      "_model_module_version": "1.5.0",
      "_model_name": "HBoxModel",
      "_view_count": null,
      "_view_module": "@jupyter-widgets/controls",
      "_view_module_version": "1.5.0",
      "_view_name": "HBoxView",
      "box_style": "",
      "children": [
       "IPY_MODEL_173912c55f064e50bd74887dcb51e94e",
       "IPY_MODEL_ae46d1de3991468a811904516cf423e6"
      ],
      "layout": "IPY_MODEL_92cf024779c44829a560b95309c2c05b"
     }
    },
    "c35075574db54243876a93894427fc30": {
     "model_module": "@jupyter-widgets/controls",
     "model_module_version": "1.5.0",
     "model_name": "HBoxModel",
     "state": {
      "_dom_classes": [],
      "_model_module": "@jupyter-widgets/controls",
      "_model_module_version": "1.5.0",
      "_model_name": "HBoxModel",
      "_view_count": null,
      "_view_module": "@jupyter-widgets/controls",
      "_view_module_version": "1.5.0",
      "_view_name": "HBoxView",
      "box_style": "",
      "children": [
       "IPY_MODEL_b068c98512cd4470bfb3550fc083e91e",
       "IPY_MODEL_1a1fbb26f9a6456db7eb26f9f38bae4c"
      ],
      "layout": "IPY_MODEL_aaf993bcbfee4c33935c6a1027e848f7"
     }
    },
    "c512fb7d46db4e7d9f19e8dd0f95eab0": {
     "model_module": "@jupyter-widgets/controls",
     "model_module_version": "1.5.0",
     "model_name": "HTMLModel",
     "state": {
      "_dom_classes": [],
      "_model_module": "@jupyter-widgets/controls",
      "_model_module_version": "1.5.0",
      "_model_name": "HTMLModel",
      "_view_count": null,
      "_view_module": "@jupyter-widgets/controls",
      "_view_module_version": "1.5.0",
      "_view_name": "HTMLView",
      "description": "",
      "description_tooltip": null,
      "layout": "IPY_MODEL_3ca8cc61a0a44d33afa6b03079a2daf9",
      "placeholder": "​",
      "style": "IPY_MODEL_be9ac5b20f1643ca884ce45160650602",
      "value": " 50/50 [00:05&lt;00:00,  9.56it/s]"
     }
    },
    "c58d51487da940399f630e068245f6e3": {
     "model_module": "@jupyter-widgets/base",
     "model_module_version": "1.2.0",
     "model_name": "LayoutModel",
     "state": {
      "_model_module": "@jupyter-widgets/base",
      "_model_module_version": "1.2.0",
      "_model_name": "LayoutModel",
      "_view_count": null,
      "_view_module": "@jupyter-widgets/base",
      "_view_module_version": "1.2.0",
      "_view_name": "LayoutView",
      "align_content": null,
      "align_items": null,
      "align_self": null,
      "border": null,
      "bottom": null,
      "display": null,
      "flex": null,
      "flex_flow": null,
      "grid_area": null,
      "grid_auto_columns": null,
      "grid_auto_flow": null,
      "grid_auto_rows": null,
      "grid_column": null,
      "grid_gap": null,
      "grid_row": null,
      "grid_template_areas": null,
      "grid_template_columns": null,
      "grid_template_rows": null,
      "height": null,
      "justify_content": null,
      "justify_items": null,
      "left": null,
      "margin": null,
      "max_height": null,
      "max_width": null,
      "min_height": null,
      "min_width": null,
      "object_fit": null,
      "object_position": null,
      "order": null,
      "overflow": null,
      "overflow_x": null,
      "overflow_y": null,
      "padding": null,
      "right": null,
      "top": null,
      "visibility": null,
      "width": null
     }
    },
    "ca8a049e7e1e480fa4108bf207070b6e": {
     "model_module": "@jupyter-widgets/base",
     "model_module_version": "1.2.0",
     "model_name": "LayoutModel",
     "state": {
      "_model_module": "@jupyter-widgets/base",
      "_model_module_version": "1.2.0",
      "_model_name": "LayoutModel",
      "_view_count": null,
      "_view_module": "@jupyter-widgets/base",
      "_view_module_version": "1.2.0",
      "_view_name": "LayoutView",
      "align_content": null,
      "align_items": null,
      "align_self": null,
      "border": null,
      "bottom": null,
      "display": null,
      "flex": null,
      "flex_flow": null,
      "grid_area": null,
      "grid_auto_columns": null,
      "grid_auto_flow": null,
      "grid_auto_rows": null,
      "grid_column": null,
      "grid_gap": null,
      "grid_row": null,
      "grid_template_areas": null,
      "grid_template_columns": null,
      "grid_template_rows": null,
      "height": null,
      "justify_content": null,
      "justify_items": null,
      "left": null,
      "margin": null,
      "max_height": null,
      "max_width": null,
      "min_height": null,
      "min_width": null,
      "object_fit": null,
      "object_position": null,
      "order": null,
      "overflow": null,
      "overflow_x": null,
      "overflow_y": null,
      "padding": null,
      "right": null,
      "top": null,
      "visibility": null,
      "width": null
     }
    },
    "cb09577be4af48668909cb2c753e3d6d": {
     "model_module": "@jupyter-widgets/base",
     "model_module_version": "1.2.0",
     "model_name": "LayoutModel",
     "state": {
      "_model_module": "@jupyter-widgets/base",
      "_model_module_version": "1.2.0",
      "_model_name": "LayoutModel",
      "_view_count": null,
      "_view_module": "@jupyter-widgets/base",
      "_view_module_version": "1.2.0",
      "_view_name": "LayoutView",
      "align_content": null,
      "align_items": null,
      "align_self": null,
      "border": null,
      "bottom": null,
      "display": null,
      "flex": null,
      "flex_flow": null,
      "grid_area": null,
      "grid_auto_columns": null,
      "grid_auto_flow": null,
      "grid_auto_rows": null,
      "grid_column": null,
      "grid_gap": null,
      "grid_row": null,
      "grid_template_areas": null,
      "grid_template_columns": null,
      "grid_template_rows": null,
      "height": null,
      "justify_content": null,
      "justify_items": null,
      "left": null,
      "margin": null,
      "max_height": null,
      "max_width": null,
      "min_height": null,
      "min_width": null,
      "object_fit": null,
      "object_position": null,
      "order": null,
      "overflow": null,
      "overflow_x": null,
      "overflow_y": null,
      "padding": null,
      "right": null,
      "top": null,
      "visibility": null,
      "width": null
     }
    },
    "cb94c5f6b6fc406fb7cc7b697b1ee5f1": {
     "model_module": "@jupyter-widgets/controls",
     "model_module_version": "1.5.0",
     "model_name": "DescriptionStyleModel",
     "state": {
      "_model_module": "@jupyter-widgets/controls",
      "_model_module_version": "1.5.0",
      "_model_name": "DescriptionStyleModel",
      "_view_count": null,
      "_view_module": "@jupyter-widgets/base",
      "_view_module_version": "1.2.0",
      "_view_name": "StyleView",
      "description_width": ""
     }
    },
    "cf2c0fa531e349869f8b777ef5ba406b": {
     "model_module": "@jupyter-widgets/controls",
     "model_module_version": "1.5.0",
     "model_name": "FloatProgressModel",
     "state": {
      "_dom_classes": [],
      "_model_module": "@jupyter-widgets/controls",
      "_model_module_version": "1.5.0",
      "_model_name": "FloatProgressModel",
      "_view_count": null,
      "_view_module": "@jupyter-widgets/controls",
      "_view_module_version": "1.5.0",
      "_view_name": "ProgressView",
      "bar_style": "success",
      "description": "100%",
      "description_tooltip": null,
      "layout": "IPY_MODEL_7d33114ffb8e4d548840b2cfef1f1b3a",
      "max": 50,
      "min": 0,
      "orientation": "horizontal",
      "style": "IPY_MODEL_96f7597e0bcc47f890629afeeefb0ee1",
      "value": 50
     }
    },
    "d0bfc7d5de8544a59e4a1549cd1994d8": {
     "model_module": "@jupyter-widgets/controls",
     "model_module_version": "1.5.0",
     "model_name": "FloatProgressModel",
     "state": {
      "_dom_classes": [],
      "_model_module": "@jupyter-widgets/controls",
      "_model_module_version": "1.5.0",
      "_model_name": "FloatProgressModel",
      "_view_count": null,
      "_view_module": "@jupyter-widgets/controls",
      "_view_module_version": "1.5.0",
      "_view_name": "ProgressView",
      "bar_style": "success",
      "description": "100%",
      "description_tooltip": null,
      "layout": "IPY_MODEL_0fc7ece66c9d4b35a37d8ee524975fc8",
      "max": 50,
      "min": 0,
      "orientation": "horizontal",
      "style": "IPY_MODEL_a5be4ad567df47f6b8bd9d47793cefe5",
      "value": 50
     }
    },
    "d39121f4c9fb4d259aa75aaaa58ad761": {
     "model_module": "@jupyter-widgets/base",
     "model_module_version": "1.2.0",
     "model_name": "LayoutModel",
     "state": {
      "_model_module": "@jupyter-widgets/base",
      "_model_module_version": "1.2.0",
      "_model_name": "LayoutModel",
      "_view_count": null,
      "_view_module": "@jupyter-widgets/base",
      "_view_module_version": "1.2.0",
      "_view_name": "LayoutView",
      "align_content": null,
      "align_items": null,
      "align_self": null,
      "border": null,
      "bottom": null,
      "display": null,
      "flex": null,
      "flex_flow": null,
      "grid_area": null,
      "grid_auto_columns": null,
      "grid_auto_flow": null,
      "grid_auto_rows": null,
      "grid_column": null,
      "grid_gap": null,
      "grid_row": null,
      "grid_template_areas": null,
      "grid_template_columns": null,
      "grid_template_rows": null,
      "height": null,
      "justify_content": null,
      "justify_items": null,
      "left": null,
      "margin": null,
      "max_height": null,
      "max_width": null,
      "min_height": null,
      "min_width": null,
      "object_fit": null,
      "object_position": null,
      "order": null,
      "overflow": null,
      "overflow_x": null,
      "overflow_y": null,
      "padding": null,
      "right": null,
      "top": null,
      "visibility": null,
      "width": null
     }
    },
    "d3a5d7656a4c499999b79e5341a8fec1": {
     "model_module": "@jupyter-widgets/controls",
     "model_module_version": "1.5.0",
     "model_name": "DescriptionStyleModel",
     "state": {
      "_model_module": "@jupyter-widgets/controls",
      "_model_module_version": "1.5.0",
      "_model_name": "DescriptionStyleModel",
      "_view_count": null,
      "_view_module": "@jupyter-widgets/base",
      "_view_module_version": "1.2.0",
      "_view_name": "StyleView",
      "description_width": ""
     }
    },
    "d52a6bf317df42898774ce0441ad457d": {
     "model_module": "@jupyter-widgets/controls",
     "model_module_version": "1.5.0",
     "model_name": "FloatProgressModel",
     "state": {
      "_dom_classes": [],
      "_model_module": "@jupyter-widgets/controls",
      "_model_module_version": "1.5.0",
      "_model_name": "FloatProgressModel",
      "_view_count": null,
      "_view_module": "@jupyter-widgets/controls",
      "_view_module_version": "1.5.0",
      "_view_name": "ProgressView",
      "bar_style": "success",
      "description": "100%",
      "description_tooltip": null,
      "layout": "IPY_MODEL_8da6050b4b204bd5848858c4df174301",
      "max": 50,
      "min": 0,
      "orientation": "horizontal",
      "style": "IPY_MODEL_21677645daca4295b3ef511206f6830f",
      "value": 50
     }
    },
    "d77420e1986345a5814e8849f2c030a0": {
     "model_module": "@jupyter-widgets/base",
     "model_module_version": "1.2.0",
     "model_name": "LayoutModel",
     "state": {
      "_model_module": "@jupyter-widgets/base",
      "_model_module_version": "1.2.0",
      "_model_name": "LayoutModel",
      "_view_count": null,
      "_view_module": "@jupyter-widgets/base",
      "_view_module_version": "1.2.0",
      "_view_name": "LayoutView",
      "align_content": null,
      "align_items": null,
      "align_self": null,
      "border": null,
      "bottom": null,
      "display": null,
      "flex": null,
      "flex_flow": null,
      "grid_area": null,
      "grid_auto_columns": null,
      "grid_auto_flow": null,
      "grid_auto_rows": null,
      "grid_column": null,
      "grid_gap": null,
      "grid_row": null,
      "grid_template_areas": null,
      "grid_template_columns": null,
      "grid_template_rows": null,
      "height": null,
      "justify_content": null,
      "justify_items": null,
      "left": null,
      "margin": null,
      "max_height": null,
      "max_width": null,
      "min_height": null,
      "min_width": null,
      "object_fit": null,
      "object_position": null,
      "order": null,
      "overflow": null,
      "overflow_x": null,
      "overflow_y": null,
      "padding": null,
      "right": null,
      "top": null,
      "visibility": null,
      "width": null
     }
    },
    "d7ad2f19fdc24ab8afc3cfc65eb8dd46": {
     "model_module": "@jupyter-widgets/base",
     "model_module_version": "1.2.0",
     "model_name": "LayoutModel",
     "state": {
      "_model_module": "@jupyter-widgets/base",
      "_model_module_version": "1.2.0",
      "_model_name": "LayoutModel",
      "_view_count": null,
      "_view_module": "@jupyter-widgets/base",
      "_view_module_version": "1.2.0",
      "_view_name": "LayoutView",
      "align_content": null,
      "align_items": null,
      "align_self": null,
      "border": null,
      "bottom": null,
      "display": null,
      "flex": null,
      "flex_flow": null,
      "grid_area": null,
      "grid_auto_columns": null,
      "grid_auto_flow": null,
      "grid_auto_rows": null,
      "grid_column": null,
      "grid_gap": null,
      "grid_row": null,
      "grid_template_areas": null,
      "grid_template_columns": null,
      "grid_template_rows": null,
      "height": null,
      "justify_content": null,
      "justify_items": null,
      "left": null,
      "margin": null,
      "max_height": null,
      "max_width": null,
      "min_height": null,
      "min_width": null,
      "object_fit": null,
      "object_position": null,
      "order": null,
      "overflow": null,
      "overflow_x": null,
      "overflow_y": null,
      "padding": null,
      "right": null,
      "top": null,
      "visibility": null,
      "width": null
     }
    },
    "d8639377b4824a94abe1c8502d98bbae": {
     "model_module": "@jupyter-widgets/controls",
     "model_module_version": "1.5.0",
     "model_name": "HTMLModel",
     "state": {
      "_dom_classes": [],
      "_model_module": "@jupyter-widgets/controls",
      "_model_module_version": "1.5.0",
      "_model_name": "HTMLModel",
      "_view_count": null,
      "_view_module": "@jupyter-widgets/controls",
      "_view_module_version": "1.5.0",
      "_view_name": "HTMLView",
      "description": "",
      "description_tooltip": null,
      "layout": "IPY_MODEL_bfa12e2110c2402a9485a98accb55931",
      "placeholder": "​",
      "style": "IPY_MODEL_ba67e86997774531a2cf50fed52f037d",
      "value": " 20/20 [02:29&lt;00:00,  7.49s/it]"
     }
    },
    "dbd751c124274dc4bc926f45c2b27156": {
     "model_module": "@jupyter-widgets/base",
     "model_module_version": "1.2.0",
     "model_name": "LayoutModel",
     "state": {
      "_model_module": "@jupyter-widgets/base",
      "_model_module_version": "1.2.0",
      "_model_name": "LayoutModel",
      "_view_count": null,
      "_view_module": "@jupyter-widgets/base",
      "_view_module_version": "1.2.0",
      "_view_name": "LayoutView",
      "align_content": null,
      "align_items": null,
      "align_self": null,
      "border": null,
      "bottom": null,
      "display": null,
      "flex": null,
      "flex_flow": null,
      "grid_area": null,
      "grid_auto_columns": null,
      "grid_auto_flow": null,
      "grid_auto_rows": null,
      "grid_column": null,
      "grid_gap": null,
      "grid_row": null,
      "grid_template_areas": null,
      "grid_template_columns": null,
      "grid_template_rows": null,
      "height": null,
      "justify_content": null,
      "justify_items": null,
      "left": null,
      "margin": null,
      "max_height": null,
      "max_width": null,
      "min_height": null,
      "min_width": null,
      "object_fit": null,
      "object_position": null,
      "order": null,
      "overflow": null,
      "overflow_x": null,
      "overflow_y": null,
      "padding": null,
      "right": null,
      "top": null,
      "visibility": null,
      "width": null
     }
    },
    "de1fd09fb1b34d12a72936ea81ff684f": {
     "model_module": "@jupyter-widgets/controls",
     "model_module_version": "1.5.0",
     "model_name": "ProgressStyleModel",
     "state": {
      "_model_module": "@jupyter-widgets/controls",
      "_model_module_version": "1.5.0",
      "_model_name": "ProgressStyleModel",
      "_view_count": null,
      "_view_module": "@jupyter-widgets/base",
      "_view_module_version": "1.2.0",
      "_view_name": "StyleView",
      "bar_color": null,
      "description_width": "initial"
     }
    },
    "e12a07a6181248f988e8beca49d6e7aa": {
     "model_module": "@jupyter-widgets/controls",
     "model_module_version": "1.5.0",
     "model_name": "HTMLModel",
     "state": {
      "_dom_classes": [],
      "_model_module": "@jupyter-widgets/controls",
      "_model_module_version": "1.5.0",
      "_model_name": "HTMLModel",
      "_view_count": null,
      "_view_module": "@jupyter-widgets/controls",
      "_view_module_version": "1.5.0",
      "_view_name": "HTMLView",
      "description": "",
      "description_tooltip": null,
      "layout": "IPY_MODEL_6444c5e8ce90477da398798ce483ecea",
      "placeholder": "​",
      "style": "IPY_MODEL_01d85847da7f4a22b23b4f4d4b97a2d9",
      "value": " 50/50 [00:05&lt;00:00,  9.42it/s]"
     }
    },
    "e4797ada972e4603bf45fe0599a2b067": {
     "model_module": "@jupyter-widgets/base",
     "model_module_version": "1.2.0",
     "model_name": "LayoutModel",
     "state": {
      "_model_module": "@jupyter-widgets/base",
      "_model_module_version": "1.2.0",
      "_model_name": "LayoutModel",
      "_view_count": null,
      "_view_module": "@jupyter-widgets/base",
      "_view_module_version": "1.2.0",
      "_view_name": "LayoutView",
      "align_content": null,
      "align_items": null,
      "align_self": null,
      "border": null,
      "bottom": null,
      "display": null,
      "flex": null,
      "flex_flow": null,
      "grid_area": null,
      "grid_auto_columns": null,
      "grid_auto_flow": null,
      "grid_auto_rows": null,
      "grid_column": null,
      "grid_gap": null,
      "grid_row": null,
      "grid_template_areas": null,
      "grid_template_columns": null,
      "grid_template_rows": null,
      "height": null,
      "justify_content": null,
      "justify_items": null,
      "left": null,
      "margin": null,
      "max_height": null,
      "max_width": null,
      "min_height": null,
      "min_width": null,
      "object_fit": null,
      "object_position": null,
      "order": null,
      "overflow": null,
      "overflow_x": null,
      "overflow_y": null,
      "padding": null,
      "right": null,
      "top": null,
      "visibility": null,
      "width": null
     }
    },
    "e4978b37ec5c4b01bf1bded2bbb9ed89": {
     "model_module": "@jupyter-widgets/controls",
     "model_module_version": "1.5.0",
     "model_name": "HTMLModel",
     "state": {
      "_dom_classes": [],
      "_model_module": "@jupyter-widgets/controls",
      "_model_module_version": "1.5.0",
      "_model_name": "HTMLModel",
      "_view_count": null,
      "_view_module": "@jupyter-widgets/controls",
      "_view_module_version": "1.5.0",
      "_view_name": "HTMLView",
      "description": "",
      "description_tooltip": null,
      "layout": "IPY_MODEL_dbd751c124274dc4bc926f45c2b27156",
      "placeholder": "​",
      "style": "IPY_MODEL_7007c8839f3a4e82803ca07cd4ae1873",
      "value": " 50/50 [00:05&lt;00:00,  9.22it/s]"
     }
    },
    "e4e8711d56514b1fba053bc242c509ce": {
     "model_module": "@jupyter-widgets/base",
     "model_module_version": "1.2.0",
     "model_name": "LayoutModel",
     "state": {
      "_model_module": "@jupyter-widgets/base",
      "_model_module_version": "1.2.0",
      "_model_name": "LayoutModel",
      "_view_count": null,
      "_view_module": "@jupyter-widgets/base",
      "_view_module_version": "1.2.0",
      "_view_name": "LayoutView",
      "align_content": null,
      "align_items": null,
      "align_self": null,
      "border": null,
      "bottom": null,
      "display": null,
      "flex": null,
      "flex_flow": null,
      "grid_area": null,
      "grid_auto_columns": null,
      "grid_auto_flow": null,
      "grid_auto_rows": null,
      "grid_column": null,
      "grid_gap": null,
      "grid_row": null,
      "grid_template_areas": null,
      "grid_template_columns": null,
      "grid_template_rows": null,
      "height": null,
      "justify_content": null,
      "justify_items": null,
      "left": null,
      "margin": null,
      "max_height": null,
      "max_width": null,
      "min_height": null,
      "min_width": null,
      "object_fit": null,
      "object_position": null,
      "order": null,
      "overflow": null,
      "overflow_x": null,
      "overflow_y": null,
      "padding": null,
      "right": null,
      "top": null,
      "visibility": null,
      "width": null
     }
    },
    "e6a28bd8abf74c03af008171e881b358": {
     "model_module": "@jupyter-widgets/controls",
     "model_module_version": "1.5.0",
     "model_name": "DescriptionStyleModel",
     "state": {
      "_model_module": "@jupyter-widgets/controls",
      "_model_module_version": "1.5.0",
      "_model_name": "DescriptionStyleModel",
      "_view_count": null,
      "_view_module": "@jupyter-widgets/base",
      "_view_module_version": "1.2.0",
      "_view_name": "StyleView",
      "description_width": ""
     }
    },
    "e77e5d36853641e48ee25cc74e917d5a": {
     "model_module": "@jupyter-widgets/controls",
     "model_module_version": "1.5.0",
     "model_name": "FloatProgressModel",
     "state": {
      "_dom_classes": [],
      "_model_module": "@jupyter-widgets/controls",
      "_model_module_version": "1.5.0",
      "_model_name": "FloatProgressModel",
      "_view_count": null,
      "_view_module": "@jupyter-widgets/controls",
      "_view_module_version": "1.5.0",
      "_view_name": "ProgressView",
      "bar_style": "success",
      "description": "100%",
      "description_tooltip": null,
      "layout": "IPY_MODEL_d7ad2f19fdc24ab8afc3cfc65eb8dd46",
      "max": 50,
      "min": 0,
      "orientation": "horizontal",
      "style": "IPY_MODEL_211f03492de041d0886ab29931e6d99a",
      "value": 50
     }
    },
    "e82dd219337c4410b800791e70e3a317": {
     "model_module": "@jupyter-widgets/base",
     "model_module_version": "1.2.0",
     "model_name": "LayoutModel",
     "state": {
      "_model_module": "@jupyter-widgets/base",
      "_model_module_version": "1.2.0",
      "_model_name": "LayoutModel",
      "_view_count": null,
      "_view_module": "@jupyter-widgets/base",
      "_view_module_version": "1.2.0",
      "_view_name": "LayoutView",
      "align_content": null,
      "align_items": null,
      "align_self": null,
      "border": null,
      "bottom": null,
      "display": null,
      "flex": null,
      "flex_flow": null,
      "grid_area": null,
      "grid_auto_columns": null,
      "grid_auto_flow": null,
      "grid_auto_rows": null,
      "grid_column": null,
      "grid_gap": null,
      "grid_row": null,
      "grid_template_areas": null,
      "grid_template_columns": null,
      "grid_template_rows": null,
      "height": null,
      "justify_content": null,
      "justify_items": null,
      "left": null,
      "margin": null,
      "max_height": null,
      "max_width": null,
      "min_height": null,
      "min_width": null,
      "object_fit": null,
      "object_position": null,
      "order": null,
      "overflow": null,
      "overflow_x": null,
      "overflow_y": null,
      "padding": null,
      "right": null,
      "top": null,
      "visibility": null,
      "width": null
     }
    },
    "eac19f0d4e72405ca2849db4a27e0350": {
     "model_module": "@jupyter-widgets/base",
     "model_module_version": "1.2.0",
     "model_name": "LayoutModel",
     "state": {
      "_model_module": "@jupyter-widgets/base",
      "_model_module_version": "1.2.0",
      "_model_name": "LayoutModel",
      "_view_count": null,
      "_view_module": "@jupyter-widgets/base",
      "_view_module_version": "1.2.0",
      "_view_name": "LayoutView",
      "align_content": null,
      "align_items": null,
      "align_self": null,
      "border": null,
      "bottom": null,
      "display": null,
      "flex": null,
      "flex_flow": null,
      "grid_area": null,
      "grid_auto_columns": null,
      "grid_auto_flow": null,
      "grid_auto_rows": null,
      "grid_column": null,
      "grid_gap": null,
      "grid_row": null,
      "grid_template_areas": null,
      "grid_template_columns": null,
      "grid_template_rows": null,
      "height": null,
      "justify_content": null,
      "justify_items": null,
      "left": null,
      "margin": null,
      "max_height": null,
      "max_width": null,
      "min_height": null,
      "min_width": null,
      "object_fit": null,
      "object_position": null,
      "order": null,
      "overflow": null,
      "overflow_x": null,
      "overflow_y": null,
      "padding": null,
      "right": null,
      "top": null,
      "visibility": null,
      "width": null
     }
    },
    "ebbad9b3f4e244b9b7da8bc3e7f60a93": {
     "model_module": "@jupyter-widgets/controls",
     "model_module_version": "1.5.0",
     "model_name": "FloatProgressModel",
     "state": {
      "_dom_classes": [],
      "_model_module": "@jupyter-widgets/controls",
      "_model_module_version": "1.5.0",
      "_model_name": "FloatProgressModel",
      "_view_count": null,
      "_view_module": "@jupyter-widgets/controls",
      "_view_module_version": "1.5.0",
      "_view_name": "ProgressView",
      "bar_style": "success",
      "description": "100%",
      "description_tooltip": null,
      "layout": "IPY_MODEL_b2f5cf2503104d6e83e22cf145c6b60d",
      "max": 50,
      "min": 0,
      "orientation": "horizontal",
      "style": "IPY_MODEL_088a8716a09a4155a9073149412b4544",
      "value": 50
     }
    },
    "f017a93d4302487fa156b9c9a02fffd7": {
     "model_module": "@jupyter-widgets/base",
     "model_module_version": "1.2.0",
     "model_name": "LayoutModel",
     "state": {
      "_model_module": "@jupyter-widgets/base",
      "_model_module_version": "1.2.0",
      "_model_name": "LayoutModel",
      "_view_count": null,
      "_view_module": "@jupyter-widgets/base",
      "_view_module_version": "1.2.0",
      "_view_name": "LayoutView",
      "align_content": null,
      "align_items": null,
      "align_self": null,
      "border": null,
      "bottom": null,
      "display": null,
      "flex": null,
      "flex_flow": null,
      "grid_area": null,
      "grid_auto_columns": null,
      "grid_auto_flow": null,
      "grid_auto_rows": null,
      "grid_column": null,
      "grid_gap": null,
      "grid_row": null,
      "grid_template_areas": null,
      "grid_template_columns": null,
      "grid_template_rows": null,
      "height": null,
      "justify_content": null,
      "justify_items": null,
      "left": null,
      "margin": null,
      "max_height": null,
      "max_width": null,
      "min_height": null,
      "min_width": null,
      "object_fit": null,
      "object_position": null,
      "order": null,
      "overflow": null,
      "overflow_x": null,
      "overflow_y": null,
      "padding": null,
      "right": null,
      "top": null,
      "visibility": null,
      "width": null
     }
    },
    "f033bf9b310a4bbb8154a8d9ed69810f": {
     "model_module": "@jupyter-widgets/controls",
     "model_module_version": "1.5.0",
     "model_name": "HTMLModel",
     "state": {
      "_dom_classes": [],
      "_model_module": "@jupyter-widgets/controls",
      "_model_module_version": "1.5.0",
      "_model_name": "HTMLModel",
      "_view_count": null,
      "_view_module": "@jupyter-widgets/controls",
      "_view_module_version": "1.5.0",
      "_view_name": "HTMLView",
      "description": "",
      "description_tooltip": null,
      "layout": "IPY_MODEL_29f312cf3a874386ace81c795f7a28d0",
      "placeholder": "​",
      "style": "IPY_MODEL_3b11453e05be4690bdcf020f10f9e231",
      "value": " 50/50 [00:05&lt;00:00,  9.72it/s]"
     }
    },
    "f1f86e0eabb143809ebdc87a7d9a8417": {
     "model_module": "@jupyter-widgets/controls",
     "model_module_version": "1.5.0",
     "model_name": "FloatProgressModel",
     "state": {
      "_dom_classes": [],
      "_model_module": "@jupyter-widgets/controls",
      "_model_module_version": "1.5.0",
      "_model_name": "FloatProgressModel",
      "_view_count": null,
      "_view_module": "@jupyter-widgets/controls",
      "_view_module_version": "1.5.0",
      "_view_name": "ProgressView",
      "bar_style": "success",
      "description": "100%",
      "description_tooltip": null,
      "layout": "IPY_MODEL_e4e8711d56514b1fba053bc242c509ce",
      "max": 50,
      "min": 0,
      "orientation": "horizontal",
      "style": "IPY_MODEL_4925500b681b4fc2950dc5937c253f50",
      "value": 50
     }
    },
    "f28947cb090a468c9f955655194b7343": {
     "model_module": "@jupyter-widgets/base",
     "model_module_version": "1.2.0",
     "model_name": "LayoutModel",
     "state": {
      "_model_module": "@jupyter-widgets/base",
      "_model_module_version": "1.2.0",
      "_model_name": "LayoutModel",
      "_view_count": null,
      "_view_module": "@jupyter-widgets/base",
      "_view_module_version": "1.2.0",
      "_view_name": "LayoutView",
      "align_content": null,
      "align_items": null,
      "align_self": null,
      "border": null,
      "bottom": null,
      "display": null,
      "flex": null,
      "flex_flow": null,
      "grid_area": null,
      "grid_auto_columns": null,
      "grid_auto_flow": null,
      "grid_auto_rows": null,
      "grid_column": null,
      "grid_gap": null,
      "grid_row": null,
      "grid_template_areas": null,
      "grid_template_columns": null,
      "grid_template_rows": null,
      "height": null,
      "justify_content": null,
      "justify_items": null,
      "left": null,
      "margin": null,
      "max_height": null,
      "max_width": null,
      "min_height": null,
      "min_width": null,
      "object_fit": null,
      "object_position": null,
      "order": null,
      "overflow": null,
      "overflow_x": null,
      "overflow_y": null,
      "padding": null,
      "right": null,
      "top": null,
      "visibility": null,
      "width": null
     }
    },
    "f5aaa84eca2c40fdabe577dbcea174b3": {
     "model_module": "@jupyter-widgets/controls",
     "model_module_version": "1.5.0",
     "model_name": "ProgressStyleModel",
     "state": {
      "_model_module": "@jupyter-widgets/controls",
      "_model_module_version": "1.5.0",
      "_model_name": "ProgressStyleModel",
      "_view_count": null,
      "_view_module": "@jupyter-widgets/base",
      "_view_module_version": "1.2.0",
      "_view_name": "StyleView",
      "bar_color": null,
      "description_width": "initial"
     }
    },
    "f7d3d5cb0ac8425d8e9aadc38f1445d5": {
     "model_module": "@jupyter-widgets/controls",
     "model_module_version": "1.5.0",
     "model_name": "HTMLModel",
     "state": {
      "_dom_classes": [],
      "_model_module": "@jupyter-widgets/controls",
      "_model_module_version": "1.5.0",
      "_model_name": "HTMLModel",
      "_view_count": null,
      "_view_module": "@jupyter-widgets/controls",
      "_view_module_version": "1.5.0",
      "_view_name": "HTMLView",
      "description": "",
      "description_tooltip": null,
      "layout": "IPY_MODEL_c58d51487da940399f630e068245f6e3",
      "placeholder": "​",
      "style": "IPY_MODEL_d3a5d7656a4c499999b79e5341a8fec1",
      "value": " 50/50 [00:05&lt;00:00,  9.10it/s]"
     }
    },
    "f7e7979abd414291b54f96b4faa01c1b": {
     "model_module": "@jupyter-widgets/controls",
     "model_module_version": "1.5.0",
     "model_name": "FloatProgressModel",
     "state": {
      "_dom_classes": [],
      "_model_module": "@jupyter-widgets/controls",
      "_model_module_version": "1.5.0",
      "_model_name": "FloatProgressModel",
      "_view_count": null,
      "_view_module": "@jupyter-widgets/controls",
      "_view_module_version": "1.5.0",
      "_view_name": "ProgressView",
      "bar_style": "success",
      "description": "100%",
      "description_tooltip": null,
      "layout": "IPY_MODEL_bd47fe06ecdb46acb29d2f497ca9bd3f",
      "max": 50,
      "min": 0,
      "orientation": "horizontal",
      "style": "IPY_MODEL_1ed325647e784e3981c3c7c8d47ce2b0",
      "value": 50
     }
    },
    "fa24a81ba8454b149876b778df1f1756": {
     "model_module": "@jupyter-widgets/controls",
     "model_module_version": "1.5.0",
     "model_name": "ProgressStyleModel",
     "state": {
      "_model_module": "@jupyter-widgets/controls",
      "_model_module_version": "1.5.0",
      "_model_name": "ProgressStyleModel",
      "_view_count": null,
      "_view_module": "@jupyter-widgets/base",
      "_view_module_version": "1.2.0",
      "_view_name": "StyleView",
      "bar_color": null,
      "description_width": "initial"
     }
    },
    "fc4b346b082143ea83182387f59c22c1": {
     "model_module": "@jupyter-widgets/controls",
     "model_module_version": "1.5.0",
     "model_name": "HBoxModel",
     "state": {
      "_dom_classes": [],
      "_model_module": "@jupyter-widgets/controls",
      "_model_module_version": "1.5.0",
      "_model_name": "HBoxModel",
      "_view_count": null,
      "_view_module": "@jupyter-widgets/controls",
      "_view_module_version": "1.5.0",
      "_view_name": "HBoxView",
      "box_style": "",
      "children": [
       "IPY_MODEL_912c0eff6253440f845223ed6d7b0085",
       "IPY_MODEL_f033bf9b310a4bbb8154a8d9ed69810f"
      ],
      "layout": "IPY_MODEL_a0bee9b3853c4600990f501f9f7b1542"
     }
    },
    "ffdeaec5d6b64ff8865fc69a8d4109b5": {
     "model_module": "@jupyter-widgets/controls",
     "model_module_version": "1.5.0",
     "model_name": "DescriptionStyleModel",
     "state": {
      "_model_module": "@jupyter-widgets/controls",
      "_model_module_version": "1.5.0",
      "_model_name": "DescriptionStyleModel",
      "_view_count": null,
      "_view_module": "@jupyter-widgets/base",
      "_view_module_version": "1.2.0",
      "_view_name": "StyleView",
      "description_width": ""
     }
    }
   }
  }
 },
 "nbformat": 4,
 "nbformat_minor": 1
}
